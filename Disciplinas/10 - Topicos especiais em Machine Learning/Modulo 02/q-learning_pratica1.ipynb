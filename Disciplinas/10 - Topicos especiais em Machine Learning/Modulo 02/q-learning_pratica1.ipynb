{
 "cells": [
  {
   "cell_type": "markdown",
   "metadata": {},
   "source": [
    "## Prática de Q-learning\n",
    "\n",
    "#### O que vamos ver?\n",
    "   Problema do Taxi Inteligente\n",
    "\n",
    "<img src=\"101/imgs/taxi.png\" alt=\"Drawing\" style=\"width: 300px;\"/>\n",
    "\n",
    "Ambiente disponível no toolkit de desenvolimento [Gym](https://gym.openai.com/)"
   ]
  },
  {
   "cell_type": "code",
   "execution_count": 1,
   "metadata": {},
   "outputs": [],
   "source": [
    "## Instalação biblioteca\n",
    "#!pip install cmake 'gym[atari]' scipy"
   ]
  },
  {
   "cell_type": "markdown",
   "metadata": {},
   "source": [
    "### Ambiente do problema\n",
    "Segundo a documentação:\n",
    "- \"There are 4 locations (labeled by different letters), and our job is to pick up the passenger at one location and drop him off at another. We receive +20 points for a successful drop-off and lose 1 point for every time-step it takes. There is also a 10 point penalty for illegal pick-up and drop-off actions.\""
   ]
  },
  {
   "cell_type": "code",
   "execution_count": 3,
   "metadata": {},
   "outputs": [
    {
     "output_type": "stream",
     "name": "stdout",
     "text": [
      "+---------+\n|\u001b[35mR\u001b[0m: | : :\u001b[34;1mG\u001b[0m|\n| : | : : |\n| : : : : |\n| | : | :\u001b[43m \u001b[0m|\n|Y| : |B: |\n+---------+\n\n"
     ]
    }
   ],
   "source": [
    "from IPython.display import clear_output\n",
    "from time import sleep\n",
    "import numpy as np\n",
    "import gym\n",
    "import random\n",
    "env = gym.make(\"Taxi-v3\").env\n",
    "\n",
    "#mostra o ambiente\n",
    "env.render()"
   ]
  },
  {
   "cell_type": "code",
   "execution_count": 4,
   "metadata": {},
   "outputs": [
    {
     "output_type": "stream",
     "name": "stdout",
     "text": [
      "+---------+\n|R: | : :\u001b[34;1mG\u001b[0m|\n| : | : : |\n| : : : : |\n| | : | : |\n|Y| : |\u001b[35mB\u001b[0m:\u001b[43m \u001b[0m|\n+---------+\n\nAções possíveis = Discrete(6)\nEstados possíveis = Discrete(500)\n"
     ]
    }
   ],
   "source": [
    "env.reset() # reseta ambiente e retorna um estado inicial randomicamente\n",
    "env.render()\n",
    "\n",
    "print(\"Ações possíveis = {}\".format(env.action_space))\n",
    "print(\"Estados possíveis = {}\".format(env.observation_space))"
   ]
  },
  {
   "cell_type": "code",
   "execution_count": 5,
   "metadata": {},
   "outputs": [
    {
     "output_type": "stream",
     "name": "stdout",
     "text": [
      "Estado: 328\n+---------+\n|\u001b[35mR\u001b[0m: | : :G|\n| : | : : |\n| : : : : |\n| |\u001b[43m \u001b[0m: | : |\n|\u001b[34;1mY\u001b[0m| : |B: |\n+---------+\n\n"
     ]
    }
   ],
   "source": [
    "# (linha do taxi, coluna do taxi, índice do passageiro, índice de destino)\n",
    "state = env.encode(3, 1, 2, 0) \n",
    "print(\"Estado:\", state)\n",
    "\n",
    "#fixar o estado\n",
    "env.s = state\n",
    "env.render()"
   ]
  },
  {
   "cell_type": "markdown",
   "metadata": {},
   "source": [
    "#### Matriz de transição de estados x ações"
   ]
  },
  {
   "cell_type": "code",
   "execution_count": 6,
   "metadata": {},
   "outputs": [
    {
     "output_type": "execute_result",
     "data": {
      "text/plain": [
       "{0: [(1.0, 428, -1, False)],\n",
       " 1: [(1.0, 228, -1, False)],\n",
       " 2: [(1.0, 348, -1, False)],\n",
       " 3: [(1.0, 328, -1, False)],\n",
       " 4: [(1.0, 328, -10, False)],\n",
       " 5: [(1.0, 328, -10, False)]}"
      ]
     },
     "metadata": {},
     "execution_count": 6
    }
   ],
   "source": [
    "#verificar os valores de recompensa associados ao estado 328\n",
    "#{action: [(probability, nextstate, reward, done)]}\n",
    "env.P[328]"
   ]
  },
  {
   "cell_type": "markdown",
   "metadata": {},
   "source": [
    "### Treinar agente na força bruta"
   ]
  },
  {
   "cell_type": "code",
   "execution_count": 7,
   "metadata": {},
   "outputs": [
    {
     "output_type": "stream",
     "name": "stdout",
     "text": [
      "Número de épocas: 368\nNúmero de penalidades: 116\n"
     ]
    }
   ],
   "source": [
    "env.s = 328  # fixar ambiente para ilustrar\n",
    "\n",
    "#inicializar as variáveis\n",
    "epochs = 0\n",
    "penalties, reward = 0, 0\n",
    "frames = [] \n",
    "\n",
    "done = False\n",
    "\n",
    "while not done:\n",
    "    #seleciona ação randomicamente\n",
    "    action = env.action_space.sample()\n",
    "    #escolhe ação e ambiente retorna feedback\n",
    "    state, reward, done, info = env.step(action)\n",
    "\n",
    "    if reward == -10:\n",
    "        penalties += 1\n",
    "    \n",
    "    # Atribuir dados para mostrar visualização\n",
    "    frames.append({\n",
    "        'frame': env.render(mode='ansi'),\n",
    "        'state': state,\n",
    "        'action': action,\n",
    "        'reward': reward\n",
    "        }\n",
    "    )\n",
    "\n",
    "    epochs += 1\n",
    "    \n",
    "    \n",
    "print(\"Número de épocas: {}\".format(epochs))\n",
    "print(\"Número de penalidades: {}\".format(penalties))"
   ]
  },
  {
   "cell_type": "markdown",
   "metadata": {},
   "source": [
    "#### Visualizar como o agente vai escolhendo "
   ]
  },
  {
   "cell_type": "code",
   "execution_count": 9,
   "metadata": {},
   "outputs": [
    {
     "output_type": "stream",
     "name": "stdout",
     "text": [
      "+---------+\n|\u001b[35m\u001b[34;1m\u001b[43mR\u001b[0m\u001b[0m\u001b[0m: | : :G|\n| : | : : |\n| : : : : |\n| | : | : |\n|Y| : |B: |\n+---------+\n  (Dropoff)\n\nTimestep: 368\nState: 0\nAction: 5\nReward: 20\n"
     ]
    }
   ],
   "source": [
    "\n",
    "\n",
    "def print_frames(frames):\n",
    "    for i, frame in enumerate(frames):\n",
    "        clear_output(wait=True)\n",
    "        print(frame['frame'])\n",
    "        print(f\"Timestep: {i + 1}\")\n",
    "        print(f\"State: {frame['state']}\")\n",
    "        print(f\"Action: {frame['action']}\")\n",
    "        print(f\"Reward: {frame['reward']}\")\n",
    "        sleep(.1)\n",
    "        \n",
    "print_frames(frames)"
   ]
  },
  {
   "cell_type": "markdown",
   "metadata": {},
   "source": [
    "### Usar q-learning para treinamento do agente"
   ]
  },
  {
   "cell_type": "code",
   "execution_count": 10,
   "metadata": {},
   "outputs": [
    {
     "output_type": "execute_result",
     "data": {
      "text/plain": [
       "array([[0., 0., 0., 0., 0., 0.],\n",
       "       [0., 0., 0., 0., 0., 0.],\n",
       "       [0., 0., 0., 0., 0., 0.],\n",
       "       ...,\n",
       "       [0., 0., 0., 0., 0., 0.],\n",
       "       [0., 0., 0., 0., 0., 0.],\n",
       "       [0., 0., 0., 0., 0., 0.]])"
      ]
     },
     "metadata": {},
     "execution_count": 10
    }
   ],
   "source": [
    "#Passo 1. - slide 6\n",
    "q_table = np.zeros([env.observation_space.n, env.action_space.n])\n",
    "q_table"
   ]
  },
  {
   "cell_type": "code",
   "execution_count": 11,
   "metadata": {},
   "outputs": [],
   "source": [
    "total_episodes = 100001        \n",
    "total_test_episodes = 100     \n",
    "max_steps = 99                \n",
    "\n",
    "learning_rate = 0.7           \n",
    "gamma = 0.618                 \n",
    "\n",
    "epsilon = 1.0                 \n",
    "max_epsilon = 1.0             \n",
    "min_epsilon = 0.01            \n",
    "decay_rate = 0.01             "
   ]
  },
  {
   "cell_type": "code",
   "execution_count": 12,
   "metadata": {},
   "outputs": [
    {
     "output_type": "stream",
     "name": "stdout",
     "text": [
      "Episode: 100000\n"
     ]
    }
   ],
   "source": [
    "for episode in range(total_episodes):\n",
    "    # Reseta to ambiente\n",
    "    state = env.reset()\n",
    "    step = 0\n",
    "    done = False\n",
    "    \n",
    "    for step in range(max_steps):\n",
    "        # Passo 2. Escolher uma ação do estado atual\n",
    "        ## obter número randômico entre 0 e 1\n",
    "        exp_exp_tradeoff = random.uniform(0,1)\n",
    "        \n",
    "        ## Se este número > epsilon --> então faz aproveitamento, escolhendo o maior q-valor deste estado\n",
    "        if exp_exp_tradeoff > epsilon:\n",
    "            action = np.argmax(q_table[state,:])\n",
    "        \n",
    "        # Escolha aleatória --> exploração\n",
    "        else:\n",
    "            action = env.action_space.sample()\n",
    "        \n",
    "        # Passo 3. Toma a ação (a) e observa o estado de saída (s') e a recompensa (r)\n",
    "        new_state, reward, done, info = env.step(action)\n",
    "\n",
    "        # Passo 4. Atualização Q(s,a):= Q(s,a) + lr [R(s,a) + gamma * max Q(s',a') - Q(s,a)]\n",
    "        q_table[state, action] = q_table[state, action] + learning_rate * (reward + gamma * \n",
    "                                    np.max(q_table[new_state, :]) - q_table[state, action])\n",
    "                \n",
    "        # O novo estado passa a ser\n",
    "        state = new_state\n",
    "       \n",
    "        # If done : finish episode\n",
    "        if done == True: \n",
    "            break\n",
    "            \n",
    "        if reward == -10:\n",
    "            penalties += 1\n",
    "        \n",
    "        if episode % 100 == 0:\n",
    "            clear_output(wait=True)\n",
    "            print(f\"Episode: {episode}\")\n",
    "    \n",
    "    \n",
    "    # Reduzir o epsilon para termos menos exploração e mais aproveitamento\n",
    "    epsilon = min_epsilon + (max_epsilon - min_epsilon)*np.exp(-decay_rate*episode)"
   ]
  },
  {
   "cell_type": "code",
   "execution_count": 13,
   "metadata": {},
   "outputs": [
    {
     "output_type": "execute_result",
     "data": {
      "text/plain": [
       "7004"
      ]
     },
     "metadata": {},
     "execution_count": 13
    }
   ],
   "source": [
    "penalties"
   ]
  },
  {
   "cell_type": "code",
   "execution_count": 16,
   "metadata": {},
   "outputs": [
    {
     "output_type": "stream",
     "name": "stdout",
     "text": [
      "Score total médio: 7.84\n"
     ]
    }
   ],
   "source": [
    "### Teste q-learning\n",
    "env.reset()\n",
    "rewards = []\n",
    "frames = [] \n",
    "\n",
    "for episode in range(total_test_episodes):\n",
    "    state = env.reset()\n",
    "    step = 0\n",
    "    done = False\n",
    "    total_rewards = 0\n",
    "\n",
    "    for step in range(max_steps):\n",
    "        # Escolhe ação que tem o valor máximo de recompensa futura esperada\n",
    "        action = np.argmax(q_table[state,:])\n",
    "        \n",
    "        new_state, reward, done, info = env.step(action)\n",
    "\n",
    "        frames.append({\n",
    "        'frame': env.render(mode='ansi'),\n",
    "        'state': action,\n",
    "        'action': action,\n",
    "        'reward': reward\n",
    "        })\n",
    "\n",
    "        \n",
    "        total_rewards += reward\n",
    "        \n",
    "        if reward == -10:\n",
    "            penalties += 1\n",
    "            \n",
    "        if done:\n",
    "            rewards.append(total_rewards)\n",
    "            #print (\"Score\", total_rewards)\n",
    "            break\n",
    "        state = new_state\n",
    "env.close()\n",
    "print (\"Score total médio: \" +  str(sum(rewards)/total_test_episodes))\n"
   ]
  },
  {
   "cell_type": "code",
   "execution_count": 17,
   "metadata": {},
   "outputs": [
    {
     "output_type": "stream",
     "name": "stdout",
     "text": [
      "+---------+\n|R: | : :\u001b[35m\u001b[34;1m\u001b[43mG\u001b[0m\u001b[0m\u001b[0m|\n| : | : : |\n| : : : : |\n| | : | : |\n|Y| : |B: |\n+---------+\n  (Dropoff)\n\nTimestep: 1316\nState: 5\nAction: 5\nReward: 20\n"
     ]
    }
   ],
   "source": [
    "print_frames(frames)"
   ]
  },
  {
   "cell_type": "code",
   "execution_count": 13,
   "metadata": {},
   "outputs": [
    {
     "name": "stdout",
     "output_type": "stream",
     "text": [
      "Score total médio: -8.29\n"
     ]
    }
   ],
   "source": [
    "## Teste ações randômicas\n",
    "env.reset()\n",
    "rewards = []\n",
    "\n",
    "for episode in range(total_test_episodes):\n",
    "    state = env.reset()\n",
    "    step = 0\n",
    "    done = False\n",
    "    total_rewards = 0\n",
    "\n",
    "    for step in range(max_steps):\n",
    "        #seleciona ação randomicamente\n",
    "        action = env.action_space.sample()\n",
    "        #escolhe ação e ambiente retorna feedback\n",
    "        state, reward, done, info = env.step(action)\n",
    "        \n",
    "        total_rewards += reward\n",
    "        \n",
    "        if reward == -10:\n",
    "            penalties += 1\n",
    "            \n",
    "        if done:\n",
    "            rewards.append(total_rewards)\n",
    "            #print (\"Score\", total_rewards)\n",
    "            break\n",
    "        state = new_state\n",
    "env.close()\n",
    "print (\"Score total médio: \" +  str(sum(rewards)/total_test_episodes))"
   ]
  },
  {
   "cell_type": "code",
   "execution_count": 15,
   "metadata": {},
   "outputs": [
    {
     "output_type": "execute_result",
     "data": {
      "text/plain": [
       "7004"
      ]
     },
     "metadata": {},
     "execution_count": 15
    }
   ],
   "source": [
    "penalties"
   ]
  },
  {
   "cell_type": "code",
   "execution_count": null,
   "metadata": {},
   "outputs": [],
   "source": []
  }
 ],
 "metadata": {
  "kernelspec": {
   "name": "python379jvsc74a57bd00204325da5c4cfa76f1d74fd4e08d4b1d3f65652f0a93ad9c8a4a57490d8536c",
   "display_name": "Python 3.7.9 64-bit ('anaconda3')"
  },
  "language_info": {
   "codemirror_mode": {
    "name": "ipython",
    "version": 3
   },
   "file_extension": ".py",
   "mimetype": "text/x-python",
   "name": "python",
   "nbconvert_exporter": "python",
   "pygments_lexer": "ipython3",
   "version": "3.7.9"
  }
 },
 "nbformat": 4,
 "nbformat_minor": 4
}