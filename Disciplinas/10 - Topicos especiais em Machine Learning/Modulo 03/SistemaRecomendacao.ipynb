{
 "metadata": {
  "language_info": {
   "codemirror_mode": {
    "name": "ipython",
    "version": 3
   },
   "file_extension": ".py",
   "mimetype": "text/x-python",
   "name": "python",
   "nbconvert_exporter": "python",
   "pygments_lexer": "ipython3",
   "version": 3
  },
  "orig_nbformat": 2
 },
 "nbformat": 4,
 "nbformat_minor": 2,
 "cells": [
  {
   "source": [
    "# Sistema de Recomendação\n",
    "\n",
    "## Cronograma do curso\n",
    "\n",
    "* Introdução\n",
    "\n",
    "    * O que é ?\n",
    "\n",
    "    * Definição do problema: predição e ranqueamento\n",
    "\n",
    "    * Tipos de sistemas de Recomendação\n",
    "\n",
    "* Fundamento matemáticos\n",
    "\n",
    "    * Métricas de similaridade\n",
    "\n",
    "    * Fatorização de matrizes\n",
    "\n",
    "* Praticando sistemas de Recomendação\n",
    "\n",
    "    * Simples\n",
    "\n",
    "    * Baseado em conteudo (Content-basead)\n",
    "\n",
    "    * Baseado em filtragem colaborativa (Collaborative Filters)\n",
    "\n",
    "* Learning to Rank\n",
    "\n",
    "    * Tipos de algotirmos\n",
    "\n",
    "## Visão geral\n",
    "\n",
    "* Introdução\n",
    "    \n",
    "    * Filtragm colaborativa\n",
    "\n",
    "    * Tipos de sistema de Recomendação\n",
    "\n",
    "    * Content-basead - Baseado em conteúdo\n",
    "\n",
    "    * Kwonldge-basead - Baseado em conhecimento\n",
    "\n",
    "* Prática\n",
    "\n",
    "    * SR Simples\n",
    "\n",
    "    * Kwonldge-basead\n",
    "\n",
    "    * Content-basead\n",
    "\n",
    "    * Filtragem colaborativa\n",
    "\n",
    "* Learning to Rank (LTR)"
   ],
   "cell_type": "markdown",
   "metadata": {}
  },
  {
   "cell_type": "code",
   "execution_count": null,
   "metadata": {},
   "outputs": [],
   "source": []
  }
 ]
}