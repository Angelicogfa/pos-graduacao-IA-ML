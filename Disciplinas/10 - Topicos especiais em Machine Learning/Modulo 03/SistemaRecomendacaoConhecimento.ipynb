{
 "metadata": {
  "language_info": {
   "codemirror_mode": {
    "name": "ipython",
    "version": 3
   },
   "file_extension": ".py",
   "mimetype": "text/x-python",
   "name": "python",
   "nbconvert_exporter": "python",
   "pygments_lexer": "ipython3",
   "version": "3.7.9"
  },
  "orig_nbformat": 2,
  "kernelspec": {
   "name": "python379jvsc74a57bd00204325da5c4cfa76f1d74fd4e08d4b1d3f65652f0a93ad9c8a4a57490d8536c",
   "display_name": "Python 3.7.9 64-bit ('anaconda3')"
  }
 },
 "nbformat": 4,
 "nbformat_minor": 2,
 "cells": [
  {
   "source": [
    "# Sistema de Recomendaçã baseado em Conhecimento"
   ],
   "cell_type": "markdown",
   "metadata": {}
  },
  {
   "cell_type": "code",
   "execution_count": 1,
   "metadata": {},
   "outputs": [],
   "source": [
    "import numpy as np\n",
    "import pandas as pd"
   ]
  },
  {
   "cell_type": "code",
   "execution_count": 2,
   "metadata": {},
   "outputs": [
    {
     "output_type": "execute_result",
     "data": {
      "text/plain": [
       "Index(['adult', 'belongs_to_collection', 'budget', 'genres', 'homepage', 'id',\n",
       "       'imdb_id', 'original_language', 'original_title', 'overview',\n",
       "       'popularity', 'poster_path', 'production_companies',\n",
       "       'production_countries', 'release_date', 'revenue', 'runtime',\n",
       "       'spoken_languages', 'status', 'tagline', 'title', 'video',\n",
       "       'vote_average', 'vote_count'],\n",
       "      dtype='object')"
      ]
     },
     "metadata": {},
     "execution_count": 2
    }
   ],
   "source": [
    "df = pd.read_csv('data/movies_metadata.csv', low_memory=False).head(2000)\n",
    "df.columns"
   ]
  },
  {
   "cell_type": "code",
   "execution_count": 3,
   "metadata": {},
   "outputs": [
    {
     "output_type": "execute_result",
     "data": {
      "text/plain": [
       "      id                        title  \\\n",
       "0    862                    Toy Story   \n",
       "1   8844                      Jumanji   \n",
       "2  15602             Grumpier Old Men   \n",
       "3  31357            Waiting to Exhale   \n",
       "4  11862  Father of the Bride Part II   \n",
       "\n",
       "                                              genres release_date  runtime  \\\n",
       "0  [{'id': 16, 'name': 'Animation'}, {'id': 35, '...   1995-10-30     81.0   \n",
       "1  [{'id': 12, 'name': 'Adventure'}, {'id': 14, '...   1995-12-15    104.0   \n",
       "2  [{'id': 10749, 'name': 'Romance'}, {'id': 35, ...   1995-12-22    101.0   \n",
       "3  [{'id': 35, 'name': 'Comedy'}, {'id': 18, 'nam...   1995-12-22    127.0   \n",
       "4                     [{'id': 35, 'name': 'Comedy'}]   1995-02-10    106.0   \n",
       "\n",
       "   vote_average  vote_count                                           overview  \n",
       "0           7.7      5415.0  Led by Woody, Andy's toys live happily in his ...  \n",
       "1           6.9      2413.0  When siblings Judy and Peter discover an encha...  \n",
       "2           6.5        92.0  A family wedding reignites the ancient feud be...  \n",
       "3           6.1        34.0  Cheated on, mistreated and stepped on, the wom...  \n",
       "4           5.7       173.0  Just when George Banks has recovered from his ...  "
      ],
      "text/html": "<div>\n<style scoped>\n    .dataframe tbody tr th:only-of-type {\n        vertical-align: middle;\n    }\n\n    .dataframe tbody tr th {\n        vertical-align: top;\n    }\n\n    .dataframe thead th {\n        text-align: right;\n    }\n</style>\n<table border=\"1\" class=\"dataframe\">\n  <thead>\n    <tr style=\"text-align: right;\">\n      <th></th>\n      <th>id</th>\n      <th>title</th>\n      <th>genres</th>\n      <th>release_date</th>\n      <th>runtime</th>\n      <th>vote_average</th>\n      <th>vote_count</th>\n      <th>overview</th>\n    </tr>\n  </thead>\n  <tbody>\n    <tr>\n      <th>0</th>\n      <td>862</td>\n      <td>Toy Story</td>\n      <td>[{'id': 16, 'name': 'Animation'}, {'id': 35, '...</td>\n      <td>1995-10-30</td>\n      <td>81.0</td>\n      <td>7.7</td>\n      <td>5415.0</td>\n      <td>Led by Woody, Andy's toys live happily in his ...</td>\n    </tr>\n    <tr>\n      <th>1</th>\n      <td>8844</td>\n      <td>Jumanji</td>\n      <td>[{'id': 12, 'name': 'Adventure'}, {'id': 14, '...</td>\n      <td>1995-12-15</td>\n      <td>104.0</td>\n      <td>6.9</td>\n      <td>2413.0</td>\n      <td>When siblings Judy and Peter discover an encha...</td>\n    </tr>\n    <tr>\n      <th>2</th>\n      <td>15602</td>\n      <td>Grumpier Old Men</td>\n      <td>[{'id': 10749, 'name': 'Romance'}, {'id': 35, ...</td>\n      <td>1995-12-22</td>\n      <td>101.0</td>\n      <td>6.5</td>\n      <td>92.0</td>\n      <td>A family wedding reignites the ancient feud be...</td>\n    </tr>\n    <tr>\n      <th>3</th>\n      <td>31357</td>\n      <td>Waiting to Exhale</td>\n      <td>[{'id': 35, 'name': 'Comedy'}, {'id': 18, 'nam...</td>\n      <td>1995-12-22</td>\n      <td>127.0</td>\n      <td>6.1</td>\n      <td>34.0</td>\n      <td>Cheated on, mistreated and stepped on, the wom...</td>\n    </tr>\n    <tr>\n      <th>4</th>\n      <td>11862</td>\n      <td>Father of the Bride Part II</td>\n      <td>[{'id': 35, 'name': 'Comedy'}]</td>\n      <td>1995-02-10</td>\n      <td>106.0</td>\n      <td>5.7</td>\n      <td>173.0</td>\n      <td>Just when George Banks has recovered from his ...</td>\n    </tr>\n  </tbody>\n</table>\n</div>"
     },
     "metadata": {},
     "execution_count": 3
    }
   ],
   "source": [
    "df = df[['id', 'title', 'genres', 'release_date', 'runtime', 'vote_average', 'vote_count', 'overview']]\n",
    "df.head()"
   ]
  },
  {
   "cell_type": "code",
   "execution_count": 4,
   "metadata": {},
   "outputs": [],
   "source": [
    "df['release_date'] = pd.to_datetime(df['release_date'], errors='coerce')\n",
    "df['year'] = df['release_date'].apply(lambda x: str(x).split('-')[0] if x != np.nan else np.nan)"
   ]
  },
  {
   "cell_type": "code",
   "execution_count": 5,
   "metadata": {},
   "outputs": [
    {
     "output_type": "execute_result",
     "data": {
      "text/plain": [
       "      id             title                                             genres  \\\n",
       "0    862         Toy Story  [{'id': 16, 'name': 'Animation'}, {'id': 35, '...   \n",
       "1   8844           Jumanji  [{'id': 12, 'name': 'Adventure'}, {'id': 14, '...   \n",
       "2  15602  Grumpier Old Men  [{'id': 10749, 'name': 'Romance'}, {'id': 35, ...   \n",
       "\n",
       "   runtime  vote_average  vote_count  \\\n",
       "0     81.0           7.7      5415.0   \n",
       "1    104.0           6.9      2413.0   \n",
       "2    101.0           6.5        92.0   \n",
       "\n",
       "                                            overview  year  \n",
       "0  Led by Woody, Andy's toys live happily in his ...  1995  \n",
       "1  When siblings Judy and Peter discover an encha...  1995  \n",
       "2  A family wedding reignites the ancient feud be...  1995  "
      ],
      "text/html": "<div>\n<style scoped>\n    .dataframe tbody tr th:only-of-type {\n        vertical-align: middle;\n    }\n\n    .dataframe tbody tr th {\n        vertical-align: top;\n    }\n\n    .dataframe thead th {\n        text-align: right;\n    }\n</style>\n<table border=\"1\" class=\"dataframe\">\n  <thead>\n    <tr style=\"text-align: right;\">\n      <th></th>\n      <th>id</th>\n      <th>title</th>\n      <th>genres</th>\n      <th>runtime</th>\n      <th>vote_average</th>\n      <th>vote_count</th>\n      <th>overview</th>\n      <th>year</th>\n    </tr>\n  </thead>\n  <tbody>\n    <tr>\n      <th>0</th>\n      <td>862</td>\n      <td>Toy Story</td>\n      <td>[{'id': 16, 'name': 'Animation'}, {'id': 35, '...</td>\n      <td>81.0</td>\n      <td>7.7</td>\n      <td>5415.0</td>\n      <td>Led by Woody, Andy's toys live happily in his ...</td>\n      <td>1995</td>\n    </tr>\n    <tr>\n      <th>1</th>\n      <td>8844</td>\n      <td>Jumanji</td>\n      <td>[{'id': 12, 'name': 'Adventure'}, {'id': 14, '...</td>\n      <td>104.0</td>\n      <td>6.9</td>\n      <td>2413.0</td>\n      <td>When siblings Judy and Peter discover an encha...</td>\n      <td>1995</td>\n    </tr>\n    <tr>\n      <th>2</th>\n      <td>15602</td>\n      <td>Grumpier Old Men</td>\n      <td>[{'id': 10749, 'name': 'Romance'}, {'id': 35, ...</td>\n      <td>101.0</td>\n      <td>6.5</td>\n      <td>92.0</td>\n      <td>A family wedding reignites the ancient feud be...</td>\n      <td>1995</td>\n    </tr>\n  </tbody>\n</table>\n</div>"
     },
     "metadata": {},
     "execution_count": 5
    }
   ],
   "source": [
    "def convert_int(x):\n",
    "    try:\n",
    "        return int(x)\n",
    "    except:\n",
    "        return 0\n",
    "\n",
    "df['year'] = df['year'].apply(convert_int)\n",
    "df.drop(columns=['release_date'], inplace=True)\n",
    "df.head(3)"
   ]
  },
  {
   "cell_type": "code",
   "execution_count": 6,
   "metadata": {},
   "outputs": [
    {
     "output_type": "execute_result",
     "data": {
      "text/plain": [
       "\"[{'id': 16, 'name': 'Animation'}, {'id': 35, 'name': 'Comedy'}, {'id': 10751, 'name': 'Family'}]\""
      ]
     },
     "metadata": {},
     "execution_count": 6
    }
   ],
   "source": [
    "df.iloc[0]['genres']"
   ]
  },
  {
   "cell_type": "code",
   "execution_count": 7,
   "metadata": {},
   "outputs": [
    {
     "output_type": "stream",
     "name": "stdout",
     "text": [
      "<class 'str'>\n<class 'list'>\n"
     ]
    }
   ],
   "source": [
    "from ast import literal_eval\n",
    "\n",
    "a= '[1,2,3]'\n",
    "print(type(a))\n",
    "\n",
    "b = literal_eval(a)\n",
    "print(type(b))"
   ]
  },
  {
   "cell_type": "code",
   "execution_count": 8,
   "metadata": {},
   "outputs": [
    {
     "output_type": "execute_result",
     "data": {
      "text/plain": [
       "    id      title                       genres  runtime  vote_average  \\\n",
       "0  862  Toy Story  [animation, comedy, family]     81.0           7.7   \n",
       "\n",
       "   vote_count                                           overview  year  \n",
       "0      5415.0  Led by Woody, Andy's toys live happily in his ...  1995  "
      ],
      "text/html": "<div>\n<style scoped>\n    .dataframe tbody tr th:only-of-type {\n        vertical-align: middle;\n    }\n\n    .dataframe tbody tr th {\n        vertical-align: top;\n    }\n\n    .dataframe thead th {\n        text-align: right;\n    }\n</style>\n<table border=\"1\" class=\"dataframe\">\n  <thead>\n    <tr style=\"text-align: right;\">\n      <th></th>\n      <th>id</th>\n      <th>title</th>\n      <th>genres</th>\n      <th>runtime</th>\n      <th>vote_average</th>\n      <th>vote_count</th>\n      <th>overview</th>\n      <th>year</th>\n    </tr>\n  </thead>\n  <tbody>\n    <tr>\n      <th>0</th>\n      <td>862</td>\n      <td>Toy Story</td>\n      <td>[animation, comedy, family]</td>\n      <td>81.0</td>\n      <td>7.7</td>\n      <td>5415.0</td>\n      <td>Led by Woody, Andy's toys live happily in his ...</td>\n      <td>1995</td>\n    </tr>\n  </tbody>\n</table>\n</div>"
     },
     "metadata": {},
     "execution_count": 8
    }
   ],
   "source": [
    "df['genres'] = df['genres'].fillna('[]')\n",
    "df['genres'] = df['genres'].apply(literal_eval)\n",
    "df['genres'] = df['genres'].apply(lambda x: [i['name'].lower() for i in x] if isinstance(x, list) else [])\n",
    "df.head(1)"
   ]
  },
  {
   "cell_type": "code",
   "execution_count": 9,
   "metadata": {},
   "outputs": [
    {
     "output_type": "stream",
     "name": "stdout",
     "text": [
      "<class 'list'>\n"
     ]
    }
   ],
   "source": [
    "print(type(df.iloc[0]['genres']))"
   ]
  },
  {
   "cell_type": "code",
   "execution_count": 10,
   "metadata": {},
   "outputs": [
    {
     "output_type": "stream",
     "name": "stderr",
     "text": [
      "ipykernel_launcher:1: DeprecationWarning: The default dtype for empty Series will be 'object' instead of 'float64' in a future version. Specify a dtype explicitly to silence this warning.\n"
     ]
    },
    {
     "output_type": "execute_result",
     "data": {
      "text/plain": [
       "     id      title  runtime  vote_average  vote_count  \\\n",
       "0   862  Toy Story     81.0           7.7      5415.0   \n",
       "0   862  Toy Story     81.0           7.7      5415.0   \n",
       "0   862  Toy Story     81.0           7.7      5415.0   \n",
       "1  8844    Jumanji    104.0           6.9      2413.0   \n",
       "1  8844    Jumanji    104.0           6.9      2413.0   \n",
       "\n",
       "                                            overview  year      genre  \n",
       "0  Led by Woody, Andy's toys live happily in his ...  1995  animation  \n",
       "0  Led by Woody, Andy's toys live happily in his ...  1995     comedy  \n",
       "0  Led by Woody, Andy's toys live happily in his ...  1995     family  \n",
       "1  When siblings Judy and Peter discover an encha...  1995  adventure  \n",
       "1  When siblings Judy and Peter discover an encha...  1995    fantasy  "
      ],
      "text/html": "<div>\n<style scoped>\n    .dataframe tbody tr th:only-of-type {\n        vertical-align: middle;\n    }\n\n    .dataframe tbody tr th {\n        vertical-align: top;\n    }\n\n    .dataframe thead th {\n        text-align: right;\n    }\n</style>\n<table border=\"1\" class=\"dataframe\">\n  <thead>\n    <tr style=\"text-align: right;\">\n      <th></th>\n      <th>id</th>\n      <th>title</th>\n      <th>runtime</th>\n      <th>vote_average</th>\n      <th>vote_count</th>\n      <th>overview</th>\n      <th>year</th>\n      <th>genre</th>\n    </tr>\n  </thead>\n  <tbody>\n    <tr>\n      <th>0</th>\n      <td>862</td>\n      <td>Toy Story</td>\n      <td>81.0</td>\n      <td>7.7</td>\n      <td>5415.0</td>\n      <td>Led by Woody, Andy's toys live happily in his ...</td>\n      <td>1995</td>\n      <td>animation</td>\n    </tr>\n    <tr>\n      <th>0</th>\n      <td>862</td>\n      <td>Toy Story</td>\n      <td>81.0</td>\n      <td>7.7</td>\n      <td>5415.0</td>\n      <td>Led by Woody, Andy's toys live happily in his ...</td>\n      <td>1995</td>\n      <td>comedy</td>\n    </tr>\n    <tr>\n      <th>0</th>\n      <td>862</td>\n      <td>Toy Story</td>\n      <td>81.0</td>\n      <td>7.7</td>\n      <td>5415.0</td>\n      <td>Led by Woody, Andy's toys live happily in his ...</td>\n      <td>1995</td>\n      <td>family</td>\n    </tr>\n    <tr>\n      <th>1</th>\n      <td>8844</td>\n      <td>Jumanji</td>\n      <td>104.0</td>\n      <td>6.9</td>\n      <td>2413.0</td>\n      <td>When siblings Judy and Peter discover an encha...</td>\n      <td>1995</td>\n      <td>adventure</td>\n    </tr>\n    <tr>\n      <th>1</th>\n      <td>8844</td>\n      <td>Jumanji</td>\n      <td>104.0</td>\n      <td>6.9</td>\n      <td>2413.0</td>\n      <td>When siblings Judy and Peter discover an encha...</td>\n      <td>1995</td>\n      <td>fantasy</td>\n    </tr>\n  </tbody>\n</table>\n</div>"
     },
     "metadata": {},
     "execution_count": 10
    }
   ],
   "source": [
    "s = df.apply(lambda x: pd.Series(x['genres']), axis=1).stack().reset_index(level=1, drop=True)\n",
    "s.name='genre'\n",
    "gen_df = df.drop(columns=['genres']).join(s)\n",
    "gen_df.head()"
   ]
  },
  {
   "cell_type": "code",
   "execution_count": 11,
   "metadata": {},
   "outputs": [],
   "source": [
    "def build_chart(gen_df, percentil=0.8):\n",
    "    print('Entre com gênereo preferido: ')\n",
    "    genre = input()\n",
    "\n",
    "    print('Entre com a menor duração: ')\n",
    "    low_time = int(input())\n",
    "\n",
    "    print('Entre com a maior duração: ')\n",
    "    height_time = int(input())\n",
    "\n",
    "    print('Entre com o menor ano: ')\n",
    "    low_year = int(input())\n",
    "\n",
    "    print('Entre com o maior duração: ')\n",
    "    heigth_year = int(input())\n",
    "\n",
    "    movies = gen_df.copy()\n",
    "\n",
    "    movies = movies[(movies['genre'] == genre) &\n",
    "                    (movies['runtime'] >= low_time) & \n",
    "                    (movies['runtime'] <= height_time) &\n",
    "                    (movies['year'] >= low_year) & \n",
    "                    (movies['year'] <= heigth_year)]\n",
    "\n",
    "    C = movies['vote_average'].mean()\n",
    "    m = movies['vote_count'].quantile(percentil)\n",
    "\n",
    "    q_movies = movies.copy().loc[movies['vote_count'] >= m]\n",
    "    q_movies['score'] = q_movies.apply(lambda x: (x['vote_count']/(x['vote_count']+m) * x['vote_average']) + (m/(m+x['vote_count'])+C), axis=1)\n",
    "\n",
    "    q_movies = q_movies.sort_values('score', ascending=False)\n",
    "    return q_movies"
   ]
  },
  {
   "cell_type": "code",
   "execution_count": 12,
   "metadata": {},
   "outputs": [
    {
     "output_type": "stream",
     "name": "stdout",
     "text": [
      "Entre com gênereo preferido: \n",
      "Entre com a menor duração: \n",
      "Entre com a maior duração: \n",
      "Entre com o menor ano: \n",
      "Entre com o maior duração: \n"
     ]
    },
    {
     "output_type": "execute_result",
     "data": {
      "text/plain": [
       "        id                           title  runtime  vote_average  vote_count  \\\n",
       "359   8587                   The Lion King     89.0           8.0      5520.0   \n",
       "0      862                       Toy Story     81.0           7.7      5415.0   \n",
       "581    812                         Aladdin     90.0           7.4      3495.0   \n",
       "588  10020            Beauty and the Beast     84.0           7.5      3029.0   \n",
       "546   9479  The Nightmare Before Christmas     76.0           7.6      2135.0   \n",
       "\n",
       "                                              overview  year      genre  \\\n",
       "359  A young lion cub named Simba can't wait to be ...  1994  animation   \n",
       "0    Led by Woody, Andy's toys live happily in his ...  1995  animation   \n",
       "581  Princess Jasmine grows tired of being forced t...  1992  animation   \n",
       "588  Follow the adventures of Belle, a bright young...  1991  animation   \n",
       "546  Tired of scaring humans every October 31 with ...  1993  animation   \n",
       "\n",
       "         score  \n",
       "359  13.129869  \n",
       "0    12.875947  \n",
       "581  12.088437  \n",
       "588  11.948857  \n",
       "546  11.464019  "
      ],
      "text/html": "<div>\n<style scoped>\n    .dataframe tbody tr th:only-of-type {\n        vertical-align: middle;\n    }\n\n    .dataframe tbody tr th {\n        vertical-align: top;\n    }\n\n    .dataframe thead th {\n        text-align: right;\n    }\n</style>\n<table border=\"1\" class=\"dataframe\">\n  <thead>\n    <tr style=\"text-align: right;\">\n      <th></th>\n      <th>id</th>\n      <th>title</th>\n      <th>runtime</th>\n      <th>vote_average</th>\n      <th>vote_count</th>\n      <th>overview</th>\n      <th>year</th>\n      <th>genre</th>\n      <th>score</th>\n    </tr>\n  </thead>\n  <tbody>\n    <tr>\n      <th>359</th>\n      <td>8587</td>\n      <td>The Lion King</td>\n      <td>89.0</td>\n      <td>8.0</td>\n      <td>5520.0</td>\n      <td>A young lion cub named Simba can't wait to be ...</td>\n      <td>1994</td>\n      <td>animation</td>\n      <td>13.129869</td>\n    </tr>\n    <tr>\n      <th>0</th>\n      <td>862</td>\n      <td>Toy Story</td>\n      <td>81.0</td>\n      <td>7.7</td>\n      <td>5415.0</td>\n      <td>Led by Woody, Andy's toys live happily in his ...</td>\n      <td>1995</td>\n      <td>animation</td>\n      <td>12.875947</td>\n    </tr>\n    <tr>\n      <th>581</th>\n      <td>812</td>\n      <td>Aladdin</td>\n      <td>90.0</td>\n      <td>7.4</td>\n      <td>3495.0</td>\n      <td>Princess Jasmine grows tired of being forced t...</td>\n      <td>1992</td>\n      <td>animation</td>\n      <td>12.088437</td>\n    </tr>\n    <tr>\n      <th>588</th>\n      <td>10020</td>\n      <td>Beauty and the Beast</td>\n      <td>84.0</td>\n      <td>7.5</td>\n      <td>3029.0</td>\n      <td>Follow the adventures of Belle, a bright young...</td>\n      <td>1991</td>\n      <td>animation</td>\n      <td>11.948857</td>\n    </tr>\n    <tr>\n      <th>546</th>\n      <td>9479</td>\n      <td>The Nightmare Before Christmas</td>\n      <td>76.0</td>\n      <td>7.6</td>\n      <td>2135.0</td>\n      <td>Tired of scaring humans every October 31 with ...</td>\n      <td>1993</td>\n      <td>animation</td>\n      <td>11.464019</td>\n    </tr>\n  </tbody>\n</table>\n</div>"
     },
     "metadata": {},
     "execution_count": 12
    }
   ],
   "source": [
    "build_chart(gen_df).head()"
   ]
  },
  {
   "cell_type": "code",
   "execution_count": 13,
   "metadata": {},
   "outputs": [],
   "source": [
    "df.to_csv('data/metadata_clean1.csv', index=False)"
   ]
  },
  {
   "cell_type": "code",
   "execution_count": null,
   "metadata": {},
   "outputs": [],
   "source": []
  }
 ]
}