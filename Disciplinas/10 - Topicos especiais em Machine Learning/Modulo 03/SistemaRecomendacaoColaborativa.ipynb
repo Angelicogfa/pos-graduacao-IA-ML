{
 "metadata": {
  "language_info": {
   "codemirror_mode": {
    "name": "ipython",
    "version": 3
   },
   "file_extension": ".py",
   "mimetype": "text/x-python",
   "name": "python",
   "nbconvert_exporter": "python",
   "pygments_lexer": "ipython3",
   "version": "3.7.9"
  },
  "orig_nbformat": 2,
  "kernelspec": {
   "name": "python379jvsc74a57bd00204325da5c4cfa76f1d74fd4e08d4b1d3f65652f0a93ad9c8a4a57490d8536c",
   "display_name": "Python 3.7.9 64-bit ('anaconda3')"
  }
 },
 "nbformat": 4,
 "nbformat_minor": 2,
 "cells": [
  {
   "source": [
    "# Sistema de Recomendação por Filtragem Colaborativa"
   ],
   "cell_type": "markdown",
   "metadata": {}
  },
  {
   "cell_type": "code",
   "execution_count": 1,
   "metadata": {},
   "outputs": [],
   "source": [
    "import numpy as np\n",
    "import pandas as pd"
   ]
  },
  {
   "cell_type": "code",
   "execution_count": 2,
   "metadata": {},
   "outputs": [],
   "source": [
    "u_cols = ['user_id', 'age', 'sex', 'occupation', 'zip_code']\n",
    "\n",
    "users = pd.read_csv('data/movielens/u.user', sep='|', names=u_cols, encoding='latin-1')"
   ]
  },
  {
   "cell_type": "code",
   "execution_count": 3,
   "metadata": {},
   "outputs": [
    {
     "output_type": "execute_result",
     "data": {
      "text/plain": [
       "   user_id  age sex  occupation zip_code\n",
       "0        1   24   M  technician    85711\n",
       "1        2   53   F       other    94043\n",
       "2        3   23   M      writer    32067\n",
       "3        4   24   M  technician    43537\n",
       "4        5   33   F       other    15213"
      ],
      "text/html": "<div>\n<style scoped>\n    .dataframe tbody tr th:only-of-type {\n        vertical-align: middle;\n    }\n\n    .dataframe tbody tr th {\n        vertical-align: top;\n    }\n\n    .dataframe thead th {\n        text-align: right;\n    }\n</style>\n<table border=\"1\" class=\"dataframe\">\n  <thead>\n    <tr style=\"text-align: right;\">\n      <th></th>\n      <th>user_id</th>\n      <th>age</th>\n      <th>sex</th>\n      <th>occupation</th>\n      <th>zip_code</th>\n    </tr>\n  </thead>\n  <tbody>\n    <tr>\n      <th>0</th>\n      <td>1</td>\n      <td>24</td>\n      <td>M</td>\n      <td>technician</td>\n      <td>85711</td>\n    </tr>\n    <tr>\n      <th>1</th>\n      <td>2</td>\n      <td>53</td>\n      <td>F</td>\n      <td>other</td>\n      <td>94043</td>\n    </tr>\n    <tr>\n      <th>2</th>\n      <td>3</td>\n      <td>23</td>\n      <td>M</td>\n      <td>writer</td>\n      <td>32067</td>\n    </tr>\n    <tr>\n      <th>3</th>\n      <td>4</td>\n      <td>24</td>\n      <td>M</td>\n      <td>technician</td>\n      <td>43537</td>\n    </tr>\n    <tr>\n      <th>4</th>\n      <td>5</td>\n      <td>33</td>\n      <td>F</td>\n      <td>other</td>\n      <td>15213</td>\n    </tr>\n  </tbody>\n</table>\n</div>"
     },
     "metadata": {},
     "execution_count": 3
    }
   ],
   "source": [
    "users.head()"
   ]
  },
  {
   "cell_type": "code",
   "execution_count": 4,
   "metadata": {},
   "outputs": [
    {
     "output_type": "execute_result",
     "data": {
      "text/plain": [
       "            movie_id        title  release_date  \\\n",
       "1   Toy Story (1995)  01-Jan-1995           NaN   \n",
       "2   GoldenEye (1995)  01-Jan-1995           NaN   \n",
       "3  Four Rooms (1995)  01-Jan-1995           NaN   \n",
       "4  Get Shorty (1995)  01-Jan-1995           NaN   \n",
       "5     Copycat (1995)  01-Jan-1995           NaN   \n",
       "\n",
       "                                  video_release_date  IMDb_URL  unknown  \\\n",
       "1  http://us.imdb.com/M/title-exact?Toy%20Story%2...         0        0   \n",
       "2  http://us.imdb.com/M/title-exact?GoldenEye%20(...         0        1   \n",
       "3  http://us.imdb.com/M/title-exact?Four%20Rooms%...         0        0   \n",
       "4  http://us.imdb.com/M/title-exact?Get%20Shorty%...         0        1   \n",
       "5  http://us.imdb.com/M/title-exact?Copycat%20(1995)         0        0   \n",
       "\n",
       "   Action  Adventure  Animation  Children's  ...  Drama  Fantasy  Film-Noir  \\\n",
       "1       0          1          1           1  ...      0        0          0   \n",
       "2       1          0          0           0  ...      0        0          0   \n",
       "3       0          0          0           0  ...      0        0          0   \n",
       "4       0          0          0           1  ...      0        0          0   \n",
       "5       0          0          0           0  ...      0        0          0   \n",
       "\n",
       "   Horror  Musical  Mystery  Sci-Fi  Thriller  War  Western  \n",
       "1       0        0        0       0         0    0        0  \n",
       "2       0        0        0       0         1    0        0  \n",
       "3       0        0        0       0         1    0        0  \n",
       "4       0        0        0       0         0    0        0  \n",
       "5       0        0        0       0         1    0        0  \n",
       "\n",
       "[5 rows x 23 columns]"
      ],
      "text/html": "<div>\n<style scoped>\n    .dataframe tbody tr th:only-of-type {\n        vertical-align: middle;\n    }\n\n    .dataframe tbody tr th {\n        vertical-align: top;\n    }\n\n    .dataframe thead th {\n        text-align: right;\n    }\n</style>\n<table border=\"1\" class=\"dataframe\">\n  <thead>\n    <tr style=\"text-align: right;\">\n      <th></th>\n      <th>movie_id</th>\n      <th>title</th>\n      <th>release_date</th>\n      <th>video_release_date</th>\n      <th>IMDb_URL</th>\n      <th>unknown</th>\n      <th>Action</th>\n      <th>Adventure</th>\n      <th>Animation</th>\n      <th>Children's</th>\n      <th>...</th>\n      <th>Drama</th>\n      <th>Fantasy</th>\n      <th>Film-Noir</th>\n      <th>Horror</th>\n      <th>Musical</th>\n      <th>Mystery</th>\n      <th>Sci-Fi</th>\n      <th>Thriller</th>\n      <th>War</th>\n      <th>Western</th>\n    </tr>\n  </thead>\n  <tbody>\n    <tr>\n      <th>1</th>\n      <td>Toy Story (1995)</td>\n      <td>01-Jan-1995</td>\n      <td>NaN</td>\n      <td>http://us.imdb.com/M/title-exact?Toy%20Story%2...</td>\n      <td>0</td>\n      <td>0</td>\n      <td>0</td>\n      <td>1</td>\n      <td>1</td>\n      <td>1</td>\n      <td>...</td>\n      <td>0</td>\n      <td>0</td>\n      <td>0</td>\n      <td>0</td>\n      <td>0</td>\n      <td>0</td>\n      <td>0</td>\n      <td>0</td>\n      <td>0</td>\n      <td>0</td>\n    </tr>\n    <tr>\n      <th>2</th>\n      <td>GoldenEye (1995)</td>\n      <td>01-Jan-1995</td>\n      <td>NaN</td>\n      <td>http://us.imdb.com/M/title-exact?GoldenEye%20(...</td>\n      <td>0</td>\n      <td>1</td>\n      <td>1</td>\n      <td>0</td>\n      <td>0</td>\n      <td>0</td>\n      <td>...</td>\n      <td>0</td>\n      <td>0</td>\n      <td>0</td>\n      <td>0</td>\n      <td>0</td>\n      <td>0</td>\n      <td>0</td>\n      <td>1</td>\n      <td>0</td>\n      <td>0</td>\n    </tr>\n    <tr>\n      <th>3</th>\n      <td>Four Rooms (1995)</td>\n      <td>01-Jan-1995</td>\n      <td>NaN</td>\n      <td>http://us.imdb.com/M/title-exact?Four%20Rooms%...</td>\n      <td>0</td>\n      <td>0</td>\n      <td>0</td>\n      <td>0</td>\n      <td>0</td>\n      <td>0</td>\n      <td>...</td>\n      <td>0</td>\n      <td>0</td>\n      <td>0</td>\n      <td>0</td>\n      <td>0</td>\n      <td>0</td>\n      <td>0</td>\n      <td>1</td>\n      <td>0</td>\n      <td>0</td>\n    </tr>\n    <tr>\n      <th>4</th>\n      <td>Get Shorty (1995)</td>\n      <td>01-Jan-1995</td>\n      <td>NaN</td>\n      <td>http://us.imdb.com/M/title-exact?Get%20Shorty%...</td>\n      <td>0</td>\n      <td>1</td>\n      <td>0</td>\n      <td>0</td>\n      <td>0</td>\n      <td>1</td>\n      <td>...</td>\n      <td>0</td>\n      <td>0</td>\n      <td>0</td>\n      <td>0</td>\n      <td>0</td>\n      <td>0</td>\n      <td>0</td>\n      <td>0</td>\n      <td>0</td>\n      <td>0</td>\n    </tr>\n    <tr>\n      <th>5</th>\n      <td>Copycat (1995)</td>\n      <td>01-Jan-1995</td>\n      <td>NaN</td>\n      <td>http://us.imdb.com/M/title-exact?Copycat%20(1995)</td>\n      <td>0</td>\n      <td>0</td>\n      <td>0</td>\n      <td>0</td>\n      <td>0</td>\n      <td>0</td>\n      <td>...</td>\n      <td>0</td>\n      <td>0</td>\n      <td>0</td>\n      <td>0</td>\n      <td>0</td>\n      <td>0</td>\n      <td>0</td>\n      <td>1</td>\n      <td>0</td>\n      <td>0</td>\n    </tr>\n  </tbody>\n</table>\n<p>5 rows × 23 columns</p>\n</div>"
     },
     "metadata": {},
     "execution_count": 4
    }
   ],
   "source": [
    "i_cols = ['movie_id', 'title', 'release_date', 'video_release_date', 'IMDb_URL', 'unknown', 'Action', 'Adventure', 'Animation', 'Children\\'s', 'Comedy', 'Crime', 'Documentary', 'Drama', 'Fantasy', 'Film-Noir', 'Horror', 'Musical', 'Mystery', 'Sci-Fi', 'Thriller', 'War', 'Western']\n",
    "\n",
    "movies = pd.read_csv('data/movielens/u.item', sep='|', names=i_cols, encoding='latin-1')\n",
    "movies.head()"
   ]
  },
  {
   "cell_type": "code",
   "execution_count": 5,
   "metadata": {},
   "outputs": [
    {
     "output_type": "stream",
     "name": "stdout",
     "text": [
      "<class 'pandas.core.frame.DataFrame'>\nInt64Index: 1682 entries, 1 to 1682\nData columns (total 23 columns):\n #   Column              Non-Null Count  Dtype  \n---  ------              --------------  -----  \n 0   movie_id            1682 non-null   object \n 1   title               1681 non-null   object \n 2   release_date        0 non-null      float64\n 3   video_release_date  1679 non-null   object \n 4   IMDb_URL            1682 non-null   int64  \n 5   unknown             1682 non-null   int64  \n 6   Action              1682 non-null   int64  \n 7   Adventure           1682 non-null   int64  \n 8   Animation           1682 non-null   int64  \n 9   Children's          1682 non-null   int64  \n 10  Comedy              1682 non-null   int64  \n 11  Crime               1682 non-null   int64  \n 12  Documentary         1682 non-null   int64  \n 13  Drama               1682 non-null   int64  \n 14  Fantasy             1682 non-null   int64  \n 15  Film-Noir           1682 non-null   int64  \n 16  Horror              1682 non-null   int64  \n 17  Musical             1682 non-null   int64  \n 18  Mystery             1682 non-null   int64  \n 19  Sci-Fi              1682 non-null   int64  \n 20  Thriller            1682 non-null   int64  \n 21  War                 1682 non-null   int64  \n 22  Western             1682 non-null   int64  \ndtypes: float64(1), int64(19), object(3)\nmemory usage: 315.4+ KB\n"
     ]
    }
   ],
   "source": [
    "movies.info()"
   ]
  },
  {
   "cell_type": "code",
   "execution_count": 6,
   "metadata": {},
   "outputs": [],
   "source": [
    "movies = movies[['movie_id', 'title']]"
   ]
  },
  {
   "cell_type": "code",
   "execution_count": 7,
   "metadata": {},
   "outputs": [
    {
     "output_type": "execute_result",
     "data": {
      "text/plain": [
       "   user_id  movie_id  rating  timestamp\n",
       "0      196       242       3  881250949"
      ],
      "text/html": "<div>\n<style scoped>\n    .dataframe tbody tr th:only-of-type {\n        vertical-align: middle;\n    }\n\n    .dataframe tbody tr th {\n        vertical-align: top;\n    }\n\n    .dataframe thead th {\n        text-align: right;\n    }\n</style>\n<table border=\"1\" class=\"dataframe\">\n  <thead>\n    <tr style=\"text-align: right;\">\n      <th></th>\n      <th>user_id</th>\n      <th>movie_id</th>\n      <th>rating</th>\n      <th>timestamp</th>\n    </tr>\n  </thead>\n  <tbody>\n    <tr>\n      <th>0</th>\n      <td>196</td>\n      <td>242</td>\n      <td>3</td>\n      <td>881250949</td>\n    </tr>\n  </tbody>\n</table>\n</div>"
     },
     "metadata": {},
     "execution_count": 7
    }
   ],
   "source": [
    "r_cols = ['user_id', 'movie_id', 'rating', 'timestamp']\n",
    "\n",
    "ratings = pd.read_csv('data/movielens/u.data', sep='\\t', names=r_cols, encoding='latin-1')\n",
    "ratings.head(1)"
   ]
  },
  {
   "cell_type": "code",
   "execution_count": 8,
   "metadata": {},
   "outputs": [],
   "source": [
    "ratings.drop(columns=['timestamp'], inplace=True)"
   ]
  },
  {
   "cell_type": "code",
   "execution_count": 9,
   "metadata": {},
   "outputs": [],
   "source": [
    "# configuração de treino e teste\n",
    "from sklearn.model_selection import train_test_split\n",
    "\n",
    "# X ratings originais e y dataframe e y user_id\n",
    "X = ratings.copy()\n",
    "y = ratings['user_id']\n",
    "\n",
    "# Quebra em treino e teste, estratificando em user_id\n",
    "X_train, X_test, y_train, y_test = train_test_split(X, y, test_size=0.25, stratify=y, random_state=42)"
   ]
  },
  {
   "cell_type": "code",
   "execution_count": 10,
   "metadata": {},
   "outputs": [],
   "source": [
    "from sklearn.metrics import mean_squared_error\n",
    "\n",
    "# Computa o RMSE\n",
    "def rmse(y_true, y_pred):\n",
    "    return np.sqrt(mean_squared_error(y_true, y_pred))"
   ]
  },
  {
   "cell_type": "code",
   "execution_count": 11,
   "metadata": {},
   "outputs": [],
   "source": [
    "def baseline(user_id, movie_id):\n",
    "    return 3.0"
   ]
  },
  {
   "cell_type": "code",
   "execution_count": 12,
   "metadata": {},
   "outputs": [],
   "source": [
    "def score(cf_model):\n",
    "\n",
    "    id_pairs = zip(X_test['user_id'], X_test['movie_id'])\n",
    "\n",
    "    y_pred = np.array([cf_model(user, movie) for (user, movie) in id_pairs])\n",
    "\n",
    "    y_true = np.array(X_test['rating'])\n",
    "\n",
    "    return rmse(y_true, y_pred)"
   ]
  },
  {
   "cell_type": "code",
   "execution_count": 13,
   "metadata": {},
   "outputs": [
    {
     "output_type": "execute_result",
     "data": {
      "text/plain": [
       "1.2470926188539486"
      ]
     },
     "metadata": {},
     "execution_count": 13
    }
   ],
   "source": [
    "score(baseline)"
   ]
  },
  {
   "cell_type": "code",
   "execution_count": 14,
   "metadata": {},
   "outputs": [
    {
     "output_type": "execute_result",
     "data": {
      "text/plain": [
       "movie_id  1     2     3     4     5     6     7     8     9     10    ...  \\\n",
       "user_id                                                               ...   \n",
       "1          5.0   3.0   4.0   3.0   3.0   5.0   4.0   1.0   5.0   3.0  ...   \n",
       "2          NaN   NaN   NaN   NaN   NaN   NaN   NaN   NaN   NaN   2.0  ...   \n",
       "3          NaN   NaN   NaN   NaN   NaN   NaN   NaN   NaN   NaN   NaN  ...   \n",
       "4          NaN   NaN   NaN   NaN   NaN   NaN   NaN   NaN   NaN   NaN  ...   \n",
       "5          NaN   3.0   NaN   NaN   NaN   NaN   NaN   NaN   NaN   NaN  ...   \n",
       "\n",
       "movie_id  1669  1670  1671  1673  1674  1675  1676  1679  1681  1682  \n",
       "user_id                                                               \n",
       "1          NaN   NaN   NaN   NaN   NaN   NaN   NaN   NaN   NaN   NaN  \n",
       "2          NaN   NaN   NaN   NaN   NaN   NaN   NaN   NaN   NaN   NaN  \n",
       "3          NaN   NaN   NaN   NaN   NaN   NaN   NaN   NaN   NaN   NaN  \n",
       "4          NaN   NaN   NaN   NaN   NaN   NaN   NaN   NaN   NaN   NaN  \n",
       "5          NaN   NaN   NaN   NaN   NaN   NaN   NaN   NaN   NaN   NaN  \n",
       "\n",
       "[5 rows x 1647 columns]"
      ],
      "text/html": "<div>\n<style scoped>\n    .dataframe tbody tr th:only-of-type {\n        vertical-align: middle;\n    }\n\n    .dataframe tbody tr th {\n        vertical-align: top;\n    }\n\n    .dataframe thead th {\n        text-align: right;\n    }\n</style>\n<table border=\"1\" class=\"dataframe\">\n  <thead>\n    <tr style=\"text-align: right;\">\n      <th>movie_id</th>\n      <th>1</th>\n      <th>2</th>\n      <th>3</th>\n      <th>4</th>\n      <th>5</th>\n      <th>6</th>\n      <th>7</th>\n      <th>8</th>\n      <th>9</th>\n      <th>10</th>\n      <th>...</th>\n      <th>1669</th>\n      <th>1670</th>\n      <th>1671</th>\n      <th>1673</th>\n      <th>1674</th>\n      <th>1675</th>\n      <th>1676</th>\n      <th>1679</th>\n      <th>1681</th>\n      <th>1682</th>\n    </tr>\n    <tr>\n      <th>user_id</th>\n      <th></th>\n      <th></th>\n      <th></th>\n      <th></th>\n      <th></th>\n      <th></th>\n      <th></th>\n      <th></th>\n      <th></th>\n      <th></th>\n      <th></th>\n      <th></th>\n      <th></th>\n      <th></th>\n      <th></th>\n      <th></th>\n      <th></th>\n      <th></th>\n      <th></th>\n      <th></th>\n      <th></th>\n    </tr>\n  </thead>\n  <tbody>\n    <tr>\n      <th>1</th>\n      <td>5.0</td>\n      <td>3.0</td>\n      <td>4.0</td>\n      <td>3.0</td>\n      <td>3.0</td>\n      <td>5.0</td>\n      <td>4.0</td>\n      <td>1.0</td>\n      <td>5.0</td>\n      <td>3.0</td>\n      <td>...</td>\n      <td>NaN</td>\n      <td>NaN</td>\n      <td>NaN</td>\n      <td>NaN</td>\n      <td>NaN</td>\n      <td>NaN</td>\n      <td>NaN</td>\n      <td>NaN</td>\n      <td>NaN</td>\n      <td>NaN</td>\n    </tr>\n    <tr>\n      <th>2</th>\n      <td>NaN</td>\n      <td>NaN</td>\n      <td>NaN</td>\n      <td>NaN</td>\n      <td>NaN</td>\n      <td>NaN</td>\n      <td>NaN</td>\n      <td>NaN</td>\n      <td>NaN</td>\n      <td>2.0</td>\n      <td>...</td>\n      <td>NaN</td>\n      <td>NaN</td>\n      <td>NaN</td>\n      <td>NaN</td>\n      <td>NaN</td>\n      <td>NaN</td>\n      <td>NaN</td>\n      <td>NaN</td>\n      <td>NaN</td>\n      <td>NaN</td>\n    </tr>\n    <tr>\n      <th>3</th>\n      <td>NaN</td>\n      <td>NaN</td>\n      <td>NaN</td>\n      <td>NaN</td>\n      <td>NaN</td>\n      <td>NaN</td>\n      <td>NaN</td>\n      <td>NaN</td>\n      <td>NaN</td>\n      <td>NaN</td>\n      <td>...</td>\n      <td>NaN</td>\n      <td>NaN</td>\n      <td>NaN</td>\n      <td>NaN</td>\n      <td>NaN</td>\n      <td>NaN</td>\n      <td>NaN</td>\n      <td>NaN</td>\n      <td>NaN</td>\n      <td>NaN</td>\n    </tr>\n    <tr>\n      <th>4</th>\n      <td>NaN</td>\n      <td>NaN</td>\n      <td>NaN</td>\n      <td>NaN</td>\n      <td>NaN</td>\n      <td>NaN</td>\n      <td>NaN</td>\n      <td>NaN</td>\n      <td>NaN</td>\n      <td>NaN</td>\n      <td>...</td>\n      <td>NaN</td>\n      <td>NaN</td>\n      <td>NaN</td>\n      <td>NaN</td>\n      <td>NaN</td>\n      <td>NaN</td>\n      <td>NaN</td>\n      <td>NaN</td>\n      <td>NaN</td>\n      <td>NaN</td>\n    </tr>\n    <tr>\n      <th>5</th>\n      <td>NaN</td>\n      <td>3.0</td>\n      <td>NaN</td>\n      <td>NaN</td>\n      <td>NaN</td>\n      <td>NaN</td>\n      <td>NaN</td>\n      <td>NaN</td>\n      <td>NaN</td>\n      <td>NaN</td>\n      <td>...</td>\n      <td>NaN</td>\n      <td>NaN</td>\n      <td>NaN</td>\n      <td>NaN</td>\n      <td>NaN</td>\n      <td>NaN</td>\n      <td>NaN</td>\n      <td>NaN</td>\n      <td>NaN</td>\n      <td>NaN</td>\n    </tr>\n  </tbody>\n</table>\n<p>5 rows × 1647 columns</p>\n</div>"
     },
     "metadata": {},
     "execution_count": 14
    }
   ],
   "source": [
    "r_matrix = X_train.pivot_table(values='rating', index='user_id', columns='movie_id')\n",
    "\n",
    "r_matrix.head()"
   ]
  },
  {
   "source": [
    "## Avaliação **média** por filme"
   ],
   "cell_type": "markdown",
   "metadata": {}
  },
  {
   "cell_type": "code",
   "execution_count": 15,
   "metadata": {},
   "outputs": [],
   "source": [
    "def cf_user_mean(user_id, movie_id):\n",
    "\n",
    "    if movie_id in r_matrix:\n",
    "        mean_rating = r_matrix[movie_id].mean()\n",
    "    else:\n",
    "        mean_rating = 3.0\n",
    "\n",
    "    return mean_rating"
   ]
  },
  {
   "cell_type": "code",
   "execution_count": 16,
   "metadata": {},
   "outputs": [
    {
     "output_type": "execute_result",
     "data": {
      "text/plain": [
       "1.0234701463131335"
      ]
     },
     "metadata": {},
     "execution_count": 16
    }
   ],
   "source": [
    "score(cf_user_mean)"
   ]
  },
  {
   "source": [
    "## Média ponderada\n",
    "\n",
    "$r_{u, m} = \\frac{\\sum_{u', u' \\neq u} sim(u, u') . r_{u', m}}{\\sum_{u', u' \\neq u} |sim(u, u')|}$"
   ],
   "cell_type": "markdown",
   "metadata": {}
  },
  {
   "cell_type": "code",
   "execution_count": 17,
   "metadata": {},
   "outputs": [],
   "source": [
    "r_matrix_dummy = r_matrix.copy().fillna(0)"
   ]
  },
  {
   "cell_type": "code",
   "execution_count": 18,
   "metadata": {},
   "outputs": [],
   "source": [
    "from sklearn.metrics.pairwise import cosine_similarity\n",
    "\n",
    "cosine_sim = cosine_similarity(r_matrix_dummy, r_matrix_dummy)"
   ]
  },
  {
   "cell_type": "code",
   "execution_count": 19,
   "metadata": {},
   "outputs": [
    {
     "output_type": "execute_result",
     "data": {
      "text/plain": [
       "user_id       1         2         3         4         5         6         7    \\\n",
       "user_id                                                                         \n",
       "1        1.000000  0.118076  0.029097  0.011628  0.264677  0.312419  0.308729   \n",
       "2        0.118076  1.000000  0.099097  0.107680  0.034279  0.152789  0.086705   \n",
       "3        0.029097  0.099097  1.000000  0.252131  0.026893  0.062539  0.039767   \n",
       "4        0.011628  0.107680  0.252131  1.000000  0.000000  0.045543  0.078812   \n",
       "5        0.264677  0.034279  0.026893  0.000000  1.000000  0.202843  0.299619   \n",
       "6        0.312419  0.152789  0.062539  0.045543  0.202843  1.000000  0.375963   \n",
       "7        0.308729  0.086705  0.039767  0.078812  0.299619  0.375963  1.000000   \n",
       "8        0.224269  0.078864  0.089474  0.095354  0.163724  0.131795  0.211282   \n",
       "9        0.026017  0.068940  0.078162  0.059498  0.038474  0.110944  0.107795   \n",
       "10       0.286411  0.092399  0.037670  0.053879  0.153021  0.400758  0.328923   \n",
       "\n",
       "user_id       8         9         10   ...       934       935       936  \\\n",
       "user_id                                ...                                 \n",
       "1        0.224269  0.026017  0.286411  ...  0.308475  0.055872  0.197862   \n",
       "2        0.078864  0.068940  0.092399  ...  0.086927  0.259636  0.289092   \n",
       "3        0.089474  0.078162  0.037670  ...  0.040918  0.019031  0.065417   \n",
       "4        0.095354  0.059498  0.053879  ...  0.024226  0.050703  0.056561   \n",
       "5        0.163724  0.038474  0.153021  ...  0.262547  0.048524  0.048312   \n",
       "6        0.131795  0.110944  0.400758  ...  0.287549  0.080312  0.162988   \n",
       "7        0.211282  0.107795  0.328923  ...  0.290002  0.074170  0.094619   \n",
       "8        1.000000  0.037040  0.183375  ...  0.165008  0.066843  0.058766   \n",
       "9        0.037040  1.000000  0.155435  ...  0.011708  0.000000  0.101710   \n",
       "10       0.183375  0.155435  1.000000  ...  0.278558  0.049310  0.153506   \n",
       "\n",
       "user_id       937       938       939       940       941       942       943  \n",
       "user_id                                                                        \n",
       "1        0.131367  0.152449  0.084456  0.293293  0.056765  0.103536  0.326491  \n",
       "2        0.318824  0.149105  0.186347  0.168034  0.106748  0.136796  0.080358  \n",
       "3        0.055373  0.086503  0.018418  0.096993  0.109631  0.092574  0.018987  \n",
       "4        0.107294  0.098892  0.000000  0.132900  0.142798  0.097066  0.015176  \n",
       "5        0.022202  0.091910  0.066000  0.156172  0.115842  0.124297  0.267574  \n",
       "6        0.182856  0.114262  0.092090  0.261859  0.097606  0.206104  0.187637  \n",
       "7        0.084235  0.115620  0.100625  0.233843  0.039199  0.224227  0.296332  \n",
       "8        0.068759  0.087159  0.129381  0.188662  0.121223  0.083910  0.273238  \n",
       "9        0.034568  0.045002  0.052699  0.107486  0.055766  0.070065  0.088281  \n",
       "10       0.065471  0.060088  0.033686  0.197107  0.085402  0.118945  0.162538  \n",
       "\n",
       "[10 rows x 943 columns]"
      ],
      "text/html": "<div>\n<style scoped>\n    .dataframe tbody tr th:only-of-type {\n        vertical-align: middle;\n    }\n\n    .dataframe tbody tr th {\n        vertical-align: top;\n    }\n\n    .dataframe thead th {\n        text-align: right;\n    }\n</style>\n<table border=\"1\" class=\"dataframe\">\n  <thead>\n    <tr style=\"text-align: right;\">\n      <th>user_id</th>\n      <th>1</th>\n      <th>2</th>\n      <th>3</th>\n      <th>4</th>\n      <th>5</th>\n      <th>6</th>\n      <th>7</th>\n      <th>8</th>\n      <th>9</th>\n      <th>10</th>\n      <th>...</th>\n      <th>934</th>\n      <th>935</th>\n      <th>936</th>\n      <th>937</th>\n      <th>938</th>\n      <th>939</th>\n      <th>940</th>\n      <th>941</th>\n      <th>942</th>\n      <th>943</th>\n    </tr>\n    <tr>\n      <th>user_id</th>\n      <th></th>\n      <th></th>\n      <th></th>\n      <th></th>\n      <th></th>\n      <th></th>\n      <th></th>\n      <th></th>\n      <th></th>\n      <th></th>\n      <th></th>\n      <th></th>\n      <th></th>\n      <th></th>\n      <th></th>\n      <th></th>\n      <th></th>\n      <th></th>\n      <th></th>\n      <th></th>\n      <th></th>\n    </tr>\n  </thead>\n  <tbody>\n    <tr>\n      <th>1</th>\n      <td>1.000000</td>\n      <td>0.118076</td>\n      <td>0.029097</td>\n      <td>0.011628</td>\n      <td>0.264677</td>\n      <td>0.312419</td>\n      <td>0.308729</td>\n      <td>0.224269</td>\n      <td>0.026017</td>\n      <td>0.286411</td>\n      <td>...</td>\n      <td>0.308475</td>\n      <td>0.055872</td>\n      <td>0.197862</td>\n      <td>0.131367</td>\n      <td>0.152449</td>\n      <td>0.084456</td>\n      <td>0.293293</td>\n      <td>0.056765</td>\n      <td>0.103536</td>\n      <td>0.326491</td>\n    </tr>\n    <tr>\n      <th>2</th>\n      <td>0.118076</td>\n      <td>1.000000</td>\n      <td>0.099097</td>\n      <td>0.107680</td>\n      <td>0.034279</td>\n      <td>0.152789</td>\n      <td>0.086705</td>\n      <td>0.078864</td>\n      <td>0.068940</td>\n      <td>0.092399</td>\n      <td>...</td>\n      <td>0.086927</td>\n      <td>0.259636</td>\n      <td>0.289092</td>\n      <td>0.318824</td>\n      <td>0.149105</td>\n      <td>0.186347</td>\n      <td>0.168034</td>\n      <td>0.106748</td>\n      <td>0.136796</td>\n      <td>0.080358</td>\n    </tr>\n    <tr>\n      <th>3</th>\n      <td>0.029097</td>\n      <td>0.099097</td>\n      <td>1.000000</td>\n      <td>0.252131</td>\n      <td>0.026893</td>\n      <td>0.062539</td>\n      <td>0.039767</td>\n      <td>0.089474</td>\n      <td>0.078162</td>\n      <td>0.037670</td>\n      <td>...</td>\n      <td>0.040918</td>\n      <td>0.019031</td>\n      <td>0.065417</td>\n      <td>0.055373</td>\n      <td>0.086503</td>\n      <td>0.018418</td>\n      <td>0.096993</td>\n      <td>0.109631</td>\n      <td>0.092574</td>\n      <td>0.018987</td>\n    </tr>\n    <tr>\n      <th>4</th>\n      <td>0.011628</td>\n      <td>0.107680</td>\n      <td>0.252131</td>\n      <td>1.000000</td>\n      <td>0.000000</td>\n      <td>0.045543</td>\n      <td>0.078812</td>\n      <td>0.095354</td>\n      <td>0.059498</td>\n      <td>0.053879</td>\n      <td>...</td>\n      <td>0.024226</td>\n      <td>0.050703</td>\n      <td>0.056561</td>\n      <td>0.107294</td>\n      <td>0.098892</td>\n      <td>0.000000</td>\n      <td>0.132900</td>\n      <td>0.142798</td>\n      <td>0.097066</td>\n      <td>0.015176</td>\n    </tr>\n    <tr>\n      <th>5</th>\n      <td>0.264677</td>\n      <td>0.034279</td>\n      <td>0.026893</td>\n      <td>0.000000</td>\n      <td>1.000000</td>\n      <td>0.202843</td>\n      <td>0.299619</td>\n      <td>0.163724</td>\n      <td>0.038474</td>\n      <td>0.153021</td>\n      <td>...</td>\n      <td>0.262547</td>\n      <td>0.048524</td>\n      <td>0.048312</td>\n      <td>0.022202</td>\n      <td>0.091910</td>\n      <td>0.066000</td>\n      <td>0.156172</td>\n      <td>0.115842</td>\n      <td>0.124297</td>\n      <td>0.267574</td>\n    </tr>\n    <tr>\n      <th>6</th>\n      <td>0.312419</td>\n      <td>0.152789</td>\n      <td>0.062539</td>\n      <td>0.045543</td>\n      <td>0.202843</td>\n      <td>1.000000</td>\n      <td>0.375963</td>\n      <td>0.131795</td>\n      <td>0.110944</td>\n      <td>0.400758</td>\n      <td>...</td>\n      <td>0.287549</td>\n      <td>0.080312</td>\n      <td>0.162988</td>\n      <td>0.182856</td>\n      <td>0.114262</td>\n      <td>0.092090</td>\n      <td>0.261859</td>\n      <td>0.097606</td>\n      <td>0.206104</td>\n      <td>0.187637</td>\n    </tr>\n    <tr>\n      <th>7</th>\n      <td>0.308729</td>\n      <td>0.086705</td>\n      <td>0.039767</td>\n      <td>0.078812</td>\n      <td>0.299619</td>\n      <td>0.375963</td>\n      <td>1.000000</td>\n      <td>0.211282</td>\n      <td>0.107795</td>\n      <td>0.328923</td>\n      <td>...</td>\n      <td>0.290002</td>\n      <td>0.074170</td>\n      <td>0.094619</td>\n      <td>0.084235</td>\n      <td>0.115620</td>\n      <td>0.100625</td>\n      <td>0.233843</td>\n      <td>0.039199</td>\n      <td>0.224227</td>\n      <td>0.296332</td>\n    </tr>\n    <tr>\n      <th>8</th>\n      <td>0.224269</td>\n      <td>0.078864</td>\n      <td>0.089474</td>\n      <td>0.095354</td>\n      <td>0.163724</td>\n      <td>0.131795</td>\n      <td>0.211282</td>\n      <td>1.000000</td>\n      <td>0.037040</td>\n      <td>0.183375</td>\n      <td>...</td>\n      <td>0.165008</td>\n      <td>0.066843</td>\n      <td>0.058766</td>\n      <td>0.068759</td>\n      <td>0.087159</td>\n      <td>0.129381</td>\n      <td>0.188662</td>\n      <td>0.121223</td>\n      <td>0.083910</td>\n      <td>0.273238</td>\n    </tr>\n    <tr>\n      <th>9</th>\n      <td>0.026017</td>\n      <td>0.068940</td>\n      <td>0.078162</td>\n      <td>0.059498</td>\n      <td>0.038474</td>\n      <td>0.110944</td>\n      <td>0.107795</td>\n      <td>0.037040</td>\n      <td>1.000000</td>\n      <td>0.155435</td>\n      <td>...</td>\n      <td>0.011708</td>\n      <td>0.000000</td>\n      <td>0.101710</td>\n      <td>0.034568</td>\n      <td>0.045002</td>\n      <td>0.052699</td>\n      <td>0.107486</td>\n      <td>0.055766</td>\n      <td>0.070065</td>\n      <td>0.088281</td>\n    </tr>\n    <tr>\n      <th>10</th>\n      <td>0.286411</td>\n      <td>0.092399</td>\n      <td>0.037670</td>\n      <td>0.053879</td>\n      <td>0.153021</td>\n      <td>0.400758</td>\n      <td>0.328923</td>\n      <td>0.183375</td>\n      <td>0.155435</td>\n      <td>1.000000</td>\n      <td>...</td>\n      <td>0.278558</td>\n      <td>0.049310</td>\n      <td>0.153506</td>\n      <td>0.065471</td>\n      <td>0.060088</td>\n      <td>0.033686</td>\n      <td>0.197107</td>\n      <td>0.085402</td>\n      <td>0.118945</td>\n      <td>0.162538</td>\n    </tr>\n  </tbody>\n</table>\n<p>10 rows × 943 columns</p>\n</div>"
     },
     "metadata": {},
     "execution_count": 19
    }
   ],
   "source": [
    "consine_sim = pd.DataFrame(cosine_sim, index=r_matrix_dummy.index, columns=r_matrix_dummy.index)\n",
    "consine_sim.head(10)"
   ]
  },
  {
   "cell_type": "code",
   "execution_count": 20,
   "metadata": {},
   "outputs": [],
   "source": [
    "def cf_user_wmean(user_id, movie_id):\n",
    "    if (movie_id in r_matrix) & (user_id in cosine_sim):\n",
    "        # Obtem a similiariedade do usuário com os outros\n",
    "        sim_scores = pd.Series(cosine_sim[user_id])\n",
    "\n",
    "        # Obtem a avaliação do usuário para o filme\n",
    "        m_ratings = r_matrix_dummy[movie_id]\n",
    "\n",
    "        # Extrai os indices que contem nan\n",
    "        idx = m_ratings[m_ratings.isnull()].index\n",
    "\n",
    "        m_ratings = m_ratings.dropna()\n",
    "\n",
    "        # # dropa os escores de cosseno correspondentes\n",
    "        \n",
    "        sim_scores = sim_scores.drop(idx)\n",
    "\n",
    "        # # computa a média poderada final\n",
    "        wmean_ratings = np.dot(sim_scores, m_ratings) / sim_scores.sum()\n",
    "    else:\n",
    "        wmean_ratings = 3.0\n",
    "\n",
    "    return wmean_ratings"
   ]
  },
  {
   "cell_type": "code",
   "execution_count": 21,
   "metadata": {
    "tags": []
   },
   "outputs": [
    {
     "output_type": "execute_result",
     "data": {
      "text/plain": [
       "1.2583816989695245"
      ]
     },
     "metadata": {},
     "execution_count": 21
    }
   ],
   "source": [
    "score(cf_user_wmean)"
   ]
  },
  {
   "source": [
    "## Demographics\n"
   ],
   "cell_type": "markdown",
   "metadata": {}
  },
  {
   "cell_type": "code",
   "execution_count": 22,
   "metadata": {},
   "outputs": [
    {
     "output_type": "execute_result",
     "data": {
      "text/plain": [
       "   user_id  movie_id  rating  age sex  occupation zip_code\n",
       "0      889       684       2   24   M  technician    78704\n",
       "1      889       279       2   24   M  technician    78704\n",
       "2      889        29       3   24   M  technician    78704"
      ],
      "text/html": "<div>\n<style scoped>\n    .dataframe tbody tr th:only-of-type {\n        vertical-align: middle;\n    }\n\n    .dataframe tbody tr th {\n        vertical-align: top;\n    }\n\n    .dataframe thead th {\n        text-align: right;\n    }\n</style>\n<table border=\"1\" class=\"dataframe\">\n  <thead>\n    <tr style=\"text-align: right;\">\n      <th></th>\n      <th>user_id</th>\n      <th>movie_id</th>\n      <th>rating</th>\n      <th>age</th>\n      <th>sex</th>\n      <th>occupation</th>\n      <th>zip_code</th>\n    </tr>\n  </thead>\n  <tbody>\n    <tr>\n      <th>0</th>\n      <td>889</td>\n      <td>684</td>\n      <td>2</td>\n      <td>24</td>\n      <td>M</td>\n      <td>technician</td>\n      <td>78704</td>\n    </tr>\n    <tr>\n      <th>1</th>\n      <td>889</td>\n      <td>279</td>\n      <td>2</td>\n      <td>24</td>\n      <td>M</td>\n      <td>technician</td>\n      <td>78704</td>\n    </tr>\n    <tr>\n      <th>2</th>\n      <td>889</td>\n      <td>29</td>\n      <td>3</td>\n      <td>24</td>\n      <td>M</td>\n      <td>technician</td>\n      <td>78704</td>\n    </tr>\n  </tbody>\n</table>\n</div>"
     },
     "metadata": {},
     "execution_count": 22
    }
   ],
   "source": [
    "merged_df = pd.merge(X_train, users)\n",
    "merged_df.head(3)"
   ]
  },
  {
   "cell_type": "code",
   "execution_count": 23,
   "metadata": {},
   "outputs": [
    {
     "output_type": "execute_result",
     "data": {
      "text/plain": [
       "movie_id  sex\n",
       "1         F      3.827586\n",
       "          M      3.918919\n",
       "2         F      3.230769\n",
       "          M      3.228916\n",
       "3         F      2.785714\n",
       "                   ...   \n",
       "1675      M      3.000000\n",
       "1676      M      2.000000\n",
       "1679      M      3.000000\n",
       "1681      M      3.000000\n",
       "1682      M      3.000000\n",
       "Name: rating, Length: 3048, dtype: float64"
      ]
     },
     "metadata": {},
     "execution_count": 23
    }
   ],
   "source": [
    "gerder_mean = merged_df[['movie_id', 'sex', 'rating']].groupby(['movie_id', 'sex'])['rating'].mean()\n",
    "gerder_mean"
   ]
  },
  {
   "cell_type": "code",
   "execution_count": 24,
   "metadata": {},
   "outputs": [
    {
     "output_type": "execute_result",
     "data": {
      "text/plain": [
       "         age sex     occupation zip_code\n",
       "user_id                                 \n",
       "1         24   M     technician    85711\n",
       "2         53   F          other    94043\n",
       "3         23   M         writer    32067\n",
       "4         24   M     technician    43537\n",
       "5         33   F          other    15213\n",
       "...      ...  ..            ...      ...\n",
       "939       26   F        student    33319\n",
       "940       32   M  administrator    02215\n",
       "941       20   M        student    97229\n",
       "942       48   F      librarian    78209\n",
       "943       22   M        student    77841\n",
       "\n",
       "[943 rows x 4 columns]"
      ],
      "text/html": "<div>\n<style scoped>\n    .dataframe tbody tr th:only-of-type {\n        vertical-align: middle;\n    }\n\n    .dataframe tbody tr th {\n        vertical-align: top;\n    }\n\n    .dataframe thead th {\n        text-align: right;\n    }\n</style>\n<table border=\"1\" class=\"dataframe\">\n  <thead>\n    <tr style=\"text-align: right;\">\n      <th></th>\n      <th>age</th>\n      <th>sex</th>\n      <th>occupation</th>\n      <th>zip_code</th>\n    </tr>\n    <tr>\n      <th>user_id</th>\n      <th></th>\n      <th></th>\n      <th></th>\n      <th></th>\n    </tr>\n  </thead>\n  <tbody>\n    <tr>\n      <th>1</th>\n      <td>24</td>\n      <td>M</td>\n      <td>technician</td>\n      <td>85711</td>\n    </tr>\n    <tr>\n      <th>2</th>\n      <td>53</td>\n      <td>F</td>\n      <td>other</td>\n      <td>94043</td>\n    </tr>\n    <tr>\n      <th>3</th>\n      <td>23</td>\n      <td>M</td>\n      <td>writer</td>\n      <td>32067</td>\n    </tr>\n    <tr>\n      <th>4</th>\n      <td>24</td>\n      <td>M</td>\n      <td>technician</td>\n      <td>43537</td>\n    </tr>\n    <tr>\n      <th>5</th>\n      <td>33</td>\n      <td>F</td>\n      <td>other</td>\n      <td>15213</td>\n    </tr>\n    <tr>\n      <th>...</th>\n      <td>...</td>\n      <td>...</td>\n      <td>...</td>\n      <td>...</td>\n    </tr>\n    <tr>\n      <th>939</th>\n      <td>26</td>\n      <td>F</td>\n      <td>student</td>\n      <td>33319</td>\n    </tr>\n    <tr>\n      <th>940</th>\n      <td>32</td>\n      <td>M</td>\n      <td>administrator</td>\n      <td>02215</td>\n    </tr>\n    <tr>\n      <th>941</th>\n      <td>20</td>\n      <td>M</td>\n      <td>student</td>\n      <td>97229</td>\n    </tr>\n    <tr>\n      <th>942</th>\n      <td>48</td>\n      <td>F</td>\n      <td>librarian</td>\n      <td>78209</td>\n    </tr>\n    <tr>\n      <th>943</th>\n      <td>22</td>\n      <td>M</td>\n      <td>student</td>\n      <td>77841</td>\n    </tr>\n  </tbody>\n</table>\n<p>943 rows × 4 columns</p>\n</div>"
     },
     "metadata": {},
     "execution_count": 24
    }
   ],
   "source": [
    "users = users.set_index('user_id')\n",
    "users"
   ]
  },
  {
   "cell_type": "code",
   "execution_count": 25,
   "metadata": {},
   "outputs": [],
   "source": [
    "def cf_gender(user_id, movie_id):\n",
    "\n",
    "    if movie_id in r_matrix:\n",
    "\n",
    "        gender = users.loc[user_id]['sex']\n",
    "\n",
    "        if gender in gerder_mean[movie_id]:\n",
    "            gender_rating = gerder_mean[movie_id][gender]\n",
    "        else:\n",
    "            gender_rating = 3.0\n",
    "    else:\n",
    "        gender_rating = 3.0\n",
    "\n",
    "    return gender_rating"
   ]
  },
  {
   "cell_type": "code",
   "execution_count": 26,
   "metadata": {},
   "outputs": [
    {
     "output_type": "execute_result",
     "data": {
      "text/plain": [
       "1.0330308800874282"
      ]
     },
     "metadata": {},
     "execution_count": 26
    }
   ],
   "source": [
    "score(cf_gender)"
   ]
  },
  {
   "source": [
    "## Model Based\n",
    "\n",
    "### Rede Neural"
   ],
   "cell_type": "markdown",
   "metadata": {}
  },
  {
   "cell_type": "code",
   "execution_count": 30,
   "metadata": {},
   "outputs": [
    {
     "output_type": "stream",
     "name": "stdout",
     "text": [
      "Requirement already satisfied: tensorflow in d:\\angel\\anaconda3\\lib\\site-packages (2.3.1)\nRequirement already satisfied: wheel>=0.26 in d:\\angel\\anaconda3\\lib\\site-packages (from tensorflow) (0.35.1)\nRequirement already satisfied: opt-einsum>=2.3.2 in d:\\angel\\anaconda3\\lib\\site-packages (from tensorflow) (3.3.0)\nRequirement already satisfied: gast==0.3.3 in d:\\angel\\anaconda3\\lib\\site-packages (from tensorflow) (0.3.3)\nRequirement already satisfied: termcolor>=1.1.0 in d:\\angel\\anaconda3\\lib\\site-packages (from tensorflow) (1.1.0)\nRequirement already satisfied: grpcio>=1.8.6 in d:\\angel\\anaconda3\\lib\\site-packages (from tensorflow) (1.32.0)\nRequirement already satisfied: astunparse==1.6.3 in d:\\angel\\anaconda3\\lib\\site-packages (from tensorflow) (1.6.3)\nRequirement already satisfied: tensorflow-estimator<2.4.0,>=2.3.0 in d:\\angel\\anaconda3\\lib\\site-packages (from tensorflow) (2.3.0)\nRequirement already satisfied: keras-preprocessing<1.2,>=1.1.1 in d:\\angel\\anaconda3\\lib\\site-packages (from tensorflow) (1.1.2)\nRequirement already satisfied: protobuf>=3.9.2 in d:\\angel\\anaconda3\\lib\\site-packages (from tensorflow) (3.13.0)\nRequirement already satisfied: tensorboard<3,>=2.3.0 in d:\\angel\\anaconda3\\lib\\site-packages (from tensorflow) (2.4.0)\nRequirement already satisfied: h5py<2.11.0,>=2.10.0 in d:\\angel\\anaconda3\\lib\\site-packages (from tensorflow) (2.10.0)\nRequirement already satisfied: wrapt>=1.11.1 in d:\\angel\\anaconda3\\lib\\site-packages (from tensorflow) (1.12.1)\nRequirement already satisfied: numpy<1.19.0,>=1.16.0 in d:\\angel\\anaconda3\\lib\\site-packages (from tensorflow) (1.18.5)\nRequirement already satisfied: google-pasta>=0.1.8 in d:\\angel\\anaconda3\\lib\\site-packages (from tensorflow) (0.2.0)\nRequirement already satisfied: six>=1.12.0 in d:\\angel\\anaconda3\\lib\\site-packages (from tensorflow) (1.15.0)\nRequirement already satisfied: absl-py>=0.7.0 in d:\\angel\\anaconda3\\lib\\site-packages (from tensorflow) (0.11.0)\nRequirement already satisfied: setuptools in d:\\angel\\anaconda3\\lib\\site-packages (from protobuf>=3.9.2->tensorflow) (50.3.1.post20201107)\nRequirement already satisfied: google-auth<2,>=1.6.3 in d:\\angel\\anaconda3\\lib\\site-packages (from tensorboard<3,>=2.3.0->tensorflow) (1.23.0)\nRequirement already satisfied: markdown>=2.6.8 in d:\\angel\\anaconda3\\lib\\site-packages (from tensorboard<3,>=2.3.0->tensorflow) (3.3.3)\nRequirement already satisfied: werkzeug>=0.11.15 in d:\\angel\\anaconda3\\lib\\site-packages (from tensorboard<3,>=2.3.0->tensorflow) (1.0.1)\nRequirement already satisfied: requests<3,>=2.21.0 in d:\\angel\\anaconda3\\lib\\site-packages (from tensorboard<3,>=2.3.0->tensorflow) (2.24.0)\nRequirement already satisfied: tensorboard-plugin-wit>=1.6.0 in d:\\angel\\anaconda3\\lib\\site-packages (from tensorboard<3,>=2.3.0->tensorflow) (1.7.0)\nRequirement already satisfied: google-auth-oauthlib<0.5,>=0.4.1 in d:\\angel\\anaconda3\\lib\\site-packages (from tensorboard<3,>=2.3.0->tensorflow) (0.4.2)\nRequirement already satisfied: rsa<5,>=3.1.4; python_version >= \"3.5\" in d:\\angel\\anaconda3\\lib\\site-packages (from google-auth<2,>=1.6.3->tensorboard<3,>=2.3.0->tensorflow) (4.6)\nRequirement already satisfied: cachetools<5.0,>=2.0.0 in d:\\angel\\anaconda3\\lib\\site-packages (from google-auth<2,>=1.6.3->tensorboard<3,>=2.3.0->tensorflow) (4.1.1)\nRequirement already satisfied: pyasn1-modules>=0.2.1 in d:\\angel\\anaconda3\\lib\\site-packages (from google-auth<2,>=1.6.3->tensorboard<3,>=2.3.0->tensorflow) (0.2.8)\nRequirement already satisfied: importlib-metadata; python_version < \"3.8\" in d:\\angel\\anaconda3\\lib\\site-packages (from markdown>=2.6.8->tensorboard<3,>=2.3.0->tensorflow) (2.0.0)\nRequirement already satisfied: idna<3,>=2.5 in d:\\angel\\anaconda3\\lib\\site-packages (from requests<3,>=2.21.0->tensorboard<3,>=2.3.0->tensorflow) (2.10)\nRequirement already satisfied: urllib3!=1.25.0,!=1.25.1,<1.26,>=1.21.1 in d:\\angel\\anaconda3\\lib\\site-packages (from requests<3,>=2.21.0->tensorboard<3,>=2.3.0->tensorflow) (1.25.11)\nRequirement already satisfied: chardet<4,>=3.0.2 in d:\\angel\\anaconda3\\lib\\site-packages (from requests<3,>=2.21.0->tensorboard<3,>=2.3.0->tensorflow) (3.0.4)\nRequirement already satisfied: certifi>=2017.4.17 in d:\\angel\\anaconda3\\lib\\site-packages (from requests<3,>=2.21.0->tensorboard<3,>=2.3.0->tensorflow) (2020.6.20)\nRequirement already satisfied: requests-oauthlib>=0.7.0 in d:\\angel\\anaconda3\\lib\\site-packages (from google-auth-oauthlib<0.5,>=0.4.1->tensorboard<3,>=2.3.0->tensorflow) (1.3.0)\nRequirement already satisfied: pyasn1>=0.1.3 in d:\\angel\\anaconda3\\lib\\site-packages (from rsa<5,>=3.1.4; python_version >= \"3.5\"->google-auth<2,>=1.6.3->tensorboard<3,>=2.3.0->tensorflow) (0.4.8)\nRequirement already satisfied: zipp>=0.5 in d:\\angel\\anaconda3\\lib\\site-packages (from importlib-metadata; python_version < \"3.8\"->markdown>=2.6.8->tensorboard<3,>=2.3.0->tensorflow) (3.4.0)\nRequirement already satisfied: oauthlib>=3.0.0 in d:\\angel\\anaconda3\\lib\\site-packages (from requests-oauthlib>=0.7.0->google-auth-oauthlib<0.5,>=0.4.1->tensorboard<3,>=2.3.0->tensorflow) (3.1.0)\n"
     ]
    }
   ],
   "source": [
    "!pip install tensorflow --user"
   ]
  },
  {
   "cell_type": "code",
   "execution_count": 32,
   "metadata": {},
   "outputs": [],
   "source": [
    "import tensorflow as tf\n",
    "from zipfile import ZipFile\n",
    "import pandas as pd\n",
    "import numpy as np\n",
    "from sklearn.model_selection import train_test_split\n",
    "from tensorflow.keras.layers import Embedding\n",
    "from tensorflow.keras.utils import get_file"
   ]
  },
  {
   "cell_type": "code",
   "execution_count": 33,
   "metadata": {},
   "outputs": [
    {
     "output_type": "stream",
     "name": "stdout",
     "text": [
      "Downloading data from http://files.grouplens.org/datasets/movielens/ml-latest-small.zip\n",
      "983040/978202 [==============================] - 1s 1us/step\n"
     ]
    }
   ],
   "source": [
    "URL = 'http://files.grouplens.org/datasets/movielens/ml-latest-small.zip'\n",
    "movielens_path = get_file('movielens.zip', URL, extract=True)"
   ]
  },
  {
   "cell_type": "code",
   "execution_count": 34,
   "metadata": {},
   "outputs": [
    {
     "output_type": "stream",
     "name": "stdout",
     "text": [
      "(100836, 4)\n"
     ]
    },
    {
     "output_type": "execute_result",
     "data": {
      "text/plain": [
       "   userId  movieId  rating  timestamp\n",
       "0       1        1     4.0  964982703\n",
       "1       1        3     4.0  964981247\n",
       "2       1        6     4.0  964982224"
      ],
      "text/html": "<div>\n<style scoped>\n    .dataframe tbody tr th:only-of-type {\n        vertical-align: middle;\n    }\n\n    .dataframe tbody tr th {\n        vertical-align: top;\n    }\n\n    .dataframe thead th {\n        text-align: right;\n    }\n</style>\n<table border=\"1\" class=\"dataframe\">\n  <thead>\n    <tr style=\"text-align: right;\">\n      <th></th>\n      <th>userId</th>\n      <th>movieId</th>\n      <th>rating</th>\n      <th>timestamp</th>\n    </tr>\n  </thead>\n  <tbody>\n    <tr>\n      <th>0</th>\n      <td>1</td>\n      <td>1</td>\n      <td>4.0</td>\n      <td>964982703</td>\n    </tr>\n    <tr>\n      <th>1</th>\n      <td>1</td>\n      <td>3</td>\n      <td>4.0</td>\n      <td>964981247</td>\n    </tr>\n    <tr>\n      <th>2</th>\n      <td>1</td>\n      <td>6</td>\n      <td>4.0</td>\n      <td>964982224</td>\n    </tr>\n  </tbody>\n</table>\n</div>"
     },
     "metadata": {},
     "execution_count": 34
    }
   ],
   "source": [
    "with ZipFile(movielens_path) as z:\n",
    "    with z.open('ml-latest-small/ratings.csv') as f:\n",
    "        df = pd.read_csv(f)\n",
    "print(df.shape)\n",
    "df.head(3)"
   ]
  },
  {
   "cell_type": "code",
   "execution_count": 35,
   "metadata": {},
   "outputs": [],
   "source": [
    "# Processando os ids dos usuários - padronização\n",
    "user_ids = df['userId'].unique().tolist()\n",
    "user2user_encoded = {x: i for i, x in enumerate(user_ids)}\n",
    "user_encoded2user = {i:x for i, x in enumerate(user_ids)}\n",
    "df['user'] = df['userId'].map(user2user_encoded)\n",
    "num_users = len(user_encoded2user)"
   ]
  },
  {
   "cell_type": "code",
   "execution_count": 37,
   "metadata": {},
   "outputs": [],
   "source": [
    "# Processando os ids dos Filmes - padronização\n",
    "movie_ids = df['movieId'].unique().tolist()\n",
    "movie2movie_encoded = {x: i for i, x in enumerate(movie_ids)}\n",
    "movie_encoded2movie = {i: x for i, x in enumerate(movie_ids)}\n",
    "df['movie'] = df['movieId'].map(movie2movie_encoded)\n",
    "num_movies = len(movie_encoded2movie)"
   ]
  },
  {
   "cell_type": "code",
   "execution_count": 38,
   "metadata": {},
   "outputs": [
    {
     "output_type": "stream",
     "name": "stdout",
     "text": [
      "Number of users:  610 \nNumber of Movies:  9724\n"
     ]
    }
   ],
   "source": [
    "print('Number of users: ', num_users, '\\nNumber of Movies: ', num_movies)"
   ]
  },
  {
   "cell_type": "code",
   "execution_count": 40,
   "metadata": {},
   "outputs": [
    {
     "output_type": "execute_result",
     "data": {
      "text/plain": [
       "   userId  movieId    rating  timestamp  user  movie\n",
       "0       1        1  0.777778  964982703     0      0\n",
       "1       1        3  0.777778  964981247     0      1\n",
       "2       1        6  0.777778  964982224     0      2"
      ],
      "text/html": "<div>\n<style scoped>\n    .dataframe tbody tr th:only-of-type {\n        vertical-align: middle;\n    }\n\n    .dataframe tbody tr th {\n        vertical-align: top;\n    }\n\n    .dataframe thead th {\n        text-align: right;\n    }\n</style>\n<table border=\"1\" class=\"dataframe\">\n  <thead>\n    <tr style=\"text-align: right;\">\n      <th></th>\n      <th>userId</th>\n      <th>movieId</th>\n      <th>rating</th>\n      <th>timestamp</th>\n      <th>user</th>\n      <th>movie</th>\n    </tr>\n  </thead>\n  <tbody>\n    <tr>\n      <th>0</th>\n      <td>1</td>\n      <td>1</td>\n      <td>0.777778</td>\n      <td>964982703</td>\n      <td>0</td>\n      <td>0</td>\n    </tr>\n    <tr>\n      <th>1</th>\n      <td>1</td>\n      <td>3</td>\n      <td>0.777778</td>\n      <td>964981247</td>\n      <td>0</td>\n      <td>1</td>\n    </tr>\n    <tr>\n      <th>2</th>\n      <td>1</td>\n      <td>6</td>\n      <td>0.777778</td>\n      <td>964982224</td>\n      <td>0</td>\n      <td>2</td>\n    </tr>\n  </tbody>\n</table>\n</div>"
     },
     "metadata": {},
     "execution_count": 40
    }
   ],
   "source": [
    "# normalizar as avaliações com minmaz (eficiência)\n",
    "\n",
    "min, max = df['rating'].min(), df['rating'].max()\n",
    "df['rating'] = df['rating'].apply(lambda x: (x-min)/(max-min))\n",
    "df.head(3)"
   ]
  },
  {
   "cell_type": "code",
   "execution_count": 41,
   "metadata": {},
   "outputs": [],
   "source": [
    "# Definição do X e y para treino e teste\n",
    "X = df[['user', 'movie']].values\n",
    "y = df['rating'].values"
   ]
  },
  {
   "cell_type": "code",
   "execution_count": 42,
   "metadata": {},
   "outputs": [],
   "source": [
    "X_train, X_test, y_train, y_test = train_test_split(X, y, train_size=0.9, random_state=42)"
   ]
  },
  {
   "cell_type": "code",
   "execution_count": 43,
   "metadata": {},
   "outputs": [
    {
     "output_type": "stream",
     "name": "stdout",
     "text": [
      "Shape of X_train  (90752, 2)\nShape of X_test  (10084, 2)\nShape of y_train  (90752,)\nShape of y_test  (10084,)\n"
     ]
    }
   ],
   "source": [
    "print('Shape of X_train ', X_train.shape)\n",
    "print('Shape of X_test ', X_test.shape)\n",
    "print('Shape of y_train ', y_train.shape)\n",
    "print('Shape of y_test ', y_test.shape)"
   ]
  },
  {
   "cell_type": "code",
   "execution_count": 53,
   "metadata": {},
   "outputs": [],
   "source": [
    "class RecommenderNet(tf.keras.Model):\n",
    "    # __init__ function is to initialize the values of instance members for the new object\n",
    "\n",
    "    def __init__(self, num_users, num_movies, embedding_size, **kwargs):\n",
    "        super(RecommenderNet, self).__init__(**kwargs)\n",
    "\n",
    "        # Variables for embedding size\n",
    "        self.embedding_size = embedding_size\n",
    "        self.user_embedding = Embedding(\n",
    "            num_users,\n",
    "            embedding_size, \n",
    "            embeddings_initializer='he_normal',embeddings_regularizer=tf.keras.regularizers.l2(1e-6))     \n",
    "        self.user_bias = Embedding(num_users, 1)\n",
    "        # Variables for movie count, and related weigths and biases\n",
    "\n",
    "        self.movie_embedding = Embedding(\n",
    "            num_movies,\n",
    "            embedding_size,\n",
    "            embeddings_initializer='he_normal',\n",
    "            embeddings_regularizer=tf.keras.regularizers.l2(1e-6))\n",
    "        self.movie_bias = Embedding(num_movies, 1)\n",
    "\n",
    "    def call(self, inputs):\n",
    "        # call functions is for the dot products\n",
    "        # of user and movie vectors\n",
    "        # it also accepts the inputs, feed the into the layers, \n",
    "        # and feed into the final sigmoid layer\n",
    "        # User vector and bias values with input values\n",
    "        user_vector = self.user_embedding(inputs[:, 0])\n",
    "        user_bias = self.user_bias(inputs[:,0])\n",
    "\n",
    "        # Movie vector and bias values with input values\n",
    "        movie_vector = self.movie_embedding(inputs[:,1])\n",
    "        movie_bias = self.movie_bias(inputs[:,1])\n",
    "        # tf.tensordot calculates the dot products\n",
    "        dot_user_movie = tf.tensordot(user_vector, movie_vector, 2)\n",
    "        # add all the components (including bias)\n",
    "        x = dot_user_movie + user_bias + movie_bias\n",
    "        return tf.nn.sigmoid(x)\n",
    "\n"
   ]
  },
  {
   "cell_type": "code",
   "execution_count": 54,
   "metadata": {},
   "outputs": [],
   "source": [
    "model = RecommenderNet(num_users, num_movies, embedding_size=50)"
   ]
  },
  {
   "cell_type": "code",
   "execution_count": 55,
   "metadata": {},
   "outputs": [],
   "source": [
    "model.compile(loss='mse', optimizer=tf.keras.optimizers.Adam(lr=0.001))"
   ]
  },
  {
   "cell_type": "code",
   "execution_count": 56,
   "metadata": {},
   "outputs": [
    {
     "output_type": "stream",
     "name": "stdout",
     "text": [
      "Epoch 1/5\n",
      "1418/1418 [==============================] - 6s 4ms/step - loss: 0.0644 - val_loss: 0.0469\n",
      "Epoch 2/5\n",
      "1418/1418 [==============================] - 5s 3ms/step - loss: 0.0453 - val_loss: 0.0459\n",
      "Epoch 3/5\n",
      "1418/1418 [==============================] - 5s 3ms/step - loss: 0.0425 - val_loss: 0.0438\n",
      "Epoch 4/5\n",
      "1418/1418 [==============================] - 5s 3ms/step - loss: 0.0410 - val_loss: 0.0439\n",
      "Epoch 5/5\n",
      "1418/1418 [==============================] - 5s 3ms/step - loss: 0.0413 - val_loss: 0.0432\n"
     ]
    }
   ],
   "source": [
    "history = model.fit(\n",
    "    x=X_train,\n",
    "    y=y_train,\n",
    "    batch_size=64,\n",
    "    epochs=5,\n",
    "    verbose=1,\n",
    "    validation_data=(X_test, y_test)\n",
    ")"
   ]
  },
  {
   "cell_type": "code",
   "execution_count": 57,
   "metadata": {},
   "outputs": [
    {
     "output_type": "stream",
     "name": "stdout",
     "text": [
      "The selected user ID is:  599\n"
     ]
    }
   ],
   "source": [
    "user_id = df['userId'].sample(1).iloc[0]\n",
    "print('The selected user ID is: ', user_id)"
   ]
  },
  {
   "cell_type": "code",
   "execution_count": 60,
   "metadata": {},
   "outputs": [
    {
     "output_type": "stream",
     "name": "stdout",
     "text": [
      "The number of movies the user has not see:  7246\n"
     ]
    }
   ],
   "source": [
    "# filtrar filmes que o usuário já assistiu\n",
    "movies_watched = df[df['userId'] == user_id]\n",
    "not_watched = df[~df['movieId'].isin(movies_watched['movieId'].values)]['movieId'].unique()\n",
    "not_watched = [[movie2movie_encoded.get(x)] for x in not_watched]\n",
    "print('The number of movies the user has not see: ', len(not_watched))"
   ]
  },
  {
   "cell_type": "code",
   "execution_count": 63,
   "metadata": {},
   "outputs": [],
   "source": [
    "# Obtem id atualizado do usuario e prediz os filmes para ele\n",
    "user_encoder = user2user_encoded.get(user_id)\n",
    "user_movie_array = np.hstack(\n",
    "    ([[user_encoder]] * len(not_watched), not_watched))\n",
    "ratings = model.predict(user_movie_array).flatten()"
   ]
  },
  {
   "cell_type": "code",
   "execution_count": 65,
   "metadata": {},
   "outputs": [],
   "source": [
    "# Ordena itense retorna indices dos filmes\n",
    "top_10_indices = ratings.argsort()[-10:][::-1]"
   ]
  },
  {
   "cell_type": "code",
   "execution_count": 66,
   "metadata": {},
   "outputs": [],
   "source": [
    "# pega o id origin do filme\n",
    "recommended_movie_ids = [movie_encoded2movie.get(not_watched[x][0]) for x in top_10_indices]"
   ]
  },
  {
   "cell_type": "code",
   "execution_count": 67,
   "metadata": {},
   "outputs": [
    {
     "output_type": "execute_result",
     "data": {
      "text/plain": [
       "   movieId                    title  \\\n",
       "0        1         Toy Story (1995)   \n",
       "1        2           Jumanji (1995)   \n",
       "2        3  Grumpier Old Men (1995)   \n",
       "\n",
       "                                        genres  \n",
       "0  Adventure|Animation|Children|Comedy|Fantasy  \n",
       "1                   Adventure|Children|Fantasy  \n",
       "2                               Comedy|Romance  "
      ],
      "text/html": "<div>\n<style scoped>\n    .dataframe tbody tr th:only-of-type {\n        vertical-align: middle;\n    }\n\n    .dataframe tbody tr th {\n        vertical-align: top;\n    }\n\n    .dataframe thead th {\n        text-align: right;\n    }\n</style>\n<table border=\"1\" class=\"dataframe\">\n  <thead>\n    <tr style=\"text-align: right;\">\n      <th></th>\n      <th>movieId</th>\n      <th>title</th>\n      <th>genres</th>\n    </tr>\n  </thead>\n  <tbody>\n    <tr>\n      <th>0</th>\n      <td>1</td>\n      <td>Toy Story (1995)</td>\n      <td>Adventure|Animation|Children|Comedy|Fantasy</td>\n    </tr>\n    <tr>\n      <th>1</th>\n      <td>2</td>\n      <td>Jumanji (1995)</td>\n      <td>Adventure|Children|Fantasy</td>\n    </tr>\n    <tr>\n      <th>2</th>\n      <td>3</td>\n      <td>Grumpier Old Men (1995)</td>\n      <td>Comedy|Romance</td>\n    </tr>\n  </tbody>\n</table>\n</div>"
     },
     "metadata": {},
     "execution_count": 67
    }
   ],
   "source": [
    "with ZipFile(movielens_path) as z:\n",
    "    with z.open('ml-latest-small/movies.csv') as f:\n",
    "        movie_df = pd.read_csv(f)\n",
    "movie_df.head(3)"
   ]
  },
  {
   "cell_type": "code",
   "execution_count": 68,
   "metadata": {},
   "outputs": [
    {
     "output_type": "stream",
     "name": "stdout",
     "text": [
      "Movies with high ratings for user\n"
     ]
    },
    {
     "output_type": "execute_result",
     "data": {
      "text/plain": [
       "                                                  title  \\\n",
       "596          Ghost in the Shell (Kôkaku kidôtai) (1995)   \n",
       "602   Dr. Strangelove or: How I Learned to Stop Worr...   \n",
       "706                        2001: A Space Odyssey (1968)   \n",
       "731                              His Girl Friday (1940)   \n",
       "883                               Paths of Glory (1957)   \n",
       "982                                    High Noon (1952)   \n",
       "2382                                    Magnolia (1999)   \n",
       "2568                            Double Indemnity (1944)   \n",
       "4529                         Lost in Translation (2003)   \n",
       "4615                           Kill Bill: Vol. 1 (2003)   \n",
       "\n",
       "                      genres  \n",
       "596         Animation|Sci-Fi  \n",
       "602               Comedy|War  \n",
       "706   Adventure|Drama|Sci-Fi  \n",
       "731           Comedy|Romance  \n",
       "883                Drama|War  \n",
       "982            Drama|Western  \n",
       "2382                   Drama  \n",
       "2568   Crime|Drama|Film-Noir  \n",
       "4529    Comedy|Drama|Romance  \n",
       "4615   Action|Crime|Thriller  "
      ],
      "text/html": "<div>\n<style scoped>\n    .dataframe tbody tr th:only-of-type {\n        vertical-align: middle;\n    }\n\n    .dataframe tbody tr th {\n        vertical-align: top;\n    }\n\n    .dataframe thead th {\n        text-align: right;\n    }\n</style>\n<table border=\"1\" class=\"dataframe\">\n  <thead>\n    <tr style=\"text-align: right;\">\n      <th></th>\n      <th>title</th>\n      <th>genres</th>\n    </tr>\n  </thead>\n  <tbody>\n    <tr>\n      <th>596</th>\n      <td>Ghost in the Shell (Kôkaku kidôtai) (1995)</td>\n      <td>Animation|Sci-Fi</td>\n    </tr>\n    <tr>\n      <th>602</th>\n      <td>Dr. Strangelove or: How I Learned to Stop Worr...</td>\n      <td>Comedy|War</td>\n    </tr>\n    <tr>\n      <th>706</th>\n      <td>2001: A Space Odyssey (1968)</td>\n      <td>Adventure|Drama|Sci-Fi</td>\n    </tr>\n    <tr>\n      <th>731</th>\n      <td>His Girl Friday (1940)</td>\n      <td>Comedy|Romance</td>\n    </tr>\n    <tr>\n      <th>883</th>\n      <td>Paths of Glory (1957)</td>\n      <td>Drama|War</td>\n    </tr>\n    <tr>\n      <th>982</th>\n      <td>High Noon (1952)</td>\n      <td>Drama|Western</td>\n    </tr>\n    <tr>\n      <th>2382</th>\n      <td>Magnolia (1999)</td>\n      <td>Drama</td>\n    </tr>\n    <tr>\n      <th>2568</th>\n      <td>Double Indemnity (1944)</td>\n      <td>Crime|Drama|Film-Noir</td>\n    </tr>\n    <tr>\n      <th>4529</th>\n      <td>Lost in Translation (2003)</td>\n      <td>Comedy|Drama|Romance</td>\n    </tr>\n    <tr>\n      <th>4615</th>\n      <td>Kill Bill: Vol. 1 (2003)</td>\n      <td>Action|Crime|Thriller</td>\n    </tr>\n  </tbody>\n</table>\n</div>"
     },
     "metadata": {},
     "execution_count": 68
    }
   ],
   "source": [
    "# resgatar os nomes dos filmes que o usuário assistiu com valores altos de avaliações\n",
    "top_movies_user = (\n",
    "    movies_watched.sort_values(by='rating', ascending=False).head(10)['movieId'].values)\n",
    "\n",
    "movie_df_rows = movie_df[movie_df['movieId'].isin(top_movies_user)]\n",
    "\n",
    "print('Movies with high ratings for user')\n",
    "movie_df_rows[['title', 'genres']]"
   ]
  },
  {
   "cell_type": "code",
   "execution_count": 72,
   "metadata": {},
   "outputs": [
    {
     "output_type": "stream",
     "name": "stdout",
     "text": [
      "Top 10 movies recommendations\n"
     ]
    },
    {
     "output_type": "execute_result",
     "data": {
      "text/plain": [
       "                                       title                         genres\n",
       "413         In the Name of the Father (1993)                          Drama\n",
       "461                  Schindler's List (1993)                      Drama|War\n",
       "792               Sound of Music, The (1965)                Musical|Romance\n",
       "796                    Secrets & Lies (1996)                          Drama\n",
       "896   One Flew Over the Cuckoo's Nest (1975)                          Drama\n",
       "975                    Cool Hand Luke (1967)                          Drama\n",
       "1762        Celebration, The (Festen) (1998)                          Drama\n",
       "6922                      Gran Torino (2008)                    Crime|Drama\n",
       "7515                        Limitless (2011)                Sci-Fi|Thriller\n",
       "8274                 Captain Phillips (2013)  Adventure|Drama|Thriller|IMAX"
      ],
      "text/html": "<div>\n<style scoped>\n    .dataframe tbody tr th:only-of-type {\n        vertical-align: middle;\n    }\n\n    .dataframe tbody tr th {\n        vertical-align: top;\n    }\n\n    .dataframe thead th {\n        text-align: right;\n    }\n</style>\n<table border=\"1\" class=\"dataframe\">\n  <thead>\n    <tr style=\"text-align: right;\">\n      <th></th>\n      <th>title</th>\n      <th>genres</th>\n    </tr>\n  </thead>\n  <tbody>\n    <tr>\n      <th>413</th>\n      <td>In the Name of the Father (1993)</td>\n      <td>Drama</td>\n    </tr>\n    <tr>\n      <th>461</th>\n      <td>Schindler's List (1993)</td>\n      <td>Drama|War</td>\n    </tr>\n    <tr>\n      <th>792</th>\n      <td>Sound of Music, The (1965)</td>\n      <td>Musical|Romance</td>\n    </tr>\n    <tr>\n      <th>796</th>\n      <td>Secrets &amp; Lies (1996)</td>\n      <td>Drama</td>\n    </tr>\n    <tr>\n      <th>896</th>\n      <td>One Flew Over the Cuckoo's Nest (1975)</td>\n      <td>Drama</td>\n    </tr>\n    <tr>\n      <th>975</th>\n      <td>Cool Hand Luke (1967)</td>\n      <td>Drama</td>\n    </tr>\n    <tr>\n      <th>1762</th>\n      <td>Celebration, The (Festen) (1998)</td>\n      <td>Drama</td>\n    </tr>\n    <tr>\n      <th>6922</th>\n      <td>Gran Torino (2008)</td>\n      <td>Crime|Drama</td>\n    </tr>\n    <tr>\n      <th>7515</th>\n      <td>Limitless (2011)</td>\n      <td>Sci-Fi|Thriller</td>\n    </tr>\n    <tr>\n      <th>8274</th>\n      <td>Captain Phillips (2013)</td>\n      <td>Adventure|Drama|Thriller|IMAX</td>\n    </tr>\n  </tbody>\n</table>\n</div>"
     },
     "metadata": {},
     "execution_count": 72
    }
   ],
   "source": [
    "# top 10 que a filtragem colaborativa recomendaria\n",
    "recommeded_movies = movie_df[movie_df['movieId'].isin(recommended_movie_ids)]\n",
    "print('Top 10 movies recommendations')\n",
    "recommeded_movies[['title', 'genres']]"
   ]
  },
  {
   "cell_type": "code",
   "execution_count": null,
   "metadata": {},
   "outputs": [],
   "source": []
  }
 ]
}