{
 "metadata": {
  "language_info": {
   "codemirror_mode": {
    "name": "ipython",
    "version": 3
   },
   "file_extension": ".py",
   "mimetype": "text/x-python",
   "name": "python",
   "nbconvert_exporter": "python",
   "pygments_lexer": "ipython3",
   "version": "3.8.8"
  },
  "orig_nbformat": 2,
  "kernelspec": {
   "name": "python388jvsc74a57bd02c1855c28b8b597f057332dae11de67c6b939458ee52262e1ccdf6e51de96f0d",
   "display_name": "Python 3.8.8 64-bit (conda)"
  }
 },
 "nbformat": 4,
 "nbformat_minor": 2,
 "cells": [
  {
   "cell_type": "code",
   "execution_count": 1,
   "metadata": {},
   "outputs": [],
   "source": [
    "#!pip install opencv-python"
   ]
  },
  {
   "cell_type": "code",
   "execution_count": 2,
   "metadata": {},
   "outputs": [],
   "source": [
    "import numpy as np\n",
    "import cv2"
   ]
  },
  {
   "cell_type": "code",
   "execution_count": 3,
   "metadata": {},
   "outputs": [],
   "source": [
    "img = cv2.imread('imagens/lena.png', 0)"
   ]
  },
  {
   "cell_type": "code",
   "execution_count": 4,
   "metadata": {},
   "outputs": [],
   "source": [
    "cv2.imshow('image', img)\n",
    "cv2.waitKey(0)\n",
    "cv2.destroyAllWindows()"
   ]
  },
  {
   "cell_type": "code",
   "execution_count": 5,
   "metadata": {},
   "outputs": [
    {
     "output_type": "execute_result",
     "data": {
      "text/plain": [
       "True"
      ]
     },
     "metadata": {},
     "execution_count": 5
    }
   ],
   "source": [
    "cv2.imwrite('imagens/lena_gray.png', img)"
   ]
  },
  {
   "cell_type": "code",
   "execution_count": 6,
   "metadata": {},
   "outputs": [
    {
     "output_type": "stream",
     "name": "stdout",
     "text": [
      "(512, 512, 3)\n[114 140 230]\n"
     ]
    }
   ],
   "source": [
    "img = cv2.imread('imagens/lena.png')\n",
    "\n",
    "print(img.shape)\n",
    "px = img[50,50]\n",
    "print(px)"
   ]
  },
  {
   "source": [
    "O Open CV acessa o canal de imagens no padrão BGR (Blue Green Red)\n",
    "\n",
    "## Acessando canais\n",
    "\n",
    "Acessando o canal blue"
   ],
   "cell_type": "markdown",
   "metadata": {}
  },
  {
   "cell_type": "code",
   "execution_count": 7,
   "metadata": {},
   "outputs": [
    {
     "output_type": "stream",
     "name": "stdout",
     "text": [
      "114\n"
     ]
    }
   ],
   "source": [
    "blue = img[50, 50, 0] # -> os dois primeiros campos (50, 50) é a posiçao do pixel o terceiro campo do vetor (0) é o canal\n",
    "print(blue)"
   ]
  },
  {
   "source": [
    "Acessando o canal Red"
   ],
   "cell_type": "markdown",
   "metadata": {}
  },
  {
   "cell_type": "code",
   "execution_count": 8,
   "metadata": {},
   "outputs": [
    {
     "output_type": "stream",
     "name": "stdout",
     "text": [
      "230\n"
     ]
    }
   ],
   "source": [
    "red = img[50, 50, 2]\n",
    "print(red)"
   ]
  },
  {
   "source": [
    "Acessando o canal green"
   ],
   "cell_type": "markdown",
   "metadata": {}
  },
  {
   "cell_type": "code",
   "execution_count": 9,
   "metadata": {},
   "outputs": [
    {
     "output_type": "stream",
     "name": "stdout",
     "text": [
      "140\n"
     ]
    }
   ],
   "source": [
    "green = img[50, 50, 1]\n",
    "print(green)"
   ]
  },
  {
   "source": [
    "Mudando o valor de um unico pixel"
   ],
   "cell_type": "markdown",
   "metadata": {}
  },
  {
   "cell_type": "code",
   "execution_count": 10,
   "metadata": {},
   "outputs": [
    {
     "output_type": "stream",
     "name": "stdout",
     "text": [
      "[255 255 255]\n"
     ]
    }
   ],
   "source": [
    "img[50,50] = [255, 255, 255] # branco\n",
    "print(img[50,50])"
   ]
  },
  {
   "source": [
    "Forma otimizada de acessar pixel de uma imgem usando numpy"
   ],
   "cell_type": "markdown",
   "metadata": {}
  },
  {
   "cell_type": "code",
   "execution_count": 11,
   "metadata": {},
   "outputs": [
    {
     "output_type": "stream",
     "name": "stdout",
     "text": [
      "255\n"
     ]
    }
   ],
   "source": [
    "red = img.item(50, 50, 2)\n",
    "print(red)"
   ]
  },
  {
   "source": [
    "Modificando a intensidade do cancl Red do pixel usando numpy"
   ],
   "cell_type": "markdown",
   "metadata": {}
  },
  {
   "cell_type": "code",
   "execution_count": 12,
   "metadata": {},
   "outputs": [
    {
     "output_type": "stream",
     "name": "stdout",
     "text": [
      "100\n"
     ]
    }
   ],
   "source": [
    "img.itemset((50,50,2), 100)\n",
    "red = img.item(50, 50, 2)\n",
    "print(red)"
   ]
  },
  {
   "source": [
    "Retornando uma tupla de linha, coluna e numero de canais de cores da imagem"
   ],
   "cell_type": "markdown",
   "metadata": {}
  },
  {
   "cell_type": "code",
   "execution_count": 13,
   "metadata": {},
   "outputs": [
    {
     "output_type": "stream",
     "name": "stdout",
     "text": [
      "(512, 512, 3)\n"
     ]
    }
   ],
   "source": [
    "print(img.shape)"
   ]
  },
  {
   "source": [
    "Retorna o numero de pixel"
   ],
   "cell_type": "markdown",
   "metadata": {}
  },
  {
   "cell_type": "code",
   "execution_count": 14,
   "metadata": {},
   "outputs": [
    {
     "output_type": "stream",
     "name": "stdout",
     "text": [
      "786432\n"
     ]
    }
   ],
   "source": [
    "print(img.size)"
   ]
  },
  {
   "source": [
    "Imprimindo apenas o canal red"
   ],
   "cell_type": "markdown",
   "metadata": {}
  },
  {
   "cell_type": "code",
   "execution_count": 15,
   "metadata": {},
   "outputs": [
    {
     "output_type": "stream",
     "name": "stdout",
     "text": [
      "[[226 226 223 ... 230 221 200]\n [226 226 223 ... 230 221 200]\n [226 226 223 ... 230 221 200]\n ...\n [ 84  84  92 ... 173 172 177]\n [ 82  82  96 ... 179 181 185]\n [ 82  82  96 ... 179 181 185]]\n"
     ]
    }
   ],
   "source": [
    "*_, r = cv2.split(img)\n",
    "print(r)"
   ]
  },
  {
   "source": [
    "Modificando apenas o canal Red para 0"
   ],
   "cell_type": "markdown",
   "metadata": {}
  },
  {
   "cell_type": "code",
   "execution_count": 16,
   "metadata": {},
   "outputs": [
    {
     "output_type": "execute_result",
     "data": {
      "text/plain": [
       "True"
      ]
     },
     "metadata": {},
     "execution_count": 16
    }
   ],
   "source": [
    "img[:,:,2] = 0\n",
    "cv2.imwrite('imagens/lena_red.png',img)"
   ]
  },
  {
   "source": [
    "## Redimensionamento\n",
    "\n",
    "Rotacionando a imagem em 180 graus"
   ],
   "cell_type": "markdown",
   "metadata": {}
  },
  {
   "source": [
    "#!pip install imutils"
   ],
   "cell_type": "code",
   "metadata": {},
   "execution_count": 17,
   "outputs": []
  },
  {
   "cell_type": "code",
   "execution_count": 18,
   "metadata": {},
   "outputs": [],
   "source": [
    "import imutils"
   ]
  },
  {
   "cell_type": "code",
   "execution_count": 19,
   "metadata": {},
   "outputs": [],
   "source": [
    "img = imutils.rotate(img, 180)"
   ]
  },
  {
   "cell_type": "code",
   "execution_count": 20,
   "metadata": {},
   "outputs": [],
   "source": [
    "cv2.imshow('image', img)\n",
    "cv2.waitKey(0)\n",
    "cv2.destroyAllWindows()"
   ]
  },
  {
   "source": [
    "Redimensionamento e Imagens"
   ],
   "cell_type": "markdown",
   "metadata": {}
  },
  {
   "cell_type": "code",
   "execution_count": 21,
   "metadata": {},
   "outputs": [],
   "source": [
    "img = cv2.imread('imagens/lena.png')"
   ]
  },
  {
   "cell_type": "code",
   "execution_count": 22,
   "metadata": {},
   "outputs": [],
   "source": [
    "resized = cv2.resize(img, (720, 720), interpolation=cv2.INTER_CUBIC)\n",
    "cv2.imshow('', resized)\n",
    "cv2.waitKey(0)\n",
    "cv2.destroyAllWindows()"
   ]
  },
  {
   "source": [
    "## Função de desenho\n",
    "\n",
    "Desenhando uma linha\n",
    "\n",
    "Para desenhar uma linha, você precisa passar as coordenadas iniciais e finais da linha\n",
    "\n",
    "Criand uma imagem preta e desenhando uma linha azul no canto superior esquerdo e inferior direito"
   ],
   "cell_type": "markdown",
   "metadata": {}
  },
  {
   "cell_type": "code",
   "execution_count": 23,
   "metadata": {},
   "outputs": [],
   "source": [
    "# Cria uma imagem preta\n",
    "img = np.zeros((512, 512, 3), np.uint8)\n",
    "\n",
    "# Desenha uma linha diagonal azul com expessura de 5 px\n",
    "img = cv2.line(img, (0, 0), (511, 511), (255, 0, 0), 1)\n",
    "\n",
    "cv2.imshow('', img)\n",
    "cv2.waitKey(0)\n",
    "cv2.destroyAllWindows()"
   ]
  },
  {
   "source": [
    "Desehando um retangulo\n",
    "\n",
    "Especificamos o canto superior esquerdo e o canto inferior direito do retangulo"
   ],
   "cell_type": "markdown",
   "metadata": {}
  },
  {
   "cell_type": "code",
   "execution_count": 24,
   "metadata": {},
   "outputs": [],
   "source": [
    "img = cv2.rectangle(img, (384, 0), (510, 128), (0, 255, 0), 3)\n",
    "\n",
    "cv2.imshow(None, img)\n",
    "cv2.waitKey(0)\n",
    "cv2.destroyAllWindows()"
   ]
  },
  {
   "source": [
    "Adicionando texto em uma imagem"
   ],
   "cell_type": "markdown",
   "metadata": {}
  },
  {
   "cell_type": "code",
   "execution_count": 25,
   "metadata": {},
   "outputs": [],
   "source": [
    "img = np.zeros((512, 512, 3), np.uint8)\n",
    "\n",
    "font = cv2.FONT_HERSHEY_DUPLEX\n",
    "cv2.putText(img, 'OpenCV', (10, 500), font, 4, (255, 255, 255), 2, cv2.LINE_AA)\n",
    "\n",
    "cv2.imshow(None, img)\n",
    "cv2.waitKey(0)\n",
    "cv2.destroyAllWindows()"
   ]
  },
  {
   "source": [
    "## Operação sobre Vídeo"
   ],
   "cell_type": "markdown",
   "metadata": {}
  },
  {
   "cell_type": "code",
   "execution_count": 26,
   "metadata": {},
   "outputs": [],
   "source": [
    "from os import path, makedirs"
   ]
  },
  {
   "cell_type": "code",
   "execution_count": 27,
   "metadata": {},
   "outputs": [],
   "source": [
    "frames_dir = 'imagens/frame_dir/'\n",
    "\n",
    "if not path.exists(frames_dir):\n",
    "    makedirs(frames_dir)"
   ]
  },
  {
   "cell_type": "code",
   "execution_count": 28,
   "metadata": {},
   "outputs": [],
   "source": [
    "cap = cv2.VideoCapture('dataset/video.mp4') \n",
    "\n",
    "amount_of_frames = cap.get(cv2.CAP_PROP_FRAME_COUNT )\n",
    "\n",
    "frame_second = 30\n",
    "frames = amount_of_frames // frame_second \n",
    "\n",
    "for i in range(0, int(frames)):\n",
    "    cap.set(cv2.CAP_PROP_POS_FRAMES, i * frame_second)\n",
    "    ret, frame = cap.read()\n",
    "\n",
    "    file_frame = path.join(frames_dir, f'frame_{i}.png')\n",
    "    cv2.imwrite(file_frame, frame)\n",
    "\n",
    "cap.release()"
   ]
  },
  {
   "source": [
    "**Referências**\n",
    "\n",
    "[OpenCV-Python Tutorials](https://opencv-python-tutroals.readthedocs.io/en/latest/py_tutorials/py_tutorials.html)"
   ],
   "cell_type": "markdown",
   "metadata": {}
  },
  {
   "cell_type": "code",
   "execution_count": null,
   "metadata": {},
   "outputs": [],
   "source": []
  }
 ]
}