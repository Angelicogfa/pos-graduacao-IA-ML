{
 "metadata": {
  "language_info": {
   "codemirror_mode": {
    "name": "ipython",
    "version": 3
   },
   "file_extension": ".py",
   "mimetype": "text/x-python",
   "name": "python",
   "nbconvert_exporter": "python",
   "pygments_lexer": "ipython3",
   "version": "3.7.9-final"
  },
  "orig_nbformat": 2,
  "kernelspec": {
   "name": "python3",
   "display_name": "Python 3",
   "language": "python"
  }
 },
 "nbformat": 4,
 "nbformat_minor": 2,
 "cells": [
  {
   "cell_type": "code",
   "execution_count": 1,
   "metadata": {},
   "outputs": [],
   "source": [
    "#!pip install networkx"
   ]
  },
  {
   "cell_type": "code",
   "execution_count": 2,
   "metadata": {},
   "outputs": [],
   "source": [
    "import pandas as pd\n",
    "import networkx as nx\n",
    "import matplotlib.pyplot as plt"
   ]
  },
  {
   "cell_type": "code",
   "execution_count": 3,
   "metadata": {},
   "outputs": [
    {
     "output_type": "display_data",
     "data": {
      "text/plain": "<Figure size 432x288 with 1 Axes>",
      "image/svg+xml": "<?xml version=\"1.0\" encoding=\"utf-8\" standalone=\"no\"?>\r\n<!DOCTYPE svg PUBLIC \"-//W3C//DTD SVG 1.1//EN\"\r\n  \"http://www.w3.org/Graphics/SVG/1.1/DTD/svg11.dtd\">\r\n<!-- Created with matplotlib (https://matplotlib.org/) -->\r\n<svg height=\"302.4pt\" version=\"1.1\" viewBox=\"0 0 446.4 302.4\" width=\"446.4pt\" xmlns=\"http://www.w3.org/2000/svg\" xmlns:xlink=\"http://www.w3.org/1999/xlink\">\r\n <metadata>\r\n  <rdf:RDF xmlns:cc=\"http://creativecommons.org/ns#\" xmlns:dc=\"http://purl.org/dc/elements/1.1/\" xmlns:rdf=\"http://www.w3.org/1999/02/22-rdf-syntax-ns#\">\r\n   <cc:Work>\r\n    <dc:type rdf:resource=\"http://purl.org/dc/dcmitype/StillImage\"/>\r\n    <dc:date>2021-01-25T16:30:48.698968</dc:date>\r\n    <dc:format>image/svg+xml</dc:format>\r\n    <dc:creator>\r\n     <cc:Agent>\r\n      <dc:title>Matplotlib v3.3.2, https://matplotlib.org/</dc:title>\r\n     </cc:Agent>\r\n    </dc:creator>\r\n   </cc:Work>\r\n  </rdf:RDF>\r\n </metadata>\r\n <defs>\r\n  <style type=\"text/css\">*{stroke-linecap:butt;stroke-linejoin:round;}</style>\r\n </defs>\r\n <g id=\"figure_1\">\r\n  <g id=\"patch_1\">\r\n   <path d=\"M 0 302.4 \r\nL 446.4 302.4 \r\nL 446.4 0 \r\nL 0 0 \r\nz\r\n\" style=\"fill:#ffffff;\"/>\r\n  </g>\r\n  <g id=\"axes_1\">\r\n   <g id=\"LineCollection_1\">\r\n    <path clip-path=\"url(#p047a821eb0)\" d=\"M 26.836364 151.200027 \r\nL 125.018199 282.109091 \r\n\" style=\"fill:none;stroke:#000000;\"/>\r\n    <path clip-path=\"url(#p047a821eb0)\" d=\"M 26.836364 151.200027 \r\nL 321.381801 282.109091 \r\n\" style=\"fill:none;stroke:#000000;\"/>\r\n    <path clip-path=\"url(#p047a821eb0)\" d=\"M 26.836364 151.200027 \r\nL 419.563636 151.199987 \r\n\" style=\"fill:none;stroke:#000000;\"/>\r\n    <path clip-path=\"url(#p047a821eb0)\" d=\"M 125.018199 282.109091 \r\nL 321.381801 282.109091 \r\n\" style=\"fill:none;stroke:#000000;\"/>\r\n    <path clip-path=\"url(#p047a821eb0)\" d=\"M 125.018199 282.109091 \r\nL 321.381742 20.290909 \r\n\" style=\"fill:none;stroke:#000000;\"/>\r\n    <path clip-path=\"url(#p047a821eb0)\" d=\"M 419.563636 151.199987 \r\nL 125.018147 20.290963 \r\n\" style=\"fill:none;stroke:#000000;\"/>\r\n    <path clip-path=\"url(#p047a821eb0)\" d=\"M 419.563636 151.199987 \r\nL 321.381742 20.290909 \r\n\" style=\"fill:none;stroke:#000000;\"/>\r\n   </g>\r\n   <g id=\"PathCollection_1\">\r\n    <defs>\r\n     <path d=\"M 0 8.660254 \r\nC 2.296726 8.660254 4.499694 7.747755 6.123724 6.123724 \r\nC 7.747755 4.499694 8.660254 2.296726 8.660254 0 \r\nC 8.660254 -2.296726 7.747755 -4.499694 6.123724 -6.123724 \r\nC 4.499694 -7.747755 2.296726 -8.660254 0 -8.660254 \r\nC -2.296726 -8.660254 -4.499694 -7.747755 -6.123724 -6.123724 \r\nC -7.747755 -4.499694 -8.660254 -2.296726 -8.660254 0 \r\nC -8.660254 2.296726 -7.747755 4.499694 -6.123724 6.123724 \r\nC -4.499694 7.747755 -2.296726 8.660254 0 8.660254 \r\nz\r\n\" id=\"m589d34faa1\" style=\"stroke:#1f78b4;\"/>\r\n    </defs>\r\n    <g clip-path=\"url(#p047a821eb0)\">\r\n     <use style=\"fill:#1f78b4;stroke:#1f78b4;\" x=\"26.836364\" xlink:href=\"#m589d34faa1\" y=\"151.200027\"/>\r\n     <use style=\"fill:#1f78b4;stroke:#1f78b4;\" x=\"125.018199\" xlink:href=\"#m589d34faa1\" y=\"282.109091\"/>\r\n     <use style=\"fill:#1f78b4;stroke:#1f78b4;\" x=\"321.381801\" xlink:href=\"#m589d34faa1\" y=\"282.109091\"/>\r\n     <use style=\"fill:#1f78b4;stroke:#1f78b4;\" x=\"419.563636\" xlink:href=\"#m589d34faa1\" y=\"151.199987\"/>\r\n     <use style=\"fill:#1f78b4;stroke:#1f78b4;\" x=\"321.381742\" xlink:href=\"#m589d34faa1\" y=\"20.290909\"/>\r\n     <use style=\"fill:#1f78b4;stroke:#1f78b4;\" x=\"125.018147\" xlink:href=\"#m589d34faa1\" y=\"20.290963\"/>\r\n    </g>\r\n   </g>\r\n   <g id=\"text_1\">\r\n    <g clip-path=\"url(#p047a821eb0)\">\r\n     <!-- A -->\r\n     <g transform=\"translate(22.731989 154.511277)scale(0.12 -0.12)\">\r\n      <defs>\r\n       <path d=\"M 34.1875 63.1875 \r\nL 20.796875 26.90625 \r\nL 47.609375 26.90625 \r\nz\r\nM 28.609375 72.90625 \r\nL 39.796875 72.90625 \r\nL 67.578125 0 \r\nL 57.328125 0 \r\nL 50.6875 18.703125 \r\nL 17.828125 18.703125 \r\nL 11.1875 0 \r\nL 0.78125 0 \r\nz\r\n\" id=\"DejaVuSans-65\"/>\r\n      </defs>\r\n      <use xlink:href=\"#DejaVuSans-65\"/>\r\n     </g>\r\n    </g>\r\n   </g>\r\n   <g id=\"text_2\">\r\n    <g clip-path=\"url(#p047a821eb0)\">\r\n     <!-- B -->\r\n     <g transform=\"translate(120.901637 285.420341)scale(0.12 -0.12)\">\r\n      <defs>\r\n       <path d=\"M 19.671875 34.8125 \r\nL 19.671875 8.109375 \r\nL 35.5 8.109375 \r\nQ 43.453125 8.109375 47.28125 11.40625 \r\nQ 51.125 14.703125 51.125 21.484375 \r\nQ 51.125 28.328125 47.28125 31.5625 \r\nQ 43.453125 34.8125 35.5 34.8125 \r\nz\r\nM 19.671875 64.796875 \r\nL 19.671875 42.828125 \r\nL 34.28125 42.828125 \r\nQ 41.5 42.828125 45.03125 45.53125 \r\nQ 48.578125 48.25 48.578125 53.8125 \r\nQ 48.578125 59.328125 45.03125 62.0625 \r\nQ 41.5 64.796875 34.28125 64.796875 \r\nz\r\nM 9.8125 72.90625 \r\nL 35.015625 72.90625 \r\nQ 46.296875 72.90625 52.390625 68.21875 \r\nQ 58.5 63.53125 58.5 54.890625 \r\nQ 58.5 48.1875 55.375 44.234375 \r\nQ 52.25 40.28125 46.1875 39.3125 \r\nQ 53.46875 37.75 57.5 32.78125 \r\nQ 61.53125 27.828125 61.53125 20.40625 \r\nQ 61.53125 10.640625 54.890625 5.3125 \r\nQ 48.25 0 35.984375 0 \r\nL 9.8125 0 \r\nz\r\n\" id=\"DejaVuSans-66\"/>\r\n      </defs>\r\n      <use xlink:href=\"#DejaVuSans-66\"/>\r\n     </g>\r\n    </g>\r\n   </g>\r\n   <g id=\"text_3\">\r\n    <g clip-path=\"url(#p047a821eb0)\">\r\n     <!-- C -->\r\n     <g transform=\"translate(317.192113 285.420341)scale(0.12 -0.12)\">\r\n      <defs>\r\n       <path d=\"M 64.40625 67.28125 \r\nL 64.40625 56.890625 \r\nQ 59.421875 61.53125 53.78125 63.8125 \r\nQ 48.140625 66.109375 41.796875 66.109375 \r\nQ 29.296875 66.109375 22.65625 58.46875 \r\nQ 16.015625 50.828125 16.015625 36.375 \r\nQ 16.015625 21.96875 22.65625 14.328125 \r\nQ 29.296875 6.6875 41.796875 6.6875 \r\nQ 48.140625 6.6875 53.78125 8.984375 \r\nQ 59.421875 11.28125 64.40625 15.921875 \r\nL 64.40625 5.609375 \r\nQ 59.234375 2.09375 53.4375 0.328125 \r\nQ 47.65625 -1.421875 41.21875 -1.421875 \r\nQ 24.65625 -1.421875 15.125 8.703125 \r\nQ 5.609375 18.84375 5.609375 36.375 \r\nQ 5.609375 53.953125 15.125 64.078125 \r\nQ 24.65625 74.21875 41.21875 74.21875 \r\nQ 47.75 74.21875 53.53125 72.484375 \r\nQ 59.328125 70.75 64.40625 67.28125 \r\nz\r\n\" id=\"DejaVuSans-67\"/>\r\n      </defs>\r\n      <use xlink:href=\"#DejaVuSans-67\"/>\r\n     </g>\r\n    </g>\r\n   </g>\r\n   <g id=\"text_4\">\r\n    <g clip-path=\"url(#p047a821eb0)\">\r\n     <!-- D -->\r\n     <g transform=\"translate(414.943636 154.511237)scale(0.12 -0.12)\">\r\n      <defs>\r\n       <path d=\"M 19.671875 64.796875 \r\nL 19.671875 8.109375 \r\nL 31.59375 8.109375 \r\nQ 46.6875 8.109375 53.6875 14.9375 \r\nQ 60.6875 21.78125 60.6875 36.53125 \r\nQ 60.6875 51.171875 53.6875 57.984375 \r\nQ 46.6875 64.796875 31.59375 64.796875 \r\nz\r\nM 9.8125 72.90625 \r\nL 30.078125 72.90625 \r\nQ 51.265625 72.90625 61.171875 64.09375 \r\nQ 71.09375 55.28125 71.09375 36.53125 \r\nQ 71.09375 17.671875 61.125 8.828125 \r\nQ 51.171875 0 30.078125 0 \r\nL 9.8125 0 \r\nz\r\n\" id=\"DejaVuSans-68\"/>\r\n      </defs>\r\n      <use xlink:href=\"#DejaVuSans-68\"/>\r\n     </g>\r\n    </g>\r\n   </g>\r\n   <g id=\"text_5\">\r\n    <g clip-path=\"url(#p047a821eb0)\">\r\n     <!-- E -->\r\n     <g transform=\"translate(317.590492 23.602159)scale(0.12 -0.12)\">\r\n      <defs>\r\n       <path d=\"M 9.8125 72.90625 \r\nL 55.90625 72.90625 \r\nL 55.90625 64.59375 \r\nL 19.671875 64.59375 \r\nL 19.671875 43.015625 \r\nL 54.390625 43.015625 \r\nL 54.390625 34.71875 \r\nL 19.671875 34.71875 \r\nL 19.671875 8.296875 \r\nL 56.78125 8.296875 \r\nL 56.78125 0 \r\nL 9.8125 0 \r\nz\r\n\" id=\"DejaVuSans-69\"/>\r\n      </defs>\r\n      <use xlink:href=\"#DejaVuSans-69\"/>\r\n     </g>\r\n    </g>\r\n   </g>\r\n   <g id=\"text_6\">\r\n    <g clip-path=\"url(#p047a821eb0)\">\r\n     <!-- F -->\r\n     <g transform=\"translate(121.567209 23.602213)scale(0.12 -0.12)\">\r\n      <defs>\r\n       <path d=\"M 9.8125 72.90625 \r\nL 51.703125 72.90625 \r\nL 51.703125 64.59375 \r\nL 19.671875 64.59375 \r\nL 19.671875 43.109375 \r\nL 48.578125 43.109375 \r\nL 48.578125 34.8125 \r\nL 19.671875 34.8125 \r\nL 19.671875 0 \r\nL 9.8125 0 \r\nz\r\n\" id=\"DejaVuSans-70\"/>\r\n      </defs>\r\n      <use xlink:href=\"#DejaVuSans-70\"/>\r\n     </g>\r\n    </g>\r\n   </g>\r\n  </g>\r\n </g>\r\n <defs>\r\n  <clipPath id=\"p047a821eb0\">\r\n   <rect height=\"288\" width=\"432\" x=\"7.2\" y=\"7.2\"/>\r\n  </clipPath>\r\n </defs>\r\n</svg>\r\n",
      "image/png": "[encoded data removed]"
     },
     "metadata": {}
    }
   ],
   "source": [
    "grafo = {\n",
    "    'A': ['B','C','D'],\n",
    "    'B': ['C', 'E'],\n",
    "    'C': [],\n",
    "    'D': ['F'],\n",
    "    'E': ['D'],\n",
    "    'F': []\n",
    "}\n",
    "\n",
    "g = nx.from_dict_of_lists(grafo)\n",
    "g.add_weighted_edges_from([('A', 'B', 5), ('A', 'C', 3), ('A', 'D', 8), ('B', 'C', 8), ('B', 'E', 1), ('D', 'F', 9), ('E', 'D', 2)])\n",
    "\n",
    "nx.draw_shell(g, with_labels=True)\n",
    "plt.show()"
   ]
  },
  {
   "cell_type": "code",
   "execution_count": 26,
   "metadata": {},
   "outputs": [],
   "source": [
    "sp = dict(nx.all_pairs_bellman_ford_path(g))"
   ]
  },
  {
   "cell_type": "code",
   "execution_count": 28,
   "metadata": {},
   "outputs": [
    {
     "output_type": "execute_result",
     "data": {
      "text/plain": [
       "{'A': {'A': ['A'],\n",
       "  'B': ['A', 'B'],\n",
       "  'C': ['A', 'C'],\n",
       "  'D': ['A', 'D'],\n",
       "  'E': ['A', 'B', 'E'],\n",
       "  'F': ['A', 'D', 'F']},\n",
       " 'B': {'B': ['B'],\n",
       "  'A': ['B', 'A'],\n",
       "  'C': ['B', 'C'],\n",
       "  'E': ['B', 'E'],\n",
       "  'D': ['B', 'E', 'D'],\n",
       "  'F': ['B', 'E', 'D', 'F']},\n",
       " 'C': {'C': ['C'],\n",
       "  'A': ['C', 'A'],\n",
       "  'B': ['C', 'B'],\n",
       "  'D': ['C', 'A', 'D'],\n",
       "  'E': ['C', 'B', 'E'],\n",
       "  'F': ['C', 'A', 'D', 'F']},\n",
       " 'D': {'D': ['D'],\n",
       "  'A': ['D', 'A'],\n",
       "  'F': ['D', 'F'],\n",
       "  'E': ['D', 'E'],\n",
       "  'B': ['D', 'E', 'B'],\n",
       "  'C': ['D', 'A', 'C']},\n",
       " 'E': {'E': ['E'],\n",
       "  'B': ['E', 'B'],\n",
       "  'D': ['E', 'D'],\n",
       "  'A': ['E', 'B', 'A'],\n",
       "  'C': ['E', 'B', 'C'],\n",
       "  'F': ['E', 'D', 'F']},\n",
       " 'F': {'F': ['F'],\n",
       "  'D': ['F', 'D'],\n",
       "  'A': ['F', 'D', 'A'],\n",
       "  'E': ['F', 'D', 'E'],\n",
       "  'B': ['F', 'D', 'E', 'B'],\n",
       "  'C': ['F', 'D', 'A', 'C']}}"
      ]
     },
     "metadata": {},
     "execution_count": 28
    }
   ],
   "source": [
    "sp"
   ]
  },
  {
   "cell_type": "code",
   "execution_count": 29,
   "metadata": {},
   "outputs": [
    {
     "output_type": "execute_result",
     "data": {
      "text/plain": [
       "{'A': {'A': 0, 'B': 5, 'C': 3, 'D': 8, 'E': 6, 'F': 17},\n",
       " 'B': {'B': 0, 'A': 5, 'C': 8, 'E': 1, 'D': 3, 'F': 12},\n",
       " 'C': {'C': 0, 'A': 3, 'B': 8, 'D': 11, 'E': 9, 'F': 20},\n",
       " 'D': {'D': 0, 'A': 8, 'F': 9, 'E': 2, 'B': 3, 'C': 11},\n",
       " 'E': {'E': 0, 'B': 1, 'D': 2, 'A': 6, 'C': 9, 'F': 11},\n",
       " 'F': {'F': 0, 'D': 9, 'A': 17, 'E': 11, 'B': 12, 'C': 20}}"
      ]
     },
     "metadata": {},
     "execution_count": 29
    }
   ],
   "source": [
    "sp = dict(nx.all_pairs_bellman_ford_path_length(g))\n",
    "sp"
   ]
  },
  {
   "cell_type": "code",
   "execution_count": 30,
   "metadata": {},
   "outputs": [
    {
     "output_type": "execute_result",
     "data": {
      "text/plain": [
       "{'A': {'A': ['A'],\n",
       "  'B': ['A', 'B'],\n",
       "  'C': ['A', 'C'],\n",
       "  'D': ['A', 'D'],\n",
       "  'E': ['A', 'B', 'E'],\n",
       "  'F': ['A', 'D', 'F']},\n",
       " 'B': {'B': ['B'],\n",
       "  'A': ['B', 'A'],\n",
       "  'C': ['B', 'C'],\n",
       "  'E': ['B', 'E'],\n",
       "  'D': ['B', 'E', 'D'],\n",
       "  'F': ['B', 'E', 'D', 'F']},\n",
       " 'C': {'C': ['C'],\n",
       "  'A': ['C', 'A'],\n",
       "  'B': ['C', 'B'],\n",
       "  'D': ['C', 'A', 'D'],\n",
       "  'E': ['C', 'B', 'E'],\n",
       "  'F': ['C', 'A', 'D', 'F']},\n",
       " 'D': {'D': ['D'],\n",
       "  'A': ['D', 'A'],\n",
       "  'F': ['D', 'F'],\n",
       "  'E': ['D', 'E'],\n",
       "  'B': ['D', 'E', 'B'],\n",
       "  'C': ['D', 'E', 'B', 'C']},\n",
       " 'E': {'E': ['E'],\n",
       "  'B': ['E', 'B'],\n",
       "  'D': ['E', 'D'],\n",
       "  'A': ['E', 'B', 'A'],\n",
       "  'C': ['E', 'B', 'C'],\n",
       "  'F': ['E', 'D', 'F']},\n",
       " 'F': {'F': ['F'],\n",
       "  'D': ['F', 'D'],\n",
       "  'A': ['F', 'D', 'A'],\n",
       "  'E': ['F', 'D', 'E'],\n",
       "  'B': ['F', 'D', 'E', 'B'],\n",
       "  'C': ['F', 'D', 'E', 'B', 'C']}}"
      ]
     },
     "metadata": {},
     "execution_count": 30
    }
   ],
   "source": [
    "dict(nx.all_pairs_dijkstra_path(g))"
   ]
  },
  {
   "cell_type": "code",
   "execution_count": null,
   "metadata": {},
   "outputs": [],
   "source": []
  }
 ]
}