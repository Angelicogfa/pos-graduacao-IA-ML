{
 "metadata": {
  "language_info": {
   "codemirror_mode": {
    "name": "ipython",
    "version": 3
   },
   "file_extension": ".py",
   "mimetype": "text/x-python",
   "name": "python",
   "nbconvert_exporter": "python",
   "pygments_lexer": "ipython3",
   "version": "3.7.9-final"
  },
  "orig_nbformat": 2,
  "kernelspec": {
   "name": "python3",
   "display_name": "Python 3",
   "language": "python"
  }
 },
 "nbformat": 4,
 "nbformat_minor": 2,
 "cells": [
  {
   "source": [
    "# Analise de sentimento"
   ],
   "cell_type": "markdown",
   "metadata": {}
  },
  {
   "source": [
    "baseado no post do medium de: https://medium.com/@alegeorgelustosa/an%C3%A1lise-de-sentimentos-em-python-2a7d04a836e0"
   ],
   "cell_type": "markdown",
   "metadata": {}
  },
  {
   "source": [
    "## Imports"
   ],
   "cell_type": "markdown",
   "metadata": {}
  },
  {
   "cell_type": "code",
   "execution_count": 1,
   "metadata": {},
   "outputs": [],
   "source": [
    "import pandas as pd\n",
    "import matplotlib.pyplot as plt\n",
    "import numpy as np\n",
    "import nltk"
   ]
  },
  {
   "source": [
    "##  Read csv file"
   ],
   "cell_type": "markdown",
   "metadata": {}
  },
  {
   "cell_type": "code",
   "execution_count": 2,
   "metadata": {},
   "outputs": [],
   "source": [
    "df = pd.read_csv('./datasets/sentimentos.csv')"
   ]
  },
  {
   "source": [
    "## View Data"
   ],
   "cell_type": "markdown",
   "metadata": {}
  },
  {
   "cell_type": "code",
   "execution_count": 3,
   "metadata": {},
   "outputs": [
    {
     "output_type": "execute_result",
     "data": {
      "text/plain": [
       "                                           Texto Sentimento\n",
       "387                  tenho aversão à gente chata      raiva\n",
       "75                  vou te chamar para comemorar    alegria\n",
       "501  nossa, que top esse filme!, eu nao esperava   surpresa\n",
       "496                  superou minhas expectativas   surpresa\n",
       "123                       meu pai esta adoentado       nojo\n",
       "90                     estamos tendo muito lucro    alegria\n",
       "57                     adoro este doce de frutas    alegria\n",
       "622        pra mim um dia e ruim, o outro e pior   tristeza\n",
       "771        me sinto intimidada pela sua presença       medo\n",
       "857          esta realmente deslumbrante querida   surpresa"
      ],
      "text/html": "<div>\n<style scoped>\n    .dataframe tbody tr th:only-of-type {\n        vertical-align: middle;\n    }\n\n    .dataframe tbody tr th {\n        vertical-align: top;\n    }\n\n    .dataframe thead th {\n        text-align: right;\n    }\n</style>\n<table border=\"1\" class=\"dataframe\">\n  <thead>\n    <tr style=\"text-align: right;\">\n      <th></th>\n      <th>Texto</th>\n      <th>Sentimento</th>\n    </tr>\n  </thead>\n  <tbody>\n    <tr>\n      <th>387</th>\n      <td>tenho aversão à gente chata</td>\n      <td>raiva</td>\n    </tr>\n    <tr>\n      <th>75</th>\n      <td>vou te chamar para comemorar</td>\n      <td>alegria</td>\n    </tr>\n    <tr>\n      <th>501</th>\n      <td>nossa, que top esse filme!, eu nao esperava</td>\n      <td>surpresa</td>\n    </tr>\n    <tr>\n      <th>496</th>\n      <td>superou minhas expectativas</td>\n      <td>surpresa</td>\n    </tr>\n    <tr>\n      <th>123</th>\n      <td>meu pai esta adoentado</td>\n      <td>nojo</td>\n    </tr>\n    <tr>\n      <th>90</th>\n      <td>estamos tendo muito lucro</td>\n      <td>alegria</td>\n    </tr>\n    <tr>\n      <th>57</th>\n      <td>adoro este doce de frutas</td>\n      <td>alegria</td>\n    </tr>\n    <tr>\n      <th>622</th>\n      <td>pra mim um dia e ruim, o outro e pior</td>\n      <td>tristeza</td>\n    </tr>\n    <tr>\n      <th>771</th>\n      <td>me sinto intimidada pela sua presença</td>\n      <td>medo</td>\n    </tr>\n    <tr>\n      <th>857</th>\n      <td>esta realmente deslumbrante querida</td>\n      <td>surpresa</td>\n    </tr>\n  </tbody>\n</table>\n</div>"
     },
     "metadata": {},
     "execution_count": 3
    }
   ],
   "source": [
    "df.sample(10)"
   ]
  },
  {
   "cell_type": "code",
   "execution_count": 4,
   "metadata": {},
   "outputs": [
    {
     "output_type": "execute_result",
     "data": {
      "text/plain": [
       "alegria     162\n",
       "medo        156\n",
       "raiva       152\n",
       "tristeza    149\n",
       "nojo        143\n",
       "surpresa    141\n",
       "Name: Sentimento, dtype: int64"
      ]
     },
     "metadata": {},
     "execution_count": 4
    }
   ],
   "source": [
    "df['Sentimento'].value_counts()"
   ]
  },
  {
   "cell_type": "code",
   "execution_count": 5,
   "metadata": {},
   "outputs": [],
   "source": [
    "df_alegria = df.loc[df.Sentimento == 'alegria'][0:140]\n",
    "df_medo = df.loc[df.Sentimento == 'medo'][0:140]\n",
    "df_raiva = df.loc[df.Sentimento == 'raiva'][0:140]\n",
    "df_tristeza = df.loc[df.Sentimento == 'tristeza'][0:140]\n",
    "df_nojo = df.loc[df.Sentimento == 'nojo'][0:140]\n",
    "df_surpresa = df.loc[df.Sentimento == 'surpresa'][0:140]"
   ]
  },
  {
   "cell_type": "code",
   "execution_count": 6,
   "metadata": {},
   "outputs": [],
   "source": [
    "df = pd.concat([df_alegria, df_medo, df_raiva, df_tristeza, df_nojo, df_surpresa], ignore_index=True, sort=True)"
   ]
  },
  {
   "cell_type": "code",
   "execution_count": 7,
   "metadata": {},
   "outputs": [
    {
     "output_type": "execute_result",
     "data": {
      "text/plain": [
       "tristeza    140\n",
       "medo        140\n",
       "surpresa    140\n",
       "raiva       140\n",
       "alegria     140\n",
       "nojo        140\n",
       "Name: Sentimento, dtype: int64"
      ]
     },
     "metadata": {},
     "execution_count": 7
    }
   ],
   "source": [
    "df.Sentimento.value_counts()"
   ]
  },
  {
   "source": [
    "## Load stop words "
   ],
   "cell_type": "markdown",
   "metadata": {}
  },
  {
   "cell_type": "code",
   "execution_count": 8,
   "metadata": {},
   "outputs": [
    {
     "output_type": "stream",
     "name": "stderr",
     "text": [
      "[nltk_data] Downloading package stopwords to\n[nltk_data]     C:\\Users\\angel\\AppData\\Roaming\\nltk_data...\n[nltk_data]   Package stopwords is already up-to-date!\n"
     ]
    },
    {
     "output_type": "execute_result",
     "data": {
      "text/plain": [
       "True"
      ]
     },
     "metadata": {},
     "execution_count": 8
    }
   ],
   "source": [
    "nltk.download('stopwords')"
   ]
  },
  {
   "cell_type": "code",
   "execution_count": 9,
   "metadata": {},
   "outputs": [],
   "source": [
    "stop_words = nltk.corpus.stopwords.words('portuguese')"
   ]
  },
  {
   "source": [
    "## Stemming: Removing sulfix and prefix of word"
   ],
   "cell_type": "markdown",
   "metadata": {}
  },
  {
   "cell_type": "code",
   "execution_count": 10,
   "metadata": {},
   "outputs": [
    {
     "output_type": "stream",
     "name": "stderr",
     "text": [
      "[nltk_data] Downloading package rslp to\n[nltk_data]     C:\\Users\\angel\\AppData\\Roaming\\nltk_data...\n[nltk_data]   Package rslp is already up-to-date!\n"
     ]
    },
    {
     "output_type": "execute_result",
     "data": {
      "text/plain": [
       "True"
      ]
     },
     "metadata": {},
     "execution_count": 10
    }
   ],
   "source": [
    "nltk.download('rslp')"
   ]
  },
  {
   "cell_type": "code",
   "execution_count": 11,
   "metadata": {},
   "outputs": [],
   "source": [
    "def apply_stemmer(text: str):\n",
    "    stemmer = nltk.stem.RSLPStemmer()\n",
    "    texts = []\n",
    "    texts = [str(stemmer.stem(word)) for word in text.split() if word not in stop_words]\n",
    "    return tuple(texts)"
   ]
  },
  {
   "cell_type": "code",
   "execution_count": 12,
   "metadata": {},
   "outputs": [
    {
     "output_type": "execute_result",
     "data": {
      "text/plain": [
       "('ola', 'admir', 'mund', 'novo,', 'program', 'você!!', 'eu', 'program')"
      ]
     },
     "metadata": {},
     "execution_count": 12
    }
   ],
   "source": [
    "apply_stemmer('Ola admirável mundo novo, eu programei você!! Eu sou um programador')"
   ]
  },
  {
   "cell_type": "code",
   "execution_count": 13,
   "metadata": {},
   "outputs": [
    {
     "output_type": "execute_result",
     "data": {
      "text/plain": [
       "    Sentimento                                   Texto  \\\n",
       "639       nojo      que criança terrivelmente travessa   \n",
       "172       medo     tenho que correr pra não me pegarem   \n",
       "42     alegria           estou cativada pelo seu olhar   \n",
       "750   surpresa                 opa! quem apagou a luz?   \n",
       "557   tristeza  estou bastante aborrecido com o jornal   \n",
       "253       medo             que abominável esse montro!   \n",
       "455   tristeza              me aflige o modo como fala   \n",
       "657       nojo            o mundo e feio como o pecado   \n",
       "52     alegria                    seu amor e brilhante   \n",
       "808   surpresa               o cantor estava excelente   \n",
       "\n",
       "                     Palavras  \n",
       "639  (crianç, terri, travess)  \n",
       "172          (corr, pra, peg)  \n",
       "42               (cativ, olh)  \n",
       "750        (opa!, apag, luz?)  \n",
       "557     (bast, aborrec, jorn)  \n",
       "253         (abomin, montro!)  \n",
       "455         (aflig, mod, fal)  \n",
       "657          (mund, fei, pec)  \n",
       "52                (am, brilh)  \n",
       "808              (can, excel)  "
      ],
      "text/html": "<div>\n<style scoped>\n    .dataframe tbody tr th:only-of-type {\n        vertical-align: middle;\n    }\n\n    .dataframe tbody tr th {\n        vertical-align: top;\n    }\n\n    .dataframe thead th {\n        text-align: right;\n    }\n</style>\n<table border=\"1\" class=\"dataframe\">\n  <thead>\n    <tr style=\"text-align: right;\">\n      <th></th>\n      <th>Sentimento</th>\n      <th>Texto</th>\n      <th>Palavras</th>\n    </tr>\n  </thead>\n  <tbody>\n    <tr>\n      <th>639</th>\n      <td>nojo</td>\n      <td>que criança terrivelmente travessa</td>\n      <td>(crianç, terri, travess)</td>\n    </tr>\n    <tr>\n      <th>172</th>\n      <td>medo</td>\n      <td>tenho que correr pra não me pegarem</td>\n      <td>(corr, pra, peg)</td>\n    </tr>\n    <tr>\n      <th>42</th>\n      <td>alegria</td>\n      <td>estou cativada pelo seu olhar</td>\n      <td>(cativ, olh)</td>\n    </tr>\n    <tr>\n      <th>750</th>\n      <td>surpresa</td>\n      <td>opa! quem apagou a luz?</td>\n      <td>(opa!, apag, luz?)</td>\n    </tr>\n    <tr>\n      <th>557</th>\n      <td>tristeza</td>\n      <td>estou bastante aborrecido com o jornal</td>\n      <td>(bast, aborrec, jorn)</td>\n    </tr>\n    <tr>\n      <th>253</th>\n      <td>medo</td>\n      <td>que abominável esse montro!</td>\n      <td>(abomin, montro!)</td>\n    </tr>\n    <tr>\n      <th>455</th>\n      <td>tristeza</td>\n      <td>me aflige o modo como fala</td>\n      <td>(aflig, mod, fal)</td>\n    </tr>\n    <tr>\n      <th>657</th>\n      <td>nojo</td>\n      <td>o mundo e feio como o pecado</td>\n      <td>(mund, fei, pec)</td>\n    </tr>\n    <tr>\n      <th>52</th>\n      <td>alegria</td>\n      <td>seu amor e brilhante</td>\n      <td>(am, brilh)</td>\n    </tr>\n    <tr>\n      <th>808</th>\n      <td>surpresa</td>\n      <td>o cantor estava excelente</td>\n      <td>(can, excel)</td>\n    </tr>\n  </tbody>\n</table>\n</div>"
     },
     "metadata": {},
     "execution_count": 13
    }
   ],
   "source": [
    "df['Palavras'] = df['Texto'].apply(apply_stemmer)\n",
    "df.sample(10)"
   ]
  },
  {
   "source": [
    "## Getting words"
   ],
   "cell_type": "markdown",
   "metadata": {}
  },
  {
   "cell_type": "code",
   "execution_count": 14,
   "metadata": {},
   "outputs": [],
   "source": [
    "words = []\n",
    "for index, item in df.iterrows():\n",
    "    words.extend(item.Palavras)"
   ]
  },
  {
   "cell_type": "code",
   "execution_count": 15,
   "metadata": {},
   "outputs": [
    {
     "output_type": "execute_result",
     "data": {
      "text/plain": [
       "2627"
      ]
     },
     "metadata": {},
     "execution_count": 15
    }
   ],
   "source": [
    "len(words)"
   ]
  },
  {
   "source": [
    "## Genereting the frequency distribution"
   ],
   "cell_type": "markdown",
   "metadata": {}
  },
  {
   "cell_type": "code",
   "execution_count": 16,
   "metadata": {},
   "outputs": [
    {
     "output_type": "execute_result",
     "data": {
      "text/plain": [
       "[('vou', 30),\n",
       " ('nao', 30),\n",
       " ('tão', 21),\n",
       " ('quer', 21),\n",
       " ('tod', 20),\n",
       " ('tud', 18),\n",
       " ('ser', 18),\n",
       " ('fic', 17),\n",
       " ('sint', 17),\n",
       " ('pod', 14)]"
      ]
     },
     "metadata": {},
     "execution_count": 16
    }
   ],
   "source": [
    "frequency = nltk.FreqDist(words)\n",
    "frequency.most_common(10)"
   ]
  },
  {
   "source": [
    "## Getting unique words"
   ],
   "cell_type": "markdown",
   "metadata": {}
  },
  {
   "cell_type": "code",
   "execution_count": 17,
   "metadata": {},
   "outputs": [
    {
     "output_type": "stream",
     "name": "stdout",
     "text": [
      "1245\n"
     ]
    }
   ],
   "source": [
    "unique_words = frequency.keys()\n",
    "print(len(unique_words))"
   ]
  },
  {
   "cell_type": "code",
   "execution_count": 18,
   "metadata": {},
   "outputs": [],
   "source": [
    "def extract_words_to_text(text):\n",
    "    doc = None\n",
    "    if(type(text) == type(str)):\n",
    "        doc = text.split()\n",
    "    else:\n",
    "        doc = set(text)\n",
    "        \n",
    "    features = {}\n",
    "    for word in unique_words:\n",
    "        features['%s' % word] = (word in doc)\n",
    "    return features"
   ]
  },
  {
   "cell_type": "code",
   "execution_count": 19,
   "metadata": {},
   "outputs": [],
   "source": [
    "def extract_data(df: pd.DataFrame):\n",
    "    itens = []\n",
    "    for i, row in df.iterrows():\n",
    "        field = (tuple(row['Palavras']), row['Sentimento'])\n",
    "        itens.append(field)\n",
    "    return itens"
   ]
  },
  {
   "cell_type": "code",
   "execution_count": 20,
   "metadata": {},
   "outputs": [
    {
     "output_type": "execute_result",
     "data": {
      "text/plain": [
       "[(('trabalh', 'agrad'), 'alegria'),\n",
       " (('gost', 'fic', 'aconcheg'), 'alegria'),\n",
       " (('fiz', 'ades', 'curs', 'hoj', 'porqu', 'gost'), 'alegria'),\n",
       " (('admir', 'muit'), 'alegria'),\n",
       " (('ador',), 'alegria')]"
      ]
     },
     "metadata": {},
     "execution_count": 20
    }
   ],
   "source": [
    "extract_data(df)[0:5]"
   ]
  },
  {
   "source": [
    "## Splitting the data frame into train and test"
   ],
   "cell_type": "markdown",
   "metadata": {}
  },
  {
   "cell_type": "code",
   "execution_count": 21,
   "metadata": {},
   "outputs": [],
   "source": [
    "from sklearn.model_selection import train_test_split\n",
    "\n",
    "X_train, X_test, y_train, y_test = train_test_split(df[['Texto', 'Palavras']], df['Sentimento'], train_size=0.5, random_state=42)"
   ]
  },
  {
   "cell_type": "code",
   "execution_count": 22,
   "metadata": {},
   "outputs": [
    {
     "output_type": "execute_result",
     "data": {
      "text/plain": [
       "surpresa    80\n",
       "medo        75\n",
       "raiva       71\n",
       "nojo        71\n",
       "alegria     63\n",
       "tristeza    60\n",
       "Name: Sentimento, dtype: int64"
      ]
     },
     "metadata": {},
     "execution_count": 22
    }
   ],
   "source": [
    "y_train.value_counts()"
   ]
  },
  {
   "cell_type": "code",
   "execution_count": 23,
   "metadata": {},
   "outputs": [
    {
     "output_type": "execute_result",
     "data": {
      "text/plain": [
       "tristeza    80\n",
       "alegria     77\n",
       "raiva       69\n",
       "nojo        69\n",
       "medo        65\n",
       "surpresa    60\n",
       "Name: Sentimento, dtype: int64"
      ]
     },
     "metadata": {},
     "execution_count": 23
    }
   ],
   "source": [
    "y_test.value_counts()"
   ]
  },
  {
   "cell_type": "code",
   "execution_count": 24,
   "metadata": {},
   "outputs": [],
   "source": [
    "X_train['Sentimento'] = y_train"
   ]
  },
  {
   "source": [
    "## Train model"
   ],
   "cell_type": "markdown",
   "metadata": {}
  },
  {
   "cell_type": "code",
   "execution_count": 25,
   "metadata": {},
   "outputs": [],
   "source": [
    "data = nltk.classify.apply_features(extract_words_to_text, extract_data(X_train), labeled=True)"
   ]
  },
  {
   "cell_type": "code",
   "execution_count": 26,
   "metadata": {},
   "outputs": [],
   "source": [
    "classificador = nltk.NaiveBayesClassifier.train(data)"
   ]
  },
  {
   "cell_type": "code",
   "execution_count": 27,
   "metadata": {},
   "outputs": [
    {
     "output_type": "execute_result",
     "data": {
      "text/plain": [
       "['medo', 'surpresa', 'raiva', 'tristeza', 'alegria', 'nojo']"
      ]
     },
     "metadata": {},
     "execution_count": 27
    }
   ],
   "source": [
    "classificador.labels()"
   ]
  },
  {
   "cell_type": "code",
   "execution_count": 28,
   "metadata": {},
   "outputs": [
    {
     "output_type": "stream",
     "name": "stdout",
     "text": [
      "Most Informative Features\n                      am = True           alegri : surpre =      4.6 : 1.0\n                     vou = True             medo : surpre =      4.6 : 1.0\n                   perig = True             medo : nojo   =      4.1 : 1.0\n                     tão = True           surpre : raiva  =      3.9 : 1.0\n                     mim = True           triste : medo   =      3.7 : 1.0\n                     fic = True             medo : surpre =      3.2 : 1.0\n                     ser = True             medo : surpre =      3.2 : 1.0\n                     tod = True            raiva : medo   =      3.2 : 1.0\n                   terri = True             nojo : triste =      3.1 : 1.0\n                 depress = True           triste : surpre =      3.1 : 1.0\n"
     ]
    }
   ],
   "source": [
    "classificador.show_most_informative_features(10)"
   ]
  },
  {
   "source": [
    "## Evalueting model"
   ],
   "cell_type": "markdown",
   "metadata": {}
  },
  {
   "cell_type": "code",
   "execution_count": 29,
   "metadata": {},
   "outputs": [
    {
     "output_type": "stream",
     "name": "stdout",
     "text": [
      "0.9380952380952381\n"
     ]
    }
   ],
   "source": [
    "print(nltk.classify.accuracy(classificador, data))"
   ]
  },
  {
   "cell_type": "code",
   "execution_count": 30,
   "metadata": {},
   "outputs": [],
   "source": [
    "def error_metric(data) -> []:\n",
    "    erros = []\n",
    "    for (words, target) in data:\n",
    "        result = classificador.classify(words)\n",
    "        if result != target:\n",
    "            erros.append((target, result, words))\n",
    "    print(f'Erros: {(round(len(erros) / len(data) * 100,2))} %')"
   ]
  },
  {
   "cell_type": "code",
   "execution_count": 31,
   "metadata": {},
   "outputs": [
    {
     "output_type": "stream",
     "name": "stdout",
     "text": [
      "Erros: 6.19 %\n"
     ]
    }
   ],
   "source": [
    "error_metric(data)"
   ]
  },
  {
   "cell_type": "code",
   "execution_count": 32,
   "metadata": {},
   "outputs": [],
   "source": [
    "from nltk.metrics import ConfusionMatrix\n",
    "\n",
    "def view_confusion_matrix(data):\n",
    "    y = []\n",
    "    pred = []\n",
    "    for (word, target) in data:\n",
    "        result = classificador.classify(word)\n",
    "        y.append(target)\n",
    "        pred.append(result)\n",
    "\n",
    "    matriz = ConfusionMatrix(y, pred)\n",
    "    print(matriz)"
   ]
  },
  {
   "cell_type": "code",
   "execution_count": 33,
   "metadata": {},
   "outputs": [
    {
     "output_type": "stream",
     "name": "stdout",
     "text": [
      "         |              s  t |\n         |  a           u  r |\n         |  l           r  i |\n         |  e        r  p  s |\n         |  g  m  n  a  r  t |\n         |  r  e  o  i  e  e |\n         |  i  d  j  v  s  z |\n         |  a  o  o  a  a  a |\n---------+-------------------+\n alegria |<60> .  .  1  2  . |\n    medo |  .<68> 2  2  3  . |\n    nojo |  .  .<70> .  1  . |\n   raiva |  .  2  .<69> .  . |\nsurpresa |  .  .  .  .<80> . |\ntristeza |  .  2  1  3  7<47>|\n---------+-------------------+\n(row = reference; col = test)\n\n"
     ]
    }
   ],
   "source": [
    "view_confusion_matrix(data)"
   ]
  },
  {
   "source": [
    "## Teste model"
   ],
   "cell_type": "markdown",
   "metadata": {}
  },
  {
   "cell_type": "code",
   "execution_count": 34,
   "metadata": {},
   "outputs": [],
   "source": [
    "X_test['Sentimento'] = y_test\n",
    "data_test = nltk.classify.apply_features(extract_words_to_text, extract_data(X_test), labeled=True)"
   ]
  },
  {
   "cell_type": "code",
   "execution_count": 35,
   "metadata": {},
   "outputs": [
    {
     "output_type": "stream",
     "name": "stdout",
     "text": [
      "0.37857142857142856\n"
     ]
    }
   ],
   "source": [
    "print(nltk.classify.accuracy(classificador, data_test))"
   ]
  },
  {
   "cell_type": "code",
   "execution_count": 36,
   "metadata": {},
   "outputs": [
    {
     "output_type": "stream",
     "name": "stdout",
     "text": [
      "Erros: 62.14 %\n"
     ]
    }
   ],
   "source": [
    "error_metric(data_test)"
   ]
  },
  {
   "cell_type": "code",
   "execution_count": 37,
   "metadata": {},
   "outputs": [
    {
     "output_type": "stream",
     "name": "stdout",
     "text": [
      "         |              s  t |\n         |  a           u  r |\n         |  l           r  i |\n         |  e        r  p  s |\n         |  g  m  n  a  r  t |\n         |  r  e  o  i  e  e |\n         |  i  d  j  v  s  z |\n         |  a  o  o  a  a  a |\n---------+-------------------+\n alegria |<20> 7  2 14 30  4 |\n    medo |  3<27> 2  4 25  4 |\n    nojo |  3  5<29> 8 20  4 |\n   raiva |  4  6  7<22>25  5 |\nsurpresa |  3  6  2  5<42> 2 |\ntristeza |  7 11  8  5 30<19>|\n---------+-------------------+\n(row = reference; col = test)\n\n"
     ]
    }
   ],
   "source": [
    "view_confusion_matrix(data_test)"
   ]
  },
  {
   "cell_type": "code",
   "execution_count": 38,
   "metadata": {
    "tags": []
   },
   "outputs": [],
   "source": [
    "def predict_test(text):\n",
    "    text = apply_stemmer(text)\n",
    "    novo = extract_words_to_text(text)\n",
    "\n",
    "    result = classificador.classify(novo)\n",
    "    print('Predicação: %s' % result)\n",
    "\n",
    "    print()\n",
    "    distribuicao = classificador.prob_classify(novo)\n",
    "    for clas in distribuicao.samples():\n",
    "        print('%s: %f' % (clas, distribuicao.prob(clas)))"
   ]
  },
  {
   "cell_type": "code",
   "execution_count": 39,
   "metadata": {},
   "outputs": [
    {
     "output_type": "stream",
     "name": "stdout",
     "text": [
      "Predicação: medo\n\nmedo: 0.497480\nsurpresa: 0.102917\nraiva: 0.183292\ntristeza: 0.028040\nalegria: 0.015175\nnojo: 0.173095\n"
     ]
    }
   ],
   "source": [
    "test = 'Eu vou ser pai!!!'\n",
    "predict_test(test)"
   ]
  },
  {
   "cell_type": "code",
   "execution_count": 40,
   "metadata": {},
   "outputs": [
    {
     "output_type": "stream",
     "name": "stdout",
     "text": [
      "Predicação: surpresa\n\nmedo: 0.167583\nsurpresa: 0.503812\nraiva: 0.093970\ntristeza: 0.044812\nalegria: 0.074035\nnojo: 0.115788\n"
     ]
    }
   ],
   "source": [
    "test = 'Fui assaltado ontem'\n",
    "predict_test(test)"
   ]
  },
  {
   "cell_type": "code",
   "execution_count": 41,
   "metadata": {},
   "outputs": [
    {
     "output_type": "stream",
     "name": "stdout",
     "text": [
      "Predicação: surpresa\n\nmedo: 0.104242\nsurpresa: 0.334422\nraiva: 0.168297\ntristeza: 0.067909\nalegria: 0.117758\nnojo: 0.207371\n"
     ]
    }
   ],
   "source": [
    "test = 'Ganhei na mega sena'\n",
    "predict_test(test)"
   ]
  },
  {
   "cell_type": "code",
   "execution_count": 42,
   "metadata": {},
   "outputs": [
    {
     "output_type": "stream",
     "name": "stdout",
     "text": [
      "Predicação: surpresa\n\nmedo: 0.015671\nsurpresa: 0.408074\nraiva: 0.028210\ntristeza: 0.048497\nalegria: 0.393790\nnojo: 0.105758\n"
     ]
    }
   ],
   "source": [
    "test = 'Estou namorando uma gata linda'\n",
    "predict_test(test)"
   ]
  }
 ]
}