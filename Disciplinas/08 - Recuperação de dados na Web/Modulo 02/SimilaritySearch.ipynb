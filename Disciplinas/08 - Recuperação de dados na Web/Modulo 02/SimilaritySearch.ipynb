{
 "metadata": {
  "language_info": {
   "codemirror_mode": {
    "name": "ipython",
    "version": 3
   },
   "file_extension": ".py",
   "mimetype": "text/x-python",
   "name": "python",
   "nbconvert_exporter": "python",
   "pygments_lexer": "ipython3",
   "version": "3.7.9-final"
  },
  "orig_nbformat": 2,
  "kernelspec": {
   "name": "python3",
   "display_name": "Python 3",
   "language": "python"
  }
 },
 "nbformat": 4,
 "nbformat_minor": 2,
 "cells": [
  {
   "cell_type": "code",
   "execution_count": 1,
   "metadata": {},
   "outputs": [],
   "source": [
    "# !pip install spacy\n",
    "# !pip install wordcloud\n",
    "# !python -m spacy download pt\n",
    "# !python -m spacy download pt_core_news_sm"
   ]
  },
  {
   "cell_type": "code",
   "execution_count": 2,
   "metadata": {},
   "outputs": [],
   "source": [
    "import os\n",
    "import json\n",
    "import pandas as pd"
   ]
  },
  {
   "cell_type": "code",
   "execution_count": 3,
   "metadata": {},
   "outputs": [
    {
     "output_type": "execute_result",
     "data": {
      "text/plain": [
       "            title                                               body  \\\n",
       "0       00110011o  mano o torcedor psicopata do Brasil faz ADS na...   \n",
       "1           01far  torcedor reclama de tudo\\n se não convoca recl...   \n",
       "2       0Gregory2  @GinhoGFBPA Cara eu torço pro inter e peço des...   \n",
       "3          0btuso  Tem gente que quer ser Hexa mas não merece nem...   \n",
       "4  10vascoAugusto  @ManuelaDavila Pelo visto a ONU têm muito conh...   \n",
       "\n",
       "            author  \n",
       "0            - ジジリ  \n",
       "1         - robson  \n",
       "2         - yurioh  \n",
       "3  Fernando Favero  \n",
       "4  Antonio Augusto  "
      ],
      "text/html": "<div>\n<style scoped>\n    .dataframe tbody tr th:only-of-type {\n        vertical-align: middle;\n    }\n\n    .dataframe tbody tr th {\n        vertical-align: top;\n    }\n\n    .dataframe thead th {\n        text-align: right;\n    }\n</style>\n<table border=\"1\" class=\"dataframe\">\n  <thead>\n    <tr style=\"text-align: right;\">\n      <th></th>\n      <th>title</th>\n      <th>body</th>\n      <th>author</th>\n    </tr>\n  </thead>\n  <tbody>\n    <tr>\n      <th>0</th>\n      <td>00110011o</td>\n      <td>mano o torcedor psicopata do Brasil faz ADS na...</td>\n      <td>- ジジリ</td>\n    </tr>\n    <tr>\n      <th>1</th>\n      <td>01far</td>\n      <td>torcedor reclama de tudo\\n se não convoca recl...</td>\n      <td>- robson</td>\n    </tr>\n    <tr>\n      <th>2</th>\n      <td>0Gregory2</td>\n      <td>@GinhoGFBPA Cara eu torço pro inter e peço des...</td>\n      <td>- yurioh</td>\n    </tr>\n    <tr>\n      <th>3</th>\n      <td>0btuso</td>\n      <td>Tem gente que quer ser Hexa mas não merece nem...</td>\n      <td>Fernando Favero</td>\n    </tr>\n    <tr>\n      <th>4</th>\n      <td>10vascoAugusto</td>\n      <td>@ManuelaDavila Pelo visto a ONU têm muito conh...</td>\n      <td>Antonio Augusto</td>\n    </tr>\n  </tbody>\n</table>\n</div>"
     },
     "metadata": {},
     "execution_count": 3
    }
   ],
   "source": [
    "with open('./datasets/Tweets.json') as f:\n",
    "    data = json.load(f)\n",
    "\n",
    "df = pd.DataFrame(data)\n",
    "df.columns = ['title', 'body', 'author']\n",
    "df.head()"
   ]
  },
  {
   "cell_type": "code",
   "execution_count": 4,
   "metadata": {},
   "outputs": [
    {
     "output_type": "stream",
     "name": "stdout",
     "text": [
      "<class 'pandas.core.frame.DataFrame'>\nRangeIndex: 866 entries, 0 to 865\nData columns (total 3 columns):\n #   Column  Non-Null Count  Dtype \n---  ------  --------------  ----- \n 0   title   866 non-null    object\n 1   body    866 non-null    object\n 2   author  866 non-null    object\ndtypes: object(3)\nmemory usage: 20.4+ KB\n"
     ]
    }
   ],
   "source": [
    "df.info()"
   ]
  },
  {
   "cell_type": "code",
   "execution_count": 5,
   "metadata": {},
   "outputs": [],
   "source": [
    "# from spacy.lang.pt import Portuguese\n",
    "# nlp = Portuguese()\n",
    "\n",
    "import spacy\n",
    "nlp = spacy.load(\"pt_core_news_sm\")"
   ]
  },
  {
   "cell_type": "code",
   "execution_count": 6,
   "metadata": {},
   "outputs": [],
   "source": [
    "def tokenizer(sentence: str):\n",
    "    sentence = sentence.lower()\n",
    "\n",
    "    list = []\n",
    "    list = [word.lemma_ for word in nlp(sentence) if not (word.is_stop or\n",
    "                                                          word.like_num or\n",
    "                                                          word.is_punct or\n",
    "                                                          word.is_space)]\n",
    "\n",
    "    return ' '.join([str(element) for element in list])"
   ]
  },
  {
   "cell_type": "code",
   "execution_count": 7,
   "metadata": {},
   "outputs": [
    {
     "output_type": "execute_result",
     "data": {
      "text/plain": [
       "'nome guilherme brasileiro ano casar e lindo filho'"
      ]
     },
     "metadata": {},
     "execution_count": 7
    }
   ],
   "source": [
    "tokenizer('Meu nome é Guilherme. Sou brasileiro, tenho 30 anos, sou casado e tenho três lindos filhos.')"
   ]
  },
  {
   "cell_type": "code",
   "execution_count": 8,
   "metadata": {},
   "outputs": [],
   "source": [
    "df['body_tokenizer'] = df['body'].apply(tokenizer)"
   ]
  },
  {
   "cell_type": "code",
   "execution_count": 9,
   "metadata": {},
   "outputs": [
    {
     "output_type": "execute_result",
     "data": {
      "text/plain": [
       "                                                 body  \\\n",
       "0   mano o torcedor psicopata do Brasil faz ADS na...   \n",
       "1   torcedor reclama de tudo\\n se não convoca recl...   \n",
       "2   @GinhoGFBPA Cara eu torço pro inter e peço des...   \n",
       "3   Tem gente que quer ser Hexa mas não merece nem...   \n",
       "4   @ManuelaDavila Pelo visto a ONU têm muito conh...   \n",
       "5   BASTIDORES | FLAMENGO 1X0 GRÊMIO - COPA DO BRA...   \n",
       "6   @agfon21 nossa ontem depois da eliminação do B...   \n",
       "7   @radioitatiaia Semifinal de copa do Brasil, Lé...   \n",
       "8   Brasil name 2️⃣4️⃣man squad for upcoming frien...   \n",
       "9   Quem tinha a expectativa de ver o torcedor nos...   \n",
       "10  Torcedor do Milan até às 17h00 (Brasília) de a...   \n",
       "11  @dborimn Teoricamente a Sula é maior do que a ...   \n",
       "12  @kelguiarr Sem clubismo, teve um torcedor do F...   \n",
       "13  @Dedevital Muito merecida!!! Parabéns!!!! Mas ...   \n",
       "14  @canalpremiere @SporTV Quem perde é a copa do ...   \n",
       "\n",
       "                                       body_tokenizer  \n",
       "0   manir o torcedor psicopata brasil ads fatec fr...  \n",
       "1   torcedor reclamar convocar reclamar convocar r...  \n",
       "2   @ginhogfbpa caro torcer pro inter e pedir desc...  \n",
       "3   gente hexa merecer troféu várzea https://t.co/...  \n",
       "4   @manueladavila vestir o onu conhecimento acont...  \n",
       "5   bastidor | flamengo 1x0 grêmio copar brasil se...  \n",
       "6   @agfon21 eliminação brasil entrar twitter deus...  \n",
       "7   @radioitatiaia semifinal copar brasil léo e ma...  \n",
       "8   brasil name 2️⃣4️⃣man squad upcoming friendlie...  \n",
       "9   ter o expectativa o torcedor próximo jogo bras...  \n",
       "10  torcedor milan 17h00 brasília amanhã ⏰ https:/...  \n",
       "11  @dborimn teoricamente o sula o copar brasil in...  \n",
       "12  @kelguiarr clubismo torcedor flamengo falar o ...  \n",
       "13  @dedevital merecido parabém torcedor minar pre...  \n",
       "14  @canalpremiere @sportv perder o copar brasil e...  "
      ],
      "text/html": "<div>\n<style scoped>\n    .dataframe tbody tr th:only-of-type {\n        vertical-align: middle;\n    }\n\n    .dataframe tbody tr th {\n        vertical-align: top;\n    }\n\n    .dataframe thead th {\n        text-align: right;\n    }\n</style>\n<table border=\"1\" class=\"dataframe\">\n  <thead>\n    <tr style=\"text-align: right;\">\n      <th></th>\n      <th>body</th>\n      <th>body_tokenizer</th>\n    </tr>\n  </thead>\n  <tbody>\n    <tr>\n      <th>0</th>\n      <td>mano o torcedor psicopata do Brasil faz ADS na...</td>\n      <td>manir o torcedor psicopata brasil ads fatec fr...</td>\n    </tr>\n    <tr>\n      <th>1</th>\n      <td>torcedor reclama de tudo\\n se não convoca recl...</td>\n      <td>torcedor reclamar convocar reclamar convocar r...</td>\n    </tr>\n    <tr>\n      <th>2</th>\n      <td>@GinhoGFBPA Cara eu torço pro inter e peço des...</td>\n      <td>@ginhogfbpa caro torcer pro inter e pedir desc...</td>\n    </tr>\n    <tr>\n      <th>3</th>\n      <td>Tem gente que quer ser Hexa mas não merece nem...</td>\n      <td>gente hexa merecer troféu várzea https://t.co/...</td>\n    </tr>\n    <tr>\n      <th>4</th>\n      <td>@ManuelaDavila Pelo visto a ONU têm muito conh...</td>\n      <td>@manueladavila vestir o onu conhecimento acont...</td>\n    </tr>\n    <tr>\n      <th>5</th>\n      <td>BASTIDORES | FLAMENGO 1X0 GRÊMIO - COPA DO BRA...</td>\n      <td>bastidor | flamengo 1x0 grêmio copar brasil se...</td>\n    </tr>\n    <tr>\n      <th>6</th>\n      <td>@agfon21 nossa ontem depois da eliminação do B...</td>\n      <td>@agfon21 eliminação brasil entrar twitter deus...</td>\n    </tr>\n    <tr>\n      <th>7</th>\n      <td>@radioitatiaia Semifinal de copa do Brasil, Lé...</td>\n      <td>@radioitatiaia semifinal copar brasil léo e ma...</td>\n    </tr>\n    <tr>\n      <th>8</th>\n      <td>Brasil name 2️⃣4️⃣man squad for upcoming frien...</td>\n      <td>brasil name 2️⃣4️⃣man squad upcoming friendlie...</td>\n    </tr>\n    <tr>\n      <th>9</th>\n      <td>Quem tinha a expectativa de ver o torcedor nos...</td>\n      <td>ter o expectativa o torcedor próximo jogo bras...</td>\n    </tr>\n    <tr>\n      <th>10</th>\n      <td>Torcedor do Milan até às 17h00 (Brasília) de a...</td>\n      <td>torcedor milan 17h00 brasília amanhã ⏰ https:/...</td>\n    </tr>\n    <tr>\n      <th>11</th>\n      <td>@dborimn Teoricamente a Sula é maior do que a ...</td>\n      <td>@dborimn teoricamente o sula o copar brasil in...</td>\n    </tr>\n    <tr>\n      <th>12</th>\n      <td>@kelguiarr Sem clubismo, teve um torcedor do F...</td>\n      <td>@kelguiarr clubismo torcedor flamengo falar o ...</td>\n    </tr>\n    <tr>\n      <th>13</th>\n      <td>@Dedevital Muito merecida!!! Parabéns!!!! Mas ...</td>\n      <td>@dedevital merecido parabém torcedor minar pre...</td>\n    </tr>\n    <tr>\n      <th>14</th>\n      <td>@canalpremiere @SporTV Quem perde é a copa do ...</td>\n      <td>@canalpremiere @sportv perder o copar brasil e...</td>\n    </tr>\n  </tbody>\n</table>\n</div>"
     },
     "metadata": {},
     "execution_count": 9
    }
   ],
   "source": [
    "df[['body', 'body_tokenizer']].head(15)"
   ]
  },
  {
   "cell_type": "code",
   "execution_count": 19,
   "metadata": {},
   "outputs": [],
   "source": [
    "if not os.path.exists('./datasets/corpus'):\n",
    "    os.makedirs('./datasets/corpus')"
   ]
  },
  {
   "cell_type": "code",
   "execution_count": 20,
   "metadata": {},
   "outputs": [],
   "source": [
    "for index, row in df.iterrows():\n",
    "    file = f'./datasets/corpus/{row[\"title\"]}.txt'\n",
    "\n",
    "    with open(file, 'w', encoding='utf-8') as f:\n",
    "        f.write(row['body_tokenizer'])"
   ]
  },
  {
   "cell_type": "code",
   "execution_count": 21,
   "metadata": {},
   "outputs": [],
   "source": [
    "from nltk.corpus import PlaintextCorpusReader\n",
    "corpus = PlaintextCorpusReader('./datasets/corpus', '.*')"
   ]
  },
  {
   "cell_type": "code",
   "execution_count": 24,
   "metadata": {},
   "outputs": [
    {
     "output_type": "execute_result",
     "data": {
      "text/plain": [
       "'00110011o.txt'"
      ]
     },
     "metadata": {},
     "execution_count": 24
    }
   ],
   "source": [
    "ids = corpus.fileids()\n",
    "ids[0]"
   ]
  },
  {
   "cell_type": "code",
   "execution_count": 25,
   "metadata": {},
   "outputs": [
    {
     "output_type": "execute_result",
     "data": {
      "text/plain": [
       "'manir o torcedor psicopata brasil ads fatec franco entender porq q'"
      ]
     },
     "metadata": {},
     "execution_count": 25
    }
   ],
   "source": [
    "corpus.raw('00110011o.txt')"
   ]
  },
  {
   "cell_type": "code",
   "execution_count": 26,
   "metadata": {},
   "outputs": [
    {
     "output_type": "stream",
     "name": "stdout",
     "text": [
      "['manir', 'o', 'torcedor', 'psicopata', 'brasil', ...]\n"
     ]
    }
   ],
   "source": [
    "words = corpus.words()\n",
    "print(words)"
   ]
  },
  {
   "cell_type": "code",
   "execution_count": 27,
   "metadata": {},
   "outputs": [
    {
     "output_type": "execute_result",
     "data": {
      "text/plain": [
       "13564"
      ]
     },
     "metadata": {},
     "execution_count": 27
    }
   ],
   "source": [
    "len(words)"
   ]
  },
  {
   "cell_type": "code",
   "execution_count": null,
   "metadata": {},
   "outputs": [],
   "source": []
  }
 ]
}