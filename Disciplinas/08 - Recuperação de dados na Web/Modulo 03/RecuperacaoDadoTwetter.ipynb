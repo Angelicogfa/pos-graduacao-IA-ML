{
 "metadata": {
  "language_info": {
   "codemirror_mode": {
    "name": "ipython",
    "version": 3
   },
   "file_extension": ".py",
   "mimetype": "text/x-python",
   "name": "python",
   "nbconvert_exporter": "python",
   "pygments_lexer": "ipython3",
   "version": "3.7.9-final"
  },
  "orig_nbformat": 2,
  "kernelspec": {
   "name": "python3",
   "display_name": "Python 3",
   "language": "python"
  }
 },
 "nbformat": 4,
 "nbformat_minor": 2,
 "cells": [
  {
   "source": [
    "# Recuperação de dados no Twitter\n",
    "\n",
    "Este notebook tem como objetivo demostrar a recuperação de dados no tweeter, via API e persistir as informações em documentos para posterior uso."
   ],
   "cell_type": "markdown",
   "metadata": {}
  },
  {
   "source": [
    "## Imports\n",
    "\n",
    "Vamos utilizar nesse exemplo as bibliotecas:\n",
    "\n",
    "* os: Para acesso aos recursos do sistema operacional\n",
    "* tweepy: Para acesso ao twitter (login, coleta)\n",
    "* pandas: Para manipulação dos dados no formato tabular\n",
    "* sklearn.*: Para processamento de machine learning e tratamento de dados\n",
    "* spacy: Para processamento de linguagem natural\n",
    "* matplotlib: Para renderização de graficos"
   ],
   "cell_type": "markdown",
   "metadata": {}
  },
  {
   "cell_type": "code",
   "execution_count": 56,
   "metadata": {},
   "outputs": [],
   "source": [
    "import os\n",
    "import nltk\n",
    "import spacy\n",
    "import tweepy\n",
    "import wordcloud\n",
    "import pandas as pd\n",
    "import matplotlib.pyplot as plt\n",
    "from matplotlib.colors import ListedColormap\n",
    "from sklearn.feature_extraction.text import TfidfVectorizer, CountVectorizer"
   ]
  },
  {
   "source": [
    "## Download do idioma\n",
    "\n",
    "Vamos fazer o download do idioma para manipulação dos textos"
   ],
   "cell_type": "markdown",
   "metadata": {}
  },
  {
   "cell_type": "code",
   "execution_count": 2,
   "metadata": {},
   "outputs": [],
   "source": [
    "# !python -m spacy download pt\n",
    "# !python -m spacy download pt_core_news_sm"
   ]
  },
  {
   "cell_type": "code",
   "execution_count": 34,
   "metadata": {},
   "outputs": [],
   "source": [
    "nlp = spacy.load('pt_core_news_sm')"
   ]
  },
  {
   "source": [
    "## Carregamento das chaves de acesso\n",
    "\n",
    "As chaves de acesso podem ser geradas através do portal do desenvolvedor do Twitter.\n",
    "\n",
    "* Site do Twitter: https://twitter.com/ (Links para um site externo.)\n",
    "\n",
    "* Área de desenvolvedor https://developer.twitter.com/en/apply/user (Links para um site externo.)\n",
    "\n",
    "* Área de aplicativos https://developer.twitter.com/en/apps (Links para um site externo.)\n"
   ],
   "cell_type": "markdown",
   "metadata": {}
  },
  {
   "cell_type": "code",
   "execution_count": 4,
   "metadata": {},
   "outputs": [],
   "source": [
    "consumer_key =  os.environ['tweety_consumer_key']\n",
    "consumer_secret = os.environ['tweety_consumer_secret']\n",
    "access_token = os.environ['tweety_access_token']\n",
    "acess_token_secret = os.environ['tweety_acess_token_secret']\n",
    "\n",
    "auth = tweepy.OAuthHandler(consumer_key, consumer_secret)\n",
    "auth.set_access_token(access_token, acess_token_secret)\n",
    "api = tweepy.API(auth)"
   ]
  },
  {
   "source": [
    "## Dataframe\n",
    "\n",
    "Vamos utilizar um dataframe para persistir nossos registros obtidos a partir do stream de twetts. O Dataframe é similar a uma planilha."
   ],
   "cell_type": "markdown",
   "metadata": {}
  },
  {
   "cell_type": "code",
   "execution_count": 5,
   "metadata": {},
   "outputs": [
    {
     "output_type": "execute_result",
     "data": {
      "text/plain": [
       "Empty DataFrame\n",
       "Columns: [name, description, created_at, text, location, retweeted, owner_name, owner_location, owner_created_at, retweeted_count]\n",
       "Index: []"
      ],
      "text/html": "<div>\n<style scoped>\n    .dataframe tbody tr th:only-of-type {\n        vertical-align: middle;\n    }\n\n    .dataframe tbody tr th {\n        vertical-align: top;\n    }\n\n    .dataframe thead th {\n        text-align: right;\n    }\n</style>\n<table border=\"1\" class=\"dataframe\">\n  <thead>\n    <tr style=\"text-align: right;\">\n      <th></th>\n      <th>name</th>\n      <th>description</th>\n      <th>created_at</th>\n      <th>text</th>\n      <th>location</th>\n      <th>retweeted</th>\n      <th>owner_name</th>\n      <th>owner_location</th>\n      <th>owner_created_at</th>\n      <th>retweeted_count</th>\n    </tr>\n  </thead>\n  <tbody>\n  </tbody>\n</table>\n</div>"
     },
     "metadata": {},
     "execution_count": 5
    }
   ],
   "source": [
    "df = pd.DataFrame(columns=['name', 'description', 'created_at', 'text', 'location', 'retweeted', 'owner_name', 'owner_location', 'owner_created_at', 'retweeted_count'])\n",
    "df.head()"
   ]
  },
  {
   "source": [
    "## Streamlister - Execute esse bloco se você não tiver o dataset salvo ainda\n",
    "\n",
    "Vamos criar um stream listener que ira receber os twitts de acordo com a pesquisa que fizermos. Para isso vamos extender uma classe do pacote tweepy e fazer nossa implementação."
   ],
   "cell_type": "markdown",
   "metadata": {}
  },
  {
   "cell_type": "code",
   "execution_count": 6,
   "metadata": {},
   "outputs": [],
   "source": [
    "class StreamListner(tweepy.StreamListener):\n",
    "    def __init__(self, df):\n",
    "        super().__init__()\n",
    "        self.__df__ = df\n",
    "\n",
    "    def on_status(self, status):\n",
    "        json = dict(status._json)\n",
    "        user = json['user']\n",
    "        \n",
    "        retweety = json.get('retweeted_status')\n",
    "        retweety_user = retweety['user'] if retweety != None and retweety.get('user') != None else None\n",
    "\n",
    "        obj = { 'name': user['name'], 'description': user['description'], 'created_at': json['created_at'], 'text': json['text'], 'location': user.get('location'), 'retweeted': retweety != None }\n",
    "\n",
    "        if retweety != None:\n",
    "            obj['owner_name'] = retweety_user['name']\n",
    "            obj['owner_location'] = retweety_user.get('location')\n",
    "            obj['owner_created_at'] = retweety['created_at']\n",
    "            obj['retweeted_count'] = retweety.get('retweet_count', 0)\n",
    "        \n",
    "        self.__df__ = self.__df__.append(obj, ignore_index=True)\n",
    "        \n",
    "\n",
    "    def on_error(self, status_code):\n",
    "        if status_code == 420:\n",
    "            return False\n",
    "\n",
    "    @property\n",
    "    def df(self):\n",
    "        return self.__df__"
   ]
  },
  {
   "source": [
    "### Definir o(s) termo(s) de pesquisa.\n",
    "\n",
    "Podemos definir os n termos que serão utilizados para pesquisa"
   ],
   "cell_type": "markdown",
   "metadata": {}
  },
  {
   "cell_type": "code",
   "execution_count": 7,
   "metadata": {},
   "outputs": [],
   "source": [
    "track = ['covid19', 'covid-19', 'sars-cov-2', 'coronavirus', 'corona-virus']"
   ]
  },
  {
   "source": [
    "Criamos o objeto responsável pela busca dos tweets"
   ],
   "cell_type": "markdown",
   "metadata": {}
  },
  {
   "cell_type": "code",
   "execution_count": 8,
   "metadata": {
    "tags": []
   },
   "outputs": [],
   "source": [
    "stream_listner = StreamListner(df)\n",
    "stream = tweepy.Stream(auth=api.auth, listener=stream_listner)\n",
    "stream.filter(track=track, languages=['pt'], is_async=True)"
   ]
  },
  {
   "cell_type": "code",
   "execution_count": 18,
   "metadata": {},
   "outputs": [],
   "source": [
    "stream.disconnect()"
   ]
  },
  {
   "source": [
    "## Visualização dos registros - Obtidos pelo stream\n",
    "\n",
    "Vamos visualizar os registros obtidos pelo stream atraves do dataframe"
   ],
   "cell_type": "markdown",
   "metadata": {}
  },
  {
   "cell_type": "code",
   "execution_count": 19,
   "metadata": {},
   "outputs": [],
   "source": [
    "df = stream_listner.df"
   ]
  },
  {
   "cell_type": "code",
   "execution_count": 20,
   "metadata": {},
   "outputs": [
    {
     "output_type": "execute_result",
     "data": {
      "text/plain": [
       "                                     name  \\\n",
       "0                            Edemar Motta   \n",
       "1                               A Crítica   \n",
       "2                   Renato mais mascarado   \n",
       "3                                 Melting   \n",
       "4                                   ʟ ᴇ ᴏ   \n",
       "..                                    ...   \n",
       "115  Clayton Lula da Silva 🇦🇲🇦🇲🇦🇲🇦🇲🇦🇲🇦🇲🇦🇲   \n",
       "116                     Rosana Lancsarics   \n",
       "117                          Nilson Braga   \n",
       "118                        G1 - São Paulo   \n",
       "119               @michelecastrogio2conta   \n",
       "\n",
       "                                           description  \\\n",
       "0    Deus, ajude-me a ser a pessoa que meu cachorro...   \n",
       "1    Para quem quer notícia todo dia, o dia todo. \\...   \n",
       "2    A conta para acabar com todas as contas • Polí...   \n",
       "3                                                 None   \n",
       "4    Se uma batata consegue tornar-se vodka então e...   \n",
       "..                                                 ...   \n",
       "115                    http://instagram.com/clayton362   \n",
       "116  Journalist/Public Relations. Love sports: Mara...   \n",
       "117                                               None   \n",
       "118           Acompanhe as notícias de São Paulo no G1   \n",
       "119            italiano, casado #Bolsonaro2022\\n🇮🇹🇧🇷🇺🇸   \n",
       "\n",
       "                         created_at  \\\n",
       "0    Thu Jan 21 13:48:54 +0000 2021   \n",
       "1    Thu Jan 21 13:48:54 +0000 2021   \n",
       "2    Thu Jan 21 13:48:55 +0000 2021   \n",
       "3    Thu Jan 21 13:48:57 +0000 2021   \n",
       "4    Thu Jan 21 13:48:59 +0000 2021   \n",
       "..                              ...   \n",
       "115  Thu Jan 21 13:50:18 +0000 2021   \n",
       "116  Thu Jan 21 13:50:18 +0000 2021   \n",
       "117  Thu Jan 21 13:50:19 +0000 2021   \n",
       "118  Thu Jan 21 13:50:19 +0000 2021   \n",
       "119  Thu Jan 21 13:50:20 +0000 2021   \n",
       "\n",
       "                                                  text  \\\n",
       "0    @UOLNoticias Ou fecha tudo por um longo períod...   \n",
       "1    Defensoria do AM pede que prefeitura e Estado ...   \n",
       "2    RT @vinnybrandt: Maluco, o tamanho do pacotão ...   \n",
       "3    RT @oatila: Quando faltar vacina, insumo para ...   \n",
       "4    Especialmente com a nova estirpe inglesa de CO...   \n",
       "..                                                 ...   \n",
       "115  RT @JFMargarida: A insistência no uso da cloro...   \n",
       "116  RT @LucianoHuck: Deixo aqui meu carinho a famí...   \n",
       "117  RT @Poder360: Incêndio atinge laboratório que ...   \n",
       "118  Estado de SP tem 58 municípios com mais de 80%...   \n",
       "119  @STF_oficial Como faz uma ministra veia, do gr...   \n",
       "\n",
       "                   location retweeted           owner_name  \\\n",
       "0     Casimiro de Abreu, RJ     False                  NaN   \n",
       "1          Manaus, Amazonas     False                  NaN   \n",
       "2         São Paulo, Brasil      True  Vinícius Sacramento   \n",
       "3                      None      True       Atila Iamarino   \n",
       "4         Stu(dying) @ FMUP     False                  NaN   \n",
       "..                      ...       ...                  ...   \n",
       "115  Belo Horizonte, Brasil      True    Margarida Salomão   \n",
       "116                 Toronto      True         Luciano Huck   \n",
       "117                    None      True             Poder360   \n",
       "118            São Paulo/SP     False                  NaN   \n",
       "119                  Brasil     False                  NaN   \n",
       "\n",
       "             owner_location                owner_created_at retweeted_count  \n",
       "0                       NaN                             NaN             NaN  \n",
       "1                       NaN                             NaN             NaN  \n",
       "2            Rio de Janeiro  Thu Jan 21 13:48:09 +0000 2021               1  \n",
       "3                 São Paulo  Tue Jan 19 17:44:38 +0000 2021            3206  \n",
       "4                       NaN                             NaN             NaN  \n",
       "..                      ...                             ...             ...  \n",
       "115            Juiz de Fora  Thu Jan 21 13:07:30 +0000 2021              16  \n",
       "116  Rio de Janeiro, Brasil  Thu Jan 21 13:48:49 +0000 2021               2  \n",
       "117        Brasília, Brasil  Thu Jan 21 13:30:53 +0000 2021               4  \n",
       "118                     NaN                             NaN             NaN  \n",
       "119                     NaN                             NaN             NaN  \n",
       "\n",
       "[120 rows x 10 columns]"
      ],
      "text/html": "<div>\n<style scoped>\n    .dataframe tbody tr th:only-of-type {\n        vertical-align: middle;\n    }\n\n    .dataframe tbody tr th {\n        vertical-align: top;\n    }\n\n    .dataframe thead th {\n        text-align: right;\n    }\n</style>\n<table border=\"1\" class=\"dataframe\">\n  <thead>\n    <tr style=\"text-align: right;\">\n      <th></th>\n      <th>name</th>\n      <th>description</th>\n      <th>created_at</th>\n      <th>text</th>\n      <th>location</th>\n      <th>retweeted</th>\n      <th>owner_name</th>\n      <th>owner_location</th>\n      <th>owner_created_at</th>\n      <th>retweeted_count</th>\n    </tr>\n  </thead>\n  <tbody>\n    <tr>\n      <th>0</th>\n      <td>Edemar Motta</td>\n      <td>Deus, ajude-me a ser a pessoa que meu cachorro...</td>\n      <td>Thu Jan 21 13:48:54 +0000 2021</td>\n      <td>@UOLNoticias Ou fecha tudo por um longo períod...</td>\n      <td>Casimiro de Abreu, RJ</td>\n      <td>False</td>\n      <td>NaN</td>\n      <td>NaN</td>\n      <td>NaN</td>\n      <td>NaN</td>\n    </tr>\n    <tr>\n      <th>1</th>\n      <td>A Crítica</td>\n      <td>Para quem quer notícia todo dia, o dia todo. \\...</td>\n      <td>Thu Jan 21 13:48:54 +0000 2021</td>\n      <td>Defensoria do AM pede que prefeitura e Estado ...</td>\n      <td>Manaus, Amazonas</td>\n      <td>False</td>\n      <td>NaN</td>\n      <td>NaN</td>\n      <td>NaN</td>\n      <td>NaN</td>\n    </tr>\n    <tr>\n      <th>2</th>\n      <td>Renato mais mascarado</td>\n      <td>A conta para acabar com todas as contas • Polí...</td>\n      <td>Thu Jan 21 13:48:55 +0000 2021</td>\n      <td>RT @vinnybrandt: Maluco, o tamanho do pacotão ...</td>\n      <td>São Paulo, Brasil</td>\n      <td>True</td>\n      <td>Vinícius Sacramento</td>\n      <td>Rio de Janeiro</td>\n      <td>Thu Jan 21 13:48:09 +0000 2021</td>\n      <td>1</td>\n    </tr>\n    <tr>\n      <th>3</th>\n      <td>Melting</td>\n      <td>None</td>\n      <td>Thu Jan 21 13:48:57 +0000 2021</td>\n      <td>RT @oatila: Quando faltar vacina, insumo para ...</td>\n      <td>None</td>\n      <td>True</td>\n      <td>Atila Iamarino</td>\n      <td>São Paulo</td>\n      <td>Tue Jan 19 17:44:38 +0000 2021</td>\n      <td>3206</td>\n    </tr>\n    <tr>\n      <th>4</th>\n      <td>ʟ ᴇ ᴏ</td>\n      <td>Se uma batata consegue tornar-se vodka então e...</td>\n      <td>Thu Jan 21 13:48:59 +0000 2021</td>\n      <td>Especialmente com a nova estirpe inglesa de CO...</td>\n      <td>Stu(dying) @ FMUP</td>\n      <td>False</td>\n      <td>NaN</td>\n      <td>NaN</td>\n      <td>NaN</td>\n      <td>NaN</td>\n    </tr>\n    <tr>\n      <th>...</th>\n      <td>...</td>\n      <td>...</td>\n      <td>...</td>\n      <td>...</td>\n      <td>...</td>\n      <td>...</td>\n      <td>...</td>\n      <td>...</td>\n      <td>...</td>\n      <td>...</td>\n    </tr>\n    <tr>\n      <th>115</th>\n      <td>Clayton Lula da Silva 🇦🇲🇦🇲🇦🇲🇦🇲🇦🇲🇦🇲🇦🇲</td>\n      <td>http://instagram.com/clayton362</td>\n      <td>Thu Jan 21 13:50:18 +0000 2021</td>\n      <td>RT @JFMargarida: A insistência no uso da cloro...</td>\n      <td>Belo Horizonte, Brasil</td>\n      <td>True</td>\n      <td>Margarida Salomão</td>\n      <td>Juiz de Fora</td>\n      <td>Thu Jan 21 13:07:30 +0000 2021</td>\n      <td>16</td>\n    </tr>\n    <tr>\n      <th>116</th>\n      <td>Rosana Lancsarics</td>\n      <td>Journalist/Public Relations. Love sports: Mara...</td>\n      <td>Thu Jan 21 13:50:18 +0000 2021</td>\n      <td>RT @LucianoHuck: Deixo aqui meu carinho a famí...</td>\n      <td>Toronto</td>\n      <td>True</td>\n      <td>Luciano Huck</td>\n      <td>Rio de Janeiro, Brasil</td>\n      <td>Thu Jan 21 13:48:49 +0000 2021</td>\n      <td>2</td>\n    </tr>\n    <tr>\n      <th>117</th>\n      <td>Nilson Braga</td>\n      <td>None</td>\n      <td>Thu Jan 21 13:50:19 +0000 2021</td>\n      <td>RT @Poder360: Incêndio atinge laboratório que ...</td>\n      <td>None</td>\n      <td>True</td>\n      <td>Poder360</td>\n      <td>Brasília, Brasil</td>\n      <td>Thu Jan 21 13:30:53 +0000 2021</td>\n      <td>4</td>\n    </tr>\n    <tr>\n      <th>118</th>\n      <td>G1 - São Paulo</td>\n      <td>Acompanhe as notícias de São Paulo no G1</td>\n      <td>Thu Jan 21 13:50:19 +0000 2021</td>\n      <td>Estado de SP tem 58 municípios com mais de 80%...</td>\n      <td>São Paulo/SP</td>\n      <td>False</td>\n      <td>NaN</td>\n      <td>NaN</td>\n      <td>NaN</td>\n      <td>NaN</td>\n    </tr>\n    <tr>\n      <th>119</th>\n      <td>@michelecastrogio2conta</td>\n      <td>italiano, casado #Bolsonaro2022\\n🇮🇹🇧🇷🇺🇸</td>\n      <td>Thu Jan 21 13:50:20 +0000 2021</td>\n      <td>@STF_oficial Como faz uma ministra veia, do gr...</td>\n      <td>Brasil</td>\n      <td>False</td>\n      <td>NaN</td>\n      <td>NaN</td>\n      <td>NaN</td>\n      <td>NaN</td>\n    </tr>\n  </tbody>\n</table>\n<p>120 rows × 10 columns</p>\n</div>"
     },
     "metadata": {},
     "execution_count": 20
    }
   ],
   "source": [
    "df"
   ]
  }
 ]
}