{
 "metadata": {
  "language_info": {
   "codemirror_mode": {
    "name": "ipython",
    "version": 3
   },
   "file_extension": ".py",
   "mimetype": "text/x-python",
   "name": "python",
   "nbconvert_exporter": "python",
   "pygments_lexer": "ipython3",
   "version": "3.7.9-final"
  },
  "orig_nbformat": 2,
  "kernelspec": {
   "name": "python3",
   "display_name": "Python 3",
   "language": "python"
  }
 },
 "nbformat": 4,
 "nbformat_minor": 2,
 "cells": [
  {
   "source": [
    "# Carregamento de dados com feed\n",
    "\n",
    "Nesse exemplo vamos fazer o carregamento de dados a partir de feeds"
   ],
   "cell_type": "markdown",
   "metadata": {}
  },
  {
   "cell_type": "code",
   "execution_count": 2,
   "metadata": {},
   "outputs": [
    {
     "output_type": "stream",
     "name": "stdout",
     "text": [
      "Collecting feedparser\n",
      "  Downloading feedparser-6.0.2-py3-none-any.whl (80 kB)\n",
      "Collecting sgmllib3k\n",
      "  Downloading sgmllib3k-1.0.0.tar.gz (5.8 kB)\n",
      "Building wheels for collected packages: sgmllib3k\n",
      "  Building wheel for sgmllib3k (setup.py): started\n",
      "  Building wheel for sgmllib3k (setup.py): finished with status 'done'\n",
      "  Created wheel for sgmllib3k: filename=sgmllib3k-1.0.0-py3-none-any.whl size=6070 sha256=fe10d060f689a2a68a68a9548c901899b17c0f2f28386680ff04e47e8ab0113f\n",
      "  Stored in directory: c:\\users\\angel\\appdata\\local\\pip\\cache\\wheels\\73\\ad\\a4\\0dff4a6ef231fc0dfa12ffbac2a36cebfdddfe059f50e019aa\n",
      "Successfully built sgmllib3k\n",
      "Installing collected packages: sgmllib3k, feedparser\n",
      "Successfully installed feedparser-6.0.2 sgmllib3k-1.0.0\n"
     ]
    }
   ],
   "source": [
    "!pip install feedparser"
   ]
  },
  {
   "cell_type": "code",
   "execution_count": 3,
   "metadata": {},
   "outputs": [],
   "source": [
    "import feedparser as fp"
   ]
  },
  {
   "cell_type": "code",
   "execution_count": 4,
   "metadata": {},
   "outputs": [],
   "source": [
    "url = 'http://feeds.nytimes.com/nyt/rss/World'"
   ]
  },
  {
   "cell_type": "code",
   "execution_count": 5,
   "metadata": {},
   "outputs": [],
   "source": [
    "feeds = fp.parse(url)"
   ]
  },
  {
   "cell_type": "code",
   "execution_count": 9,
   "metadata": {},
   "outputs": [
    {
     "output_type": "execute_result",
     "data": {
      "text/plain": [
       "mages/2021/01/20/world/20xinjiang-explainer-top/20xinjiang-explainer-top-moth.jpg',\n",
       "     'width': '151'}],\n",
       "   'media_credit': [{'content': 'Ng Han Guan/Associated Press'}],\n",
       "   'credit': 'Ng Han Guan/Associated Press',\n",
       "   'content': [{'type': 'text/plain',\n",
       "     'language': None,\n",
       "     'base': 'https://rss.nytimes.com/services/xml/rss/nyt/World.xml',\n",
       "     'value': 'China’s leader, Xi Jinping, on a screen in Kashgar, in the Xinjiang region, in 2018.'}]},\n",
       "  {'title': 'Your Wednesday Briefing',\n",
       "   'title_detail': {'type': 'text/plain',\n",
       "    'language': None,\n",
       "    'base': 'https://rss.nytimes.com/services/xml/rss/nyt/World.xml',\n",
       "    'value': 'Your Wednesday Briefing'},\n",
       "   'links': [{'rel': 'alternate',\n",
       "     'type': 'text/html',\n",
       "     'href': 'https://www.nytimes.com/2021/01/19/briefing/biden-inauguration-coronavirus-uighurs.html'},\n",
       "    {'href': 'https://www.nytimes.com/2021/01/19/briefing/biden-inauguration-coronavirus-uighurs.html',\n",
       "     'rel': 'standout',\n",
       "     'type': 'text/html'}],\n",
       "   'link': 'https://www.nytimes.com/2021/01/19/briefing/biden-inauguration-coronavirus-uighurs.html',\n",
       "   'id': 'https://www.nytimes.com/2021/01/19/briefing/biden-inauguration-coronavirus-uighurs.html',\n",
       "   'guidislink': False,\n",
       "   'summary': 'The final day of the Trump presidency.',\n",
       "   'summary_detail': {'type': 'text/html',\n",
       "    'language': None,\n",
       "    'base': 'https://rss.nytimes.com/services/xml/rss/nyt/World.xml',\n",
       "    'value': 'The final day of the Trump presidency.'},\n",
       "   'authors': [{'name': 'Natasha Frost'}],\n",
       "   'author': 'Natasha Frost',\n",
       "   'author_detail': {'name': 'Natasha Frost'},\n",
       "   'published': 'Wed, 20 Jan 2021 05:17:51 +0000',\n",
       "   'published_parsed': time.struct_time(tm_year=2021, tm_mon=1, tm_mday=20, tm_hour=5, tm_min=17, tm_sec=51, tm_wday=2, tm_yday=20, tm_isdst=0),\n",
       "   'media_content': [{'height': '151',\n",
       "     'medium': 'image',\n",
       "     'url': 'https://static01.nyt.com/images/2021/01/20/us/20ambriefing-europe-lede-promo/merlin_182251578_d6a86992-500a-4a55-94e7-3199d28ec7e8-moth.jpg',\n",
       "     'width': '151'}],\n",
       "   'media_credit': [{'content': 'Oliver Contreras for The New York Times'}],\n",
       "   'credit': 'Oliver Contreras for The New York Times',\n",
       "   'content': [{'type': 'text/plain',\n",
       "     'language': None,\n",
       "     'base': 'https://rss.nytimes.com/services/xml/rss/nyt/World.xml',\n",
       "     'value': 'President Donald Trump greets the crow as he walks on the South Lawn of the White House before boarding Marine One on January 12, 2021 in Washington, DC., for a trip to Alamo, Texas to'}]},\n",
       "  {'title': 'Teenager’s Snow Cave Enters Canadian Survival Lore',\n",
       "   'title_detail': {'type': 'text/plain',\n",
       "    'language': None,\n",
       "    'base': 'https://rss.nytimes.com/services/xml/rss/nyt/World.xml',\n",
       "    'value': 'Teenager’s Snow Cave Enters Canadian Survival Lore'},\n",
       "   'links': [{'rel': 'alternate',\n",
       "     'type': 'text/html',\n",
       "     'href': 'https://www.nytimes.com/2021/01/19/world/canada/snow-cave-survival-british-columbia.html'},\n",
       "    {'href': 'https://www.nytimes.com/2021/01/19/world/canada/snow-cave-survival-british-columbia.html',\n",
       "     'rel': 'standout',\n",
       "     'type': 'text/html'}],\n",
       "   'link': 'https://www.nytimes.com/2021/01/19/world/canada/snow-cave-survival-british-columbia.html',\n",
       "   'id': 'https://www.nytimes.com/2021/01/19/world/canada/snow-cave-survival-british-columbia.html',\n",
       "   'guidislink': False,\n",
       "   'summary': 'The tale of a British Columbia teenager’s canny survival instincts during a snowmobile outing has brought some pandemic cheer to Canada.',\n",
       "   'summary_detail': {'type': 'text/html',\n",
       "    'language': None,\n",
       "    'base': 'https://rss.nytimes.com/services/xml/rss/nyt/World.xml',\n",
       "    'value': 'The tale of a British Columbia teenager’s canny survival instincts during a snowmobile outing has brought some pandemic cheer to Canada.'},\n",
       "   'authors': [{'name': 'Dan Bilefsky'}],\n",
       "   'author': 'Dan Bilefsky',\n",
       "   'author_detail': {'name': 'Dan Bilefsky'},\n",
       "   'published': 'Wed, 20 Jan 2021 13:47:45 +0000',\n",
       "   'published_parsed': time.struct_time(tm_year=2021, tm_mon=1, tm_mday=20, tm_hour=13, tm_min=47, tm_sec=45, tm_wday=2, tm_yday=20, tm_isdst=0),\n",
       "   'tags': [{'term': 'Waldner, Robert (2003- )',\n",
       "     'scheme': 'http://www.nytimes.com/namespaces/keywords/nyt_per',\n",
       "     'label': None},\n",
       "    {'term': 'Rescues',\n",
       "     'scheme': 'http://www.nytimes.com/namespaces/keywords/des',\n",
       "     'label': None},\n",
       "    {'term': 'Snowmobiles',\n",
       "     'scheme': 'http://www.nytimes.com/namespaces/keywords/des',\n",
       "     'label': None},\n",
       "    {'term': 'Caves and Caverns',\n",
       "     'scheme': 'http://www.nytimes.com/namespaces/keywords/des',\n",
       "     'label': None},\n",
       "    {'term': 'British Columbia (Canada)',\n",
       "     'scheme': 'http://www.nytimes.com/namespaces/keywords/nyt_geo',\n",
       "     'label': None}]},\n",
       "  {'title': \"Biden at Ceremony for Coronavirus Victims Says 'To Heal, we Must Remember'\",\n",
       "   'title_detail': {'type': 'text/plain',\n",
       "    'language': None,\n",
       "    'base': 'https://rss.nytimes.com/services/xml/rss/nyt/World.xml',\n",
       "    'value': \"Biden at Ceremony for Coronavirus Victims Says 'To Heal, we Must Remember'\"},\n",
       "   'links': [{'rel': 'alternate',\n",
       "     'type': 'text/html',\n",
       "     'href': 'https://www.nytimes.com/2021/01/19/world/joe-biden-coronavirus-us-deaths.html'},\n",
       "    {'href': 'https://www.nytimes.com/2021/01/19/world/joe-biden-coronavirus-us-deaths.html',\n",
       "     'rel': 'standout',\n",
       "     'type': 'text/html'}],\n",
       "   'link': 'https://www.nytimes.com/2021/01/19/world/joe-biden-coronavirus-us-deaths.html',\n",
       "   'id': 'https://www.nytimes.com/2021/01/19/world/joe-biden-coronavirus-us-deaths.html',\n",
       "   'guidislink': False,\n",
       "   'summary': '',\n",
       "   'summary_detail': {'type': 'text/html',\n",
       "    'language': None,\n",
       "    'base': 'https://rss.nytimes.com/services/xml/rss/nyt/World.xml',\n",
       "    'value': ''},\n",
       "   'authors': [{'name': 'Peter Baker and Michael D. Shear'}],\n",
       "   'author': 'Peter Baker and Michael D. Shear',\n",
       "   'author_detail': {'name': 'Peter Baker and Michael D. Shear'},\n",
       "   'published': 'Thu, 21 Jan 2021 01:42:35 +0000',\n",
       "   'published_parsed': time.struct_time(tm_year=2021, tm_mon=1, tm_mday=21, tm_hour=1, tm_min=42, tm_sec=35, tm_wday=3, tm_yday=21, tm_isdst=0),\n",
       "   'tags': [{'term': 'internal-essential',\n",
       "     'scheme': 'http://www.nytimes.com/namespaces/keywords/des',\n",
       "     'label': None}],\n",
       "   'media_content': [{'height': '151',\n",
       "     'medium': 'image',\n",
       "     'url': 'https://static01.nyt.com/images/2021/01/19/world/19virus-briefing-biden/19virus-briefing-biden-moth.jpg',\n",
       "     'width': '151'}],\n",
       "   'media_credit': [{'content': 'Todd Heisler/The New York Times'}],\n",
       "   'credit': 'Todd Heisler/The New York Times',\n",
       "   'content': [{'type': 'text/plain',\n",
       "     'language': None,\n",
       "     'base': 'https://rss.nytimes.com/services/xml/rss/nyt/World.xml',\n",
       "     'value': 'Lights shine around the Reflecting Pool between the Lincoln Memorial and the Washington Monument in Washington, D.C. on Tuesday.'}]},\n",
       "  {'title': 'In Saudi Arabia, Quiet Changes May Ease Tensions With Biden',\n",
       "   'title_detail': {'type': 'text/plain',\n",
       "    'language': None,\n",
       "    'base': 'https://rss.nytimes.com/services/xml/rss/nyt/World.xml',\n",
       "    'value': 'In Saudi Arabia, Quiet Changes May Ease Tensions With Biden'},\n",
       "   'links': [{'rel': 'alternate',\n",
       "     'type': 'text/html',\n",
       "     'href': 'https://www.nytimes.com/2021/01/19/world/middleeast/saudi-reforms-biden.html'},\n",
       "    {'href': 'https://www.nytimes.com/2021/01/19/world/middleeast/saudi-reforms-biden.html',\n",
       "     'rel': 'standout',\n",
       "     'type': 'text/html'}],\n",
       "   'link': 'https://www.nytimes.com/2021/01/19/world/middleeast/saudi-reforms-biden.html',\n",
       "   'id': 'https://www.nytimes.com/2021/01/19/world/middleeast/saudi-reforms-biden.html',\n",
       "   'guidislink': False,\n",
       "   'summary': 'The new president is a Saudi critic, but he takes office as the kingdom scales back beheadings, removes hate speech from text books and limits prison terms for activists.',\n",
       "   'summary_detail': {'type': 'text/html',\n",
       "    'language': None,\n",
       "    'base': 'https://rss.nytimes.com/services/xml/rss/nyt/World.xml',\n",
       "    'value': 'The new president is a Saudi critic, but he takes office as the kingdom scales back beheadings, removes hate speech from text books and limits prison terms for activists.'},\n",
       "   'authors': [{'name': 'Ben Hubbard'}],\n",
       "   'author': 'Ben Hubbard',\n",
       "   'author_detail': {'name': 'Ben Hubbard'},\n",
       "   'published': 'Wed, 20 Jan 2021 07:22:45 +0000',\n",
       "   'published_parsed': time.struct_time(tm_year=2021, tm_mon=1, tm_mday=20, tm_hour=7, tm_min=22, tm_sec=45, tm_wday=2, tm_yday=20, tm_isdst=0),\n",
       "   'tags': [{'term': 'Biden, Joseph R Jr',\n",
       "     'scheme': 'http://www.nytimes.com/namespaces/keywords/nyt_per',\n",
       "     'label': None},\n",
       "    {'term': 'Saudi Arabia',\n",
       "     'scheme': 'http://www.nytimes.com/namespaces/keywords/nyt_geo',\n",
       "     'label': None},\n",
       "    {'term': 'Mohammed bin Salman (1985- )',\n",
       "     'scheme': 'http://www.nytimes.com/namespaces/keywords/nyt_per',\n",
       "     'label': None},\n",
       "    {'term': 'Human Rights and Human Rights Violations',\n",
       "     'scheme': 'http://www.nytimes.com/namespaces/keywords/des',\n",
       "     'label': None},\n",
       "    {'term': 'Capital Punishment',\n",
       "     'scheme': 'http://www.nytimes.com/namespaces/keywords/des',\n",
       "     'label': None},\n",
       "    {'term': 'Textbooks',\n",
       "     'scheme': 'http://www.nytimes.com/namespaces/keywords/des',\n",
       "     'label': None},\n",
       "    {'term': 'Political Prisoners',\n",
       "     'scheme': 'http://www.nytimes.com/namespaces/keywords/des',\n",
       "     'label': None},\n",
       "    {'term': 'United States International Relations',\n",
       "     'scheme': 'http://www.nytimes.com/namespaces/keywords/des',\n",
       "     'label': None},\n",
       "    {'term': 'Politics and Government',\n",
       "     'scheme': 'http://www.nytimes.com/namespaces/keywords/des',\n",
       "     'label': None}],\n",
       "   'media_content': [{'height': '151',\n",
       "     'medium': 'image',\n",
       "     'url': 'https://static01.nyt.com/images/2021/01/19/world/19saudi/19saudi-moth.jpg',\n",
       "     'width': '151'}],\n",
       "   'media_credit': [{'content': 'Doug Mills/The New York Times'}],\n",
       "   'credit': 'Doug Mills/The New York Times',\n",
       "   'content': [{'type': 'text/plain',\n",
       "     'language': None,\n",
       "     'base': 'https://rss.nytimes.com/services/xml/rss/nyt/World.xml',\n",
       "     'value': 'President-elect Joseph R. Biden Jr. has called for a broad reassessment of the American-Saudi relationship.'}]},\n",
       "  {'title': 'Could a Small Test Screen People for Covid-19?',\n",
       "   'title_detail': {'type': 'text/plain',\n",
       "    'language': None,\n",
       "    'base': 'https://rss.nytimes.com/services/xml/rss/nyt/World.xml',\n",
       "    'value': 'Could a Small Test Screen People for Covid-19?'},\n",
       "   'links': [{'rel': 'alternate',\n",
       "     'type': 'text/html',\n",
       "     'href': 'https://www.nytimes.com/2021/01/19/health/smell-test-for-covid.html'},\n",
       "    {'href': 'https://www.nytimes.com/2021/01/19/health/smell-test-for-covid.html',\n",
       "     'rel': 'standout',\n",
       "     'type': 'text/html'}],\n",
       "   'link': 'https://www.nytimes.com/2021/01/19/health/smell-test-for-covid.html',\n",
       "   'id': 'https://www.nytimes.com/2021/01/19/health/smell-test-for-covid.html',\n",
       "   'guidislink': False,\n",
       "   'summary': 'A new modeling study hints that odor-based screens could quash outbreaks. But some experts are skeptical it would work in the real world.',\n",
       "   'summary_detail': {'type': 'text/html',\n",
       "    'language': None,\n",
       "    'base': 'https://rss.nytimes.com/services/xml/rss/nyt/World.xml',\n",
       "    'value': 'A new modeling study hints that odor-based screens could quash outbreaks. But some experts are skeptical it would work in the real world.'},\n",
       "   'authors': [{'name': 'Katherine J. Wu'}],\n",
       "   'author': 'Katherine J. Wu',\n",
       "   'author_detail': {'name': 'Katherine J. Wu'},\n",
       "   'published': 'Tue, 19 Jan 2021 22:49:35 +0000',\n",
       "   'published_parsed': time.struct_time(tm_year=2021, tm_mon=1, tm_mday=19, tm_hour=22, tm_min=49, tm_sec=35, tm_wday=1, tm_yday=19, tm_isdst=0),\n",
       "   'tags': [{'term': 'Smell (Olfaction)',\n",
       "     'scheme': 'http://www.nytimes.com/namespaces/keywords/des',\n",
       "     'label': None},\n",
       "    {'term': 'Tests (Medical)',\n",
       "     'scheme': 'http://www.nytimes.com/namespaces/keywords/des',\n",
       "     'label': None},\n",
       "    {'term': 'Coronavirus (2019-nCoV)',\n",
       "     'scheme': 'http://www.nytimes.com/namespaces/keywords/des',\n",
       "     'label': None},\n",
       "    {'term': 'Research',\n",
       "     'scheme': 'http://www.nytimes.com/namespaces/keywords/des',\n",
       "     'label': None},\n",
       "    {'term': 'Mobile Applications',\n",
       "     'scheme': 'http://www.nytimes.com/namespaces/keywords/des',\n",
       "     'label': None},\n",
       "    {'term': 'Larremore, Daniel',\n",
       "     'scheme': 'http://www.nytimes.com/namespaces/keywords/nyt_per',\n",
       "     'label': None},\n",
       "    {'term': 'Toomre, Derek',\n",
       "     'scheme': 'http://www.nytimes.com/namespaces/keywords/nyt_per',\n",
       "     'label': None},\n",
       "    {'term': 'your-feed-health',\n",
       "     'scheme': 'http://www.nytimes.com/namespaces/keywords/des',\n",
       "     'label': None},\n",
       "    {'term': 'your-feed-science',\n",
       "     'scheme': 'http://www.nytimes.com/namespaces/keywords/des',\n",
       "     'label': None}],\n",
       "   'media_content': [{'height': '151',\n",
       "     'medium': 'image',\n",
       "     'url': 'https://static01.nyt.com/images/2021/01/06/science/06VIRUS-SMELLTEST1/06VIRUS-SMELLTEST1-moth.jpg',\n",
       "     'width': '151'}],\n",
       "   'media_credit': [{'content': 'Alejandro Pagni/Agence France-Presse — Getty Images'}],\n",
       "   'credit': 'Alejandro Pagni/Agence France-Presse — Getty Images',\n",
       "   'content': [{'type': 'text/plain',\n",
       "     'language': None,\n",
       "     'base': 'https://rss.nytimes.com/services/xml/rss/nyt/World.xml',\n",
       "     'value': 'A health worker in Altos de San Lorenzo, a neighborhood outside Buenos Aires, Argentina, administered a smell test last year.'}]},\n",
       "  {'title': 'As Political Crisis Meets Pandemic, Italians Wonder, Why?',\n",
       "   'title_detail': {'type': 'text/plain',\n",
       "    'language': None,\n",
       "    'base': 'https://rss.nytimes.com/services/xml/rss/nyt/World.xml',\n",
       "    'value': 'As Political Crisis Meets Pandemic, Italians Wonder, Why?'},\n",
       "   'links': [{'rel': 'alternate',\n",
       "     'type': 'text/html',\n",
       "     'href': 'https://www.nytimes.com/2021/01/19/world/europe/italy-government-collapse-renzi-conte.html'},\n",
       "    {'href': 'https://www.nytimes.com/2021/01/19/world/europe/italy-government-collapse-renzi-conte.html',\n",
       "     'rel': 'standout',\n",
       "     'type': 'text/html'}],\n",
       "   'link': 'https://www.nytimes.com/2021/01/19/world/europe/italy-government-collapse-renzi-conte.html',\n",
       "   'id': 'https://www.nytimes.com/2021/01/19/world/europe/italy-government-collapse-renzi-conte.html',\n",
       "   'guidislink': False,\n",
       "   'summary': 'The government survived a near-collapse, but it remained unclear just what Matteo Renzi, the ambitious former prime minister, hoped to gain by provoking it.',\n",
       "   'summary_detail': {'type': 'text/html',\n",
       "    'language': None,\n",
       "    'base': 'https://rss.nytimes.com/services/xml/rss/nyt/World.xml',\n",
       "    'value': 'The government survived a near-collapse, but it remained unclear just what Matteo Renzi, the ambitious former prime minister, hoped to gain by provoking it.'},\n",
       "   'authors': [{'name': 'Jason Horowitz'}],\n",
       "   'author': 'Jason Horowitz',\n",
       "   'author_detail': {'name': 'Jason Horowitz'},\n",
       "   'published': 'Tue, 19 Jan 2021 22:03:02 +0000',\n",
       "   'published_parsed': time.struct_time(tm_year=2021, tm_mon=1, tm_mday=19, tm_hour=22, tm_min=3, tm_sec=2, tm_wday=1, tm_yday=19, tm_isdst=0),\n",
       "   'tags': [{'term': 'Politics and Government',\n",
       "     'scheme': 'http://www.nytimes.com/namespaces/keywords/des',\n",
       "     'label': None},\n",
       "    {'term': 'Coronavirus (2019-nCoV)',\n",
       "     'scheme': 'http://www.nytimes.com/namespaces/keywords/des',\n",
       "     'label': None},\n",
       "    {'term': 'Legislatures and Parliaments',\n",
       "     'scheme': 'http://www.nytimes.com/namespaces/keywords/des',\n",
       "     'label': None},\n",
       "    {'term': 'Five Star Movement (Italy)',\n",
       "     'scheme': 'http://www.nytimes.com/namespaces/keywords/nyt_org',\n",
       "     'label': None},\n",
       "    {'term': 'Italia Viva (Italian Political Party)',\n",
       "     'scheme': 'http://www.nytimes.com/namespaces/keywords/nyt_org',\n",
       "     'label': None},\n",
       "    {'term': 'League (Italian Political Party)',\n",
       "     'scheme': 'http://www.nytimes.com/namespaces/keywords/nyt_org',\n",
       "     'label': None},\n",
       "    {'term': 'Democratic Party (Italy)',\n",
       "     'scheme': 'http://www.nytimes.com/namespaces/keywords/nyt_org',\n",
       "     'label': None},\n",
       "    {'term': 'Conte, Giuseppe',\n",
       "     'scheme': 'http://www.nytimes.com/namespaces/keywords/nyt_per',\n",
       "     'label': None},\n",
       "    {'term': 'Renzi, Matteo',\n",
       "     'scheme': 'http://www.nytimes.com/namespaces/keywords/nyt_per',\n",
       "     'label': None},\n",
       "    {'term': 'Berlusconi, Silvio',\n",
       "     'scheme': 'http://www.nytimes.com/namespaces/keywords/nyt_per',\n",
       "     'label': None},\n",
       "    {'term': 'Salvini, Matteo',\n",
       "     'scheme': 'http://www.nytimes.com/namespaces/keywords/nyt_per',\n",
       "     'label': None},\n",
       "    {'term': 'Italy',\n",
       "     'scheme': 'http://www.nytimes.com/namespaces/keywords/nyt_geo',\n",
       "     'label': None}],\n",
       "   'media_content': [{'height': '151',\n",
       "     'medium': 'image',\n",
       "     'url': 'https://static01.nyt.com/images/2021/01/19/world/19Italy-Renzi1/00italy-collapse3-moth.jpg',\n",
       "     'width': '151'}],\n",
       "   'media_credit': [{'content': 'Fabio Frustaci/EPA, via Shutterstock'}],\n",
       "   'credit': 'Fabio Frustaci/EPA, via Shutterstock',\n",
       "   'content': [{'type': 'text/plain',\n",
       "     'language': None,\n",
       "     'base': 'https://rss.nytimes.com/services/xml/rss/nyt/World.xml',\n",
       "     'value': 'The leader of Italia Viva, Matteo Renzi, in the backstage of a television show on Sunday. The government began to teeter last week, when he withdrew two ministers.'}]}],\n",
       " 'feed': {'title': 'NYT > World News',\n",
       "  'title_detail': {'type': 'text/plain',\n",
       "   'language': None,\n",
       "   'base': 'https://rss.nytimes.com/services/xml/rss/nyt/World.xml',\n",
       "   'value': 'NYT > World News'},\n",
       "  'links': [{'rel': 'alternate',\n",
       "    'type': 'text/html',\n",
       "    'href': 'https://www.nytimes.com/section/world'},\n",
       "   {'href': 'https://rss.nytimes.com/services/xml/rss/nyt/World.xml',\n",
       "    'rel': 'self',\n",
       "    'type': 'application/rss+xml'}],\n",
       "  'link': 'https://www.nytimes.com/section/world',\n",
       "  'subtitle': '',\n",
       "  'subtitle_detail': {'type': 'text/html',\n",
       "   'language': None,\n",
       "   'base': 'https://rss.nytimes.com/services/xml/rss/nyt/World.xml',\n",
       "   'value': ''},\n",
       "  'language': 'en-us',\n",
       "  'rights': 'Copyright 2021 The New York Times Company',\n",
       "  'rights_detail': {'type': 'text/plain',\n",
       "   'language': None,\n",
       "   'base': 'https://rss.nytimes.com/services/xml/rss/nyt/World.xml',\n",
       "   'value': 'Copyright 2021 The New York Times Company'},\n",
       "  'updated': 'Fri, 22 Jan 2021 12:56:50 +0000',\n",
       "  'updated_parsed': time.struct_time(tm_year=2021, tm_mon=1, tm_mday=22, tm_hour=12, tm_min=56, tm_sec=50, tm_wday=4, tm_yday=22, tm_isdst=0),\n",
       "  'published': 'Fri, 22 Jan 2021 12:56:50 +0000',\n",
       "  'published_parsed': time.struct_time(tm_year=2021, tm_mon=1, tm_mday=22, tm_hour=12, tm_min=56, tm_sec=50, tm_wday=4, tm_yday=22, tm_isdst=0),\n",
       "  'image': {'title': 'NYT > World News',\n",
       "   'title_detail': {'type': 'text/plain',\n",
       "    'language': None,\n",
       "    'base': 'https://rss.nytimes.com/services/xml/rss/nyt/World.xml',\n",
       "    'value': 'NYT > World News'},\n",
       "   'href': 'https://static01.nyt.com/images/misc/NYT_logo_rss_250x40.png',\n",
       "   'links': [{'rel': 'alternate',\n",
       "     'type': 'text/html',\n",
       "     'href': 'https://www.nytimes.com/section/world'}],\n",
       "   'link': 'https://www.nytimes.com/section/world'}},\n",
       " 'headers': {'connection': 'close',\n",
       "  'content-length': '18571',\n",
       "  'access-control-allow-headers': 'Accept, Content-Type, X-Forwarded-For, X-Prototype-Version, X-Requested-With',\n",
       "  'access-control-allow-methods': 'GET, OPTIONS',\n",
       "  'access-control-allow-origin': '*',\n",
       "  'content-type': 'application/xml',\n",
       "  'function-execution-id': 'zax3204xrr58',\n",
       "  'x-cloud-trace-context': '42bcc4199a56a4ea75473dad0fda86c8',\n",
       "  'content-encoding': 'gzip',\n",
       "  'server': 'Google Frontend',\n",
       "  'cache-control': 'public, max-age=300',\n",
       "  'accept-ranges': 'bytes',\n",
       "  'date': 'Fri, 22 Jan 2021 13:01:29 GMT',\n",
       "  'via': '1.1 varnish',\n",
       "  'age': '279',\n",
       "  'x-served-by': 'cache-cgh11151-CGH',\n",
       "  'x-cache': 'MISS',\n",
       "  'x-cache-hits': '0',\n",
       "  'x-timer': 'S1611320489.157563,VS0,VE152',\n",
       "  'vary': 'Accept-Encoding'},\n",
       " 'href': 'https://rss.nytimes.com/services/xml/rss/nyt/World.xml',\n",
       " 'status': 301,\n",
       " 'encoding': 'utf-8',\n",
       " 'version': 'rss20',\n",
       " 'namespaces': {'dc': 'http://purl.org/dc/elements/1.1/',\n",
       "  'media': 'http://search.yahoo.com/mrss/',\n",
       "  '': 'http://www.w3.org/2005/Atom',\n",
       "  'nyt': 'http://www.nytimes.com/namespaces/rss/2.0'}}"
      ]
     },
     "metadata": {},
     "execution_count": 9
    }
   ],
   "source": [
    "feeds"
   ]
  },
  {
   "cell_type": "code",
   "execution_count": 10,
   "metadata": {},
   "outputs": [
    {
     "output_type": "execute_result",
     "data": {
      "text/plain": [
       "feedparser.util.FeedParserDict"
      ]
     },
     "metadata": {},
     "execution_count": 10
    }
   ],
   "source": [
    "type(feeds)"
   ]
  },
  {
   "cell_type": "code",
   "execution_count": 11,
   "metadata": {},
   "outputs": [
    {
     "output_type": "execute_result",
     "data": {
      "text/plain": [
       "'rss20'"
      ]
     },
     "metadata": {},
     "execution_count": 11
    }
   ],
   "source": [
    "feeds.version"
   ]
  },
  {
   "cell_type": "code",
   "execution_count": 12,
   "metadata": {},
   "outputs": [
    {
     "output_type": "execute_result",
     "data": {
      "text/plain": [
       "{'connection': 'close',\n",
       " 'content-length': '18571',\n",
       " 'access-control-allow-headers': 'Accept, Content-Type, X-Forwarded-For, X-Prototype-Version, X-Requested-With',\n",
       " 'access-control-allow-methods': 'GET, OPTIONS',\n",
       " 'access-control-allow-origin': '*',\n",
       " 'content-type': 'application/xml',\n",
       " 'function-execution-id': 'zax3204xrr58',\n",
       " 'x-cloud-trace-context': '42bcc4199a56a4ea75473dad0fda86c8',\n",
       " 'content-encoding': 'gzip',\n",
       " 'server': 'Google Frontend',\n",
       " 'cache-control': 'public, max-age=300',\n",
       " 'accept-ranges': 'bytes',\n",
       " 'date': 'Fri, 22 Jan 2021 13:01:29 GMT',\n",
       " 'via': '1.1 varnish',\n",
       " 'age': '279',\n",
       " 'x-served-by': 'cache-cgh11151-CGH',\n",
       " 'x-cache': 'MISS',\n",
       " 'x-cache-hits': '0',\n",
       " 'x-timer': 'S1611320489.157563,VS0,VE152',\n",
       " 'vary': 'Accept-Encoding'}"
      ]
     },
     "metadata": {},
     "execution_count": 12
    }
   ],
   "source": [
    "feeds.headers"
   ]
  },
  {
   "cell_type": "code",
   "execution_count": 15,
   "metadata": {},
   "outputs": [
    {
     "output_type": "execute_result",
     "data": {
      "text/plain": [
       "dict_keys(['bozo', 'entries', 'feed', 'headers', 'href', 'status', 'encoding', 'version', 'namespaces'])"
      ]
     },
     "metadata": {},
     "execution_count": 15
    }
   ],
   "source": [
    "feeds.keys()"
   ]
  },
  {
   "cell_type": "code",
   "execution_count": 27,
   "metadata": {},
   "outputs": [
    {
     "output_type": "execute_result",
     "data": {
      "text/plain": [
       "{'title': 'An Australia With No Google? The Bitter Fight Behind a Drastic Threat',\n",
       " 'title_detail': {'type': 'text/plain',\n",
       "  'language': None,\n",
       "  'base': 'https://rss.nytimes.com/services/xml/rss/nyt/World.xml',\n",
       "  'value': 'An Australia With No Google? The Bitter Fight Behind a Drastic Threat'},\n",
       " 'links': [{'rel': 'alternate',\n",
       "   'type': 'text/html',\n",
       "   'href': 'https://www.nytimes.com/2021/01/22/business/australia-google-facebook-news-media.html'},\n",
       "  {'href': 'https://www.nytimes.com/2021/01/22/business/australia-google-facebook-news-media.html',\n",
       "   'rel': 'standout',\n",
       "   'type': 'text/html'}],\n",
       " 'link': 'https://www.nytimes.com/2021/01/22/business/australia-google-facebook-news-media.html',\n",
       " 'id': 'https://www.nytimes.com/2021/01/22/business/australia-google-facebook-news-media.html',\n",
       " 'guidislink': False,\n",
       " 'summary': 'The big tech platforms are facing a challenge unlike any other as Australia moves to make them pay for news.',\n",
       " 'summary_detail': {'type': 'text/html',\n",
       "  'language': None,\n",
       "  'base': 'https://rss.nytimes.com/services/xml/rss/nyt/World.xml',\n",
       "  'value': 'The big tech platforms are facing a challenge unlike any other as Australia moves to make them pay for news.'},\n",
       " 'authors': [{'name': 'Damien Cave'}],\n",
       " 'author': 'Damien Cave',\n",
       " 'author_detail': {'name': 'Damien Cave'},\n",
       " 'published': 'Fri, 22 Jan 2021 09:09:54 +0000',\n",
       " 'published_parsed': time.struct_time(tm_year=2021, tm_mon=1, tm_mday=22, tm_hour=9, tm_min=9, tm_sec=54, tm_wday=4, tm_yday=22, tm_isdst=0),\n",
       " 'tags': [{'term': 'Australia',\n",
       "   'scheme': 'http://www.nytimes.com/namespaces/keywords/nyt_geo',\n",
       "   'label': None},\n",
       "  {'term': 'Google Inc',\n",
       "   'scheme': 'http://www.nytimes.com/namespaces/keywords/nyt_org',\n",
       "   'label': None},\n",
       "  {'term': 'Facebook Inc',\n",
       "   'scheme': 'http://www.nytimes.com/namespaces/keywords/nyt_org',\n",
       "   'label': None},\n",
       "  {'term': 'News and News Media',\n",
       "   'scheme': 'http://www.nytimes.com/namespaces/keywords/des',\n",
       "   'label': None},\n",
       "  {'term': 'Computers and the Internet',\n",
       "   'scheme': 'http://www.nytimes.com/namespaces/keywords/des',\n",
       "   'label': None},\n",
       "  {'term': 'Politics and Government',\n",
       "   'scheme': 'http://www.nytimes.com/namespaces/keywords/des',\n",
       "   'label': None},\n",
       "  {'term': 'Social Media',\n",
       "   'scheme': 'http://www.nytimes.com/namespaces/keywords/des',\n",
       "   'label': None},\n",
       "  {'term': 'Law and Legislation',\n",
       "   'scheme': 'http://www.nytimes.com/namespaces/keywords/des',\n",
       "   'label': None}],\n",
       " 'media_content': [{'height': '151',\n",
       "   'medium': 'image',\n",
       "   'url': 'https://static01.nyt.com/images/2021/01/22/world/22oz-google-1/22oz-google-1-moth.jpg',\n",
       "   'width': '151'}],\n",
       " 'media_credit': [{'content': 'Mick Tsikas/Australian Associated Press, via Associated Press'}],\n",
       " 'credit': 'Mick Tsikas/Australian Associated Press, via Associated Press',\n",
       " 'content': [{'type': 'text/plain',\n",
       "   'language': None,\n",
       "   'base': 'https://rss.nytimes.com/services/xml/rss/nyt/World.xml',\n",
       "   'value': 'Melanie Silva, the managing director of Google Australia and New Zealand, appearing via a video link during an Australian Senate inquiry on Friday.'}]}"
      ]
     },
     "metadata": {},
     "execution_count": 27
    }
   ],
   "source": [
    "feeds.entries[0]"
   ]
  },
  {
   "cell_type": "code",
   "execution_count": 21,
   "metadata": {
    "tags": []
   },
   "outputs": [],
   "source": [
    "from IPython.core.display import display, HTML"
   ]
  },
  {
   "cell_type": "code",
   "execution_count": 32,
   "metadata": {
    "tags": []
   },
   "outputs": [
    {
     "output_type": "display_data",
     "data": {
      "text/plain": "<IPython.core.display.HTML object>",
      "text/html": "<h1>An Australia With No Google? The Bitter Fight Behind a Drastic Threat</h1>"
     },
     "metadata": {}
    },
    {
     "output_type": "display_data",
     "data": {
      "text/plain": "<IPython.core.display.HTML object>",
      "text/html": "<h4>The big tech platforms are facing a challenge unlike any other as Australia moves to make them pay for news.</h1>"
     },
     "metadata": {}
    },
    {
     "output_type": "display_data",
     "data": {
      "text/plain": "<IPython.core.display.HTML object>",
      "text/html": "<p>The big tech platforms are facing a challenge unlike any other as Australia moves to make them pay for news.</p>"
     },
     "metadata": {}
    },
    {
     "output_type": "display_data",
     "data": {
      "text/plain": "<IPython.core.display.HTML object>",
      "text/html": "<p> Autor: <strong>Damien Cave<strong></p>"
     },
     "metadata": {}
    },
    {
     "output_type": "display_data",
     "data": {
      "text/plain": "<IPython.core.display.HTML object>",
      "text/html": "<p> Credits: <strong>Mick Tsikas/Australian Associated Press, via Associated Press<strong></p>"
     },
     "metadata": {}
    },
    {
     "output_type": "display_data",
     "data": {
      "text/plain": "<IPython.core.display.HTML object>",
      "text/html": "<h1>Radio Free Europe/Radio Liberty Says Russia Wants to Force It Out</h1>"
     },
     "metadata": {}
    },
    {
     "output_type": "display_data",
     "data": {
      "text/plain": "<IPython.core.display.HTML object>",
      "text/html": "<h4>Radio Free Europe/Radio Liberty has been threatened with fines and criminal charges for its journalists, forcing a tough decision on the Biden administration.</h1>"
     },
     "metadata": {}
    },
    {
     "output_type": "display_data",
     "data": {
      "text/plain": "<IPython.core.display.HTML object>",
      "text/html": "<p>Radio Free Europe/Radio Liberty has been threatened with fines and criminal charges for its journalists, forcing a tough decision on the Biden administration.</p>"
     },
     "metadata": {}
    },
    {
     "output_type": "display_data",
     "data": {
      "text/plain": "<IPython.core.display.HTML object>",
      "text/html": "<p> Autor: <strong>Anton Troianovski<strong></p>"
     },
     "metadata": {}
    },
    {
     "output_type": "display_data",
     "data": {
      "text/plain": "<IPython.core.display.HTML object>",
      "text/html": "<p> Credits: <strong>Alexey Vitvitsky/Sputnik, via Associated Press<strong></p>"
     },
     "metadata": {}
    },
    {
     "output_type": "display_data",
     "data": {
      "text/plain": "<IPython.core.display.HTML object>",
      "text/html": "<h1>U.K. Hospitals Struggle to Cope With a New Coronavirus Variant</h1>"
     },
     "metadata": {}
    },
    {
     "output_type": "display_data",
     "data": {
      "text/plain": "<IPython.core.display.HTML object>",
      "text/html": "<h4>Hospitals are straining to cope with a new coronavirus variant, despite warnings last year that more preparations were needed for an expected surge of cases in the winter.</h1>"
     },
     "metadata": {}
    },
    {
     "output_type": "display_data",
     "data": {
      "text/plain": "<IPython.core.display.HTML object>",
      "text/html": "<p>Hospitals are straining to cope with a new coronavirus variant, despite warnings last year that more preparations were needed for an expected surge of cases in the winter.</p>"
     },
     "metadata": {}
    },
    {
     "output_type": "display_data",
     "data": {
      "text/plain": "<IPython.core.display.HTML object>",
      "text/html": "<p> Autor: <strong>Benjamin Mueller<strong></p>"
     },
     "metadata": {}
    },
    {
     "output_type": "display_data",
     "data": {
      "text/plain": "<IPython.core.display.HTML object>",
      "text/html": "<p> Credits: <strong>Matt Dunham/Associated Press<strong></p>"
     },
     "metadata": {}
    },
    {
     "output_type": "display_data",
     "data": {
      "text/plain": "<IPython.core.display.HTML object>",
      "text/html": "<h1>Canada’s Governor General Resigns Amid Reports of a Toxic Workplace</h1>"
     },
     "metadata": {}
    },
    {
     "output_type": "display_data",
     "data": {
      "text/plain": "<IPython.core.display.HTML object>",
      "text/html": "<h4>Julie Payette was Canada’s official head of state, a high-profile but largely ceremonial role. She was accused of publicly humiliating employees.</h1>"
     },
     "metadata": {}
    },
    {
     "output_type": "display_data",
     "data": {
      "text/plain": "<IPython.core.display.HTML object>",
      "text/html": "<p>Julie Payette was Canada’s official head of state, a high-profile but largely ceremonial role. She was accused of publicly humiliating employees.</p>"
     },
     "metadata": {}
    },
    {
     "output_type": "display_data",
     "data": {
      "text/plain": "<IPython.core.display.HTML object>",
      "text/html": "<p> Autor: <strong>Ian Austen<strong></p>"
     },
     "metadata": {}
    },
    {
     "output_type": "display_data",
     "data": {
      "text/plain": "<IPython.core.display.HTML object>",
      "text/html": "<p> Credits: <strong>Patrick Doyle/Reuters<strong></p>"
     },
     "metadata": {}
    },
    {
     "output_type": "display_data",
     "data": {
      "text/plain": "<IPython.core.display.HTML object>",
      "text/html": "<h1>For Peter Nygard, Alone and Jailed, Rags-to-Riches Story Turns Upside Down</h1>"
     },
     "metadata": {}
    },
    {
     "output_type": "display_data",
     "data": {
      "text/plain": "<IPython.core.display.HTML object>",
      "text/html": "<h4>The former fashion executive’s defense team asked for more time after one of the two guarantors who put forward collateral raised suspicions.</h1>"
     },
     "metadata": {}
    },
    {
     "output_type": "display_data",
     "data": {
      "text/plain": "<IPython.core.display.HTML object>",
      "text/html": "<p>The former fashion executive’s defense team asked for more time after one of the two guarantors who put forward collateral raised suspicions.</p>"
     },
     "metadata": {}
    },
    {
     "output_type": "display_data",
     "data": {
      "text/plain": "<IPython.core.display.HTML object>",
      "text/html": "<p> Autor: <strong>Catherine Porter<strong></p>"
     },
     "metadata": {}
    },
    {
     "output_type": "display_data",
     "data": {
      "text/plain": "<IPython.core.display.HTML object>",
      "text/html": "<p> Credits: <strong>Justin Lane/EPA, via Shutterstock<strong></p>"
     },
     "metadata": {}
    },
    {
     "output_type": "display_data",
     "data": {
      "text/plain": "<IPython.core.display.HTML object>",
      "text/html": "<h1>Suicide Bombings in Crowded Baghdad Market Kill at Least 32</h1>"
     },
     "metadata": {}
    },
    {
     "output_type": "display_data",
     "data": {
      "text/plain": "<IPython.core.display.HTML object>",
      "text/html": "<h4>Such attacks, once common in the Iraqi capital, have become rarer in recent years as U.S.-backed Iraqi forces have largely defeated the Islamic State.</h1>"
     },
     "metadata": {}
    },
    {
     "output_type": "display_data",
     "data": {
      "text/plain": "<IPython.core.display.HTML object>",
      "text/html": "<p>Such attacks, once common in the Iraqi capital, have become rarer in recent years as U.S.-backed Iraqi forces have largely defeated the Islamic State.</p>"
     },
     "metadata": {}
    },
    {
     "output_type": "display_data",
     "data": {
      "text/plain": "<IPython.core.display.HTML object>",
      "text/html": "<p> Autor: <strong>Jane Arraf<strong></p>"
     },
     "metadata": {}
    },
    {
     "output_type": "display_data",
     "data": {
      "text/plain": "<IPython.core.display.HTML object>",
      "text/html": "<p> Credits: <strong>Ivor Prickett for The New York Times<strong></p>"
     },
     "metadata": {}
    },
    {
     "output_type": "display_data",
     "data": {
      "text/plain": "<IPython.core.display.HTML object>",
      "text/html": "<h1>Margaret Court to Get a Top Australian Honor, Drawing Outrage</h1>"
     },
     "metadata": {}
    },
    {
     "output_type": "display_data",
     "data": {
      "text/plain": "<IPython.core.display.HTML object>",
      "text/html": "<h4>Margaret Court, an Australian record breaker known for her homophobic comments, is set to receive one of the nation’s highest public service awards.</h1>"
     },
     "metadata": {}
    },
    {
     "output_type": "display_data",
     "data": {
      "text/plain": "<IPython.core.display.HTML object>",
      "text/html": "<p>Margaret Court, an Australian record breaker known for her homophobic comments, is set to receive one of the nation’s highest public service awards.</p>"
     },
     "metadata": {}
    },
    {
     "output_type": "display_data",
     "data": {
      "text/plain": "<IPython.core.display.HTML object>",
      "text/html": "<p> Autor: <strong>Yan Zhuang<strong></p>"
     },
     "metadata": {}
    },
    {
     "output_type": "display_data",
     "data": {
      "text/plain": "<IPython.core.display.HTML object>",
      "text/html": "<p> Credits: <strong>Asanka Brendon Ratnayake for The New York Times<strong></p>"
     },
     "metadata": {}
    },
    {
     "output_type": "display_data",
     "data": {
      "text/plain": "<IPython.core.display.HTML object>",
      "text/html": "<h1>Former Vatican Banker Convicted of Money Laundering and Embezzlement</h1>"
     },
     "metadata": {}
    },
    {
     "output_type": "display_data",
     "data": {
      "text/plain": "<IPython.core.display.HTML object>",
      "text/html": "<h4>The ruling by the Vatican court signaled the church’s desire to get its financial house in order following past scandals.</h1>"
     },
     "metadata": {}
    },
    {
     "output_type": "display_data",
     "data": {
      "text/plain": "<IPython.core.display.HTML object>",
      "text/html": "<p>The ruling by the Vatican court signaled the church’s desire to get its financial house in order following past scandals.</p>"
     },
     "metadata": {}
    },
    {
     "output_type": "display_data",
     "data": {
      "text/plain": "<IPython.core.display.HTML object>",
      "text/html": "<p> Autor: <strong>Elisabetta Povoledo<strong></p>"
     },
     "metadata": {}
    },
    {
     "output_type": "display_data",
     "data": {
      "text/plain": "<IPython.core.display.HTML object>",
      "text/html": "<p> Credits: <strong>Osservatore Romano, via Reuters<strong></p>"
     },
     "metadata": {}
    },
    {
     "output_type": "display_data",
     "data": {
      "text/plain": "<IPython.core.display.HTML object>",
      "text/html": "<h1>‘Cannabis Factory’ Is Found in London’s Deserted Financial District</h1>"
     },
     "metadata": {}
    },
    {
     "output_type": "display_data",
     "data": {
      "text/plain": "<IPython.core.display.HTML object>",
      "text/html": "<h4>After reports of a strong smell in the area, which is largely empty because of lockdown restrictions, the police discovered more than 800 weed plants in a basement near the Bank of England.</h1>"
     },
     "metadata": {}
    },
    {
     "output_type": "display_data",
     "data": {
      "text/plain": "<IPython.core.display.HTML object>",
      "text/html": "<p>After reports of a strong smell in the area, which is largely empty because of lockdown restrictions, the police discovered more than 800 weed plants in a basement near the Bank of England.</p>"
     },
     "metadata": {}
    },
    {
     "output_type": "display_data",
     "data": {
      "text/plain": "<IPython.core.display.HTML object>",
      "text/html": "<p> Autor: <strong>Isabella Kwai<strong></p>"
     },
     "metadata": {}
    },
    {
     "output_type": "display_data",
     "data": {
      "text/plain": "<IPython.core.display.HTML object>",
      "text/html": "<p> Credits: <strong>City of London Police<strong></p>"
     },
     "metadata": {}
    },
    {
     "output_type": "display_data",
     "data": {
      "text/plain": "<IPython.core.display.HTML object>",
      "text/html": "<h1>Ukraine Ended Secret Government Spending. Vaccine Makers Now Demand It.</h1>"
     },
     "metadata": {}
    },
    {
     "output_type": "display_data",
     "data": {
      "text/plain": "<IPython.core.display.HTML object>",
      "text/html": "<h4>Seeking to secure vital supplies, the authorities in the country maneuvered around anticorruption rules that require public disclosure of contracts.</h1>"
     },
     "metadata": {}
    },
    {
     "output_type": "display_data",
     "data": {
      "text/plain": "<IPython.core.display.HTML object>",
      "text/html": "<p>Seeking to secure vital supplies, the authorities in the country maneuvered around anticorruption rules that require public disclosure of contracts.</p>"
     },
     "metadata": {}
    },
    {
     "output_type": "display_data",
     "data": {
      "text/plain": "<IPython.core.display.HTML object>",
      "text/html": "<p> Autor: <strong>Maria Varenikova and Andrew E. Kramer<strong></p>"
     },
     "metadata": {}
    },
    {
     "output_type": "display_data",
     "data": {
      "text/plain": "<IPython.core.display.HTML object>",
      "text/html": "<p> Credits: <strong>Christophe Archambault/Agence France-Presse — Getty Images<strong></p>"
     },
     "metadata": {}
    },
    {
     "output_type": "display_data",
     "data": {
      "text/plain": "<IPython.core.display.HTML object>",
      "text/html": "<h1>A Vaccine Road Trip</h1>"
     },
     "metadata": {}
    },
    {
     "output_type": "display_data",
     "data": {
      "text/plain": "<IPython.core.display.HTML object>",
      "text/html": "<h4>And what else you need to know today.</h1>"
     },
     "metadata": {}
    },
    {
     "output_type": "display_data",
     "data": {
      "text/plain": "<IPython.core.display.HTML object>",
      "text/html": "<p>And what else you need to know today.</p>"
     },
     "metadata": {}
    },
    {
     "output_type": "display_data",
     "data": {
      "text/plain": "<IPython.core.display.HTML object>",
      "text/html": "<p> Autor: <strong>David Leonhardt<strong></p>"
     },
     "metadata": {}
    },
    {
     "output_type": "display_data",
     "data": {
      "text/plain": "<IPython.core.display.HTML object>",
      "text/html": "<p> Credits: <strong>Ruth Fremson/The New York Times<strong></p>"
     },
     "metadata": {}
    },
    {
     "output_type": "display_data",
     "data": {
      "text/plain": "<IPython.core.display.HTML object>",
      "text/html": "<h1>Dave Chappelle tests positive for Covid-19.</h1>"
     },
     "metadata": {}
    },
    {
     "output_type": "display_data",
     "data": {
      "text/plain": "<IPython.core.display.HTML object>",
      "text/html": "<h4>The comedian canceled several upcoming shows in Austin, Texas, and is quarantining.</h1>"
     },
     "metadata": {}
    },
    {
     "output_type": "display_data",
     "data": {
      "text/plain": "<IPython.core.display.HTML object>",
      "text/html": "<p>The comedian canceled several upcoming shows in Austin, Texas, and is quarantining.</p>"
     },
     "metadata": {}
    },
    {
     "output_type": "display_data",
     "data": {
      "text/plain": "<IPython.core.display.HTML object>",
      "text/html": "<p> Autor: <strong>Derrick Bryson Taylor<strong></p>"
     },
     "metadata": {}
    },
    {
     "output_type": "display_data",
     "data": {
      "text/plain": "<IPython.core.display.HTML object>",
      "text/html": "<p> Credits: <strong>Owen Sweeney/Invision, via Associated Press<strong></p>"
     },
     "metadata": {}
    },
    {
     "output_type": "display_data",
     "data": {
      "text/plain": "<IPython.core.display.HTML object>",
      "text/html": "<h1>1971: After 2 Years and 100 Sessions, Vietnam Peace Talks Remain Deadlocked</h1>"
     },
     "metadata": {}
    },
    {
     "output_type": "display_data",
     "data": {
      "text/plain": "<IPython.core.display.HTML object>",
      "text/html": "<h4>A spokesman for the United States said, “Nothing transpired to any news value” in the five-hour meeting in Paris, during which the sides reiterated already well-known positions.</h1>"
     },
     "metadata": {}
    },
    {
     "output_type": "display_data",
     "data": {
      "text/plain": "<IPython.core.display.HTML object>",
      "text/html": "<p>A spokesman for the United States said, “Nothing transpired to any news value” in the five-hour meeting in Paris, during which the sides reiterated already well-known positions.</p>"
     },
     "metadata": {}
    },
    {
     "output_type": "display_data",
     "data": {
      "text/plain": "<IPython.core.display.HTML object>",
      "text/html": "<p> Autor: <strong>The International Herald Tribune<strong></p>"
     },
     "metadata": {}
    },
    {
     "output_type": "error",
     "ename": "AttributeError",
     "evalue": "object has no attribute 'credit'",
     "traceback": [
      "\u001b[1;31m---------------------------------------------------------------------------\u001b[0m",
      "\u001b[1;31mKeyError\u001b[0m                                  Traceback (most recent call last)",
      "\u001b[1;32mD:\\angel\\anaconda3\\lib\\site-packages\\feedparser\\util.py\u001b[0m in \u001b[0;36m__getattr__\u001b[1;34m(self, key)\u001b[0m\n\u001b[0;32m    155\u001b[0m         \u001b[1;32mtry\u001b[0m\u001b[1;33m:\u001b[0m\u001b[1;33m\u001b[0m\u001b[1;33m\u001b[0m\u001b[0m\n\u001b[1;32m--> 156\u001b[1;33m             \u001b[1;32mreturn\u001b[0m \u001b[0mself\u001b[0m\u001b[1;33m.\u001b[0m\u001b[0m__getitem__\u001b[0m\u001b[1;33m(\u001b[0m\u001b[0mkey\u001b[0m\u001b[1;33m)\u001b[0m\u001b[1;33m\u001b[0m\u001b[1;33m\u001b[0m\u001b[0m\n\u001b[0m\u001b[0;32m    157\u001b[0m         \u001b[1;32mexcept\u001b[0m \u001b[0mKeyError\u001b[0m\u001b[1;33m:\u001b[0m\u001b[1;33m\u001b[0m\u001b[1;33m\u001b[0m\u001b[0m\n",
      "\u001b[1;32mD:\\angel\\anaconda3\\lib\\site-packages\\feedparser\\util.py\u001b[0m in \u001b[0;36m__getitem__\u001b[1;34m(self, key)\u001b[0m\n\u001b[0;32m    112\u001b[0m                 \u001b[1;32mreturn\u001b[0m \u001b[0mdict\u001b[0m\u001b[1;33m.\u001b[0m\u001b[0m__getitem__\u001b[0m\u001b[1;33m(\u001b[0m\u001b[0mself\u001b[0m\u001b[1;33m,\u001b[0m \u001b[0mrealkey\u001b[0m\u001b[1;33m)\u001b[0m\u001b[1;33m\u001b[0m\u001b[1;33m\u001b[0m\u001b[0m\n\u001b[1;32m--> 113\u001b[1;33m         \u001b[1;32mreturn\u001b[0m \u001b[0mdict\u001b[0m\u001b[1;33m.\u001b[0m\u001b[0m__getitem__\u001b[0m\u001b[1;33m(\u001b[0m\u001b[0mself\u001b[0m\u001b[1;33m,\u001b[0m \u001b[0mkey\u001b[0m\u001b[1;33m)\u001b[0m\u001b[1;33m\u001b[0m\u001b[1;33m\u001b[0m\u001b[0m\n\u001b[0m\u001b[0;32m    114\u001b[0m \u001b[1;33m\u001b[0m\u001b[0m\n",
      "\u001b[1;31mKeyError\u001b[0m: 'credit'",
      "\nDuring handling of the above exception, another exception occurred:\n",
      "\u001b[1;31mAttributeError\u001b[0m                            Traceback (most recent call last)",
      "\u001b[1;32m<ipython-input-32-07f256dedeaf>\u001b[0m in \u001b[0;36m<module>\u001b[1;34m\u001b[0m\n\u001b[0;32m      4\u001b[0m     \u001b[0mdisplay\u001b[0m\u001b[1;33m(\u001b[0m\u001b[0mHTML\u001b[0m\u001b[1;33m(\u001b[0m\u001b[1;34mf'<p>{feed.summary_detail.value}</p>'\u001b[0m\u001b[1;33m)\u001b[0m\u001b[1;33m)\u001b[0m\u001b[1;33m\u001b[0m\u001b[1;33m\u001b[0m\u001b[0m\n\u001b[0;32m      5\u001b[0m     \u001b[0mdisplay\u001b[0m\u001b[1;33m(\u001b[0m\u001b[0mHTML\u001b[0m\u001b[1;33m(\u001b[0m\u001b[1;34mf'<p> Autor: <strong>{feed.author}<strong></p>'\u001b[0m\u001b[1;33m)\u001b[0m\u001b[1;33m)\u001b[0m\u001b[1;33m\u001b[0m\u001b[1;33m\u001b[0m\u001b[0m\n\u001b[1;32m----> 6\u001b[1;33m     \u001b[0mdisplay\u001b[0m\u001b[1;33m(\u001b[0m\u001b[0mHTML\u001b[0m\u001b[1;33m(\u001b[0m\u001b[1;34mf'<p> Credits: <strong>{feed.credit}<strong></p>'\u001b[0m\u001b[1;33m)\u001b[0m\u001b[1;33m)\u001b[0m\u001b[1;33m\u001b[0m\u001b[1;33m\u001b[0m\u001b[0m\n\u001b[0m",
      "\u001b[1;32mD:\\angel\\anaconda3\\lib\\site-packages\\feedparser\\util.py\u001b[0m in \u001b[0;36m__getattr__\u001b[1;34m(self, key)\u001b[0m\n\u001b[0;32m    156\u001b[0m             \u001b[1;32mreturn\u001b[0m \u001b[0mself\u001b[0m\u001b[1;33m.\u001b[0m\u001b[0m__getitem__\u001b[0m\u001b[1;33m(\u001b[0m\u001b[0mkey\u001b[0m\u001b[1;33m)\u001b[0m\u001b[1;33m\u001b[0m\u001b[1;33m\u001b[0m\u001b[0m\n\u001b[0;32m    157\u001b[0m         \u001b[1;32mexcept\u001b[0m \u001b[0mKeyError\u001b[0m\u001b[1;33m:\u001b[0m\u001b[1;33m\u001b[0m\u001b[1;33m\u001b[0m\u001b[0m\n\u001b[1;32m--> 158\u001b[1;33m             \u001b[1;32mraise\u001b[0m \u001b[0mAttributeError\u001b[0m\u001b[1;33m(\u001b[0m\u001b[1;34m\"object has no attribute '%s'\"\u001b[0m \u001b[1;33m%\u001b[0m \u001b[0mkey\u001b[0m\u001b[1;33m)\u001b[0m\u001b[1;33m\u001b[0m\u001b[1;33m\u001b[0m\u001b[0m\n\u001b[0m\u001b[0;32m    159\u001b[0m \u001b[1;33m\u001b[0m\u001b[0m\n\u001b[0;32m    160\u001b[0m     \u001b[1;32mdef\u001b[0m \u001b[0m__hash__\u001b[0m\u001b[1;33m(\u001b[0m\u001b[0mself\u001b[0m\u001b[1;33m)\u001b[0m\u001b[1;33m:\u001b[0m\u001b[1;33m\u001b[0m\u001b[1;33m\u001b[0m\u001b[0m\n",
      "\u001b[1;31mAttributeError\u001b[0m: object has no attribute 'credit'"
     ]
    }
   ],
   "source": [
    "for feed in feeds.entries:\n",
    "    display(HTML(f'<h1>{feed.title}</h1>'))\n",
    "    display(HTML(f'<h4>{feed.summary}</h1>'))\n",
    "    display(HTML(f'<p>{feed.summary_detail.value}</p>'))\n",
    "    display(HTML(f'<p> Autor: <strong>{feed.author}<strong></p>'))\n",
    "    display(HTML(f'<p> Credits: <strong>{feed.credit}<strong></p>'))"
   ]
  },
  {
   "cell_type": "code",
   "execution_count": null,
   "metadata": {},
   "outputs": [],
   "source": []
  }
 ]
}