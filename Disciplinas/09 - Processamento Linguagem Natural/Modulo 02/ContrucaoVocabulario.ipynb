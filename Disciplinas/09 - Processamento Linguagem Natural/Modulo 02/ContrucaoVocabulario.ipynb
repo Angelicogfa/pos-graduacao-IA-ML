{
 "metadata": {
  "language_info": {
   "codemirror_mode": {
    "name": "ipython",
    "version": 3
   },
   "file_extension": ".py",
   "mimetype": "text/x-python",
   "name": "python",
   "nbconvert_exporter": "python",
   "pygments_lexer": "ipython3",
   "version": "3.7.9-final"
  },
  "orig_nbformat": 2,
  "kernelspec": {
   "name": "python3",
   "display_name": "Python 3",
   "language": "python"
  }
 },
 "nbformat": 4,
 "nbformat_minor": 2,
 "cells": [
  {
   "source": [
    "# Construção de vocabulário\n",
    "\n",
    "* Tokenizando textos em palavras e n-gramas (tokens)\n",
    "\n",
    "* Como lidar com pontuação e emoticons fora do padrão de postagens nas redes sociais.\n",
    "\n",
    "* Compactando vocabulários com stemming e lematização.\n",
    "\n",
    "* Construidndo uma representação vetorial de uma instrução."
   ],
   "cell_type": "markdown",
   "metadata": {}
  },
  {
   "source": [
    "## Tokenizador\n",
    "\n",
    "* Primeiro passo para um sistema de NLP é um bom vocabulário.\n",
    "\n",
    "* Aqui iremos estudar algoritmos para separar uma string em palavras em pares, triplas, quadruplas e até quíntuplas. Estes pedaços são chamados de n-grams (n é igual ao tamanho dos pedaços).\n",
    "\n",
    "* O uso de n-grams permite que sua máquina saiba sobre \"ice cream\", bem como os \"ice\" e \"cream\".\n",
    "\n",
    "* No processamento de linguagem natural, compor um vetor numérico a partir de texto é um processo de extração de features \"com perdas\".\n",
    "\n",
    "* No entanto, o bag-of-words (BOW), retêm o conteúdo de informações do texto suficiente para produzir modelos úteis de máquina.\n",
    "\n",
    "* A tokenização é um tipo específico de segmentação de documento. A segmentação divide o texto em pedaços ou segmentos menores.\n",
    "\n",
    "* A segmentação pode incluir a quebra de um documento em parágrafos, parágrafos em sentenças, frases em tokens (geralmente palavras) e pontuação.\n",
    "\n",
    "* Em compiladores, um tokenizador usado para compilar linguagens de computador é chamado **lexer**.\n",
    "\n",
    "* O vocubulário (o conjunto de todos os tokens válidos) para uma linguagem de computador é de lexico.\n",
    "\n",
    "* Para um sistema de NLP, temos (equivalente aos compiladores):\n",
    "\n",
    "    * Tokenizador: scanner, lexer, analisador lexical.\n",
    "\n",
    "    * Vocabulário: léxico.\n",
    "\n",
    "    * Analisador: compilador.\n",
    "\n",
    "    * token ,termo ou n-gram: token, símbolo ou símbolo terminal.\n",
    "\n",
    "* A tokenização é a primeira etapa de um pipeline de NLP.\n",
    "\n",
    "* Objetivo: dividir dados não estruturados (texto em linguagem natural) em chunks de informações discretos.\n",
    "\n",
    "* Essas contagens de ocorrência de tokens em um documento podem ser usadas diretamente como um vetor que representa este documento.\n",
    "\n",
    "* Ideia: transformar uma sequeência não estruturada (documento textual) em uma esturtura de dados numérico adqueada para aprendizado de máquina.\n",
    "\n",
    "* Codificação: A maneira mais simples de tokenizar uma frase é usar espaços em branco em uma string como o \"delimitador\" das palavras."
   ],
   "cell_type": "markdown",
   "metadata": {}
  },
  {
   "cell_type": "code",
   "execution_count": 1,
   "metadata": {},
   "outputs": [
    {
     "output_type": "execute_result",
     "data": {
      "text/plain": [
       "['Thomas',\n",
       " 'Jefferson',\n",
       " 'began',\n",
       " 'building',\n",
       " 'Monticello',\n",
       " 'at',\n",
       " 'the',\n",
       " 'age',\n",
       " 'of',\n",
       " '26.']"
      ]
     },
     "metadata": {},
     "execution_count": 1
    }
   ],
   "source": [
    "sentence = \"Thomas Jefferson began building Monticello at the age of 26.\"\n",
    "sentence.split()"
   ]
  },
  {
   "cell_type": "code",
   "execution_count": 2,
   "metadata": {},
   "outputs": [],
   "source": [
    "import numpy as np\n",
    "import pandas as pd\n",
    "\n",
    "token_sequence = str.split(sentence)\n",
    "vocab = sorted(set(token_sequence))"
   ]
  },
  {
   "cell_type": "code",
   "execution_count": 3,
   "metadata": {},
   "outputs": [
    {
     "output_type": "stream",
     "name": "stdout",
     "text": [
      "10 10\n"
     ]
    }
   ],
   "source": [
    "num_tokens = len(token_sequence)\n",
    "vocab_size = len(vocab)\n",
    "\n",
    "print(num_tokens, vocab_size)"
   ]
  },
  {
   "cell_type": "code",
   "execution_count": 4,
   "metadata": {},
   "outputs": [],
   "source": [
    "onehot_vector = np.zeros((num_tokens, vocab_size), int)\n",
    "\n",
    "for i, word in enumerate(token_sequence):\n",
    "    onehot_vector[i, vocab.index(word)] = 1"
   ]
  },
  {
   "cell_type": "code",
   "execution_count": 5,
   "metadata": {},
   "outputs": [
    {
     "output_type": "execute_result",
     "data": {
      "text/plain": [
       "   26.  Jefferson  Monticello  Thomas  age  at  began  building  of  the\n",
       "0    0          0           0       1    0   0      0         0   0    0\n",
       "1    0          1           0       0    0   0      0         0   0    0\n",
       "2    0          0           0       0    0   0      1         0   0    0\n",
       "3    0          0           0       0    0   0      0         1   0    0\n",
       "4    0          0           1       0    0   0      0         0   0    0\n",
       "5    0          0           0       0    0   1      0         0   0    0\n",
       "6    0          0           0       0    0   0      0         0   0    1\n",
       "7    0          0           0       0    1   0      0         0   0    0\n",
       "8    0          0           0       0    0   0      0         0   1    0\n",
       "9    1          0           0       0    0   0      0         0   0    0"
      ],
      "text/html": "<div>\n<style scoped>\n    .dataframe tbody tr th:only-of-type {\n        vertical-align: middle;\n    }\n\n    .dataframe tbody tr th {\n        vertical-align: top;\n    }\n\n    .dataframe thead th {\n        text-align: right;\n    }\n</style>\n<table border=\"1\" class=\"dataframe\">\n  <thead>\n    <tr style=\"text-align: right;\">\n      <th></th>\n      <th>26.</th>\n      <th>Jefferson</th>\n      <th>Monticello</th>\n      <th>Thomas</th>\n      <th>age</th>\n      <th>at</th>\n      <th>began</th>\n      <th>building</th>\n      <th>of</th>\n      <th>the</th>\n    </tr>\n  </thead>\n  <tbody>\n    <tr>\n      <th>0</th>\n      <td>0</td>\n      <td>0</td>\n      <td>0</td>\n      <td>1</td>\n      <td>0</td>\n      <td>0</td>\n      <td>0</td>\n      <td>0</td>\n      <td>0</td>\n      <td>0</td>\n    </tr>\n    <tr>\n      <th>1</th>\n      <td>0</td>\n      <td>1</td>\n      <td>0</td>\n      <td>0</td>\n      <td>0</td>\n      <td>0</td>\n      <td>0</td>\n      <td>0</td>\n      <td>0</td>\n      <td>0</td>\n    </tr>\n    <tr>\n      <th>2</th>\n      <td>0</td>\n      <td>0</td>\n      <td>0</td>\n      <td>0</td>\n      <td>0</td>\n      <td>0</td>\n      <td>1</td>\n      <td>0</td>\n      <td>0</td>\n      <td>0</td>\n    </tr>\n    <tr>\n      <th>3</th>\n      <td>0</td>\n      <td>0</td>\n      <td>0</td>\n      <td>0</td>\n      <td>0</td>\n      <td>0</td>\n      <td>0</td>\n      <td>1</td>\n      <td>0</td>\n      <td>0</td>\n    </tr>\n    <tr>\n      <th>4</th>\n      <td>0</td>\n      <td>0</td>\n      <td>1</td>\n      <td>0</td>\n      <td>0</td>\n      <td>0</td>\n      <td>0</td>\n      <td>0</td>\n      <td>0</td>\n      <td>0</td>\n    </tr>\n    <tr>\n      <th>5</th>\n      <td>0</td>\n      <td>0</td>\n      <td>0</td>\n      <td>0</td>\n      <td>0</td>\n      <td>1</td>\n      <td>0</td>\n      <td>0</td>\n      <td>0</td>\n      <td>0</td>\n    </tr>\n    <tr>\n      <th>6</th>\n      <td>0</td>\n      <td>0</td>\n      <td>0</td>\n      <td>0</td>\n      <td>0</td>\n      <td>0</td>\n      <td>0</td>\n      <td>0</td>\n      <td>0</td>\n      <td>1</td>\n    </tr>\n    <tr>\n      <th>7</th>\n      <td>0</td>\n      <td>0</td>\n      <td>0</td>\n      <td>0</td>\n      <td>1</td>\n      <td>0</td>\n      <td>0</td>\n      <td>0</td>\n      <td>0</td>\n      <td>0</td>\n    </tr>\n    <tr>\n      <th>8</th>\n      <td>0</td>\n      <td>0</td>\n      <td>0</td>\n      <td>0</td>\n      <td>0</td>\n      <td>0</td>\n      <td>0</td>\n      <td>0</td>\n      <td>1</td>\n      <td>0</td>\n    </tr>\n    <tr>\n      <th>9</th>\n      <td>1</td>\n      <td>0</td>\n      <td>0</td>\n      <td>0</td>\n      <td>0</td>\n      <td>0</td>\n      <td>0</td>\n      <td>0</td>\n      <td>0</td>\n      <td>0</td>\n    </tr>\n  </tbody>\n</table>\n</div>"
     },
     "metadata": {},
     "execution_count": 5
    }
   ],
   "source": [
    "pd.DataFrame(onehot_vector, columns=vocab)"
   ]
  },
  {
   "source": [
    "Nesta representação do seu documento, cada linha é um vetor para uma única palavra.\n",
    "\n",
    "Podemos usar o vetor $[0, 0, 0,\t0,\t1,\t0,\t0,\t0,\t0,\t0]$ para representar a palavra \"age\" no pipeline.\n",
    "\n",
    "Um \"1\" em uma coluna indica uma palavra do vocabulário que estava presente nessa posição no documento."
   ],
   "cell_type": "markdown",
   "metadata": {}
  },
  {
   "source": [
    "## Bag Of Words\n",
    "\n",
    "Até aqui criamos uma representação com apneas um único documento (a frase utilizada).\n",
    "\n",
    "Para ficar mais clara a ideia de bag-of-words precisamos trabalhar com vários documentos para termos um vocubalário (conjunto de palavras) significativamente maior."
   ],
   "cell_type": "markdown",
   "metadata": {}
  },
  {
   "cell_type": "code",
   "execution_count": 6,
   "metadata": {},
   "outputs": [
    {
     "output_type": "execute_result",
     "data": {
      "text/plain": [
       "       Thomas  Jefferson  began  building  Monticello  at  the  age  of  26.  \\\n",
       "sent0       1          1      1         1           1   1    1    1   1    1   \n",
       "sent1       0          0      0         0           0   0    0    0   0    0   \n",
       "sent2       0          0      0         0           0   0    1    0   0    0   \n",
       "sent3       0          1      0         0           1   0    0    0   0    0   \n",
       "sent4       0          0      0         0           0   0    0    0   0    0   \n",
       "\n",
       "       ...  moved  into  South  Pavillion  in  1770.  Turning  a  \\\n",
       "sent0  ...      0     0      0          0   0      0        0  0   \n",
       "sent1  ...      0     0      0          0   0      0        0  0   \n",
       "sent2  ...      1     1      1          1   1      1        0  0   \n",
       "sent3  ...      0     1      0          0   0      0        1  1   \n",
       "sent4  ...      0     0      0          0   0      0        0  0   \n",
       "\n",
       "       neoclassical  masterpiece  \n",
       "sent0             0            0  \n",
       "sent1             0            0  \n",
       "sent2             0            0  \n",
       "sent3             1            1  \n",
       "sent4             0            0  \n",
       "\n",
       "[5 rows x 30 columns]"
      ],
      "text/html": "<div>\n<style scoped>\n    .dataframe tbody tr th:only-of-type {\n        vertical-align: middle;\n    }\n\n    .dataframe tbody tr th {\n        vertical-align: top;\n    }\n\n    .dataframe thead th {\n        text-align: right;\n    }\n</style>\n<table border=\"1\" class=\"dataframe\">\n  <thead>\n    <tr style=\"text-align: right;\">\n      <th></th>\n      <th>Thomas</th>\n      <th>Jefferson</th>\n      <th>began</th>\n      <th>building</th>\n      <th>Monticello</th>\n      <th>at</th>\n      <th>the</th>\n      <th>age</th>\n      <th>of</th>\n      <th>26.</th>\n      <th>...</th>\n      <th>moved</th>\n      <th>into</th>\n      <th>South</th>\n      <th>Pavillion</th>\n      <th>in</th>\n      <th>1770.</th>\n      <th>Turning</th>\n      <th>a</th>\n      <th>neoclassical</th>\n      <th>masterpiece</th>\n    </tr>\n  </thead>\n  <tbody>\n    <tr>\n      <th>sent0</th>\n      <td>1</td>\n      <td>1</td>\n      <td>1</td>\n      <td>1</td>\n      <td>1</td>\n      <td>1</td>\n      <td>1</td>\n      <td>1</td>\n      <td>1</td>\n      <td>1</td>\n      <td>...</td>\n      <td>0</td>\n      <td>0</td>\n      <td>0</td>\n      <td>0</td>\n      <td>0</td>\n      <td>0</td>\n      <td>0</td>\n      <td>0</td>\n      <td>0</td>\n      <td>0</td>\n    </tr>\n    <tr>\n      <th>sent1</th>\n      <td>0</td>\n      <td>0</td>\n      <td>0</td>\n      <td>0</td>\n      <td>0</td>\n      <td>0</td>\n      <td>0</td>\n      <td>0</td>\n      <td>0</td>\n      <td>0</td>\n      <td>...</td>\n      <td>0</td>\n      <td>0</td>\n      <td>0</td>\n      <td>0</td>\n      <td>0</td>\n      <td>0</td>\n      <td>0</td>\n      <td>0</td>\n      <td>0</td>\n      <td>0</td>\n    </tr>\n    <tr>\n      <th>sent2</th>\n      <td>0</td>\n      <td>0</td>\n      <td>0</td>\n      <td>0</td>\n      <td>0</td>\n      <td>0</td>\n      <td>1</td>\n      <td>0</td>\n      <td>0</td>\n      <td>0</td>\n      <td>...</td>\n      <td>1</td>\n      <td>1</td>\n      <td>1</td>\n      <td>1</td>\n      <td>1</td>\n      <td>1</td>\n      <td>0</td>\n      <td>0</td>\n      <td>0</td>\n      <td>0</td>\n    </tr>\n    <tr>\n      <th>sent3</th>\n      <td>0</td>\n      <td>1</td>\n      <td>0</td>\n      <td>0</td>\n      <td>1</td>\n      <td>0</td>\n      <td>0</td>\n      <td>0</td>\n      <td>0</td>\n      <td>0</td>\n      <td>...</td>\n      <td>0</td>\n      <td>1</td>\n      <td>0</td>\n      <td>0</td>\n      <td>0</td>\n      <td>0</td>\n      <td>1</td>\n      <td>1</td>\n      <td>1</td>\n      <td>1</td>\n    </tr>\n    <tr>\n      <th>sent4</th>\n      <td>0</td>\n      <td>0</td>\n      <td>0</td>\n      <td>0</td>\n      <td>0</td>\n      <td>0</td>\n      <td>0</td>\n      <td>0</td>\n      <td>0</td>\n      <td>0</td>\n      <td>...</td>\n      <td>0</td>\n      <td>0</td>\n      <td>0</td>\n      <td>0</td>\n      <td>0</td>\n      <td>0</td>\n      <td>0</td>\n      <td>0</td>\n      <td>0</td>\n      <td>0</td>\n    </tr>\n  </tbody>\n</table>\n<p>5 rows × 30 columns</p>\n</div>"
     },
     "metadata": {},
     "execution_count": 6
    }
   ],
   "source": [
    "sentences = \"Thomas Jefferson began building Monticello at the age of 26.\\n\"\n",
    "sentences += \"Construction was done mstly by local masons and carpenters.\\n\"\n",
    "sentences += \"He moved into the South Pavillion in 1770.\\n\"\n",
    "sentences += \"Turning Monticello into a neoclassical masterpiece was Jefferson\\n\"\n",
    "\n",
    "corpus = {}\n",
    "\n",
    "for i, sent in enumerate(sentences.split('\\n')):\n",
    "   corpus[f'sent{i}'] = dict((tok, 1) for tok in sent.split())\n",
    "\n",
    "\n",
    "df = pd.DataFrame.from_records(corpus).fillna(0).astype(int).T\n",
    "df"
   ]
  },
  {
   "source": [
    "Observe o resultado (várias colunas foram omitidas). Cada documento (sentença) possui apenas o valor \"1\" na posição do vocabulário em que há ocorrência daquela palavra.\n",
    "\n",
    "* Agora iremos calcular essa sobreposição no pipeline para comparar documentos ou procurar documentos semelhantes, contando o número de tokens sobrepostos usando um produto escalar."
   ],
   "cell_type": "markdown",
   "metadata": {}
  },
  {
   "source": [
    "## Produto Escalar\n",
    "\n",
    "* O produto escalar utiliza vetores de dimensões (tamanhos) iguais.\n",
    "\n",
    "* Sua operação produz um único escalar como saída.\n",
    "\n",
    "* O valor escalar gerado pelo produto escalar pode ser calculado multiplicando todos os elementos de um vetor por todos os elementos de um segundo vetor. "
   ],
   "cell_type": "markdown",
   "metadata": {}
  },
  {
   "cell_type": "code",
   "execution_count": 7,
   "metadata": {},
   "outputs": [
    {
     "output_type": "execute_result",
     "data": {
      "text/plain": [
       "20"
      ]
     },
     "metadata": {},
     "execution_count": 7
    }
   ],
   "source": [
    "v1 = np.array([1, 2, 3])\n",
    "v2 = np.array([2, 3, 4])\n",
    "\n",
    "np.dot(v1, v2)"
   ]
  },
  {
   "source": [
    "###  Medindo o overlap entre bag-of-words\n",
    "\n",
    "* Se pudermos medir a sobreposição de um conjunto de palavras para dois vetores, podemos obter uma boa estimativa de quão similares eles são.\n",
    "\n",
    "* E esta é uma boa estimativa de quão similares elas são no significado."
   ],
   "cell_type": "markdown",
   "metadata": {}
  },
  {
   "cell_type": "code",
   "execution_count": 8,
   "metadata": {},
   "outputs": [
    {
     "output_type": "stream",
     "name": "stdout",
     "text": [
      "0\n1\n2\n"
     ]
    }
   ],
   "source": [
    "df = df.T\n",
    "print(df.sent0.dot(df.sent1))\n",
    "print(df.sent0.dot(df.sent2))\n",
    "print(df.sent0.dot(df.sent3))"
   ]
  },
  {
   "source": [
    "* Veja que uma palavra foi usada em sent0 e sent2 (resposta 1).\n",
    "\n",
    "* Da mesma forma, duas palavras do vocabulário foi usada em sent0 e sent3.\n",
    "\n",
    " * Essa sobreposição de palavras é uma medida de similaridade.\n",
    "\n",
    " * A frase sent1 foa a unica que não mencionou Jefferson ou Monticello diretamente, mas usou no conjunto de palvras completamente diferentes.\n",
    "\n",
    " * Este modelo visto aqui é uma forma de extração de features de frases.\n",
    "\n",
    " * Além de produtos escalares, outras operações de vetores pode ser usadas nestes casos: adição, subtração, OR, AND e assim por diante. Ou até mesmo distância euclidiana ou distância dos cossenos entre esses vetores."
   ],
   "cell_type": "markdown",
   "metadata": {}
  },
  {
   "source": [
    "### Melhorando a extração de tokens\n",
    "\n",
    "* Agora podemos melhorar a extração de tokens separando melhor as palavras usando expressão regular (até então usamos apenas espaços em branco)."
   ],
   "cell_type": "markdown",
   "metadata": {}
  },
  {
   "cell_type": "code",
   "execution_count": 10,
   "metadata": {},
   "outputs": [
    {
     "output_type": "stream",
     "name": "stdout",
     "text": [
      "['Thomas', ' ', 'Jefferson', ' ', 'began', ' ', 'building', ' ', 'Monticello', ' ', 'at', ' ', 'the', ' ', 'age', ' ', 'of', ' ', '26', '.', '']\n"
     ]
    }
   ],
   "source": [
    "import re\n",
    "\n",
    "pattern = re.compile(r\"([-\\s.,;!?])+\")\n",
    "tokens = pattern.split(sentence)\n",
    "\n",
    "print(tokens)"
   ]
  },
  {
   "cell_type": "code",
   "execution_count": 12,
   "metadata": {},
   "outputs": [
    {
     "output_type": "execute_result",
     "data": {
      "text/plain": [
       "['Thomas',\n",
       " 'Jefferson',\n",
       " 'began',\n",
       " 'building',\n",
       " 'Monticello',\n",
       " 'at',\n",
       " 'the',\n",
       " 'age',\n",
       " 'of',\n",
       " '26']"
      ]
     },
     "metadata": {},
     "execution_count": 12
    }
   ],
   "source": [
    "tokens = [x for x in tokens if x not in '- \\t\\n.,;!?']\n",
    "tokens"
   ]
  },
  {
   "cell_type": "code",
   "execution_count": 18,
   "metadata": {},
   "outputs": [
    {
     "output_type": "stream",
     "name": "stdout",
     "text": [
      "['RT', '@TJMonticello', 'Best', 'day', 'everrrrrrr', 'at', 'Monticello', '.', 'Awesommmmmeeeee', 'day', ':*)']\n['RT', 'Best', 'day', 'everrr', 'at', 'Monticello', '.', 'Awesommmeee', 'day', ':*)']\n"
     ]
    }
   ],
   "source": [
    "from nltk.tokenize.casual import casual_tokenize\n",
    "\n",
    "message = \"\"\"RT  @TJMonticello Best day everrrrrrr at Monticello. Awesommmmmeeeee day  :*)\"\"\"\n",
    "\n",
    "tokens = casual_tokenize(message)\n",
    "print(tokens)\n",
    "\n",
    "tokens = casual_tokenize(message, reduce_len=True, strip_handles=True)\n",
    "print(tokens)"
   ]
  },
  {
   "source": [
    "## n-grams\n",
    "\n",
    "* Um n-gram é uma sequência que contém até n elementos que foram extraídos de uma sequência. Em geral, os \"elementos\" de uma n-gram podem ser caractéres, sílabas, palavras ou até símbolos como \"A\", \"T\", \"G\", e \"C\" usandos para representar uma sequência de DNA.\n",
    "\n",
    "* Aqui vamos focar nos n-gram de palavras (e não caractéres)."
   ],
   "cell_type": "markdown",
   "metadata": {}
  },
  {
   "cell_type": "code",
   "execution_count": 21,
   "metadata": {},
   "outputs": [
    {
     "output_type": "stream",
     "name": "stdout",
     "text": [
      "Tokens:  ['Thomas', 'Jefferson', 'began', 'building', 'Monticello', 'at', 'the', 'age', 'of', '26']\nngrams:  [('Thomas', 'Jefferson'), ('Jefferson', 'began'), ('began', 'building'), ('building', 'Monticello'), ('Monticello', 'at'), ('at', 'the'), ('the', 'age'), ('age', 'of'), ('of', '26')]\n"
     ]
    }
   ],
   "source": [
    "from nltk.util import ngrams\n",
    "\n",
    "pattern = re.compile(r\"([-\\s.,;!?])+\")\n",
    "tokens = pattern.split(sentence)\n",
    "\n",
    "tokens = [x for x in tokens if x not in '- \\t\\n.,;!?']\n",
    "print('Tokens: ', tokens)\n",
    "\n",
    "tokens = list(ngrams(tokens, 2))\n",
    "print('ngrams: ', tokens)"
   ]
  },
  {
   "source": [
    "* O n-grams são obtidos na lista anterior como tuplas, mas podem ser unidos se você desejar que todos os tokens do pipeline sejam de caractéres.\n",
    "\n",
    "* Isso permitirá que os estágios posteriores do pipeline esperem um tipo de dados consistente como entrada, sequência de strings:"
   ],
   "cell_type": "markdown",
   "metadata": {}
  },
  {
   "cell_type": "code",
   "execution_count": 22,
   "metadata": {},
   "outputs": [
    {
     "output_type": "stream",
     "name": "stdout",
     "text": [
      "['Thomas Jefferson', 'Jefferson began', 'began building', 'building Monticello', 'Monticello at', 'at the', 'the age', 'age of', 'of 26']\n"
     ]
    }
   ],
   "source": [
    "tokens = pattern.split(sentence)\n",
    "\n",
    "tokens = [x for x in tokens if x not in '- \\t\\n.,;!?']\n",
    "two_grams = list(ngrams(tokens, 2))\n",
    "token = [' '.join(x) for x in two_grams]\n",
    "print(token)"
   ]
  },
  {
   "source": [
    "### Stop Words\n",
    "\n",
    "* Stopwords são palavras comuns em qualquer idioma que ocorram com alta frequência, mas carregam muito menos informação substantiva sbre o significado de uma frase.\n",
    "\n",
    "* Exemplos (lingua inglesa): a, na, the, this, and, or, of, on.\n",
    "\n",
    "* Exemplos (lingua portuguesa): a, o, de, do, da, em, etc.\n",
    "\n",
    "* POdemos filtrar arbitrariamente um conjunto de stopwords durante a tokenização.\n",
    "\n",
    "* Aqui utilizamos alguns stopswords que serão ignorados ao percorrer a lista de tokens."
   ],
   "cell_type": "markdown",
   "metadata": {}
  },
  {
   "cell_type": "code",
   "execution_count": 26,
   "metadata": {},
   "outputs": [
    {
     "output_type": "stream",
     "name": "stdout",
     "text": [
      "['house', 'fire']\n"
     ]
    }
   ],
   "source": [
    "stop_words = ['a', 'an', 'the', 'on', 'off', 'this', 'is']\n",
    "tokens = ['the', 'house', 'is', 'on', 'fire']\n",
    "\n",
    "token_without_stopwords = [x for x in tokens if x not in stop_words]\n",
    "print(token_without_stopwords)"
   ]
  },
  {
   "cell_type": "code",
   "execution_count": 27,
   "metadata": {},
   "outputs": [
    {
     "output_type": "stream",
     "name": "stdout",
     "text": [
      "179\n",
      "[nltk_data] Downloading package stopwords to\n",
      "[nltk_data]     /home/angelico/nltk_data...\n",
      "[nltk_data]   Package stopwords is already up-to-date!\n"
     ]
    }
   ],
   "source": [
    "import nltk\n",
    "\n",
    "nltk.download('stopwords')\n",
    "\n",
    "stop_words = nltk.corpus.stopwords.words('english')\n",
    "print(len(stop_words))"
   ]
  },
  {
   "cell_type": "code",
   "execution_count": 28,
   "metadata": {},
   "outputs": [
    {
     "output_type": "stream",
     "name": "stdout",
     "text": [
      "['i', 'me', 'my', 'myself', 'we', 'our', 'ours', 'ourselves', 'you', \"you're\", \"you've\", \"you'll\", \"you'd\", 'your', 'yours', 'yourself', 'yourselves', 'he', 'him', 'his']\n"
     ]
    }
   ],
   "source": [
    "print(stop_words[0:20])"
   ]
  },
  {
   "cell_type": "code",
   "execution_count": 29,
   "metadata": {},
   "outputs": [
    {
     "output_type": "stream",
     "name": "stdout",
     "text": [
      "318\n"
     ]
    }
   ],
   "source": [
    "from sklearn.feature_extraction.text import ENGLISH_STOP_WORDS as sklearn_stop_words\n",
    "\n",
    "print(len(sklearn_stop_words))"
   ]
  },
  {
   "cell_type": "code",
   "execution_count": 39,
   "metadata": {},
   "outputs": [
    {
     "output_type": "execute_result",
     "data": {
      "text/plain": [
       "frozenset({'a',\n",
       "           'about',\n",
       "           'above',\n",
       "           'across',\n",
       "           'after',\n",
       "           'afterwards',\n",
       "           'again',\n",
       "           'against',\n",
       "           'all',\n",
       "           'almost',\n",
       "           'alone',\n",
       "           'along',\n",
       "           'already',\n",
       "           'also',\n",
       "           'although',\n",
       "           'always',\n",
       "           'am',\n",
       "           'among',\n",
       "           'amongst',\n",
       "           'amoungst',\n",
       "           'amount',\n",
       "           'an',\n",
       "           'and',\n",
       "           'another',\n",
       "           'any',\n",
       "           'anyhow',\n",
       "           'anyone',\n",
       "           'anything',\n",
       "           'anyway',\n",
       "           'anywhere',\n",
       "           'are',\n",
       "           'around',\n",
       "           'as',\n",
       "           'at',\n",
       "           'back',\n",
       "           'be',\n",
       "           'became',\n",
       "           'because',\n",
       "           'become',\n",
       "           'becomes',\n",
       "           'becoming',\n",
       "           'been',\n",
       "           'before',\n",
       "           'beforehand',\n",
       "           'behind',\n",
       "           'being',\n",
       "           'below',\n",
       "           'beside',\n",
       "           'besides',\n",
       "           'between',\n",
       "           'beyond',\n",
       "           'bill',\n",
       "           'both',\n",
       "           'bottom',\n",
       "           'but',\n",
       "           'by',\n",
       "           'call',\n",
       "           'can',\n",
       "           'cannot',\n",
       "           'cant',\n",
       "           'co',\n",
       "           'con',\n",
       "           'could',\n",
       "           'couldnt',\n",
       "           'cry',\n",
       "           'de',\n",
       "           'describe',\n",
       "           'detail',\n",
       "           'do',\n",
       "           'done',\n",
       "           'down',\n",
       "           'due',\n",
       "           'during',\n",
       "           'each',\n",
       "           'eg',\n",
       "           'eight',\n",
       "           'either',\n",
       "           'eleven',\n",
       "           'else',\n",
       "           'elsewhere',\n",
       "           'empty',\n",
       "           'enough',\n",
       "           'etc',\n",
       "           'even',\n",
       "           'ever',\n",
       "           'every',\n",
       "           'everyone',\n",
       "           'everything',\n",
       "           'everywhere',\n",
       "           'except',\n",
       "           'few',\n",
       "           'fifteen',\n",
       "           'fifty',\n",
       "           'fill',\n",
       "           'find',\n",
       "           'fire',\n",
       "           'first',\n",
       "           'five',\n",
       "           'for',\n",
       "           'former',\n",
       "           'formerly',\n",
       "           'forty',\n",
       "           'found',\n",
       "           'four',\n",
       "           'from',\n",
       "           'front',\n",
       "           'full',\n",
       "           'further',\n",
       "           'get',\n",
       "           'give',\n",
       "           'go',\n",
       "           'had',\n",
       "           'has',\n",
       "           'hasnt',\n",
       "           'have',\n",
       "           'he',\n",
       "           'hence',\n",
       "           'her',\n",
       "           'here',\n",
       "           'hereafter',\n",
       "           'hereby',\n",
       "           'herein',\n",
       "           'hereupon',\n",
       "           'hers',\n",
       "           'herself',\n",
       "           'him',\n",
       "           'himself',\n",
       "           'his',\n",
       "           'how',\n",
       "           'however',\n",
       "           'hundred',\n",
       "           'i',\n",
       "           'ie',\n",
       "           'if',\n",
       "           'in',\n",
       "           'inc',\n",
       "           'indeed',\n",
       "           'interest',\n",
       "           'into',\n",
       "           'is',\n",
       "           'it',\n",
       "           'its',\n",
       "           'itself',\n",
       "           'keep',\n",
       "           'last',\n",
       "           'latter',\n",
       "           'latterly',\n",
       "           'least',\n",
       "           'less',\n",
       "           'ltd',\n",
       "           'made',\n",
       "           'many',\n",
       "           'may',\n",
       "           'me',\n",
       "           'meanwhile',\n",
       "           'might',\n",
       "           'mill',\n",
       "           'mine',\n",
       "           'more',\n",
       "           'moreover',\n",
       "           'most',\n",
       "           'mostly',\n",
       "           'move',\n",
       "           'much',\n",
       "           'must',\n",
       "           'my',\n",
       "           'myself',\n",
       "           'name',\n",
       "           'namely',\n",
       "           'neither',\n",
       "           'never',\n",
       "           'nevertheless',\n",
       "           'next',\n",
       "           'nine',\n",
       "           'no',\n",
       "           'nobody',\n",
       "           'none',\n",
       "           'noone',\n",
       "           'nor',\n",
       "           'not',\n",
       "           'nothing',\n",
       "           'now',\n",
       "           'nowhere',\n",
       "           'of',\n",
       "           'off',\n",
       "           'often',\n",
       "           'on',\n",
       "           'once',\n",
       "           'one',\n",
       "           'only',\n",
       "           'onto',\n",
       "           'or',\n",
       "           'other',\n",
       "           'others',\n",
       "           'otherwise',\n",
       "           'our',\n",
       "           'ours',\n",
       "           'ourselves',\n",
       "           'out',\n",
       "           'over',\n",
       "           'own',\n",
       "           'part',\n",
       "           'per',\n",
       "           'perhaps',\n",
       "           'please',\n",
       "           'put',\n",
       "           'rather',\n",
       "           're',\n",
       "           'same',\n",
       "           'see',\n",
       "           'seem',\n",
       "           'seemed',\n",
       "           'seeming',\n",
       "           'seems',\n",
       "           'serious',\n",
       "           'several',\n",
       "           'she',\n",
       "           'should',\n",
       "           'show',\n",
       "           'side',\n",
       "           'since',\n",
       "           'sincere',\n",
       "           'six',\n",
       "           'sixty',\n",
       "           'so',\n",
       "           'some',\n",
       "           'somehow',\n",
       "           'someone',\n",
       "           'something',\n",
       "           'sometime',\n",
       "           'sometimes',\n",
       "           'somewhere',\n",
       "           'still',\n",
       "           'such',\n",
       "           'system',\n",
       "           'take',\n",
       "           'ten',\n",
       "           'than',\n",
       "           'that',\n",
       "           'the',\n",
       "           'their',\n",
       "           'them',\n",
       "           'themselves',\n",
       "           'then',\n",
       "           'thence',\n",
       "           'there',\n",
       "           'thereafter',\n",
       "           'thereby',\n",
       "           'therefore',\n",
       "           'therein',\n",
       "           'thereupon',\n",
       "           'these',\n",
       "           'they',\n",
       "           'thick',\n",
       "           'thin',\n",
       "           'third',\n",
       "           'this',\n",
       "           'those',\n",
       "           'though',\n",
       "           'three',\n",
       "           'through',\n",
       "           'throughout',\n",
       "           'thru',\n",
       "           'thus',\n",
       "           'to',\n",
       "           'together',\n",
       "           'too',\n",
       "           'top',\n",
       "           'toward',\n",
       "           'towards',\n",
       "           'twelve',\n",
       "           'twenty',\n",
       "           'two',\n",
       "           'un',\n",
       "           'under',\n",
       "           'until',\n",
       "           'up',\n",
       "           'upon',\n",
       "           'us',\n",
       "           'very',\n",
       "           'via',\n",
       "           'was',\n",
       "           'we',\n",
       "           'well',\n",
       "           'were',\n",
       "           'what',\n",
       "           'whatever',\n",
       "           'when',\n",
       "           'whence',\n",
       "           'whenever',\n",
       "           'where',\n",
       "           'whereafter',\n",
       "           'whereas',\n",
       "           'whereby',\n",
       "           'wherein',\n",
       "           'whereupon',\n",
       "           'wherever',\n",
       "           'whether',\n",
       "           'which',\n",
       "           'while',\n",
       "           'whither',\n",
       "           'who',\n",
       "           'whoever',\n",
       "           'whole',\n",
       "           'whom',\n",
       "           'whose',\n",
       "           'why',\n",
       "           'will',\n",
       "           'with',\n",
       "           'within',\n",
       "           'without',\n",
       "           'would',\n",
       "           'yet',\n",
       "           'you',\n",
       "           'your',\n",
       "           'yours',\n",
       "           'yourself',\n",
       "           'yourselves'})"
      ]
     },
     "metadata": {},
     "execution_count": 39
    }
   ],
   "source": [
    "sklearn_stop_words"
   ]
  },
  {
   "source": [
    "### Normalização do vocabulário\n",
    "\n",
    "* Técnicas de redução de vocabulário: normalizar o vocabulário para que tokens que significam algo semelhante sejam combinados em uma única forma normalizada.\n",
    "\n",
    "* Isso reduz o número de tokens.\n",
    "\n",
    "#### Case Folding\n",
    "\n",
    "* A normalização de letras maiúsculas e minúsculas é uma maneira de reduzir o tamanho do seu vocabulário e generalizar o pipeline de NLP.\n",
    "\n",
    "* Ajuda a consolidar palavras cujo objetivo é significar a mesma coisa (e que são escritas da mesma maneira) sob um único token."
   ],
   "cell_type": "markdown",
   "metadata": {}
  },
  {
   "cell_type": "code",
   "execution_count": 40,
   "metadata": {},
   "outputs": [
    {
     "output_type": "execute_result",
     "data": {
      "text/plain": [
       "['house', 'visitor', 'center']"
      ]
     },
     "metadata": {},
     "execution_count": 40
    }
   ],
   "source": [
    "tokens = ['House', 'Visitor', 'Center']\n",
    "normalized_tokens = [x.lower() for x in tokens]\n",
    "normalized_tokens"
   ]
  },
  {
   "source": [
    "* Para um mecanismo de pesquisa sem normalização, se pesquisasse \"Age\", obteria um conjunto de documentos diferentes do que se pesquisasse \"age\".\n",
    "\n",
    "* Ao normalizar o vocabulário no índice de pesquisa (assim como na consulta), garantimos que os dois tops de documentos sobre \"age\" sejam retornados, independentemente da capitalização na consulta do usuário."
   ],
   "cell_type": "markdown",
   "metadata": {}
  },
  {
   "source": [
    "### Stemming\n",
    "\n",
    "* Outra técnica comun de normalização de vocabulário é eliminar as pequenas diferenças de significado.\n",
    "\n",
    "- Ou seja, manter apenas a porção de uma palavra que resta após a remoção de prefixos e sufixos.\n",
    "\n",
    "* A ideia é identificar um radical comun entre as várias formas de uma palavra (radicaização - stemming).\n",
    "\n",
    "* Por exemplo, as palavras \"housing\" e \"houses\" compartilham a mesma porção, \"house\".\n",
    "\n",
    "* O stemming remove sulfixos das palavras na tentativa de combinar palavras com significados semelhantes junto sob seu radical comum.\n",
    "\n",
    "* Vamos a uma implementação simples de stemmer em Python puro que pode lidar com \"s\" à direita (língua inglesa)."
   ],
   "cell_type": "markdown",
   "metadata": {}
  },
  {
   "cell_type": "code",
   "execution_count": 45,
   "metadata": {},
   "outputs": [],
   "source": [
    "def stem(phrase):\n",
    "    return ' '.join([re.findall('^(.*ss|.*?)(s)?$', word)[0][0].strip(\"'\") for word in phrase.lower().split()])"
   ]
  },
  {
   "cell_type": "code",
   "execution_count": 48,
   "metadata": {},
   "outputs": [
    {
     "output_type": "stream",
     "name": "stdout",
     "text": [
      "house\ndoctor house call\n"
     ]
    }
   ],
   "source": [
    "print(stem('houses'))\n",
    "print(stem(\"Doctor house's call\"))"
   ]
  },
  {
   "source": [
    "* Dois dos algoritmos de stemming mais populares são o Porter e o Snowball.\n",
    "\n",
    "* Esses algoritmos implementam regras mais complexas do que uma simples expressão reguar. Isso permite que o stemmer lide com as complexidades das regras de ortografia e final de palavras."
   ],
   "cell_type": "markdown",
   "metadata": {}
  },
  {
   "cell_type": "code",
   "execution_count": 49,
   "metadata": {},
   "outputs": [
    {
     "output_type": "stream",
     "name": "stdout",
     "text": [
      "dish washer wash dish\n"
     ]
    }
   ],
   "source": [
    "from nltk.stem.porter import PorterStemmer\n",
    "\n",
    "stemmer = PorterStemmer()\n",
    "text = ' '.join([stemmer.stem(x).strip(\"'\") for x in \"dish washer's washed dishes\".split()])\n",
    "\n",
    "print(text)"
   ]
  },
  {
   "source": [
    "### Lemmatization\n",
    "\n",
    "* Se tiver acesso a informações sobre conexões entre os significados de varias palavras, é possivel associar várias palavras, mesmo que a grafia seja bem diferente.\n",
    "\n",
    "* Essa normalização que considera semântica de uma palavra - seu lema - é chamado lematização.\n",
    "\n",
    "* Mais precisa do que técnicas anteriores (usa base de conhecimento de sinônimos).\n",
    "\n",
    "* Alguns lematizadores usam a tag part of speech (POS) da palavra, além da ortografia, para melhorar a precisão.\n",
    "\n",
    "* A tag POS para uma palavra indica seu papel na gramática de uma frase.\n",
    "\n",
    "* Por exemplo, o POS substantivo é para palavras que se referem a \"pessoas, lugares ou coisas\", em uma frase. Um POS adjetivo é para uma palavra que modifique ou descreve substantivos.\n",
    "\n",
    "* Um verbo se refere a uma ação.\n",
    "\n",
    "* O pacote NLTK fornece funções para udentficar lemas de palavras.\n",
    "\n",
    "* Observe que devemos informar a WordNetLemmatizer em qual POS você esta interessado (substantivo, adjetivo, etc).\n",
    "\n",
    "* O lematizador NLTK usa um grafo de significados de palavras do Prineceton WordNet."
   ],
   "cell_type": "markdown",
   "metadata": {}
  },
  {
   "cell_type": "code",
   "execution_count": 51,
   "metadata": {},
   "outputs": [
    {
     "output_type": "stream",
     "name": "stderr",
     "text": [
      "[nltk_data] Downloading package wordnet to /home/angelico/nltk_data...\n",
      "[nltk_data]   Unzipping corpora/wordnet.zip.\n",
      "better\n",
      "good\n"
     ]
    }
   ],
   "source": [
    "nltk.download('wordnet')\n",
    "\n",
    "from nltk.stem import WordNetLemmatizer\n",
    "\n",
    "lematizer = WordNetLemmatizer()\n",
    "\n",
    "print(lematizer.lemmatize('better'))\n",
    "print(lematizer.lemmatize('better', pos= 'a'))"
   ]
  },
  {
   "cell_type": "code",
   "execution_count": 52,
   "metadata": {},
   "outputs": [
    {
     "output_type": "stream",
     "name": "stdout",
     "text": [
      "better\ngood\ngood\ngoods\ngood\ngoodness\nbest\n"
     ]
    }
   ],
   "source": [
    "print(lematizer.lemmatize('better'))\n",
    "print(lematizer.lemmatize('better', pos='a'))\n",
    "print(lematizer.lemmatize('good', pos='a'))\n",
    "print(lematizer.lemmatize('goods', pos='a'))\n",
    "print(lematizer.lemmatize('goods', pos='n'))\n",
    "print(lematizer.lemmatize('goodness', pos='n'))\n",
    "print(lematizer.lemmatize('best', pos='a'))"
   ]
  },
  {
   "cell_type": "code",
   "execution_count": 53,
   "metadata": {},
   "outputs": [
    {
     "output_type": "stream",
     "text": [
      "\u001b[0;31mInit signature:\u001b[0m \u001b[0mWordNetLemmatizer\u001b[0m\u001b[0;34m(\u001b[0m\u001b[0;34m)\u001b[0m\u001b[0;34m\u001b[0m\u001b[0;34m\u001b[0m\u001b[0m\n",
      "\u001b[0;31mDocstring:\u001b[0m     \n",
      "WordNet Lemmatizer\n",
      "\n",
      "Lemmatize using WordNet's built-in morphy function.\n",
      "Returns the input word unchanged if it cannot be found in WordNet.\n",
      "\n",
      "    >>> from nltk.stem import WordNetLemmatizer\n",
      "    >>> wnl = WordNetLemmatizer()\n",
      "    >>> print(wnl.lemmatize('dogs'))\n",
      "    dog\n",
      "    >>> print(wnl.lemmatize('churches'))\n",
      "    church\n",
      "    >>> print(wnl.lemmatize('aardwolves'))\n",
      "    aardwolf\n",
      "    >>> print(wnl.lemmatize('abaci'))\n",
      "    abacus\n",
      "    >>> print(wnl.lemmatize('hardrock'))\n",
      "    hardrock\n",
      "\u001b[0;31mFile:\u001b[0m           ~/anaconda3/lib/python3.7/site-packages/nltk/stem/wordnet.py\n",
      "\u001b[0;31mType:\u001b[0m           type\n",
      "\u001b[0;31mSubclasses:\u001b[0m     \n"
     ],
     "name": "stdout"
    }
   ],
   "source": [
    "WordNetLemmatizer?"
   ]
  },
  {
   "cell_type": "code",
   "execution_count": null,
   "metadata": {},
   "outputs": [],
   "source": []
  }
 ]
}