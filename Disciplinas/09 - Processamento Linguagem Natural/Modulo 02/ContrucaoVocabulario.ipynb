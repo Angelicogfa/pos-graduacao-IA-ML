{
 "metadata": {
  "language_info": {
   "codemirror_mode": {
    "name": "ipython",
    "version": 3
   },
   "file_extension": ".py",
   "mimetype": "text/x-python",
   "name": "python",
   "nbconvert_exporter": "python",
   "pygments_lexer": "ipython3",
   "version": "3.7.9-final"
  },
  "orig_nbformat": 2,
  "kernelspec": {
   "name": "python3",
   "display_name": "Python 3",
   "language": "python"
  }
 },
 "nbformat": 4,
 "nbformat_minor": 2,
 "cells": [
  {
   "source": [
    "# Construção de vocabulário\n",
    "\n",
    "* Tokenizando textos em palavras e n-gramas (tokens)\n",
    "\n",
    "* Como lidar com pontuação e emoticons fora do padrão de postagens nas redes sociais.\n",
    "\n",
    "* Compactando vocabulários com stemming e lematização.\n",
    "\n",
    "* Construidndo uma representação vetorial de uma instrução."
   ],
   "cell_type": "markdown",
   "metadata": {}
  },
  {
   "source": [
    "## Tokenizador\n",
    "\n",
    "* Primeiro passo para um sistema de NLP é um bom vocabulário.\n",
    "\n",
    "* Aqui iremos estudar algoritmos para separar uma string em palavras em pares, triplas, quadruplas e até quíntuplas. Estes pedaços são chamados de n-grams (n é igual ao tamanho dos pedaços).\n",
    "\n",
    "* O uso de n-grams permite que sua máquina saiba sobre \"ice cream\", bem como os \"ice\" e \"cream\".\n",
    "\n",
    "* No processamento de linguagem natural, compor um vetor numérico a partir de texto é um processo de extração de features \"com perdas\".\n",
    "\n",
    "* No entanto, o bag-of-words (BOW), retêm o conteúdo de informações do texto suficiente para produzir modelos úteis de máquina.\n",
    "\n",
    "* A tokenização é um tipo específico de segmentação de documento. A segmentação divide o texto em pedaços ou segmentos menores.\n",
    "\n",
    "* A segmentação pode incluir a quebra de um documento em parágrafos, parágrafos em sentenças, frases em tokens (geralmente palavras) e pontuação.\n",
    "\n",
    "* Em compiladores, um tokenizador usado para compilar linguagens de computador é chamado **lexer**.\n",
    "\n",
    "* O vocubulário (o conjunto de todos os tokens válidos) para uma linguagem de computador é de lexico.\n",
    "\n",
    "* Para um sistema de NLP, temos (equivalente aos compiladores):\n",
    "\n",
    "    * Tokenizador: scanner, lexer, analisador lexical.\n",
    "\n",
    "    * Vocabulário: léxico.\n",
    "\n",
    "    * Analisador: compilador.\n",
    "\n",
    "    * token ,termo ou n-gram: token, símbolo ou símbolo terminal.\n",
    "\n",
    "* A tokenização é a primeira etapa de um pipeline de NLP.\n",
    "\n",
    "* Objetivo: dividir dados não estruturados (texto em linguagem natural) em chunks de informações discretos.\n",
    "\n",
    "* Essas contagens de ocorrência de tokens em um documento podem ser usadas diretamente como um vetor que representa este documento.\n",
    "\n",
    "* Ideia: transformar uma sequeência não estruturada (documento textual) em uma esturtura de dados numérico adqueada para aprendizado de máquina.\n",
    "\n",
    "* Codificação: A maneira mais simples de tokenizar uma frase é usar espaços em branco em uma string como o \"delimitador\" das palavras."
   ],
   "cell_type": "markdown",
   "metadata": {}
  },
  {
   "cell_type": "code",
   "execution_count": 1,
   "metadata": {},
   "outputs": [
    {
     "output_type": "execute_result",
     "data": {
      "text/plain": [
       "['Thomas',\n",
       " 'Jefferson',\n",
       " 'began',\n",
       " 'building',\n",
       " 'Monticello',\n",
       " 'at',\n",
       " 'the',\n",
       " 'age',\n",
       " 'of',\n",
       " '26.']"
      ]
     },
     "metadata": {},
     "execution_count": 1
    }
   ],
   "source": [
    "sentence = \"Thomas Jefferson began building Monticello at the age of 26.\"\n",
    "sentence.split()"
   ]
  },
  {
   "cell_type": "code",
   "execution_count": 2,
   "metadata": {},
   "outputs": [],
   "source": [
    "import numpy as np\n",
    "import pandas as pd\n",
    "\n",
    "token_sequence = str.split(sentence)\n",
    "vocab = sorted(set(token_sequence))"
   ]
  },
  {
   "cell_type": "code",
   "execution_count": 3,
   "metadata": {},
   "outputs": [
    {
     "output_type": "stream",
     "name": "stdout",
     "text": [
      "10 10\n"
     ]
    }
   ],
   "source": [
    "num_tokens = len(token_sequence)\n",
    "vocab_size = len(vocab)\n",
    "\n",
    "print(num_tokens, vocab_size)"
   ]
  },
  {
   "cell_type": "code",
   "execution_count": 4,
   "metadata": {},
   "outputs": [],
   "source": [
    "onehot_vector = np.zeros((num_tokens, vocab_size), int)\n",
    "\n",
    "for i, word in enumerate(token_sequence):\n",
    "    onehot_vector[i, vocab.index(word)] = 1"
   ]
  },
  {
   "cell_type": "code",
   "execution_count": 5,
   "metadata": {},
   "outputs": [
    {
     "output_type": "execute_result",
     "data": {
      "text/plain": [
       "   26.  Jefferson  Monticello  Thomas  age  at  began  building  of  the\n",
       "0    0          0           0       1    0   0      0         0   0    0\n",
       "1    0          1           0       0    0   0      0         0   0    0\n",
       "2    0          0           0       0    0   0      1         0   0    0\n",
       "3    0          0           0       0    0   0      0         1   0    0\n",
       "4    0          0           1       0    0   0      0         0   0    0\n",
       "5    0          0           0       0    0   1      0         0   0    0\n",
       "6    0          0           0       0    0   0      0         0   0    1\n",
       "7    0          0           0       0    1   0      0         0   0    0\n",
       "8    0          0           0       0    0   0      0         0   1    0\n",
       "9    1          0           0       0    0   0      0         0   0    0"
      ],
      "text/html": "<div>\n<style scoped>\n    .dataframe tbody tr th:only-of-type {\n        vertical-align: middle;\n    }\n\n    .dataframe tbody tr th {\n        vertical-align: top;\n    }\n\n    .dataframe thead th {\n        text-align: right;\n    }\n</style>\n<table border=\"1\" class=\"dataframe\">\n  <thead>\n    <tr style=\"text-align: right;\">\n      <th></th>\n      <th>26.</th>\n      <th>Jefferson</th>\n      <th>Monticello</th>\n      <th>Thomas</th>\n      <th>age</th>\n      <th>at</th>\n      <th>began</th>\n      <th>building</th>\n      <th>of</th>\n      <th>the</th>\n    </tr>\n  </thead>\n  <tbody>\n    <tr>\n      <th>0</th>\n      <td>0</td>\n      <td>0</td>\n      <td>0</td>\n      <td>1</td>\n      <td>0</td>\n      <td>0</td>\n      <td>0</td>\n      <td>0</td>\n      <td>0</td>\n      <td>0</td>\n    </tr>\n    <tr>\n      <th>1</th>\n      <td>0</td>\n      <td>1</td>\n      <td>0</td>\n      <td>0</td>\n      <td>0</td>\n      <td>0</td>\n      <td>0</td>\n      <td>0</td>\n      <td>0</td>\n      <td>0</td>\n    </tr>\n    <tr>\n      <th>2</th>\n      <td>0</td>\n      <td>0</td>\n      <td>0</td>\n      <td>0</td>\n      <td>0</td>\n      <td>0</td>\n      <td>1</td>\n      <td>0</td>\n      <td>0</td>\n      <td>0</td>\n    </tr>\n    <tr>\n      <th>3</th>\n      <td>0</td>\n      <td>0</td>\n      <td>0</td>\n      <td>0</td>\n      <td>0</td>\n      <td>0</td>\n      <td>0</td>\n      <td>1</td>\n      <td>0</td>\n      <td>0</td>\n    </tr>\n    <tr>\n      <th>4</th>\n      <td>0</td>\n      <td>0</td>\n      <td>1</td>\n      <td>0</td>\n      <td>0</td>\n      <td>0</td>\n      <td>0</td>\n      <td>0</td>\n      <td>0</td>\n      <td>0</td>\n    </tr>\n    <tr>\n      <th>5</th>\n      <td>0</td>\n      <td>0</td>\n      <td>0</td>\n      <td>0</td>\n      <td>0</td>\n      <td>1</td>\n      <td>0</td>\n      <td>0</td>\n      <td>0</td>\n      <td>0</td>\n    </tr>\n    <tr>\n      <th>6</th>\n      <td>0</td>\n      <td>0</td>\n      <td>0</td>\n      <td>0</td>\n      <td>0</td>\n      <td>0</td>\n      <td>0</td>\n      <td>0</td>\n      <td>0</td>\n      <td>1</td>\n    </tr>\n    <tr>\n      <th>7</th>\n      <td>0</td>\n      <td>0</td>\n      <td>0</td>\n      <td>0</td>\n      <td>1</td>\n      <td>0</td>\n      <td>0</td>\n      <td>0</td>\n      <td>0</td>\n      <td>0</td>\n    </tr>\n    <tr>\n      <th>8</th>\n      <td>0</td>\n      <td>0</td>\n      <td>0</td>\n      <td>0</td>\n      <td>0</td>\n      <td>0</td>\n      <td>0</td>\n      <td>0</td>\n      <td>1</td>\n      <td>0</td>\n    </tr>\n    <tr>\n      <th>9</th>\n      <td>1</td>\n      <td>0</td>\n      <td>0</td>\n      <td>0</td>\n      <td>0</td>\n      <td>0</td>\n      <td>0</td>\n      <td>0</td>\n      <td>0</td>\n      <td>0</td>\n    </tr>\n  </tbody>\n</table>\n</div>"
     },
     "metadata": {},
     "execution_count": 5
    }
   ],
   "source": [
    "pd.DataFrame(onehot_vector, columns=vocab)"
   ]
  },
  {
   "source": [
    "Nesta representação do seu documento, cada linha é um vetor para uma única palavra.\n",
    "\n",
    "Podemos usar o vetor $[0, 0, 0,\t0,\t1,\t0,\t0,\t0,\t0,\t0]$ para representar a palavra \"age\" no pipeline.\n",
    "\n",
    "Um \"1\" em uma coluna indica uma palavra do vocabulário que estava presente nessa posição no documento."
   ],
   "cell_type": "markdown",
   "metadata": {}
  },
  {
   "source": [
    "## Bag Of Words\n",
    "\n",
    "Até aqui criamos uma representação com apneas um único documento (a frase utilizada).\n",
    "\n",
    "Para ficar mais clara a ideia de bag-of-words precisamos trabalhar com vários documentos para termos um vocubalário (conjunto de palavras) significativamente maior."
   ],
   "cell_type": "markdown",
   "metadata": {}
  },
  {
   "cell_type": "code",
   "execution_count": 10,
   "metadata": {},
   "outputs": [
    {
     "output_type": "execute_result",
     "data": {
      "text/plain": [
       "       Thomas  Jefferson  began  building  Monticello  at  the  age  of  26.  \\\n",
       "sent0       1          1      1         1           1   1    1    1   1    1   \n",
       "sent1       0          0      0         0           0   0    0    0   0    0   \n",
       "sent2       0          0      0         0           0   0    1    0   0    0   \n",
       "sent3       0          1      0         0           1   0    0    0   0    0   \n",
       "sent4       0          0      0         0           0   0    0    0   0    0   \n",
       "\n",
       "       ...  moved  into  South  Pavillion  in  1770.  Turning  a  \\\n",
       "sent0  ...      0     0      0          0   0      0        0  0   \n",
       "sent1  ...      0     0      0          0   0      0        0  0   \n",
       "sent2  ...      1     1      1          1   1      1        0  0   \n",
       "sent3  ...      0     1      0          0   0      0        1  1   \n",
       "sent4  ...      0     0      0          0   0      0        0  0   \n",
       "\n",
       "       neoclassical  masterpiece  \n",
       "sent0             0            0  \n",
       "sent1             0            0  \n",
       "sent2             0            0  \n",
       "sent3             1            1  \n",
       "sent4             0            0  \n",
       "\n",
       "[5 rows x 30 columns]"
      ],
      "text/html": "<div>\n<style scoped>\n    .dataframe tbody tr th:only-of-type {\n        vertical-align: middle;\n    }\n\n    .dataframe tbody tr th {\n        vertical-align: top;\n    }\n\n    .dataframe thead th {\n        text-align: right;\n    }\n</style>\n<table border=\"1\" class=\"dataframe\">\n  <thead>\n    <tr style=\"text-align: right;\">\n      <th></th>\n      <th>Thomas</th>\n      <th>Jefferson</th>\n      <th>began</th>\n      <th>building</th>\n      <th>Monticello</th>\n      <th>at</th>\n      <th>the</th>\n      <th>age</th>\n      <th>of</th>\n      <th>26.</th>\n      <th>...</th>\n      <th>moved</th>\n      <th>into</th>\n      <th>South</th>\n      <th>Pavillion</th>\n      <th>in</th>\n      <th>1770.</th>\n      <th>Turning</th>\n      <th>a</th>\n      <th>neoclassical</th>\n      <th>masterpiece</th>\n    </tr>\n  </thead>\n  <tbody>\n    <tr>\n      <th>sent0</th>\n      <td>1</td>\n      <td>1</td>\n      <td>1</td>\n      <td>1</td>\n      <td>1</td>\n      <td>1</td>\n      <td>1</td>\n      <td>1</td>\n      <td>1</td>\n      <td>1</td>\n      <td>...</td>\n      <td>0</td>\n      <td>0</td>\n      <td>0</td>\n      <td>0</td>\n      <td>0</td>\n      <td>0</td>\n      <td>0</td>\n      <td>0</td>\n      <td>0</td>\n      <td>0</td>\n    </tr>\n    <tr>\n      <th>sent1</th>\n      <td>0</td>\n      <td>0</td>\n      <td>0</td>\n      <td>0</td>\n      <td>0</td>\n      <td>0</td>\n      <td>0</td>\n      <td>0</td>\n      <td>0</td>\n      <td>0</td>\n      <td>...</td>\n      <td>0</td>\n      <td>0</td>\n      <td>0</td>\n      <td>0</td>\n      <td>0</td>\n      <td>0</td>\n      <td>0</td>\n      <td>0</td>\n      <td>0</td>\n      <td>0</td>\n    </tr>\n    <tr>\n      <th>sent2</th>\n      <td>0</td>\n      <td>0</td>\n      <td>0</td>\n      <td>0</td>\n      <td>0</td>\n      <td>0</td>\n      <td>1</td>\n      <td>0</td>\n      <td>0</td>\n      <td>0</td>\n      <td>...</td>\n      <td>1</td>\n      <td>1</td>\n      <td>1</td>\n      <td>1</td>\n      <td>1</td>\n      <td>1</td>\n      <td>0</td>\n      <td>0</td>\n      <td>0</td>\n      <td>0</td>\n    </tr>\n    <tr>\n      <th>sent3</th>\n      <td>0</td>\n      <td>1</td>\n      <td>0</td>\n      <td>0</td>\n      <td>1</td>\n      <td>0</td>\n      <td>0</td>\n      <td>0</td>\n      <td>0</td>\n      <td>0</td>\n      <td>...</td>\n      <td>0</td>\n      <td>1</td>\n      <td>0</td>\n      <td>0</td>\n      <td>0</td>\n      <td>0</td>\n      <td>1</td>\n      <td>1</td>\n      <td>1</td>\n      <td>1</td>\n    </tr>\n    <tr>\n      <th>sent4</th>\n      <td>0</td>\n      <td>0</td>\n      <td>0</td>\n      <td>0</td>\n      <td>0</td>\n      <td>0</td>\n      <td>0</td>\n      <td>0</td>\n      <td>0</td>\n      <td>0</td>\n      <td>...</td>\n      <td>0</td>\n      <td>0</td>\n      <td>0</td>\n      <td>0</td>\n      <td>0</td>\n      <td>0</td>\n      <td>0</td>\n      <td>0</td>\n      <td>0</td>\n      <td>0</td>\n    </tr>\n  </tbody>\n</table>\n<p>5 rows × 30 columns</p>\n</div>"
     },
     "metadata": {},
     "execution_count": 10
    }
   ],
   "source": [
    "sentences = \"Thomas Jefferson began building Monticello at the age of 26.\\n\"\n",
    "sentences += \"Construction was done mstly by local masons and carpenters.\\n\"\n",
    "sentences += \"He moved into the South Pavillion in 1770.\\n\"\n",
    "sentences += \"Turning Monticello into a neoclassical masterpiece was Jefferson\\n\"\n",
    "\n",
    "corpus = {}\n",
    "\n",
    "for i, sent in enumerate(sentences.split('\\n')):\n",
    "   corpus[f'sent{i}'] = dict((tok, 1) for tok in sent.split())\n",
    "\n",
    "\n",
    "df = pd.DataFrame.from_records(corpus).fillna(0).astype(int).T\n",
    "df"
   ]
  },
  {
   "source": [
    "Observe o resultado (várias colunas foram omitidas). Cada documento (sentença) possui apenas o valor \"1\" na posição do vocabulário em que há ocorrência daquela palavra.\n",
    "\n",
    "* Agora iremos calcular essa sobreposição no pipeline para comparar documentos ou procurar documentos semelhantes, contando o número de tokens sobrepostos usando um produto escalar."
   ],
   "cell_type": "markdown",
   "metadata": {}
  },
  {
   "cell_type": "code",
   "execution_count": null,
   "metadata": {},
   "outputs": [],
   "source": []
  }
 ]
}