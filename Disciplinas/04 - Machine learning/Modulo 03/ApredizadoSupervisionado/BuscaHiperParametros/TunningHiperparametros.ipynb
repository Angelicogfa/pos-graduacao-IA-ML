{
 "metadata": {
  "language_info": {
   "codemirror_mode": {
    "name": "ipython",
    "version": 3
   },
   "file_extension": ".py",
   "mimetype": "text/x-python",
   "name": "python",
   "nbconvert_exporter": "python",
   "pygments_lexer": "ipython3",
   "version": 3
  },
  "orig_nbformat": 2,
  "kernelspec": {
   "name": "python_defaultSpec_1595766351792",
   "display_name": "Python 3.7.6 64-bit ('base': conda)"
  }
 },
 "nbformat": 4,
 "nbformat_minor": 2,
 "cells": [
  {
   "cell_type": "code",
   "execution_count": 26,
   "metadata": {
    "tags": []
   },
   "outputs": [
    {
     "output_type": "stream",
     "name": "stdout",
     "text": "\nDimensões: (208, 61)\n\nCampos: Index(['Atributo_1', 'Atributo_2', 'Atributo_3', 'Atributo_4', 'Atributo_5',\n       'Atributo_6', 'Atributo_7', 'Atributo_8', 'Atributo_9', 'Atributo_10',\n       'Atributo_11', 'Atributo_12', 'Atributo_13', 'Atributo_14',\n       'Atributo_15', 'Atributo_16', 'Atributo_17', 'Atributo_18',\n       'Atributo_19', 'Atributo_20', 'Atributo_21', 'Atributo_22',\n       'Atributo_23', 'Atributo_24', 'Atributo_25', 'Atributo_26',\n       'Atributo_27', 'Atributo_28', 'Atributo_29', 'Atributo_30',\n       'Atributo_31', 'Atributo_32', 'Atributo_33', 'Atributo_34',\n       'Atributo_35', 'Atributo_36', 'Atributo_37', 'Atributo_38',\n       'Atributo_39', 'Atributo_40', 'Atributo_41', 'Atributo_42',\n       'Atributo_43', 'Atributo_44', 'Atributo_45', 'Atributo_46',\n       'Atributo_47', 'Atributo_48', 'Atributo_49', 'Atributo_50',\n       'Atributo_51', 'Atributo_52', 'Atributo_53', 'Atributo_54',\n       'Atributo_55', 'Atributo_56', 'Atributo_57', 'Atributo_58',\n       'Atributo_59', 'Atributo_60', 'Classe'],\n      dtype='object')\n       Atributo_1  Atributo_2  Atributo_3  Atributo_4  Atributo_5  Atributo_6  \\\ncount  208.000000  208.000000  208.000000  208.000000  208.000000  208.000000   \nmean     0.029164    0.038437    0.043832    0.053892    0.075202    0.104570   \nstd      0.022991    0.032960    0.038428    0.046528    0.055552    0.059105   \nmin      0.001500    0.000600    0.001500    0.005800    0.006700    0.010200   \n25%      0.013350    0.016450    0.018950    0.024375    0.038050    0.067025   \n50%      0.022800    0.030800    0.034300    0.044050    0.062500    0.092150   \n75%      0.035550    0.047950    0.057950    0.064500    0.100275    0.134125   \nmax      0.137100    0.233900    0.305900    0.426400    0.401000    0.382300   \n\n       Atributo_7  Atributo_8  Atributo_9  Atributo_10  ...  Atributo_51  \\\ncount  208.000000  208.000000  208.000000   208.000000  ...   208.000000   \nmean     0.121747    0.134799    0.178003     0.208259  ...     0.016069   \nstd      0.061788    0.085152    0.118387     0.134416  ...     0.012008   \nmin      0.003300    0.005500    0.007500     0.011300  ...     0.000000   \n25%      0.080900    0.080425    0.097025     0.111275  ...     0.008425   \n50%      0.106950    0.112100    0.152250     0.182400  ...     0.013900   \n75%      0.154000    0.169600    0.233425     0.268700  ...     0.020825   \nmax      0.372900    0.459000    0.682800     0.710600  ...     0.100400   \n\n       Atributo_52  Atributo_53  Atributo_54  Atributo_55  Atributo_56  \\\ncount   208.000000   208.000000   208.000000   208.000000   208.000000   \nmean      0.013420     0.010709     0.010941     0.009290     0.008222   \nstd       0.009634     0.007060     0.007301     0.007088     0.005736   \nmin       0.000800     0.000500     0.001000     0.000600     0.000400   \n25%       0.007275     0.005075     0.005375     0.004150     0.004400   \n50%       0.011400     0.009550     0.009300     0.007500     0.006850   \n75%       0.016725     0.014900     0.014500     0.012100     0.010575   \nmax       0.070900     0.039000     0.035200     0.044700     0.039400   \n\n       Atributo_57  Atributo_58  Atributo_59  Atributo_60  \ncount   208.000000   208.000000   208.000000   208.000000  \nmean      0.007820     0.007949     0.007941     0.006507  \nstd       0.005785     0.006470     0.006181     0.005031  \nmin       0.000300     0.000300     0.000100     0.000600  \n25%       0.003700     0.003600     0.003675     0.003100  \n50%       0.005950     0.005800     0.006400     0.005300  \n75%       0.010425     0.010350     0.010325     0.008525  \nmax       0.035500     0.044000     0.036400     0.043900  \n\n[8 rows x 60 columns]\n"
    }
   ],
   "source": [
    "from sklearn.preprocessing import LabelEncoder\n",
    "from sklearn.model_selection import GridSearchCV, train_test_split, RandomizedSearchCV\n",
    "from sklearn.metrics import classification_report, confusion_matrix\n",
    "from sklearn.tree import DecisionTreeClassifier, export_graphviz\n",
    "import pandas as pd\n",
    "\n",
    "\n",
    "sonar = pd.read_excel('datasets/sonar.xlsx', sheet_name=0)\n",
    "\n",
    "print('\\nDimensões: {}'.format(sonar.shape))\n",
    "print('\\nCampos: {}'.format(sonar.keys()))\n",
    "print(sonar.describe(), sep='\\n')"
   ]
  },
  {
   "cell_type": "code",
   "execution_count": 5,
   "metadata": {
    "tags": []
   },
   "outputs": [
    {
     "output_type": "stream",
     "name": "stdout",
     "text": "X_Train size (156, 60) - y_train size (156,)\nX_Test size (52, 60) - y_test size (52,)\n"
    }
   ],
   "source": [
    "X = sonar.iloc[:,0:(sonar.shape[1]-1)]\n",
    "le = LabelEncoder()\n",
    "y = le.fit_transform(sonar.iloc[:,(sonar.shape[1] - 1)])\n",
    "\n",
    "class_names = ['Rocha', 'Mina']\n",
    "\n",
    "X_train, X_test, y_train, y_test = train_test_split(X, y, random_state=0)\n",
    "\n",
    "print('X_Train size {} - y_train size {}'.format(X_train.shape, y_train.shape))\n",
    "\n",
    "print('X_Test size {} - y_test size {}'.format(X_test.shape, y_test.shape))"
   ]
  },
  {
   "cell_type": "code",
   "execution_count": 24,
   "metadata": {},
   "outputs": [],
   "source": [
    "sonar_tree = DecisionTreeClassifier(random_state=0, criterion='entropy')\n",
    "\n",
    "params = dict(min_samples_leaf=[1,2,3], min_impurity_decrease=[0.01,0.05,1])\n",
    "sonar_grid = GridSearchCV(sonar_tree, param_grid=params)"
   ]
  },
  {
   "cell_type": "code",
   "execution_count": 25,
   "metadata": {
    "tags": []
   },
   "outputs": [
    {
     "output_type": "stream",
     "name": "stdout",
     "text": "\nClassificado usando arvore de decisao com GridSearch\nOs melhores parâmetros encontrados pelo GridSearch:\n{'min_samples_leaf': 1} \n\n              precision    recall  f1-score   support\n\n       Rocha       0.71      0.85      0.77        26\n        Mina       0.81      0.65      0.72        26\n\n    accuracy                           0.75        52\n   macro avg       0.76      0.75      0.75        52\nweighted avg       0.76      0.75      0.75        52\n\n"
    }
   ],
   "source": [
    "y_pred = sonar_grid.fit(X_train, y_train).predict(X_test)\n",
    "print('\\nClassificado usando arvore de decisao com GridSearch')\n",
    "print('Os melhores parâmetros encontrados pelo GridSearch:')\n",
    "print(sonar_grid.best_params_, '\\n')\n",
    "\n",
    "\n",
    "print(classification_report(y_test, y_pred, target_names=class_names))"
   ]
  },
  {
   "cell_type": "code",
   "execution_count": 21,
   "metadata": {
    "tags": []
   },
   "outputs": [
    {
     "output_type": "stream",
     "name": "stdout",
     "text": "[[24  2]\n [14 12]]\n"
    }
   ],
   "source": [
    "conf_matrix = confusion_matrix(y_test, y_pred)\n",
    "print(conf_matrix)"
   ]
  },
  {
   "cell_type": "code",
   "execution_count": 31,
   "metadata": {
    "tags": []
   },
   "outputs": [
    {
     "output_type": "stream",
     "name": "stdout",
     "text": "{}\n              precision    recall  f1-score   support\n\n       Rocha       0.72      0.88      0.79        26\n        Mina       0.85      0.65      0.74        26\n\n    accuracy                           0.77        52\n   macro avg       0.78      0.77      0.77        52\nweighted avg       0.78      0.77      0.77        52\n\n"
    }
   ],
   "source": [
    "sonar = DecisionTreeClassifier()\n",
    "random = RandomizedSearchCV(sonar, dict())\n",
    "\n",
    "random.fit(X_train, y_train)\n",
    "y_pred = random.predict(X_test)\n",
    "\n",
    "print(random.best_params_)\n",
    "\n",
    "print(classification_report(y_test, y_pred, target_names=class_names))"
   ]
  },
  {
   "cell_type": "code",
   "execution_count": null,
   "metadata": {},
   "outputs": [],
   "source": []
  }
 ]
}