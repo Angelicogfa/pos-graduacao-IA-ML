{
 "metadata": {
  "language_info": {
   "codemirror_mode": {
    "name": "ipython",
    "version": 3
   },
   "file_extension": ".py",
   "mimetype": "text/x-python",
   "name": "python",
   "nbconvert_exporter": "python",
   "pygments_lexer": "ipython3",
   "version": 3
  },
  "orig_nbformat": 2,
  "kernelspec": {
   "name": "python_defaultSpec_1595500016905",
   "display_name": "Python 3.7.6 64-bit ('base': conda)"
  }
 },
 "nbformat": 4,
 "nbformat_minor": 2,
 "cells": [
  {
   "cell_type": "markdown",
   "metadata": {},
   "source": [
    "# Naive Bayes\n",
    "\n",
    "Ilustra o funcionamento do algoritmo de Naive Bayes com atributos numéricos.\n",
    "\n",
    "## Base de dados: Iris dataset (espécies de lírios)\n",
    "\n",
    "https://archive.ics.uci.edu/ml/datasets/iris/\n",
    "\n",
    "3 Classes (setosa, virginica, versicolor)\n",
    "\n",
    "50 amostras por Classes\n",
    "\n",
    "4 atributos reais positivos (comp. pétala, com. sépala, larg. pétala, larg. sépala)"
   ]
  },
  {
   "cell_type": "code",
   "execution_count": 1,
   "metadata": {},
   "outputs": [],
   "source": [
    "import pandas as pd\n",
    "from sklearn.datasets import load_iris\n",
    "from sklearn.model_selection import train_test_split\n",
    "from sklearn.naive_bayes import GaussianNB\n",
    "from sklearn.metrics import confusion_matrix, classification_report\n",
    "\n",
    "iris = load_iris()\n",
    "\n",
    "X_train, X_test, y_train, y_test = train_test_split(iris['data'], iris['target'], random_state=0)"
   ]
  },
  {
   "cell_type": "code",
   "execution_count": 3,
   "metadata": {
    "tags": []
   },
   "outputs": [
    {
     "output_type": "stream",
     "name": "stdout",
     "text": "Número de classficação 0 de 150\n"
    }
   ],
   "source": [
    "gnb = GaussianNB()\n",
    "y_pred = gnb.fit(X_train, y_train).predict(X_test)\n",
    "\n",
    "print('Número de classficação {0} de {1}'.format((y_test != y_pred).sum(), iris.data.shape[0]))"
   ]
  },
  {
   "cell_type": "code",
   "execution_count": 4,
   "metadata": {
    "tags": []
   },
   "outputs": [
    {
     "output_type": "stream",
     "name": "stdout",
     "text": "Acurácia do modelo: 100.000000%\n\n              precision    recall  f1-score   support\n\n      setosa       1.00      1.00      1.00        13\n  versicolor       1.00      1.00      1.00        16\n   virginica       1.00      1.00      1.00         9\n\n    accuracy                           1.00        38\n   macro avg       1.00      1.00      1.00        38\nweighted avg       1.00      1.00      1.00        38\n\n"
    }
   ],
   "source": [
    "ac = gnb.score(X_test, y_test)\n",
    "print('Acurácia do modelo: {0:2f}%\\n'.format(100*ac))\n",
    "\n",
    "print(classification_report(y_test, y_pred, target_names=iris.target_names))"
   ]
  },
  {
   "cell_type": "code",
   "execution_count": 5,
   "metadata": {
    "tags": []
   },
   "outputs": [
    {
     "output_type": "stream",
     "name": "stdout",
     "text": "setosa(pred)  versicolor(pred)  virginica(pred)\nsetosa                13                 0                0\nversicolor             0                16                0\nvirginica              0                 0                9\n"
    }
   ],
   "source": [
    "cnf_matrix = confusion_matrix(y_test, y_pred)\n",
    "cnf_table = pd.DataFrame(data=cnf_matrix, index=iris.target_names, columns=[x + '(pred)' for x in iris.target_names])\n",
    "print(cnf_table)"
   ]
  },
  {
   "cell_type": "code",
   "execution_count": null,
   "metadata": {},
   "outputs": [],
   "source": []
  }
 ]
}