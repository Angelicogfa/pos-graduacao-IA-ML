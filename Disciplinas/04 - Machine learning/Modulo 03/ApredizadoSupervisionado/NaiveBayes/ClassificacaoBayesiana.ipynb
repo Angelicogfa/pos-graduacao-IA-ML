{
 "metadata": {
  "language_info": {
   "codemirror_mode": {
    "name": "ipython",
    "version": 3
   },
   "file_extension": ".py",
   "mimetype": "text/x-python",
   "name": "python",
   "nbconvert_exporter": "python",
   "pygments_lexer": "ipython3",
   "version": 3
  },
  "orig_nbformat": 2
 },
 "nbformat": 4,
 "nbformat_minor": 2,
 "cells": [
  {
   "cell_type": "markdown",
   "metadata": {},
   "source": [
    "# Classificação Bayesiana\n",
    "\n",
    "* Este é um método baseado em **classificador estatístico**.\n",
    "\n",
    "* Trabalha com probabilidade de ocorrência de cada classe para cada valor de atributo\n",
    "\n",
    "* Limitação: Supõe que variáveis são condicionalmente independentes\n",
    "\n",
    "## Independência condicional\n",
    "\n",
    "*X* é condicionalmente independente de *Y* dado *Z*, se a distribuição de probabilidade de *X* é independente de *Y* dado o valor de *Z*.\n",
    "\n",
    "$P(X|Y,Z) = P(X|Z)$"
   ]
  },
  {
   "cell_type": "markdown",
   "metadata": {},
   "source": [
    "## Classificação Bayesiana: Naive Bayes\n",
    "\n",
    "$P(C|X)$ probabilidade de $X$ ser da classe $C$.\n",
    "\n",
    "$P(C|X) = P(C) \\prod^n_{i=1} P(X_i|C)$\n",
    "\n",
    "Seleciona $P(C|X)$ máximo.\n",
    "\n",
    "Correlação de Laplace evita alta influência de valores com probabilidade 0."
   ]
  },
  {
   "cell_type": "markdown",
   "metadata": {},
   "source": [
    "## Classificação Bayesiana: Exemplo\n",
    "\n",
    "Dado $X$ = <chuvoso, quente, alta, N>\n",
    "\n",
    "$P(X|S) * P(S) = P(chuvoso|S) * P(quente|S) * P(alta|S) * P(fraco|S) * P(S)$ = $\\frac{3}{9} * \\frac{2}{9} * \\frac{3}{9} * \\frac{6}{9} * \\frac{9}{14} = 0.010582$\n",
    "\n",
    "$P(X|N) * P(N) = P(chuvoso|N) * P(quente|N) * P(alta|N) * P(fraco|N) * P(N)$ = $\\frac{2}{5} * \\frac{2}{5} * \\frac{4}{5} * \\frac{2}{5} * \\frac{5}{14} = 0.018286$\n",
    "\n",
    "Amostra classificada como **Não**."
   ]
  },
  {
   "cell_type": "code",
   "execution_count": null,
   "metadata": {},
   "outputs": [],
   "source": []
  }
 ]
}