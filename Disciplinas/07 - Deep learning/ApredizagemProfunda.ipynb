{
 "metadata": {
  "language_info": {
   "codemirror_mode": {
    "name": "ipython",
    "version": 3
   },
   "file_extension": ".py",
   "mimetype": "text/x-python",
   "name": "python",
   "nbconvert_exporter": "python",
   "pygments_lexer": "ipython3",
   "version": 3
  },
  "orig_nbformat": 2
 },
 "nbformat": 4,
 "nbformat_minor": 2,
 "cells": [
  {
   "source": [
    "# Aprendizagem Profunda\n",
    "\n",
    "## História\n",
    "\n",
    "Já vem sendo desenvolvida na academia a algumas decadas.\n",
    "\n",
    "Em 1989 (Lecun, et al) reconhecimento de códigos postais utilizada pelo serviço postal dos EUA. Tal projeto fazia uso de conceitos e técnias como *Convoluções*.\n",
    "\n",
    "Redes convulacionais são utilizadas em visão computacional. AlexNet (2012) foi treinada com 200GB de dados.\n",
    "\n",
    "Reconhecimento de fala utiliza *redes neurais recorrentes, LSTMs (1997). \n",
    "\n",
    "Modelos S2S (Sequence-to-sequence) com uso de LSTMs e de mecanismos de atenção (tradução de idiomas).\n",
    "\n",
    "Avanços no processamento de linguagem natural teve um avanço a partir de 2016, utilizando-se procedimentos a aprendizado profundo com base na evolução do bigdata.\n",
    "\n",
    "## Apredizagem (IA) classica x Aprendizagem Profunda\n",
    "\n",
    "Redução constantes da redução da taxa de erro.\n",
    "\n",
    "* Riscos: Economia (deslocamento de empregos); segurança (sistemas descontrolados).\n",
    "\n",
    "\"Uma intereação entre insigths intuitivos, modelagem teórica, implementações praticas, estudos impíricos e análise cientificas\" (Yann Lecun: Pesquisador-chefe do Facebook, pioneiro em redes profundas).\n",
    "\n",
    "ou seja,\n",
    "\n",
    "Não existe uma estrutura única ou conjunto básico de princípios para explicar tudo!"
   ],
   "cell_type": "markdown",
   "metadata": {}
  },
  {
   "cell_type": "code",
   "execution_count": null,
   "metadata": {},
   "outputs": [],
   "source": []
  }
 ]
}