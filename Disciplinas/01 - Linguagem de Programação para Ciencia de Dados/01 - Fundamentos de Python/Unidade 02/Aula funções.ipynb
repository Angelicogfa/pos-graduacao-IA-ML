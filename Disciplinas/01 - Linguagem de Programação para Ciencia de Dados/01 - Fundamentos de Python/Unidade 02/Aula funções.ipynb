{
 "cells": [
  {
   "cell_type": "markdown",
   "metadata": {},
   "source": [
    "# Funções\n",
    "\n",
    "```python\n",
    "def func(lista de parâmetros):\n",
    "    \"\"\"\n",
    "    Documentation String\n",
    "    \"\"\"\n",
    "    bloco de comandos\n",
    "    return # opcional\n",
    "```\n",
    "       \n"
   ]
  },
  {
   "cell_type": "code",
   "execution_count": 1,
   "metadata": {},
   "outputs": [],
   "source": [
    "# Exemplo 1\n",
    "def func_01(a):\n",
    "    \"\"\"\n",
    "    Esse é o documentation string (docstring) da função func_01.\n",
    "    Essa função simplesmente imprime o valor do argumento passado por parâmetro.\n",
    "    \"\"\"\n",
    "    print(a)"
   ]
  },
  {
   "cell_type": "code",
   "execution_count": 2,
   "metadata": {},
   "outputs": [
    {
     "output_type": "stream",
     "name": "stdout",
     "text": "5\n"
    }
   ],
   "source": [
    "func_01(5)"
   ]
  },
  {
   "cell_type": "code",
   "execution_count": null,
   "metadata": {},
   "outputs": [],
   "source": [
    "func_01(\"Python\")"
   ]
  },
  {
   "cell_type": "code",
   "execution_count": null,
   "metadata": {},
   "outputs": [],
   "source": [
    "func_01([1, 2, 3, 4])"
   ]
  },
  {
   "cell_type": "code",
   "execution_count": null,
   "metadata": {},
   "outputs": [],
   "source": [
    "# Exemplo 2\n",
    "def inc(num):\n",
    "    \"\"\"\n",
    "    Exemplo de função com retorno de valor. Essa função recebe um parâmetro, então o incrementa e retorna.\n",
    "    \"\"\"\n",
    "    return num + 1"
   ]
  },
  {
   "cell_type": "code",
   "execution_count": null,
   "metadata": {},
   "outputs": [],
   "source": [
    "a = inc(3)\n",
    "a"
   ]
  },
  {
   "cell_type": "code",
   "execution_count": null,
   "metadata": {},
   "outputs": [],
   "source": [
    "b = inc(99)\n",
    "b"
   ]
  },
  {
   "cell_type": "code",
   "execution_count": null,
   "metadata": {},
   "outputs": [],
   "source": [
    "# Exemplo 3\n",
    "def raiz(r, num):\n",
    "    \"\"\"\n",
    "    Calcula raízes através da operação de potência.\n",
    "    \"\"\"\n",
    "    return num ** (1/r)"
   ]
  },
  {
   "cell_type": "code",
   "execution_count": 13,
   "metadata": {},
   "outputs": [
    {
     "output_type": "execute_result",
     "data": {
      "text/plain": "1.0442737824274138"
     },
     "metadata": {},
     "execution_count": 13
    }
   ],
   "source": [
    "a = raiz(2, 16)\n",
    "a"
   ]
  },
  {
   "cell_type": "code",
   "execution_count": 14,
   "metadata": {},
   "outputs": [
    {
     "output_type": "execute_result",
     "data": {
      "text/plain": "1.041528498231435"
     },
     "metadata": {},
     "execution_count": 14
    }
   ],
   "source": [
    "b = raiz(3, 27)\n",
    "b"
   ]
  },
  {
   "cell_type": "code",
   "execution_count": 15,
   "metadata": {},
   "outputs": [
    {
     "output_type": "execute_result",
     "data": {
      "text/plain": "1.0066451831867604"
     },
     "metadata": {},
     "execution_count": 15
    }
   ],
   "source": [
    "c = raiz(5, 243) # Argumentos posicionais\n",
    "c"
   ]
  },
  {
   "cell_type": "code",
   "execution_count": 16,
   "metadata": {},
   "outputs": [
    {
     "output_type": "execute_result",
     "data": {
      "text/plain": "9.0"
     },
     "metadata": {},
     "execution_count": 16
    }
   ],
   "source": [
    "d = raiz(num = 81, r = 2) # Argumentos nomeados\n",
    "d"
   ]
  },
  {
   "cell_type": "code",
   "execution_count": 17,
   "metadata": {},
   "outputs": [],
   "source": [
    "# Exemplo 3 - parâmetros default\n",
    "def raiz(num, r = 2):\n",
    "    \"\"\"\n",
    "    Calcula raízes através da operação de potência.\n",
    "    \"\"\"\n",
    "    return num ** (1/r)"
   ]
  },
  {
   "cell_type": "code",
   "execution_count": 18,
   "metadata": {},
   "outputs": [
    {
     "output_type": "execute_result",
     "data": {
      "text/plain": "4.0"
     },
     "metadata": {},
     "execution_count": 18
    }
   ],
   "source": [
    "a = raiz(16)\n",
    "a"
   ]
  },
  {
   "cell_type": "code",
   "execution_count": 19,
   "metadata": {},
   "outputs": [
    {
     "output_type": "execute_result",
     "data": {
      "text/plain": "2.0"
     },
     "metadata": {},
     "execution_count": 19
    }
   ],
   "source": [
    "b = raiz(32,5)\n",
    "b"
   ]
  },
  {
   "cell_type": "code",
   "execution_count": null,
   "metadata": {},
   "outputs": [],
   "source": [
    "# Exemplo 04\n",
    "def soma(*nums):\n",
    "    \"\"\"\n",
    "    Exemplo de função usando parâmetros arbitrários\n",
    "    \"\"\"\n",
    "    print(type(nums))\n",
    "    soma = 0\n",
    "    for num in nums:\n",
    "        soma += num\n",
    "    return soma"
   ]
  },
  {
   "cell_type": "code",
   "execution_count": null,
   "metadata": {},
   "outputs": [],
   "source": [
    "soma(2, 5, 4, 2, 8,7, 1, 0, 2)"
   ]
  },
  {
   "cell_type": "code",
   "execution_count": 11,
   "metadata": {},
   "outputs": [],
   "source": [
    "def soma2(num1: int, num2: int) -> int:\n",
    "    \"\"\"\n",
    "    Soma o valor n1 ao valor n2\n",
    "    \"\"\"\n",
    "    return num1 + num2\n"
   ]
  },
  {
   "cell_type": "code",
   "execution_count": 12,
   "metadata": {},
   "outputs": [
    {
     "output_type": "execute_result",
     "data": {
      "text/plain": "30"
     },
     "metadata": {},
     "execution_count": 12
    }
   ],
   "source": [
    "soma2(10, 20)"
   ]
  },
  {
   "cell_type": "code",
   "execution_count": null,
   "metadata": {},
   "outputs": [],
   "source": []
  }
 ],
 "metadata": {
  "kernelspec": {
   "display_name": "Python 3",
   "language": "python",
   "name": "python3"
  },
  "language_info": {
   "codemirror_mode": {
    "name": "ipython",
    "version": 3
   },
   "file_extension": ".py",
   "mimetype": "text/x-python",
   "name": "python",
   "nbconvert_exporter": "python",
   "pygments_lexer": "ipython3",
   "version": "3.7.4-final"
  }
 },
 "nbformat": 4,
 "nbformat_minor": 2
}