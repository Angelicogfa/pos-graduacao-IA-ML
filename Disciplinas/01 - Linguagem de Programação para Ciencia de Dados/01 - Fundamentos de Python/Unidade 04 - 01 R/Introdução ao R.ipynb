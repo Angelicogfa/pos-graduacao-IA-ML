{
 "cells": [
  {
   "cell_type": "markdown",
   "metadata": {},
   "source": [
    "# Introdução ao R\n",
    "\n",
    "O que veremos nessa aula:\n",
    "\n",
    "* Gerenciamento de pacotes\n",
    "* Operadores aritméticos\n",
    "* Tipos de dados em R\n",
    "* Variáveis\n",
    "* Identificadores\n",
    "* Comando de atribuição\n",
    "* Impressão e leitura de variáveis\n",
    "* Operadores relacionais\n",
    "* Operadores lógicos\n",
    "* Gerenciando objetos na memória\n",
    "\n",
    "Referência: [Manuais](https://cran.r-project.org/manuals.html) criados pelo grupo de desenvolvedores do R. "
   ]
  },
  {
   "cell_type": "markdown",
   "metadata": {},
   "source": [
    "## Gerenciamento de pacotes"
   ]
  },
  {
   "cell_type": "code",
   "execution_count": null,
   "metadata": {},
   "outputs": [],
   "source": [
    "# Visualizando os pacotes instalados\n",
    "installed.packages()"
   ]
  },
  {
   "cell_type": "code",
   "execution_count": null,
   "metadata": {},
   "outputs": [],
   "source": [
    "# Carregando um pacote\n",
    "library(ggplot2)"
   ]
  },
  {
   "cell_type": "code",
   "execution_count": null,
   "metadata": {},
   "outputs": [],
   "source": [
    "# Verifica os pacotes carregados na memória\n",
    "search()"
   ]
  },
  {
   "cell_type": "code",
   "execution_count": null,
   "metadata": {},
   "outputs": [],
   "source": [
    "# Descarregando desalocando pacote da memória\n",
    "detach(\"package:ggplot2\")"
   ]
  },
  {
   "cell_type": "code",
   "execution_count": null,
   "metadata": {},
   "outputs": [],
   "source": [
    "# Verifica os pacotes carregados na memória\n",
    "search()"
   ]
  },
  {
   "cell_type": "markdown",
   "metadata": {},
   "source": [
    "## Operadores aritméticos\n",
    "\n",
    "| Operador | Significado   | Exemplo                    |\n",
    "|:---|:---|:---|\n",
    "|     +    | Adição        | a = 3 + 2                  |\n",
    "|     -    | Subtração     | b = 7 - a                  |\n",
    "|     *    | Multiplicação | c = a * b                  |\n",
    "|     /    | Divisão       | d = 10 / 3                   |\n",
    "|    %/%    | Quociente     | e = 10 %/% 3                  |\n",
    "|     %%    | Resto         | f = 10 %% 3                   |\n",
    "|    **   | Exponenciação | g = 2 ** 3               |\n",
    "|    ^    | Exponenciação | g = 2 ^ 3                |\n",
    "|    **   | Radiciação    | h = 16 ** (1/2) |\n",
    "|    ^    | Radiciação    | h = 16 ^ (1/2)            |\n",
    "\n",
    "## Precedência de Operadores\n",
    "\n",
    "1. Parênteses\n",
    "2. Potenciação\n",
    "3. Multiplicação e divisão\n",
    "4. Soma e subtração"
   ]
  },
  {
   "cell_type": "code",
   "execution_count": null,
   "metadata": {},
   "outputs": [],
   "source": [
    "# Definindo as variáveis a e b\n",
    "a = 10L\n",
    "b = 3L\n",
    "#Adição (+)\n",
    "adic = a + b\n",
    "adic # ou print(adic)"
   ]
  },
  {
   "cell_type": "code",
   "execution_count": null,
   "metadata": {},
   "outputs": [],
   "source": [
    "# Subtração (-)\n",
    "subt = a - b\n",
    "subt"
   ]
  },
  {
   "cell_type": "code",
   "execution_count": null,
   "metadata": {},
   "outputs": [],
   "source": [
    "# Multiplicação\n",
    "mult = a * b\n",
    "mult"
   ]
  },
  {
   "cell_type": "code",
   "execution_count": null,
   "metadata": {},
   "outputs": [],
   "source": [
    "# Divisão real\n",
    "divi = a / b\n",
    "divi"
   ]
  },
  {
   "cell_type": "code",
   "execution_count": null,
   "metadata": {},
   "outputs": [],
   "source": [
    "# Divisão inteira (quociente)\n",
    "quoc = a %/% b\n",
    "quoc"
   ]
  },
  {
   "cell_type": "code",
   "execution_count": null,
   "metadata": {},
   "outputs": [],
   "source": [
    "# Divisão inteira (resto)\n",
    "resto = a %% b\n",
    "resto"
   ]
  },
  {
   "cell_type": "code",
   "execution_count": null,
   "metadata": {},
   "outputs": [],
   "source": [
    "# Potenciação\n",
    "potencia1 = 2 ** 3\n",
    "potencia2 = 3 ^ 2\n",
    "potencia3 = 9 ** (1/2)\n",
    "print(c(potencia1, potencia2, potencia3))"
   ]
  },
  {
   "cell_type": "markdown",
   "metadata": {},
   "source": [
    "## Exercício de fixação\n",
    "\n",
    "Converter as equações em expressões aritméticas válidas no R. \n",
    "\n",
    "Equação 1     $\\Rightarrow 2+3 \\times 4 \\div 5 - 6 $"
   ]
  },
  {
   "cell_type": "code",
   "execution_count": null,
   "metadata": {},
   "outputs": [],
   "source": [
    "2 + 3 * (4 / 5) - 6"
   ]
  },
  {
   "cell_type": "markdown",
   "metadata": {},
   "source": [
    "Agora a mesma equação acima, mas alterando a precedência para que as operações de soma e subtração sejam executadas antes das outras. _Dica: use parênteses._"
   ]
  },
  {
   "cell_type": "code",
   "execution_count": null,
   "metadata": {},
   "outputs": [],
   "source": [
    "(2 + 3) * 4 / (5 - 6)"
   ]
  },
  {
   "cell_type": "markdown",
   "metadata": {},
   "source": [
    "Equação 2 $\\Rightarrow \\sqrt{\\frac{(2-3)^{2}}{4}}$"
   ]
  },
  {
   "cell_type": "code",
   "execution_count": null,
   "metadata": {},
   "outputs": [],
   "source": [
    "((2-3)**2/4)**(1/2)"
   ]
  },
  {
   "cell_type": "markdown",
   "metadata": {},
   "source": [
    "## Tipos de Dados em R\n",
    "\n",
    "Segundo o [R Language Definition](https://cran.r-project.org/doc/manuals/r-release/R-lang.html), R contém seis tipos básicos de dados. São eles:\n",
    "\n",
    "* integer (ex: 2L, 5L | varia entre -2.147.483.647 a +2.147.483.647)\n",
    "* double (ex: 3.14159, 0.0001, 9999999999999999 | varia entre 2.22507e-308 e 1.79769e+308)\n",
    "* complex (ex: 3+2i, 7i)\n",
    "* character (ex: \"R\", \"Jupyter\")\n",
    "* logical (TRUE, FALSE)\n",
    "* raw (ex: 52, 5a)"
   ]
  },
  {
   "cell_type": "code",
   "execution_count": null,
   "metadata": {},
   "outputs": [],
   "source": [
    "a = 179768999999999999999999999999999999999999999999999999999999999999999999999999999999999999999999999999999999999999999999999999999999999999999999999999999999999999999999999999999999999999999999999999999999999999999999999999999999999999999999999999999999999999999999999999999999999999999999999999999999999999999\n",
    "a"
   ]
  },
  {
   "cell_type": "code",
   "execution_count": null,
   "metadata": {},
   "outputs": [],
   "source": [
    "typeof(a)"
   ]
  },
  {
   "cell_type": "code",
   "execution_count": null,
   "metadata": {},
   "outputs": [],
   "source": [
    "b = 2147483647L # ou b = as.integer(2147483647)\n",
    "b"
   ]
  },
  {
   "cell_type": "code",
   "execution_count": null,
   "metadata": {},
   "outputs": [],
   "source": [
    "typeof(b)"
   ]
  },
  {
   "cell_type": "code",
   "execution_count": null,
   "metadata": {},
   "outputs": [],
   "source": [
    "c = 3 + 2i\n",
    "c"
   ]
  },
  {
   "cell_type": "code",
   "execution_count": null,
   "metadata": {},
   "outputs": [],
   "source": [
    "typeof(c)"
   ]
  },
  {
   "cell_type": "code",
   "execution_count": null,
   "metadata": {},
   "outputs": [],
   "source": [
    "d = \"texto\"\n",
    "d"
   ]
  },
  {
   "cell_type": "code",
   "execution_count": null,
   "metadata": {},
   "outputs": [],
   "source": [
    "typeof(d)"
   ]
  },
  {
   "cell_type": "code",
   "execution_count": null,
   "metadata": {},
   "outputs": [],
   "source": [
    "e = TRUE # e = T\n",
    "e"
   ]
  },
  {
   "cell_type": "code",
   "execution_count": null,
   "metadata": {},
   "outputs": [],
   "source": [
    "typeof(e)"
   ]
  },
  {
   "cell_type": "code",
   "execution_count": null,
   "metadata": {},
   "outputs": [],
   "source": [
    "f <- charToRaw(\"A\")\n",
    "f"
   ]
  },
  {
   "cell_type": "code",
   "execution_count": null,
   "metadata": {},
   "outputs": [],
   "source": [
    "typeof(f)"
   ]
  },
  {
   "cell_type": "markdown",
   "metadata": {},
   "source": [
    "## Verificando tipos de dados e variáveis em R\n",
    "\n",
    "### typeof()\n",
    "\n",
    "O R fornece o método **typeof()** que retorna o tipo de dados e variáveis. Seu uso é muito simples, basta chamar a função passando por parâmetro um objeto, variável ou um valor entre parênteses. "
   ]
  },
  {
   "cell_type": "code",
   "execution_count": null,
   "metadata": {},
   "outputs": [],
   "source": [
    "typeof(a)"
   ]
  },
  {
   "cell_type": "code",
   "execution_count": null,
   "metadata": {},
   "outputs": [],
   "source": [
    "typeof(3)"
   ]
  },
  {
   "cell_type": "code",
   "execution_count": null,
   "metadata": {},
   "outputs": [],
   "source": [
    "typeof(3L)"
   ]
  },
  {
   "cell_type": "code",
   "execution_count": null,
   "metadata": {},
   "outputs": [],
   "source": [
    "typeof(\"R\")"
   ]
  },
  {
   "cell_type": "code",
   "execution_count": null,
   "metadata": {},
   "outputs": [],
   "source": [
    "typeof(TRUE)"
   ]
  },
  {
   "cell_type": "code",
   "execution_count": null,
   "metadata": {},
   "outputs": [],
   "source": [
    "typeof(3+2i)"
   ]
  },
  {
   "cell_type": "code",
   "execution_count": null,
   "metadata": {},
   "outputs": [],
   "source": [
    "charToRaw(\"Hello\")"
   ]
  },
  {
   "cell_type": "code",
   "execution_count": null,
   "metadata": {},
   "outputs": [],
   "source": [
    "ctr = charToRaw(\"Hello\")\n",
    "typeof(ctr)"
   ]
  },
  {
   "cell_type": "code",
   "execution_count": null,
   "metadata": {},
   "outputs": [],
   "source": [
    "vetorInt = c(3L, 9L, 2L, 6L)\n",
    "typeof(vetorInt)"
   ]
  },
  {
   "cell_type": "code",
   "execution_count": null,
   "metadata": {},
   "outputs": [],
   "source": [
    "vetorDouble = c(3, 9, 2, 6)\n",
    "typeof(vetorDouble)"
   ]
  },
  {
   "cell_type": "code",
   "execution_count": null,
   "metadata": {},
   "outputs": [],
   "source": [
    "vetorComplex = c(3+2i, 9-5i, 2i, 6)\n",
    "typeof(vetorComplex)"
   ]
  },
  {
   "cell_type": "code",
   "execution_count": null,
   "metadata": {},
   "outputs": [],
   "source": [
    "vetorChar = c(\"R\", \"Python\", \"Hadoop\", \"GGPlot2\")\n",
    "typeof(vetorChar)"
   ]
  },
  {
   "cell_type": "code",
   "execution_count": null,
   "metadata": {},
   "outputs": [],
   "source": [
    "vetorLog = c(TRUE, 5 < 10, FALSE, 3 > 4)\n",
    "typeof(vetorLog)"
   ]
  },
  {
   "cell_type": "code",
   "execution_count": null,
   "metadata": {},
   "outputs": [],
   "source": [
    "vetorRaw = c(charToRaw(\"R\"), charToRaw(\"Python\"), charToRaw(\"Hadoop\"), charToRaw(\"GGPlot2\"))\n",
    "typeof(vetorRaw)"
   ]
  },
  {
   "cell_type": "code",
   "execution_count": null,
   "metadata": {},
   "outputs": [],
   "source": [
    "x = charToRaw(\"Z\")\n",
    "x"
   ]
  },
  {
   "cell_type": "code",
   "execution_count": null,
   "metadata": {},
   "outputs": [],
   "source": [
    "rawToChar(x)"
   ]
  },
  {
   "cell_type": "markdown",
   "metadata": {},
   "source": [
    "## Variáveis e o comando de atribuição\n",
    "\n",
    "### Conceito de variável\n",
    "O que é uma [variável](https://pt.wikipedia.org/wiki/Variável_\\(programação\\) \"Conceito de variável no Wikipedia\")? De forma bem simples e objetiva, uma **variável** é um espaço na memória (*memória RAM*) do seu computador, utilizada por um programa para armazenar dados. \n",
    "\n",
    "\n",
    "### Identificadores\n",
    "\n",
    "Uma variável precisa necessariamente de um nome, o qual chamamos de **identificador**. Em R, um identificador é formado apenas por letras (_de A a Z, maiúsculas ou minúsculas, com ou sem acentuação_), dígitos (_0 a 9_), o _underscore_ ( \\_ ) e o _ponto_ ( . ). Um identificador deve começar **obrigatoriamente** com uma letra ou ponto seguido por um qualquer caractere que não seja dígito. Também não pode conter espaços e caracteres especiais (@, !, \\*, -, &, ˜, etc). \n",
    "\n",
    "#### Identificadores válidos e inválidos\n",
    "Portanto podemos considerar os seguintes identificadores como nomes válidos para variáveis:\n",
    "\n",
    "* nome\n",
    "* Salário\n",
    "* NUMERO10\\_\n",
    "* i23ER21\n",
    "* \\..\\_data\\_de\\_nascimento\\_\n",
    "\n",
    "Já os identificadores abaixo não são nomes válidos para variáveis:\n",
    "* nome do aluno (*identificadores não podem conter espaços*)\n",
    "* Sal\\@rio (*contém um caractere especial @*)\n",
    "* 10NUMERO (*começa com dígito*)\n",
    "* \\_23ER21 (*começa com underscore \\_*)\n",
    "* data-de-nascimento (*possui um caractere especial -*)\n",
    "\n",
    "#### Identificadores significativos e não significativos\n",
    "\n",
    "Além de serem válidos, como nos exemplos acima, os **identificadores** precisam ter nomes significativos. Ou seja, ao ver um identificador, o programador deve conseguir perceber que dado está armazenado na variável.\n",
    "\n",
    "Os identificadores abaixo, embora sejam válidos, não tem nomes significativos:\n",
    "\n",
    "* i23ER1\n",
    "* .a123\n",
    "* BATMAN\n",
    "* T\n",
    "\n",
    "Embora todos os identificadores acima sejam válidos, não são significativos. Que informação será armazenada nas variáveis *i23ER21*, *.a123*, *BATMAN* ou *T*? É difícil descobrir.\n",
    "\n",
    "Os identificadores abaixo são válidos e tem nomes significativos:\n",
    "\n",
    "* salario\n",
    "* idade\n",
    "* nome\n",
    "* nota\n",
    "* complementoenderecoparacorrespondencia\n",
    "\n",
    "Uma observação importante: para que um nome seja significativo, ele não precisa ser tão longo quanto _complementoenderecoparacorrespondencia_. Por exemplo, o que a variável `dtnasc` armazena? Se você pensou em uma data de nascimento, você acertou. Não precisamos de identificadores longos como *data\\_de\\_nascimento* para criar identificadores significativos. O ideal é utilizar identificadores mais curtos e fáceis de memorizar e utilizar como _dtnasc_.\n",
    "\n",
    "Por fim, uma última informação. R faz diferenciação entre letras maiúsculas e minúsculas em identificadores. Portanto, os identificadores _nota, Nota e NOTA_ representam três variáveis diferentes.\n",
    "\n",
    "### Criando variáveis\n",
    "\n",
    "Variáveis em R não são **declaradas** como em outras linguagens *(ex: Pascal, C, C++, Java, C#, etc...)* mas **criadas** a partir da atribuição de um valor, uma variável, uma expressão ou um objeto. O comando de atribuição, representado pelos símbolos (`=`,  `<-` ou `->`), é o responsável por atribuir (ou armazenar) um valor em uma variável. Também é possível atribuir um valor a uma variável através da função _assign()_.\n",
    "\n",
    "Vejamos alguns exemplos:"
   ]
  },
  {
   "cell_type": "code",
   "execution_count": null,
   "metadata": {},
   "outputs": [],
   "source": [
    "idade = 47L # ou idade = as.integer(47)\n",
    "idade"
   ]
  },
  {
   "cell_type": "code",
   "execution_count": null,
   "metadata": {},
   "outputs": [],
   "source": [
    "qtdeFilhos <- 2\n",
    "qtdeFilhos"
   ]
  },
  {
   "cell_type": "code",
   "execution_count": null,
   "metadata": {},
   "outputs": [],
   "source": [
    "assign(\"peso\",70.9)\n",
    "peso"
   ]
  },
  {
   "cell_type": "code",
   "execution_count": null,
   "metadata": {},
   "outputs": [],
   "source": [
    "'José Maria da Silva' -> nome\n",
    "nome"
   ]
  },
  {
   "cell_type": "code",
   "execution_count": null,
   "metadata": {},
   "outputs": [],
   "source": [
    "altura = 1.72"
   ]
  },
  {
   "cell_type": "code",
   "execution_count": null,
   "metadata": {},
   "outputs": [],
   "source": [
    "casado = TRUE"
   ]
  },
  {
   "cell_type": "markdown",
   "metadata": {},
   "source": [
    "## Testando tipo de dados e de variáveis"
   ]
  },
  {
   "cell_type": "code",
   "execution_count": null,
   "metadata": {},
   "outputs": [],
   "source": [
    "is.integer(1)"
   ]
  },
  {
   "cell_type": "code",
   "execution_count": null,
   "metadata": {},
   "outputs": [],
   "source": [
    "x = as.integer(5)"
   ]
  },
  {
   "cell_type": "code",
   "execution_count": null,
   "metadata": {},
   "outputs": [],
   "source": [
    "is.integer(x)"
   ]
  },
  {
   "cell_type": "code",
   "execution_count": null,
   "metadata": {},
   "outputs": [],
   "source": [
    "is.integer(1L)"
   ]
  },
  {
   "cell_type": "code",
   "execution_count": null,
   "metadata": {},
   "outputs": [],
   "source": [
    "is.character(\"A\")"
   ]
  },
  {
   "cell_type": "code",
   "execution_count": null,
   "metadata": {},
   "outputs": [],
   "source": [
    "is.numeric(15)"
   ]
  },
  {
   "cell_type": "code",
   "execution_count": null,
   "metadata": {},
   "outputs": [],
   "source": [
    "is.double(15)"
   ]
  },
  {
   "cell_type": "code",
   "execution_count": null,
   "metadata": {},
   "outputs": [],
   "source": [
    "is.raw(15)"
   ]
  },
  {
   "cell_type": "code",
   "execution_count": null,
   "metadata": {},
   "outputs": [],
   "source": [
    "is.logical(TRUE)"
   ]
  },
  {
   "cell_type": "code",
   "execution_count": null,
   "metadata": {},
   "outputs": [],
   "source": [
    "is.complex(2i)"
   ]
  },
  {
   "cell_type": "markdown",
   "metadata": {},
   "source": [
    "## Imprimindo valores e variáveis\n",
    "\n",
    "O R fornece o método print para impressão de valores e variáveis. "
   ]
  },
  {
   "cell_type": "code",
   "execution_count": null,
   "metadata": {},
   "outputs": [],
   "source": [
    "nome = \"Maria\"\n",
    "print(nome)"
   ]
  },
  {
   "cell_type": "code",
   "execution_count": null,
   "metadata": {},
   "outputs": [],
   "source": [
    "print(\"nome\")"
   ]
  },
  {
   "cell_type": "code",
   "execution_count": null,
   "metadata": {},
   "outputs": [],
   "source": [
    "print(\"nome\",nome)"
   ]
  },
  {
   "cell_type": "code",
   "execution_count": null,
   "metadata": {},
   "outputs": [],
   "source": [
    "print(paste0(\"nome \",nome))"
   ]
  },
  {
   "cell_type": "code",
   "execution_count": null,
   "metadata": {},
   "outputs": [],
   "source": [
    "paste(\"Meu\",\"nome\",\"é\",\"Maria\")"
   ]
  },
  {
   "cell_type": "code",
   "execution_count": null,
   "metadata": {},
   "outputs": [],
   "source": [
    "print(paste(\"Meu\",\"nome\",\"é\",\"Maria\"))"
   ]
  },
  {
   "cell_type": "code",
   "execution_count": null,
   "metadata": {},
   "outputs": [],
   "source": [
    "paste0(\"Meu\",\"nome\",\"é\",\"Maria\")"
   ]
  },
  {
   "cell_type": "code",
   "execution_count": null,
   "metadata": {},
   "outputs": [],
   "source": [
    "print(paste0(\"Meu\",\"nome\",\"é\",\"Maria\"))"
   ]
  },
  {
   "cell_type": "code",
   "execution_count": null,
   "metadata": {},
   "outputs": [],
   "source": [
    "cat(\"Meu\",\"nome\",\"é\",\"Maria\")"
   ]
  },
  {
   "cell_type": "code",
   "execution_count": null,
   "metadata": {},
   "outputs": [],
   "source": [
    "paste(\"Meu\",\"nome\",\"é\",\"Maria\", sep=\"&\")"
   ]
  },
  {
   "cell_type": "markdown",
   "metadata": {},
   "source": [
    "## Dica print(), cat(), paste() e paste0()\n",
    "\n",
    "* Para imprimir mensagens mais elaboradas, use apenas o cat() ou o print() em conjunto com paste() ou paste0().\n",
    "* Lembre-se que a diferença entre paste() e paste0() é que, por *default*, o separador em paste é \" \" e em paste0 é \"\""
   ]
  },
  {
   "cell_type": "code",
   "execution_count": null,
   "metadata": {},
   "outputs": [],
   "source": [
    "idade = as.integer(readline(prompt=\"Digite sua idade: \"))"
   ]
  },
  {
   "cell_type": "code",
   "execution_count": null,
   "metadata": {},
   "outputs": [],
   "source": [
    "nome = readline(prompt=\"Digite seu nome: \")"
   ]
  },
  {
   "cell_type": "code",
   "execution_count": null,
   "metadata": {},
   "outputs": [],
   "source": [
    "cat(nome,\"tem\",idade,\"anos de idade.\")"
   ]
  },
  {
   "cell_type": "code",
   "execution_count": null,
   "metadata": {},
   "outputs": [],
   "source": [
    "print(paste(nome,\"tem\",idade,\"anos de idade.\"))"
   ]
  },
  {
   "cell_type": "markdown",
   "metadata": {},
   "source": [
    "# Transformando equações matemáticas em expressões aritméticas\n",
    "\n",
    "### Cálculo da área e perímetro do retângulo\n",
    "\n",
    "$area = base \\times altura$\n",
    "\n",
    "$ perímetro = 2 \\times (base + altura)$"
   ]
  },
  {
   "cell_type": "code",
   "execution_count": null,
   "metadata": {},
   "outputs": [],
   "source": [
    "base = 7\n",
    "altura = 8\n",
    "area = base * altura\n",
    "perimetro = 2 * (base + altura)\n",
    "print(area)\n",
    "print(perimetro)"
   ]
  },
  {
   "cell_type": "markdown",
   "metadata": {},
   "source": [
    "### Cálculo da área e comprimento da circunferência\n",
    "\n",
    "$ area = \\pi \\times raio^{2} $\n",
    "\n",
    "$ comprimento = 2 \\times \\pi * raio $"
   ]
  },
  {
   "cell_type": "code",
   "execution_count": null,
   "metadata": {},
   "outputs": [],
   "source": [
    "raio = 2\n",
    "area = pi * raio ** 2\n",
    "comprimento = 2 * pi * raio\n",
    "cat(\"Para o raio\",raio,\", a área =\",area,\"e o comprimento =\", comprimento)"
   ]
  },
  {
   "cell_type": "code",
   "execution_count": null,
   "metadata": {},
   "outputs": [],
   "source": [
    "# Calculando a área e comprimento de uma circunferência cujo raio será informado pelo usuário\n",
    "raio = as.numeric(readline(prompt=\"Digite o valor do raio: \"))\n",
    "area = pi * raio ** 2\n",
    "comprimento = 2 * pi * raio\n",
    "cat(\"Para o raio\",raio,\", a área =\",area,\"e o comprimento =\", comprimento)"
   ]
  },
  {
   "cell_type": "markdown",
   "metadata": {},
   "source": [
    "### Cálculo da distância euclidiana entre 2 pontos no plano cartesiano\n",
    "\n",
    "$ distância = \\sqrt{(x_{1}-x_{2})^{2} + (y_{1}-y_{2})^{2}} $"
   ]
  },
  {
   "cell_type": "code",
   "execution_count": null,
   "metadata": {},
   "outputs": [],
   "source": [
    "# Calculando a distância entre os pontos (3,4) e (5,6)\n",
    "x1 = 3\n",
    "y1 = 4\n",
    "x2 = 5\n",
    "y2 = 6\n",
    "dist = ((x1-x2)**2 + (y1-y2)**2)**(1/2)\n",
    "cat(\"A distância entre os pontos(\",x1,\",\",y1,\") e (\",x2,\",\",y2,\") =\",dist)"
   ]
  },
  {
   "cell_type": "code",
   "execution_count": null,
   "metadata": {},
   "outputs": [],
   "source": [
    "# Calculando a distância entre os pontos digitados pelo usuário\n",
    "x1 = as.numeric(readline(prompt=\"Digite o valor de x1: \"))\n",
    "y1 = as.numeric(readline(prompt=\"Digite o valor de y1: \"))\n",
    "x2 = as.numeric(readline(prompt=\"Digite o valor de x2: \"))\n",
    "y2 = as.numeric(readline(prompt=\"Digite o valor de y2: \"))\n",
    "dist = ((x1-x2)**2 + (y1-y2)**2)**(1/2)\n",
    "cat(\"A distância entre os pontos(\",x1,\",\",y1,\") e (\",x2,\",\",y2,\") =\",dist)"
   ]
  },
  {
   "cell_type": "markdown",
   "metadata": {},
   "source": [
    "### Cálculo do delta e das raízes de uma equação do segundo grau\n",
    "\n",
    "$ \\Delta = b^{2} - 4ac $\n",
    "\n",
    "$ x = \\frac{-b \\pm \\sqrt{\\Delta}}{2a} $"
   ]
  },
  {
   "cell_type": "code",
   "execution_count": null,
   "metadata": {},
   "outputs": [],
   "source": [
    "# Calculando o Delta e raízes x1 e x2 para a equação y = x^2 - 5x + 6\n",
    "a = 1\n",
    "b = -5\n",
    "c = 6\n",
    "delta = b**2 - 4*a*c\n",
    "x1 = (-b+delta**(1/2))/(2*a)\n",
    "x2 = (-b-delta**(1/2))/(2*a)\n",
    "cat(\"Delta =\",delta,\", x1 =\",x1,\"e x2 =\", x2)"
   ]
  },
  {
   "cell_type": "code",
   "execution_count": null,
   "metadata": {},
   "outputs": [],
   "source": [
    "# Calculando o Delta e raízes x1 e x2 para a equação cujos coeficientes serão informados pelo usuário\n",
    "a = as.numeric(readline(\"Digite o valor do coeficiente a: \"))\n",
    "b = as.numeric(readline(\"Digite o valor do coeficiente b: \"))\n",
    "c = as.numeric(readline(\"Digite o valor do coeficiente c: \"))\n",
    "delta = b**2 - 4*a*c\n",
    "x1 = (-b+delta**(1/2))/(2*a)\n",
    "x2 = (-b-delta**(1/2))/(2*a)\n",
    "cat(\"Delta =\",delta,\", x1 =\",x1,\"e x2 =\", x2)"
   ]
  },
  {
   "cell_type": "markdown",
   "metadata": {},
   "source": [
    "### Cálculo da área do setor circular (fatia de um círculo)\n",
    "\n",
    "$ S = \\frac{\\alpha \\pi r^{2}}{360} $"
   ]
  },
  {
   "cell_type": "code",
   "execution_count": null,
   "metadata": {},
   "outputs": [],
   "source": [
    "# Para um círculo de raio 15, calcular a área de uma fatia com angulo = 45 graus (um pizza)\n",
    "# Isso equivale a calcular a área de uma das 8 fatias de uma pizza com 30 cm de diâmetro\n",
    "a = 45\n",
    "r = 15\n",
    "s = (a * pi * r ** 2)/360\n",
    "cat(\"Num círculo de raio\",r,\"cm, o setor circular de ângulo\",a,\"terá área =\",s,\"cm^2.\")"
   ]
  },
  {
   "cell_type": "markdown",
   "metadata": {},
   "source": [
    "## Operadores relacionais (operadores de comparação)\n",
    "\n",
    "| Operador | Significado   | Exemplo                    |\n",
    "|:---|:---|:---|\n",
    "| == | Igualdade | a == b |\n",
    "| != | DesiIgualdade | a != b |\n",
    "| > | Maior que | a > b |\n",
    "| < | Menor que | a < b |\n",
    "| >= | Maior ou igual | a >= b |\n",
    "| <= | Menor ou igual | a <= b |"
   ]
  },
  {
   "cell_type": "code",
   "execution_count": null,
   "metadata": {},
   "outputs": [],
   "source": [
    "a = 5\n",
    "b = 3\n",
    "a == b"
   ]
  },
  {
   "cell_type": "code",
   "execution_count": null,
   "metadata": {},
   "outputs": [],
   "source": [
    "a != b"
   ]
  },
  {
   "cell_type": "code",
   "execution_count": null,
   "metadata": {},
   "outputs": [],
   "source": [
    "a > b"
   ]
  },
  {
   "cell_type": "code",
   "execution_count": null,
   "metadata": {},
   "outputs": [],
   "source": [
    "a < b"
   ]
  },
  {
   "cell_type": "code",
   "execution_count": null,
   "metadata": {},
   "outputs": [],
   "source": [
    "a >= b"
   ]
  },
  {
   "cell_type": "code",
   "execution_count": null,
   "metadata": {},
   "outputs": [],
   "source": [
    "b <= a"
   ]
  },
  {
   "cell_type": "markdown",
   "metadata": {},
   "source": [
    "## Operadores lógicos (conectivos lógicos)\n",
    "\n",
    "| Operador | Significado   | Exemplo                    |\n",
    "|:---|:---|:---|\n",
    "| & ou && | **E** lógico | a == b & b == c |\n",
    "| \\| ou \\|\\| | **OU** lógico | a == b \\| b == c |\n",
    "| xor | **OU** exclusivo (XOR) | a == b xor b == c |\n",
    "| ! | Negação (inverte o resultado lógico) | !(a == b & b == c) |\n",
    "\n",
    "### Tabela verdade (AND)\n",
    "\n",
    "| a | b | a & b |\n",
    "|:--:|:--:|:--:|\n",
    "| True  | True  | **True** |\n",
    "| True  | False | False |\n",
    "| False | True  | False |\n",
    "| False | False | False |\n",
    "\n",
    "| a | b | c | a & b & c |\n",
    "|:--:|:--:|:--:|:--:|\n",
    "| True  | True  | True  | **True** |\n",
    "| True  | True  | False | False |\n",
    "| True  | False | True  | False |\n",
    "| True  | False | False | False |\n",
    "| False | True  | True  | False |\n",
    "| False | True  | False | False |\n",
    "| False | False | True  | False |\n",
    "| False | False | False | False |\n",
    "\n",
    "### Tabela verdade (OR)\n",
    "\n",
    "| a | b | a \\| b |\n",
    "|:--:|:--:|:--:|\n",
    "| True  | True  | **True** |\n",
    "| True  | False | **True** |\n",
    "| False | True  | **True** |\n",
    "| False | False | False |\n",
    "\n",
    "### Tabela verdade (XOR)\n",
    "\n",
    "| a | b | a xor b |\n",
    "|:--:|:--:|:--:|\n",
    "| True  | True  | False |\n",
    "| True  | False | **True** |\n",
    "| False | True  | **True** |\n",
    "| False | False | False |\n",
    "\n",
    "### Tabela verdade (NOT)\n",
    "| a | !(a) |\n",
    "|:--:|:--:|\n",
    "| True  | False |\n",
    "| False | **True** |"
   ]
  },
  {
   "cell_type": "code",
   "execution_count": null,
   "metadata": {},
   "outputs": [],
   "source": [
    "# TABELA DO AND (com 2 booleanos)\n",
    "print(paste(\" x     | y     | x and y \"))\n",
    "print(paste(\"-------------------------\"))\n",
    "print(paste(\" TRUE  | TRUE  |\", TRUE & TRUE ))\n",
    "print(paste(\" TRUE  | FALSE |\", TRUE & FALSE ))\n",
    "print(paste(\" FALSE | TRUE  |\", FALSE & TRUE))\n",
    "print(paste(\" False | FALSE |\", FALSE & FALSE))"
   ]
  },
  {
   "cell_type": "code",
   "execution_count": null,
   "metadata": {},
   "outputs": [],
   "source": [
    "# TABELA DO AND (com 3 booleanos)\n",
    "print(paste(\" x     | y     | z     |  x and y and z \"))\n",
    "print(paste(\"----------------------------------------\"))\n",
    "print(paste(\" TRUE  | TRUE  | TRUE  |\",TRUE & TRUE & TRUE))\n",
    "print(paste(\" TRUE  | TRUE  | FALSE |\",TRUE & TRUE & FALSE))\n",
    "print(paste(\" TRUE  | FALSE | TRUE  |\",TRUE & FALSE & TRUE))\n",
    "print(paste(\" TRUE  | FALSE | FALSE |\",TRUE & FALSE & FALSE))\n",
    "print(paste(\" FALSE | TRUE  | TRUE  |\",FALSE & TRUE & TRUE))\n",
    "print(paste(\" FALSE | TRUE  | FALSE |\",FALSE & TRUE & FALSE))\n",
    "print(paste(\" FALSE | FALSE | TRUE  |\",FALSE & FALSE & TRUE))\n",
    "print(paste(\" FALSE | FALSE | FALSE |\",FALSE & FALSE & FALSE))"
   ]
  },
  {
   "cell_type": "code",
   "execution_count": null,
   "metadata": {},
   "outputs": [],
   "source": [
    "# TABELA DO OR (com 2 booleanos)\n",
    "print(paste(\" x     | y     | x or y \"))\n",
    "print(paste(\"-------------------------\"))\n",
    "print(paste(\" TRUE  | TRUE  |\", TRUE | TRUE ))\n",
    "print(paste(\" TRUE  | FALSE |\", TRUE | FALSE ))\n",
    "print(paste(\" FALSE | TRUE  |\", FALSE | TRUE))\n",
    "print(paste(\" False | FALSE |\", FALSE | FALSE))"
   ]
  },
  {
   "cell_type": "code",
   "execution_count": null,
   "metadata": {},
   "outputs": [],
   "source": [
    "# TABELA DO XOR (com 2 booleanos)\n",
    "print(paste(\" x     | y     | x xor y \"))\n",
    "print(paste(\"-------------------------\"))\n",
    "print(paste(\" TRUE  | TRUE  |\", xor(TRUE, TRUE)))\n",
    "print(paste(\" TRUE  | FALSE |\", xor(TRUE, FALSE)))\n",
    "print(paste(\" FALSE | TRUE  |\", xor(FALSE, TRUE)))\n",
    "print(paste(\" False | FALSE |\", xor(FALSE, FALSE)))"
   ]
  },
  {
   "cell_type": "code",
   "execution_count": null,
   "metadata": {},
   "outputs": [],
   "source": [
    "# TABELA DO NOT\n",
    "print(paste(\" x     | not(x) \"))\n",
    "print(paste(\"----------------\"))\n",
    "print(paste(\" True  |\",!(TRUE)))\n",
    "print(paste(\" False |\",!(FALSE)))"
   ]
  },
  {
   "cell_type": "markdown",
   "metadata": {},
   "source": [
    "## Gerenciando objetos na memória"
   ]
  },
  {
   "cell_type": "code",
   "execution_count": null,
   "metadata": {},
   "outputs": [],
   "source": [
    "# Lista todos os objetos alocados na memória\n",
    "ls() # Também pode ser usada a função objects()"
   ]
  },
  {
   "cell_type": "code",
   "execution_count": null,
   "metadata": {},
   "outputs": [],
   "source": [
    "# Removendo um objeto específico\n",
    "remove(altura) # ou rm(altura)"
   ]
  },
  {
   "cell_type": "code",
   "execution_count": null,
   "metadata": {},
   "outputs": [],
   "source": [
    "ls()"
   ]
  },
  {
   "cell_type": "code",
   "execution_count": null,
   "metadata": {},
   "outputs": [],
   "source": [
    "# Removendo todos os objetos\n",
    "remove(list = ls()) # ou rm(list = ls())\n",
    "ls()"
   ]
  },
  {
   "cell_type": "code",
   "execution_count": null,
   "metadata": {},
   "outputs": [],
   "source": [
    "# Removendo objetos específicos\n",
    "a = 5\n",
    "b = 6\n",
    "c = 7\n",
    "rm(list = c(\"a\", \"c\"))\n",
    "ls()"
   ]
  }
 ],
 "metadata": {
  "kernelspec": {
   "display_name": "R",
   "language": "R",
   "name": "ir"
  },
  "language_info": {
   "codemirror_mode": "r",
   "file_extension": ".r",
   "mimetype": "text/x-r-source",
   "name": "R",
   "pygments_lexer": "r",
   "version": "3.6.1"
  }
 },
 "nbformat": 4,
 "nbformat_minor": 2
}
