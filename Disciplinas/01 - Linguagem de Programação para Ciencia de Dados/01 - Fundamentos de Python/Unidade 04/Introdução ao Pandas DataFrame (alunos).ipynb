{
 "cells": [
  {
   "cell_type": "markdown",
   "metadata": {},
   "source": [
    "# Introdução ao Pandas DataFrame\n",
    "\n",
    "O **DataFrame** é considerado por muitos como o principal objeto do módulo Pandas. Ele pode ser visto como uma matriz com linhas e colunas rotuladas ou simplesmente como um conjunto de Series. Cada coluna de um DataFrame pode ser retornado como uma Series.\n",
    "\n",
    "Para mais informações sobre o objeto **DataFrame** do Pandas clique [aqui](https://pandas.pydata.org/pandas-docs/stable/reference/frame.html).\n",
    "\n",
    "O código fonte do objeto DataFrame está disponível no Github. Quem tiver curiosidade pode visualizar clicando [aqui](https://github.com/pandas-dev/pandas/blob/v0.24.2/pandas/core/frame.py)."
   ]
  },
  {
   "cell_type": "code",
   "execution_count": 1,
   "metadata": {},
   "outputs": [],
   "source": [
    "# Importando os módulos\n",
    "import numpy as np\n",
    "import pandas as pd"
   ]
  },
  {
   "cell_type": "code",
   "execution_count": 2,
   "metadata": {},
   "outputs": [
    {
     "output_type": "execute_result",
     "data": {
      "text/plain": "     A   B   C   D   E\n1   37  12  72   9  75\n2    5  79  64  16   1\n3   76  71   6  25  50\n4   20  18  84  11  28\n5   29  14  50  68  87\n6   87  94  96  86  13\n7    9   7  63  61  22\n8   57   1   0  60  81\n9    8  88  13  47  72\n10  30  71   3  70  21",
      "text/html": "<div>\n<style scoped>\n    .dataframe tbody tr th:only-of-type {\n        vertical-align: middle;\n    }\n\n    .dataframe tbody tr th {\n        vertical-align: top;\n    }\n\n    .dataframe thead th {\n        text-align: right;\n    }\n</style>\n<table border=\"1\" class=\"dataframe\">\n  <thead>\n    <tr style=\"text-align: right;\">\n      <th></th>\n      <th>A</th>\n      <th>B</th>\n      <th>C</th>\n      <th>D</th>\n      <th>E</th>\n    </tr>\n  </thead>\n  <tbody>\n    <tr>\n      <td>1</td>\n      <td>37</td>\n      <td>12</td>\n      <td>72</td>\n      <td>9</td>\n      <td>75</td>\n    </tr>\n    <tr>\n      <td>2</td>\n      <td>5</td>\n      <td>79</td>\n      <td>64</td>\n      <td>16</td>\n      <td>1</td>\n    </tr>\n    <tr>\n      <td>3</td>\n      <td>76</td>\n      <td>71</td>\n      <td>6</td>\n      <td>25</td>\n      <td>50</td>\n    </tr>\n    <tr>\n      <td>4</td>\n      <td>20</td>\n      <td>18</td>\n      <td>84</td>\n      <td>11</td>\n      <td>28</td>\n    </tr>\n    <tr>\n      <td>5</td>\n      <td>29</td>\n      <td>14</td>\n      <td>50</td>\n      <td>68</td>\n      <td>87</td>\n    </tr>\n    <tr>\n      <td>6</td>\n      <td>87</td>\n      <td>94</td>\n      <td>96</td>\n      <td>86</td>\n      <td>13</td>\n    </tr>\n    <tr>\n      <td>7</td>\n      <td>9</td>\n      <td>7</td>\n      <td>63</td>\n      <td>61</td>\n      <td>22</td>\n    </tr>\n    <tr>\n      <td>8</td>\n      <td>57</td>\n      <td>1</td>\n      <td>0</td>\n      <td>60</td>\n      <td>81</td>\n    </tr>\n    <tr>\n      <td>9</td>\n      <td>8</td>\n      <td>88</td>\n      <td>13</td>\n      <td>47</td>\n      <td>72</td>\n    </tr>\n    <tr>\n      <td>10</td>\n      <td>30</td>\n      <td>71</td>\n      <td>3</td>\n      <td>70</td>\n      <td>21</td>\n    </tr>\n  </tbody>\n</table>\n</div>"
     },
     "metadata": {},
     "execution_count": 2
    }
   ],
   "source": [
    "linhas = [1, 2, 3, 4, 5, 6, 7, 8, 9, 10]\n",
    "colunas = [\"A\", \"B\", \"C\", \"D\", \"E\"]\n",
    "np.random.seed(1)\n",
    "dados = np.random.randint(0,100,(10,5))\n",
    "df = pd.DataFrame(dados, linhas, colunas)\n",
    "df"
   ]
  },
  {
   "cell_type": "code",
   "execution_count": 3,
   "metadata": {},
   "outputs": [
    {
     "output_type": "execute_result",
     "data": {
      "text/plain": "pandas.core.frame.DataFrame"
     },
     "metadata": {},
     "execution_count": 3
    }
   ],
   "source": [
    "type(df)"
   ]
  },
  {
   "cell_type": "code",
   "execution_count": 4,
   "metadata": {},
   "outputs": [
    {
     "output_type": "stream",
     "name": "stdout",
     "text": "<class 'pandas.core.frame.DataFrame'>\nInt64Index: 10 entries, 1 to 10\nData columns (total 5 columns):\nA    10 non-null int32\nB    10 non-null int32\nC    10 non-null int32\nD    10 non-null int32\nE    10 non-null int32\ndtypes: int32(5)\nmemory usage: 280.0 bytes\n"
    }
   ],
   "source": [
    "# Informações sobre o DataFrame\n",
    "df.info()"
   ]
  },
  {
   "cell_type": "code",
   "execution_count": 5,
   "metadata": {},
   "outputs": [
    {
     "output_type": "execute_result",
     "data": {
      "text/plain": "               A          B          C          D          E\ncount  10.000000  10.000000  10.000000  10.000000  10.000000\nmean   35.800000  45.500000  45.100000  45.300000  45.000000\nstd    28.785799  37.880661  36.354581  27.912761  31.742016\nmin     5.000000   1.000000   0.000000   9.000000   1.000000\n25%    11.750000  12.500000   7.750000  18.250000  21.250000\n50%    29.500000  44.500000  56.500000  53.500000  39.000000\n75%    52.000000  77.000000  70.000000  66.250000  74.250000\nmax    87.000000  94.000000  96.000000  86.000000  87.000000",
      "text/html": "<div>\n<style scoped>\n    .dataframe tbody tr th:only-of-type {\n        vertical-align: middle;\n    }\n\n    .dataframe tbody tr th {\n        vertical-align: top;\n    }\n\n    .dataframe thead th {\n        text-align: right;\n    }\n</style>\n<table border=\"1\" class=\"dataframe\">\n  <thead>\n    <tr style=\"text-align: right;\">\n      <th></th>\n      <th>A</th>\n      <th>B</th>\n      <th>C</th>\n      <th>D</th>\n      <th>E</th>\n    </tr>\n  </thead>\n  <tbody>\n    <tr>\n      <td>count</td>\n      <td>10.000000</td>\n      <td>10.000000</td>\n      <td>10.000000</td>\n      <td>10.000000</td>\n      <td>10.000000</td>\n    </tr>\n    <tr>\n      <td>mean</td>\n      <td>35.800000</td>\n      <td>45.500000</td>\n      <td>45.100000</td>\n      <td>45.300000</td>\n      <td>45.000000</td>\n    </tr>\n    <tr>\n      <td>std</td>\n      <td>28.785799</td>\n      <td>37.880661</td>\n      <td>36.354581</td>\n      <td>27.912761</td>\n      <td>31.742016</td>\n    </tr>\n    <tr>\n      <td>min</td>\n      <td>5.000000</td>\n      <td>1.000000</td>\n      <td>0.000000</td>\n      <td>9.000000</td>\n      <td>1.000000</td>\n    </tr>\n    <tr>\n      <td>25%</td>\n      <td>11.750000</td>\n      <td>12.500000</td>\n      <td>7.750000</td>\n      <td>18.250000</td>\n      <td>21.250000</td>\n    </tr>\n    <tr>\n      <td>50%</td>\n      <td>29.500000</td>\n      <td>44.500000</td>\n      <td>56.500000</td>\n      <td>53.500000</td>\n      <td>39.000000</td>\n    </tr>\n    <tr>\n      <td>75%</td>\n      <td>52.000000</td>\n      <td>77.000000</td>\n      <td>70.000000</td>\n      <td>66.250000</td>\n      <td>74.250000</td>\n    </tr>\n    <tr>\n      <td>max</td>\n      <td>87.000000</td>\n      <td>94.000000</td>\n      <td>96.000000</td>\n      <td>86.000000</td>\n      <td>87.000000</td>\n    </tr>\n  </tbody>\n</table>\n</div>"
     },
     "metadata": {},
     "execution_count": 5
    }
   ],
   "source": [
    "# Medidas estatísticas do DataFrame\n",
    "df.describe()"
   ]
  },
  {
   "cell_type": "code",
   "execution_count": 7,
   "metadata": {},
   "outputs": [
    {
     "output_type": "execute_result",
     "data": {
      "text/plain": "<matplotlib.axes._subplots.AxesSubplot at 0x1b9fa47e1c8>"
     },
     "metadata": {},
     "execution_count": 7
    },
    {
     "output_type": "display_data",
     "data": {
      "text/plain": "<Figure size 432x288 with 1 Axes>",
      "image/svg+xml": "<?xml version=\"1.0\" encoding=\"utf-8\" standalone=\"no\"?>\r\n<!DOCTYPE svg PUBLIC \"-//W3C//DTD SVG 1.1//EN\"\r\n  \"http://www.w3.org/Graphics/SVG/1.1/DTD/svg11.dtd\">\r\n<!-- Created with matplotlib (https://matplotlib.org/) -->\r\n<svg height=\"250.670071pt\" version=\"1.1\" viewBox=\"0 0 375.2875 250.670071\" width=\"375.2875pt\" xmlns=\"http://www.w3.org/2000/svg\" xmlns:xlink=\"http://www.w3.org/1999/xlink\">\r\n <defs>\r\n  <style type=\"text/css\">\r\n*{stroke-linecap:butt;stroke-linejoin:round;}\r\n  </style>\r\n </defs>\r\n <g id=\"figure_1\">\r\n  <g id=\"patch_1\">\r\n   <path d=\"M 0 250.670071 \r\nL 375.2875 250.670071 \r\nL 375.2875 0 \r\nL 0 0 \r\nz\r\n\" style=\"fill:none;\"/>\r\n  </g>\r\n  <g id=\"axes_1\">\r\n   <g id=\"patch_2\">\r\n    <path d=\"M 33.2875 226.791946 \r\nL 368.0875 226.791946 \r\nL 368.0875 9.351946 \r\nL 33.2875 9.351946 \r\nz\r\n\" style=\"fill:#ffffff;\"/>\r\n   </g>\r\n   <g id=\"matplotlib.axis_1\">\r\n    <g id=\"xtick_1\">\r\n     <g id=\"line2d_1\">\r\n      <defs>\r\n       <path d=\"M 0 0 \r\nL 0 3.5 \r\n\" id=\"m6b5710d4a9\" style=\"stroke:#000000;stroke-width:0.8;\"/>\r\n      </defs>\r\n      <g>\r\n       <use style=\"stroke:#000000;stroke-width:0.8;\" x=\"66.7675\" xlink:href=\"#m6b5710d4a9\" y=\"226.791946\"/>\r\n      </g>\r\n     </g>\r\n     <g id=\"text_1\">\r\n      <!-- A -->\r\n      <defs>\r\n       <path d=\"M 34.1875 63.1875 \r\nL 20.796875 26.90625 \r\nL 47.609375 26.90625 \r\nz\r\nM 28.609375 72.90625 \r\nL 39.796875 72.90625 \r\nL 67.578125 0 \r\nL 57.328125 0 \r\nL 50.6875 18.703125 \r\nL 17.828125 18.703125 \r\nL 11.1875 0 \r\nL 0.78125 0 \r\nz\r\n\" id=\"DejaVuSans-65\"/>\r\n      </defs>\r\n      <g transform=\"translate(63.347188 241.390384)scale(0.1 -0.1)\">\r\n       <use xlink:href=\"#DejaVuSans-65\"/>\r\n      </g>\r\n     </g>\r\n    </g>\r\n    <g id=\"xtick_2\">\r\n     <g id=\"line2d_2\">\r\n      <g>\r\n       <use style=\"stroke:#000000;stroke-width:0.8;\" x=\"133.7275\" xlink:href=\"#m6b5710d4a9\" y=\"226.791946\"/>\r\n      </g>\r\n     </g>\r\n     <g id=\"text_2\">\r\n      <!-- B -->\r\n      <defs>\r\n       <path d=\"M 19.671875 34.8125 \r\nL 19.671875 8.109375 \r\nL 35.5 8.109375 \r\nQ 43.453125 8.109375 47.28125 11.40625 \r\nQ 51.125 14.703125 51.125 21.484375 \r\nQ 51.125 28.328125 47.28125 31.5625 \r\nQ 43.453125 34.8125 35.5 34.8125 \r\nz\r\nM 19.671875 64.796875 \r\nL 19.671875 42.828125 \r\nL 34.28125 42.828125 \r\nQ 41.5 42.828125 45.03125 45.53125 \r\nQ 48.578125 48.25 48.578125 53.8125 \r\nQ 48.578125 59.328125 45.03125 62.0625 \r\nQ 41.5 64.796875 34.28125 64.796875 \r\nz\r\nM 9.8125 72.90625 \r\nL 35.015625 72.90625 \r\nQ 46.296875 72.90625 52.390625 68.21875 \r\nQ 58.5 63.53125 58.5 54.890625 \r\nQ 58.5 48.1875 55.375 44.234375 \r\nQ 52.25 40.28125 46.1875 39.3125 \r\nQ 53.46875 37.75 57.5 32.78125 \r\nQ 61.53125 27.828125 61.53125 20.40625 \r\nQ 61.53125 10.640625 54.890625 5.3125 \r\nQ 48.25 0 35.984375 0 \r\nL 9.8125 0 \r\nz\r\n\" id=\"DejaVuSans-66\"/>\r\n      </defs>\r\n      <g transform=\"translate(130.297031 241.390384)scale(0.1 -0.1)\">\r\n       <use xlink:href=\"#DejaVuSans-66\"/>\r\n      </g>\r\n     </g>\r\n    </g>\r\n    <g id=\"xtick_3\">\r\n     <g id=\"line2d_3\">\r\n      <g>\r\n       <use style=\"stroke:#000000;stroke-width:0.8;\" x=\"200.6875\" xlink:href=\"#m6b5710d4a9\" y=\"226.791946\"/>\r\n      </g>\r\n     </g>\r\n     <g id=\"text_3\">\r\n      <!-- C -->\r\n      <defs>\r\n       <path d=\"M 64.40625 67.28125 \r\nL 64.40625 56.890625 \r\nQ 59.421875 61.53125 53.78125 63.8125 \r\nQ 48.140625 66.109375 41.796875 66.109375 \r\nQ 29.296875 66.109375 22.65625 58.46875 \r\nQ 16.015625 50.828125 16.015625 36.375 \r\nQ 16.015625 21.96875 22.65625 14.328125 \r\nQ 29.296875 6.6875 41.796875 6.6875 \r\nQ 48.140625 6.6875 53.78125 8.984375 \r\nQ 59.421875 11.28125 64.40625 15.921875 \r\nL 64.40625 5.609375 \r\nQ 59.234375 2.09375 53.4375 0.328125 \r\nQ 47.65625 -1.421875 41.21875 -1.421875 \r\nQ 24.65625 -1.421875 15.125 8.703125 \r\nQ 5.609375 18.84375 5.609375 36.375 \r\nQ 5.609375 53.953125 15.125 64.078125 \r\nQ 24.65625 74.21875 41.21875 74.21875 \r\nQ 47.75 74.21875 53.53125 72.484375 \r\nQ 59.328125 70.75 64.40625 67.28125 \r\nz\r\n\" id=\"DejaVuSans-67\"/>\r\n      </defs>\r\n      <g transform=\"translate(197.196094 241.390384)scale(0.1 -0.1)\">\r\n       <use xlink:href=\"#DejaVuSans-67\"/>\r\n      </g>\r\n     </g>\r\n    </g>\r\n    <g id=\"xtick_4\">\r\n     <g id=\"line2d_4\">\r\n      <g>\r\n       <use style=\"stroke:#000000;stroke-width:0.8;\" x=\"267.6475\" xlink:href=\"#m6b5710d4a9\" y=\"226.791946\"/>\r\n      </g>\r\n     </g>\r\n     <g id=\"text_4\">\r\n      <!-- D -->\r\n      <defs>\r\n       <path d=\"M 19.671875 64.796875 \r\nL 19.671875 8.109375 \r\nL 31.59375 8.109375 \r\nQ 46.6875 8.109375 53.6875 14.9375 \r\nQ 60.6875 21.78125 60.6875 36.53125 \r\nQ 60.6875 51.171875 53.6875 57.984375 \r\nQ 46.6875 64.796875 31.59375 64.796875 \r\nz\r\nM 9.8125 72.90625 \r\nL 30.078125 72.90625 \r\nQ 51.265625 72.90625 61.171875 64.09375 \r\nQ 71.09375 55.28125 71.09375 36.53125 \r\nQ 71.09375 17.671875 61.125 8.828125 \r\nQ 51.171875 0 30.078125 0 \r\nL 9.8125 0 \r\nz\r\n\" id=\"DejaVuSans-68\"/>\r\n      </defs>\r\n      <g transform=\"translate(263.7975 241.390384)scale(0.1 -0.1)\">\r\n       <use xlink:href=\"#DejaVuSans-68\"/>\r\n      </g>\r\n     </g>\r\n    </g>\r\n    <g id=\"xtick_5\">\r\n     <g id=\"line2d_5\">\r\n      <g>\r\n       <use style=\"stroke:#000000;stroke-width:0.8;\" x=\"334.6075\" xlink:href=\"#m6b5710d4a9\" y=\"226.791946\"/>\r\n      </g>\r\n     </g>\r\n     <g id=\"text_5\">\r\n      <!-- E -->\r\n      <defs>\r\n       <path d=\"M 9.8125 72.90625 \r\nL 55.90625 72.90625 \r\nL 55.90625 64.59375 \r\nL 19.671875 64.59375 \r\nL 19.671875 43.015625 \r\nL 54.390625 43.015625 \r\nL 54.390625 34.71875 \r\nL 19.671875 34.71875 \r\nL 19.671875 8.296875 \r\nL 56.78125 8.296875 \r\nL 56.78125 0 \r\nL 9.8125 0 \r\nz\r\n\" id=\"DejaVuSans-69\"/>\r\n      </defs>\r\n      <g transform=\"translate(331.448125 241.390384)scale(0.1 -0.1)\">\r\n       <use xlink:href=\"#DejaVuSans-69\"/>\r\n      </g>\r\n     </g>\r\n    </g>\r\n   </g>\r\n   <g id=\"matplotlib.axis_2\">\r\n    <g id=\"ytick_1\">\r\n     <g id=\"line2d_6\">\r\n      <defs>\r\n       <path d=\"M 0 0 \r\nL -3.5 0 \r\n\" id=\"m41797be147\" style=\"stroke:#000000;stroke-width:0.8;\"/>\r\n      </defs>\r\n      <g>\r\n       <use style=\"stroke:#000000;stroke-width:0.8;\" x=\"33.2875\" xlink:href=\"#m41797be147\" y=\"216.90831\"/>\r\n      </g>\r\n     </g>\r\n     <g id=\"text_6\">\r\n      <!-- 0 -->\r\n      <defs>\r\n       <path d=\"M 31.78125 66.40625 \r\nQ 24.171875 66.40625 20.328125 58.90625 \r\nQ 16.5 51.421875 16.5 36.375 \r\nQ 16.5 21.390625 20.328125 13.890625 \r\nQ 24.171875 6.390625 31.78125 6.390625 \r\nQ 39.453125 6.390625 43.28125 13.890625 \r\nQ 47.125 21.390625 47.125 36.375 \r\nQ 47.125 51.421875 43.28125 58.90625 \r\nQ 39.453125 66.40625 31.78125 66.40625 \r\nz\r\nM 31.78125 74.21875 \r\nQ 44.046875 74.21875 50.515625 64.515625 \r\nQ 56.984375 54.828125 56.984375 36.375 \r\nQ 56.984375 17.96875 50.515625 8.265625 \r\nQ 44.046875 -1.421875 31.78125 -1.421875 \r\nQ 19.53125 -1.421875 13.0625 8.265625 \r\nQ 6.59375 17.96875 6.59375 36.375 \r\nQ 6.59375 54.828125 13.0625 64.515625 \r\nQ 19.53125 74.21875 31.78125 74.21875 \r\nz\r\n\" id=\"DejaVuSans-48\"/>\r\n      </defs>\r\n      <g transform=\"translate(19.925 220.707528)scale(0.1 -0.1)\">\r\n       <use xlink:href=\"#DejaVuSans-48\"/>\r\n      </g>\r\n     </g>\r\n    </g>\r\n    <g id=\"ytick_2\">\r\n     <g id=\"line2d_7\">\r\n      <g>\r\n       <use style=\"stroke:#000000;stroke-width:0.8;\" x=\"33.2875\" xlink:href=\"#m41797be147\" y=\"175.726491\"/>\r\n      </g>\r\n     </g>\r\n     <g id=\"text_7\">\r\n      <!-- 20 -->\r\n      <defs>\r\n       <path d=\"M 19.1875 8.296875 \r\nL 53.609375 8.296875 \r\nL 53.609375 0 \r\nL 7.328125 0 \r\nL 7.328125 8.296875 \r\nQ 12.9375 14.109375 22.625 23.890625 \r\nQ 32.328125 33.6875 34.8125 36.53125 \r\nQ 39.546875 41.84375 41.421875 45.53125 \r\nQ 43.3125 49.21875 43.3125 52.78125 \r\nQ 43.3125 58.59375 39.234375 62.25 \r\nQ 35.15625 65.921875 28.609375 65.921875 \r\nQ 23.96875 65.921875 18.8125 64.3125 \r\nQ 13.671875 62.703125 7.8125 59.421875 \r\nL 7.8125 69.390625 \r\nQ 13.765625 71.78125 18.9375 73 \r\nQ 24.125 74.21875 28.421875 74.21875 \r\nQ 39.75 74.21875 46.484375 68.546875 \r\nQ 53.21875 62.890625 53.21875 53.421875 \r\nQ 53.21875 48.921875 51.53125 44.890625 \r\nQ 49.859375 40.875 45.40625 35.40625 \r\nQ 44.1875 33.984375 37.640625 27.21875 \r\nQ 31.109375 20.453125 19.1875 8.296875 \r\nz\r\n\" id=\"DejaVuSans-50\"/>\r\n      </defs>\r\n      <g transform=\"translate(13.5625 179.52571)scale(0.1 -0.1)\">\r\n       <use xlink:href=\"#DejaVuSans-50\"/>\r\n       <use x=\"63.623047\" xlink:href=\"#DejaVuSans-48\"/>\r\n      </g>\r\n     </g>\r\n    </g>\r\n    <g id=\"ytick_3\">\r\n     <g id=\"line2d_8\">\r\n      <g>\r\n       <use style=\"stroke:#000000;stroke-width:0.8;\" x=\"33.2875\" xlink:href=\"#m41797be147\" y=\"134.544673\"/>\r\n      </g>\r\n     </g>\r\n     <g id=\"text_8\">\r\n      <!-- 40 -->\r\n      <defs>\r\n       <path d=\"M 37.796875 64.3125 \r\nL 12.890625 25.390625 \r\nL 37.796875 25.390625 \r\nz\r\nM 35.203125 72.90625 \r\nL 47.609375 72.90625 \r\nL 47.609375 25.390625 \r\nL 58.015625 25.390625 \r\nL 58.015625 17.1875 \r\nL 47.609375 17.1875 \r\nL 47.609375 0 \r\nL 37.796875 0 \r\nL 37.796875 17.1875 \r\nL 4.890625 17.1875 \r\nL 4.890625 26.703125 \r\nz\r\n\" id=\"DejaVuSans-52\"/>\r\n      </defs>\r\n      <g transform=\"translate(13.5625 138.343892)scale(0.1 -0.1)\">\r\n       <use xlink:href=\"#DejaVuSans-52\"/>\r\n       <use x=\"63.623047\" xlink:href=\"#DejaVuSans-48\"/>\r\n      </g>\r\n     </g>\r\n    </g>\r\n    <g id=\"ytick_4\">\r\n     <g id=\"line2d_9\">\r\n      <g>\r\n       <use style=\"stroke:#000000;stroke-width:0.8;\" x=\"33.2875\" xlink:href=\"#m41797be147\" y=\"93.362855\"/>\r\n      </g>\r\n     </g>\r\n     <g id=\"text_9\">\r\n      <!-- 60 -->\r\n      <defs>\r\n       <path d=\"M 33.015625 40.375 \r\nQ 26.375 40.375 22.484375 35.828125 \r\nQ 18.609375 31.296875 18.609375 23.390625 \r\nQ 18.609375 15.53125 22.484375 10.953125 \r\nQ 26.375 6.390625 33.015625 6.390625 \r\nQ 39.65625 6.390625 43.53125 10.953125 \r\nQ 47.40625 15.53125 47.40625 23.390625 \r\nQ 47.40625 31.296875 43.53125 35.828125 \r\nQ 39.65625 40.375 33.015625 40.375 \r\nz\r\nM 52.59375 71.296875 \r\nL 52.59375 62.3125 \r\nQ 48.875 64.0625 45.09375 64.984375 \r\nQ 41.3125 65.921875 37.59375 65.921875 \r\nQ 27.828125 65.921875 22.671875 59.328125 \r\nQ 17.53125 52.734375 16.796875 39.40625 \r\nQ 19.671875 43.65625 24.015625 45.921875 \r\nQ 28.375 48.1875 33.59375 48.1875 \r\nQ 44.578125 48.1875 50.953125 41.515625 \r\nQ 57.328125 34.859375 57.328125 23.390625 \r\nQ 57.328125 12.15625 50.6875 5.359375 \r\nQ 44.046875 -1.421875 33.015625 -1.421875 \r\nQ 20.359375 -1.421875 13.671875 8.265625 \r\nQ 6.984375 17.96875 6.984375 36.375 \r\nQ 6.984375 53.65625 15.1875 63.9375 \r\nQ 23.390625 74.21875 37.203125 74.21875 \r\nQ 40.921875 74.21875 44.703125 73.484375 \r\nQ 48.484375 72.75 52.59375 71.296875 \r\nz\r\n\" id=\"DejaVuSans-54\"/>\r\n      </defs>\r\n      <g transform=\"translate(13.5625 97.162074)scale(0.1 -0.1)\">\r\n       <use xlink:href=\"#DejaVuSans-54\"/>\r\n       <use x=\"63.623047\" xlink:href=\"#DejaVuSans-48\"/>\r\n      </g>\r\n     </g>\r\n    </g>\r\n    <g id=\"ytick_5\">\r\n     <g id=\"line2d_10\">\r\n      <g>\r\n       <use style=\"stroke:#000000;stroke-width:0.8;\" x=\"33.2875\" xlink:href=\"#m41797be147\" y=\"52.181037\"/>\r\n      </g>\r\n     </g>\r\n     <g id=\"text_10\">\r\n      <!-- 80 -->\r\n      <defs>\r\n       <path d=\"M 31.78125 34.625 \r\nQ 24.75 34.625 20.71875 30.859375 \r\nQ 16.703125 27.09375 16.703125 20.515625 \r\nQ 16.703125 13.921875 20.71875 10.15625 \r\nQ 24.75 6.390625 31.78125 6.390625 \r\nQ 38.8125 6.390625 42.859375 10.171875 \r\nQ 46.921875 13.96875 46.921875 20.515625 \r\nQ 46.921875 27.09375 42.890625 30.859375 \r\nQ 38.875 34.625 31.78125 34.625 \r\nz\r\nM 21.921875 38.8125 \r\nQ 15.578125 40.375 12.03125 44.71875 \r\nQ 8.5 49.078125 8.5 55.328125 \r\nQ 8.5 64.0625 14.71875 69.140625 \r\nQ 20.953125 74.21875 31.78125 74.21875 \r\nQ 42.671875 74.21875 48.875 69.140625 \r\nQ 55.078125 64.0625 55.078125 55.328125 \r\nQ 55.078125 49.078125 51.53125 44.71875 \r\nQ 48 40.375 41.703125 38.8125 \r\nQ 48.828125 37.15625 52.796875 32.3125 \r\nQ 56.78125 27.484375 56.78125 20.515625 \r\nQ 56.78125 9.90625 50.3125 4.234375 \r\nQ 43.84375 -1.421875 31.78125 -1.421875 \r\nQ 19.734375 -1.421875 13.25 4.234375 \r\nQ 6.78125 9.90625 6.78125 20.515625 \r\nQ 6.78125 27.484375 10.78125 32.3125 \r\nQ 14.796875 37.15625 21.921875 38.8125 \r\nz\r\nM 18.3125 54.390625 \r\nQ 18.3125 48.734375 21.84375 45.5625 \r\nQ 25.390625 42.390625 31.78125 42.390625 \r\nQ 38.140625 42.390625 41.71875 45.5625 \r\nQ 45.3125 48.734375 45.3125 54.390625 \r\nQ 45.3125 60.0625 41.71875 63.234375 \r\nQ 38.140625 66.40625 31.78125 66.40625 \r\nQ 25.390625 66.40625 21.84375 63.234375 \r\nQ 18.3125 60.0625 18.3125 54.390625 \r\nz\r\n\" id=\"DejaVuSans-56\"/>\r\n      </defs>\r\n      <g transform=\"translate(13.5625 55.980256)scale(0.1 -0.1)\">\r\n       <use xlink:href=\"#DejaVuSans-56\"/>\r\n       <use x=\"63.623047\" xlink:href=\"#DejaVuSans-48\"/>\r\n      </g>\r\n     </g>\r\n    </g>\r\n    <g id=\"ytick_6\">\r\n     <g id=\"line2d_11\">\r\n      <g>\r\n       <use style=\"stroke:#000000;stroke-width:0.8;\" x=\"33.2875\" xlink:href=\"#m41797be147\" y=\"10.999219\"/>\r\n      </g>\r\n     </g>\r\n     <g id=\"text_11\">\r\n      <!-- 100 -->\r\n      <defs>\r\n       <path d=\"M 12.40625 8.296875 \r\nL 28.515625 8.296875 \r\nL 28.515625 63.921875 \r\nL 10.984375 60.40625 \r\nL 10.984375 69.390625 \r\nL 28.421875 72.90625 \r\nL 38.28125 72.90625 \r\nL 38.28125 8.296875 \r\nL 54.390625 8.296875 \r\nL 54.390625 0 \r\nL 12.40625 0 \r\nz\r\n\" id=\"DejaVuSans-49\"/>\r\n      </defs>\r\n      <g transform=\"translate(7.2 14.798437)scale(0.1 -0.1)\">\r\n       <use xlink:href=\"#DejaVuSans-49\"/>\r\n       <use x=\"63.623047\" xlink:href=\"#DejaVuSans-48\"/>\r\n       <use x=\"127.246094\" xlink:href=\"#DejaVuSans-48\"/>\r\n      </g>\r\n     </g>\r\n    </g>\r\n   </g>\r\n   <g id=\"line2d_12\">\r\n    <path clip-path=\"url(#pa31ea5fbbc)\" d=\"M 50.0275 192.713991 \r\nL 83.5075 192.713991 \r\nL 83.5075 109.835582 \r\nL 50.0275 109.835582 \r\nL 50.0275 192.713991 \r\n\" style=\"fill:none;stroke:#1f77b4;stroke-linecap:square;\"/>\r\n   </g>\r\n   <g id=\"line2d_13\">\r\n    <path clip-path=\"url(#pa31ea5fbbc)\" d=\"M 66.7675 192.713991 \r\nL 66.7675 206.612855 \r\n\" style=\"fill:none;stroke:#1f77b4;stroke-linecap:square;\"/>\r\n   </g>\r\n   <g id=\"line2d_14\">\r\n    <path clip-path=\"url(#pa31ea5fbbc)\" d=\"M 66.7675 109.835582 \r\nL 66.7675 37.767401 \r\n\" style=\"fill:none;stroke:#1f77b4;stroke-linecap:square;\"/>\r\n   </g>\r\n   <g id=\"line2d_15\">\r\n    <path clip-path=\"url(#pa31ea5fbbc)\" d=\"M 58.3975 206.612855 \r\nL 75.1375 206.612855 \r\n\" style=\"fill:none;stroke:#000000;stroke-linecap:square;\"/>\r\n   </g>\r\n   <g id=\"line2d_16\">\r\n    <path clip-path=\"url(#pa31ea5fbbc)\" d=\"M 58.3975 37.767401 \r\nL 75.1375 37.767401 \r\n\" style=\"fill:none;stroke:#000000;stroke-linecap:square;\"/>\r\n   </g>\r\n   <g id=\"line2d_17\"/>\r\n   <g id=\"line2d_18\">\r\n    <path clip-path=\"url(#pa31ea5fbbc)\" d=\"M 116.9875 191.169673 \r\nL 150.4675 191.169673 \r\nL 150.4675 58.35831 \r\nL 116.9875 58.35831 \r\nL 116.9875 191.169673 \r\n\" style=\"fill:none;stroke:#1f77b4;stroke-linecap:square;\"/>\r\n   </g>\r\n   <g id=\"line2d_19\">\r\n    <path clip-path=\"url(#pa31ea5fbbc)\" d=\"M 133.7275 191.169673 \r\nL 133.7275 214.849219 \r\n\" style=\"fill:none;stroke:#1f77b4;stroke-linecap:square;\"/>\r\n   </g>\r\n   <g id=\"line2d_20\">\r\n    <path clip-path=\"url(#pa31ea5fbbc)\" d=\"M 133.7275 58.35831 \r\nL 133.7275 23.353764 \r\n\" style=\"fill:none;stroke:#1f77b4;stroke-linecap:square;\"/>\r\n   </g>\r\n   <g id=\"line2d_21\">\r\n    <path clip-path=\"url(#pa31ea5fbbc)\" d=\"M 125.3575 214.849219 \r\nL 142.0975 214.849219 \r\n\" style=\"fill:none;stroke:#000000;stroke-linecap:square;\"/>\r\n   </g>\r\n   <g id=\"line2d_22\">\r\n    <path clip-path=\"url(#pa31ea5fbbc)\" d=\"M 125.3575 23.353764 \r\nL 142.0975 23.353764 \r\n\" style=\"fill:none;stroke:#000000;stroke-linecap:square;\"/>\r\n   </g>\r\n   <g id=\"line2d_23\"/>\r\n   <g id=\"line2d_24\">\r\n    <path clip-path=\"url(#pa31ea5fbbc)\" d=\"M 183.9475 200.950355 \r\nL 217.4275 200.950355 \r\nL 217.4275 72.771946 \r\nL 183.9475 72.771946 \r\nL 183.9475 200.950355 \r\n\" style=\"fill:none;stroke:#1f77b4;stroke-linecap:square;\"/>\r\n   </g>\r\n   <g id=\"line2d_25\">\r\n    <path clip-path=\"url(#pa31ea5fbbc)\" d=\"M 200.6875 200.950355 \r\nL 200.6875 216.90831 \r\n\" style=\"fill:none;stroke:#1f77b4;stroke-linecap:square;\"/>\r\n   </g>\r\n   <g id=\"line2d_26\">\r\n    <path clip-path=\"url(#pa31ea5fbbc)\" d=\"M 200.6875 72.771946 \r\nL 200.6875 19.235582 \r\n\" style=\"fill:none;stroke:#1f77b4;stroke-linecap:square;\"/>\r\n   </g>\r\n   <g id=\"line2d_27\">\r\n    <path clip-path=\"url(#pa31ea5fbbc)\" d=\"M 192.3175 216.90831 \r\nL 209.0575 216.90831 \r\n\" style=\"fill:none;stroke:#000000;stroke-linecap:square;\"/>\r\n   </g>\r\n   <g id=\"line2d_28\">\r\n    <path clip-path=\"url(#pa31ea5fbbc)\" d=\"M 192.3175 19.235582 \r\nL 209.0575 19.235582 \r\n\" style=\"fill:none;stroke:#000000;stroke-linecap:square;\"/>\r\n   </g>\r\n   <g id=\"line2d_29\"/>\r\n   <g id=\"line2d_30\">\r\n    <path clip-path=\"url(#pa31ea5fbbc)\" d=\"M 250.9075 179.329901 \r\nL 284.3875 179.329901 \r\nL 284.3875 80.493537 \r\nL 250.9075 80.493537 \r\nL 250.9075 179.329901 \r\n\" style=\"fill:none;stroke:#1f77b4;stroke-linecap:square;\"/>\r\n   </g>\r\n   <g id=\"line2d_31\">\r\n    <path clip-path=\"url(#pa31ea5fbbc)\" d=\"M 267.6475 179.329901 \r\nL 267.6475 198.376491 \r\n\" style=\"fill:none;stroke:#1f77b4;stroke-linecap:square;\"/>\r\n   </g>\r\n   <g id=\"line2d_32\">\r\n    <path clip-path=\"url(#pa31ea5fbbc)\" d=\"M 267.6475 80.493537 \r\nL 267.6475 39.826491 \r\n\" style=\"fill:none;stroke:#1f77b4;stroke-linecap:square;\"/>\r\n   </g>\r\n   <g id=\"line2d_33\">\r\n    <path clip-path=\"url(#pa31ea5fbbc)\" d=\"M 259.2775 198.376491 \r\nL 276.0175 198.376491 \r\n\" style=\"fill:none;stroke:#000000;stroke-linecap:square;\"/>\r\n   </g>\r\n   <g id=\"line2d_34\">\r\n    <path clip-path=\"url(#pa31ea5fbbc)\" d=\"M 259.2775 39.826491 \r\nL 276.0175 39.826491 \r\n\" style=\"fill:none;stroke:#000000;stroke-linecap:square;\"/>\r\n   </g>\r\n   <g id=\"line2d_35\"/>\r\n   <g id=\"line2d_36\">\r\n    <path clip-path=\"url(#pa31ea5fbbc)\" d=\"M 317.8675 173.152628 \r\nL 351.3475 173.152628 \r\nL 351.3475 64.02081 \r\nL 317.8675 64.02081 \r\nL 317.8675 173.152628 \r\n\" style=\"fill:none;stroke:#1f77b4;stroke-linecap:square;\"/>\r\n   </g>\r\n   <g id=\"line2d_37\">\r\n    <path clip-path=\"url(#pa31ea5fbbc)\" d=\"M 334.6075 173.152628 \r\nL 334.6075 214.849219 \r\n\" style=\"fill:none;stroke:#1f77b4;stroke-linecap:square;\"/>\r\n   </g>\r\n   <g id=\"line2d_38\">\r\n    <path clip-path=\"url(#pa31ea5fbbc)\" d=\"M 334.6075 64.02081 \r\nL 334.6075 37.767401 \r\n\" style=\"fill:none;stroke:#1f77b4;stroke-linecap:square;\"/>\r\n   </g>\r\n   <g id=\"line2d_39\">\r\n    <path clip-path=\"url(#pa31ea5fbbc)\" d=\"M 326.2375 214.849219 \r\nL 342.9775 214.849219 \r\n\" style=\"fill:none;stroke:#000000;stroke-linecap:square;\"/>\r\n   </g>\r\n   <g id=\"line2d_40\">\r\n    <path clip-path=\"url(#pa31ea5fbbc)\" d=\"M 326.2375 37.767401 \r\nL 342.9775 37.767401 \r\n\" style=\"fill:none;stroke:#000000;stroke-linecap:square;\"/>\r\n   </g>\r\n   <g id=\"line2d_41\"/>\r\n   <g id=\"line2d_42\">\r\n    <path clip-path=\"url(#pa31ea5fbbc)\" d=\"M 50.0275 156.165128 \r\nL 83.5075 156.165128 \r\n\" style=\"fill:none;stroke:#2ca02c;stroke-linecap:square;\"/>\r\n   </g>\r\n   <g id=\"line2d_43\">\r\n    <path clip-path=\"url(#pa31ea5fbbc)\" d=\"M 116.9875 125.278764 \r\nL 150.4675 125.278764 \r\n\" style=\"fill:none;stroke:#2ca02c;stroke-linecap:square;\"/>\r\n   </g>\r\n   <g id=\"line2d_44\">\r\n    <path clip-path=\"url(#pa31ea5fbbc)\" d=\"M 183.9475 100.569673 \r\nL 217.4275 100.569673 \r\n\" style=\"fill:none;stroke:#2ca02c;stroke-linecap:square;\"/>\r\n   </g>\r\n   <g id=\"line2d_45\">\r\n    <path clip-path=\"url(#pa31ea5fbbc)\" d=\"M 250.9075 106.746946 \r\nL 284.3875 106.746946 \r\n\" style=\"fill:none;stroke:#2ca02c;stroke-linecap:square;\"/>\r\n   </g>\r\n   <g id=\"line2d_46\">\r\n    <path clip-path=\"url(#pa31ea5fbbc)\" d=\"M 317.8675 136.603764 \r\nL 351.3475 136.603764 \r\n\" style=\"fill:none;stroke:#2ca02c;stroke-linecap:square;\"/>\r\n   </g>\r\n   <g id=\"patch_3\">\r\n    <path d=\"M 33.2875 226.791946 \r\nL 33.2875 9.351946 \r\n\" style=\"fill:none;stroke:#000000;stroke-linecap:square;stroke-linejoin:miter;stroke-width:0.8;\"/>\r\n   </g>\r\n   <g id=\"patch_4\">\r\n    <path d=\"M 368.0875 226.791946 \r\nL 368.0875 9.351946 \r\n\" style=\"fill:none;stroke:#000000;stroke-linecap:square;stroke-linejoin:miter;stroke-width:0.8;\"/>\r\n   </g>\r\n   <g id=\"patch_5\">\r\n    <path d=\"M 33.2875 226.791946 \r\nL 368.0875 226.791946 \r\n\" style=\"fill:none;stroke:#000000;stroke-linecap:square;stroke-linejoin:miter;stroke-width:0.8;\"/>\r\n   </g>\r\n   <g id=\"patch_6\">\r\n    <path d=\"M 33.2875 9.351946 \r\nL 368.0875 9.351946 \r\n\" style=\"fill:none;stroke:#000000;stroke-linecap:square;stroke-linejoin:miter;stroke-width:0.8;\"/>\r\n   </g>\r\n  </g>\r\n </g>\r\n <defs>\r\n  <clipPath id=\"pa31ea5fbbc\">\r\n   <rect height=\"217.44\" width=\"334.8\" x=\"33.2875\" y=\"9.351946\"/>\r\n  </clipPath>\r\n </defs>\r\n</svg>\r\n",
      "image/png": "[encoded data removed]"
     },
     "metadata": {
      "needs_background": "light"
     }
    }
   ],
   "source": [
    "# Plotagem de gráficos\n",
    "%matplotlib inline\n",
    "df.plot.box()"
   ]
  },
  {
   "cell_type": "code",
   "execution_count": 8,
   "metadata": {},
   "outputs": [
    {
     "output_type": "execute_result",
     "data": {
      "text/plain": "<matplotlib.axes._subplots.AxesSubplot at 0x1b9fa533308>"
     },
     "metadata": {},
     "execution_count": 8
    },
    {
     "output_type": "display_data",
     "data": {
      "text/plain": "<Figure size 432x288 with 1 Axes>",
      "image/svg+xml": "<?xml version=\"1.0\" encoding=\"utf-8\" standalone=\"no\"?>\r\n<!DOCTYPE svg PUBLIC \"-//W3C//DTD SVG 1.1//EN\"\r\n  \"http://www.w3.org/Graphics/SVG/1.1/DTD/svg11.dtd\">\r\n<!-- Created with matplotlib (https://matplotlib.org/) -->\r\n<svg height=\"253.638504pt\" version=\"1.1\" viewBox=\"0 0 375.2875 253.638504\" width=\"375.2875pt\" xmlns=\"http://www.w3.org/2000/svg\" xmlns:xlink=\"http://www.w3.org/1999/xlink\">\r\n <defs>\r\n  <style type=\"text/css\">\r\n*{stroke-linecap:butt;stroke-linejoin:round;}\r\n  </style>\r\n </defs>\r\n <g id=\"figure_1\">\r\n  <g id=\"patch_1\">\r\n   <path d=\"M 0 253.638504 \r\nL 375.2875 253.638504 \r\nL 375.2875 0 \r\nL 0 0 \r\nz\r\n\" style=\"fill:none;\"/>\r\n  </g>\r\n  <g id=\"axes_1\">\r\n   <g id=\"patch_2\">\r\n    <path d=\"M 33.2875 226.713504 \r\nL 368.0875 226.713504 \r\nL 368.0875 9.273504 \r\nL 33.2875 9.273504 \r\nz\r\n\" style=\"fill:#ffffff;\"/>\r\n   </g>\r\n   <g id=\"patch_3\">\r\n    <path clip-path=\"url(#p8b6a24004a)\" d=\"M 41.6575 226.713504 \r\nL 45.0055 226.713504 \r\nL 45.0055 146.899219 \r\nL 41.6575 146.899219 \r\nz\r\n\" style=\"fill:#1f77b4;\"/>\r\n   </g>\r\n   <g id=\"patch_4\">\r\n    <path clip-path=\"url(#p8b6a24004a)\" d=\"M 75.1375 226.713504 \r\nL 78.4855 226.713504 \r\nL 78.4855 215.92779 \r\nL 75.1375 215.92779 \r\nz\r\n\" style=\"fill:#1f77b4;\"/>\r\n   </g>\r\n   <g id=\"patch_5\">\r\n    <path clip-path=\"url(#p8b6a24004a)\" d=\"M 108.6175 226.713504 \r\nL 111.9655 226.713504 \r\nL 111.9655 62.770647 \r\nL 108.6175 62.770647 \r\nz\r\n\" style=\"fill:#1f77b4;\"/>\r\n   </g>\r\n   <g id=\"patch_6\">\r\n    <path clip-path=\"url(#p8b6a24004a)\" d=\"M 142.0975 226.713504 \r\nL 145.4455 226.713504 \r\nL 145.4455 183.570647 \r\nL 142.0975 183.570647 \r\nz\r\n\" style=\"fill:#1f77b4;\"/>\r\n   </g>\r\n   <g id=\"patch_7\">\r\n    <path clip-path=\"url(#p8b6a24004a)\" d=\"M 175.5775 226.713504 \r\nL 178.9255 226.713504 \r\nL 178.9255 164.156362 \r\nL 175.5775 164.156362 \r\nz\r\n\" style=\"fill:#1f77b4;\"/>\r\n   </g>\r\n   <g id=\"patch_8\">\r\n    <path clip-path=\"url(#p8b6a24004a)\" d=\"M 209.0575 226.713504 \r\nL 212.4055 226.713504 \r\nL 212.4055 39.042076 \r\nL 209.0575 39.042076 \r\nz\r\n\" style=\"fill:#1f77b4;\"/>\r\n   </g>\r\n   <g id=\"patch_9\">\r\n    <path clip-path=\"url(#p8b6a24004a)\" d=\"M 242.5375 226.713504 \r\nL 245.8855 226.713504 \r\nL 245.8855 207.299219 \r\nL 242.5375 207.299219 \r\nz\r\n\" style=\"fill:#1f77b4;\"/>\r\n   </g>\r\n   <g id=\"patch_10\">\r\n    <path clip-path=\"url(#p8b6a24004a)\" d=\"M 276.0175 226.713504 \r\nL 279.3655 226.713504 \r\nL 279.3655 103.756362 \r\nL 276.0175 103.756362 \r\nz\r\n\" style=\"fill:#1f77b4;\"/>\r\n   </g>\r\n   <g id=\"patch_11\">\r\n    <path clip-path=\"url(#p8b6a24004a)\" d=\"M 309.4975 226.713504 \r\nL 312.8455 226.713504 \r\nL 312.8455 209.456362 \r\nL 309.4975 209.456362 \r\nz\r\n\" style=\"fill:#1f77b4;\"/>\r\n   </g>\r\n   <g id=\"patch_12\">\r\n    <path clip-path=\"url(#p8b6a24004a)\" d=\"M 342.9775 226.713504 \r\nL 346.3255 226.713504 \r\nL 346.3255 161.999219 \r\nL 342.9775 161.999219 \r\nz\r\n\" style=\"fill:#1f77b4;\"/>\r\n   </g>\r\n   <g id=\"patch_13\">\r\n    <path clip-path=\"url(#p8b6a24004a)\" d=\"M 45.0055 226.713504 \r\nL 48.3535 226.713504 \r\nL 48.3535 200.82779 \r\nL 45.0055 200.82779 \r\nz\r\n\" style=\"fill:#ff7f0e;\"/>\r\n   </g>\r\n   <g id=\"patch_14\">\r\n    <path clip-path=\"url(#p8b6a24004a)\" d=\"M 78.4855 226.713504 \r\nL 81.8335 226.713504 \r\nL 81.8335 56.299219 \r\nL 78.4855 56.299219 \r\nz\r\n\" style=\"fill:#ff7f0e;\"/>\r\n   </g>\r\n   <g id=\"patch_15\">\r\n    <path clip-path=\"url(#p8b6a24004a)\" d=\"M 111.9655 226.713504 \r\nL 115.3135 226.713504 \r\nL 115.3135 73.556362 \r\nL 111.9655 73.556362 \r\nz\r\n\" style=\"fill:#ff7f0e;\"/>\r\n   </g>\r\n   <g id=\"patch_16\">\r\n    <path clip-path=\"url(#p8b6a24004a)\" d=\"M 145.4455 226.713504 \r\nL 148.7935 226.713504 \r\nL 148.7935 187.884933 \r\nL 145.4455 187.884933 \r\nz\r\n\" style=\"fill:#ff7f0e;\"/>\r\n   </g>\r\n   <g id=\"patch_17\">\r\n    <path clip-path=\"url(#p8b6a24004a)\" d=\"M 178.9255 226.713504 \r\nL 182.2735 226.713504 \r\nL 182.2735 196.513504 \r\nL 178.9255 196.513504 \r\nz\r\n\" style=\"fill:#ff7f0e;\"/>\r\n   </g>\r\n   <g id=\"patch_18\">\r\n    <path clip-path=\"url(#p8b6a24004a)\" d=\"M 212.4055 226.713504 \r\nL 215.7535 226.713504 \r\nL 215.7535 23.942076 \r\nL 212.4055 23.942076 \r\nz\r\n\" style=\"fill:#ff7f0e;\"/>\r\n   </g>\r\n   <g id=\"patch_19\">\r\n    <path clip-path=\"url(#p8b6a24004a)\" d=\"M 245.8855 226.713504 \r\nL 249.2335 226.713504 \r\nL 249.2335 211.613504 \r\nL 245.8855 211.613504 \r\nz\r\n\" style=\"fill:#ff7f0e;\"/>\r\n   </g>\r\n   <g id=\"patch_20\">\r\n    <path clip-path=\"url(#p8b6a24004a)\" d=\"M 279.3655 226.713504 \r\nL 282.7135 226.713504 \r\nL 282.7135 224.556362 \r\nL 279.3655 224.556362 \r\nz\r\n\" style=\"fill:#ff7f0e;\"/>\r\n   </g>\r\n   <g id=\"patch_21\">\r\n    <path clip-path=\"url(#p8b6a24004a)\" d=\"M 312.8455 226.713504 \r\nL 316.1935 226.713504 \r\nL 316.1935 36.884933 \r\nL 312.8455 36.884933 \r\nz\r\n\" style=\"fill:#ff7f0e;\"/>\r\n   </g>\r\n   <g id=\"patch_22\">\r\n    <path clip-path=\"url(#p8b6a24004a)\" d=\"M 346.3255 226.713504 \r\nL 349.6735 226.713504 \r\nL 349.6735 73.556362 \r\nL 346.3255 73.556362 \r\nz\r\n\" style=\"fill:#ff7f0e;\"/>\r\n   </g>\r\n   <g id=\"patch_23\">\r\n    <path clip-path=\"url(#p8b6a24004a)\" d=\"M 48.3535 226.713504 \r\nL 51.7015 226.713504 \r\nL 51.7015 71.399219 \r\nL 48.3535 71.399219 \r\nz\r\n\" style=\"fill:#2ca02c;\"/>\r\n   </g>\r\n   <g id=\"patch_24\">\r\n    <path clip-path=\"url(#p8b6a24004a)\" d=\"M 81.8335 226.713504 \r\nL 85.1815 226.713504 \r\nL 85.1815 88.656362 \r\nL 81.8335 88.656362 \r\nz\r\n\" style=\"fill:#2ca02c;\"/>\r\n   </g>\r\n   <g id=\"patch_25\">\r\n    <path clip-path=\"url(#p8b6a24004a)\" d=\"M 115.3135 226.713504 \r\nL 118.6615 226.713504 \r\nL 118.6615 213.770647 \r\nL 115.3135 213.770647 \r\nz\r\n\" style=\"fill:#2ca02c;\"/>\r\n   </g>\r\n   <g id=\"patch_26\">\r\n    <path clip-path=\"url(#p8b6a24004a)\" d=\"M 148.7935 226.713504 \r\nL 152.1415 226.713504 \r\nL 152.1415 45.513504 \r\nL 148.7935 45.513504 \r\nz\r\n\" style=\"fill:#2ca02c;\"/>\r\n   </g>\r\n   <g id=\"patch_27\">\r\n    <path clip-path=\"url(#p8b6a24004a)\" d=\"M 182.2735 226.713504 \r\nL 185.6215 226.713504 \r\nL 185.6215 118.856362 \r\nL 182.2735 118.856362 \r\nz\r\n\" style=\"fill:#2ca02c;\"/>\r\n   </g>\r\n   <g id=\"patch_28\">\r\n    <path clip-path=\"url(#p8b6a24004a)\" d=\"M 215.7535 226.713504 \r\nL 219.1015 226.713504 \r\nL 219.1015 19.62779 \r\nL 215.7535 19.62779 \r\nz\r\n\" style=\"fill:#2ca02c;\"/>\r\n   </g>\r\n   <g id=\"patch_29\">\r\n    <path clip-path=\"url(#p8b6a24004a)\" d=\"M 249.2335 226.713504 \r\nL 252.5815 226.713504 \r\nL 252.5815 90.813504 \r\nL 249.2335 90.813504 \r\nz\r\n\" style=\"fill:#2ca02c;\"/>\r\n   </g>\r\n   <g id=\"patch_30\">\r\n    <path clip-path=\"url(#p8b6a24004a)\" d=\"M 282.7135 226.713504 \r\nL 286.0615 226.713504 \r\nL 286.0615 226.713504 \r\nL 282.7135 226.713504 \r\nz\r\n\" style=\"fill:#2ca02c;\"/>\r\n   </g>\r\n   <g id=\"patch_31\">\r\n    <path clip-path=\"url(#p8b6a24004a)\" d=\"M 316.1935 226.713504 \r\nL 319.5415 226.713504 \r\nL 319.5415 198.670647 \r\nL 316.1935 198.670647 \r\nz\r\n\" style=\"fill:#2ca02c;\"/>\r\n   </g>\r\n   <g id=\"patch_32\">\r\n    <path clip-path=\"url(#p8b6a24004a)\" d=\"M 349.6735 226.713504 \r\nL 353.0215 226.713504 \r\nL 353.0215 220.242076 \r\nL 349.6735 220.242076 \r\nz\r\n\" style=\"fill:#2ca02c;\"/>\r\n   </g>\r\n   <g id=\"patch_33\">\r\n    <path clip-path=\"url(#p8b6a24004a)\" d=\"M 51.7015 226.713504 \r\nL 55.0495 226.713504 \r\nL 55.0495 207.299219 \r\nL 51.7015 207.299219 \r\nz\r\n\" style=\"fill:#d62728;\"/>\r\n   </g>\r\n   <g id=\"patch_34\">\r\n    <path clip-path=\"url(#p8b6a24004a)\" d=\"M 85.1815 226.713504 \r\nL 88.5295 226.713504 \r\nL 88.5295 192.199219 \r\nL 85.1815 192.199219 \r\nz\r\n\" style=\"fill:#d62728;\"/>\r\n   </g>\r\n   <g id=\"patch_35\">\r\n    <path clip-path=\"url(#p8b6a24004a)\" d=\"M 118.6615 226.713504 \r\nL 122.0095 226.713504 \r\nL 122.0095 172.784933 \r\nL 118.6615 172.784933 \r\nz\r\n\" style=\"fill:#d62728;\"/>\r\n   </g>\r\n   <g id=\"patch_36\">\r\n    <path clip-path=\"url(#p8b6a24004a)\" d=\"M 152.1415 226.713504 \r\nL 155.4895 226.713504 \r\nL 155.4895 202.984933 \r\nL 152.1415 202.984933 \r\nz\r\n\" style=\"fill:#d62728;\"/>\r\n   </g>\r\n   <g id=\"patch_37\">\r\n    <path clip-path=\"url(#p8b6a24004a)\" d=\"M 185.6215 226.713504 \r\nL 188.9695 226.713504 \r\nL 188.9695 80.02779 \r\nL 185.6215 80.02779 \r\nz\r\n\" style=\"fill:#d62728;\"/>\r\n   </g>\r\n   <g id=\"patch_38\">\r\n    <path clip-path=\"url(#p8b6a24004a)\" d=\"M 219.1015 226.713504 \r\nL 222.4495 226.713504 \r\nL 222.4495 41.199219 \r\nL 219.1015 41.199219 \r\nz\r\n\" style=\"fill:#d62728;\"/>\r\n   </g>\r\n   <g id=\"patch_39\">\r\n    <path clip-path=\"url(#p8b6a24004a)\" d=\"M 252.5815 226.713504 \r\nL 255.9295 226.713504 \r\nL 255.9295 95.12779 \r\nL 252.5815 95.12779 \r\nz\r\n\" style=\"fill:#d62728;\"/>\r\n   </g>\r\n   <g id=\"patch_40\">\r\n    <path clip-path=\"url(#p8b6a24004a)\" d=\"M 286.0615 226.713504 \r\nL 289.4095 226.713504 \r\nL 289.4095 97.284933 \r\nL 286.0615 97.284933 \r\nz\r\n\" style=\"fill:#d62728;\"/>\r\n   </g>\r\n   <g id=\"patch_41\">\r\n    <path clip-path=\"url(#p8b6a24004a)\" d=\"M 319.5415 226.713504 \r\nL 322.8895 226.713504 \r\nL 322.8895 125.32779 \r\nL 319.5415 125.32779 \r\nz\r\n\" style=\"fill:#d62728;\"/>\r\n   </g>\r\n   <g id=\"patch_42\">\r\n    <path clip-path=\"url(#p8b6a24004a)\" d=\"M 353.0215 226.713504 \r\nL 356.3695 226.713504 \r\nL 356.3695 75.713504 \r\nL 353.0215 75.713504 \r\nz\r\n\" style=\"fill:#d62728;\"/>\r\n   </g>\r\n   <g id=\"patch_43\">\r\n    <path clip-path=\"url(#p8b6a24004a)\" d=\"M 55.0495 226.713504 \r\nL 58.3975 226.713504 \r\nL 58.3975 64.92779 \r\nL 55.0495 64.92779 \r\nz\r\n\" style=\"fill:#9467bd;\"/>\r\n   </g>\r\n   <g id=\"patch_44\">\r\n    <path clip-path=\"url(#p8b6a24004a)\" d=\"M 88.5295 226.713504 \r\nL 91.8775 226.713504 \r\nL 91.8775 224.556362 \r\nL 88.5295 224.556362 \r\nz\r\n\" style=\"fill:#9467bd;\"/>\r\n   </g>\r\n   <g id=\"patch_45\">\r\n    <path clip-path=\"url(#p8b6a24004a)\" d=\"M 122.0095 226.713504 \r\nL 125.3575 226.713504 \r\nL 125.3575 118.856362 \r\nL 122.0095 118.856362 \r\nz\r\n\" style=\"fill:#9467bd;\"/>\r\n   </g>\r\n   <g id=\"patch_46\">\r\n    <path clip-path=\"url(#p8b6a24004a)\" d=\"M 155.4895 226.713504 \r\nL 158.8375 226.713504 \r\nL 158.8375 166.313504 \r\nL 155.4895 166.313504 \r\nz\r\n\" style=\"fill:#9467bd;\"/>\r\n   </g>\r\n   <g id=\"patch_47\">\r\n    <path clip-path=\"url(#p8b6a24004a)\" d=\"M 188.9695 226.713504 \r\nL 192.3175 226.713504 \r\nL 192.3175 39.042076 \r\nL 188.9695 39.042076 \r\nz\r\n\" style=\"fill:#9467bd;\"/>\r\n   </g>\r\n   <g id=\"patch_48\">\r\n    <path clip-path=\"url(#p8b6a24004a)\" d=\"M 222.4495 226.713504 \r\nL 225.7975 226.713504 \r\nL 225.7975 198.670647 \r\nL 222.4495 198.670647 \r\nz\r\n\" style=\"fill:#9467bd;\"/>\r\n   </g>\r\n   <g id=\"patch_49\">\r\n    <path clip-path=\"url(#p8b6a24004a)\" d=\"M 255.9295 226.713504 \r\nL 259.2775 226.713504 \r\nL 259.2775 179.256362 \r\nL 255.9295 179.256362 \r\nz\r\n\" style=\"fill:#9467bd;\"/>\r\n   </g>\r\n   <g id=\"patch_50\">\r\n    <path clip-path=\"url(#p8b6a24004a)\" d=\"M 289.4095 226.713504 \r\nL 292.7575 226.713504 \r\nL 292.7575 51.984933 \r\nL 289.4095 51.984933 \r\nz\r\n\" style=\"fill:#9467bd;\"/>\r\n   </g>\r\n   <g id=\"patch_51\">\r\n    <path clip-path=\"url(#p8b6a24004a)\" d=\"M 322.8895 226.713504 \r\nL 326.2375 226.713504 \r\nL 326.2375 71.399219 \r\nL 322.8895 71.399219 \r\nz\r\n\" style=\"fill:#9467bd;\"/>\r\n   </g>\r\n   <g id=\"patch_52\">\r\n    <path clip-path=\"url(#p8b6a24004a)\" d=\"M 356.3695 226.713504 \r\nL 359.7175 226.713504 \r\nL 359.7175 181.413504 \r\nL 356.3695 181.413504 \r\nz\r\n\" style=\"fill:#9467bd;\"/>\r\n   </g>\r\n   <g id=\"matplotlib.axis_1\">\r\n    <g id=\"xtick_1\">\r\n     <g id=\"line2d_1\">\r\n      <defs>\r\n       <path d=\"M 0 0 \r\nL 0 3.5 \r\n\" id=\"m76872cdde3\" style=\"stroke:#000000;stroke-width:0.8;\"/>\r\n      </defs>\r\n      <g>\r\n       <use style=\"stroke:#000000;stroke-width:0.8;\" x=\"50.0275\" xlink:href=\"#m76872cdde3\" y=\"226.713504\"/>\r\n      </g>\r\n     </g>\r\n     <g id=\"text_1\">\r\n      <!-- 1 -->\r\n      <defs>\r\n       <path d=\"M 12.40625 8.296875 \r\nL 28.515625 8.296875 \r\nL 28.515625 63.921875 \r\nL 10.984375 60.40625 \r\nL 10.984375 69.390625 \r\nL 28.421875 72.90625 \r\nL 38.28125 72.90625 \r\nL 38.28125 8.296875 \r\nL 54.390625 8.296875 \r\nL 54.390625 0 \r\nL 12.40625 0 \r\nz\r\n\" id=\"DejaVuSans-49\"/>\r\n      </defs>\r\n      <g transform=\"translate(52.786875 240.076004)rotate(-90)scale(0.1 -0.1)\">\r\n       <use xlink:href=\"#DejaVuSans-49\"/>\r\n      </g>\r\n     </g>\r\n    </g>\r\n    <g id=\"xtick_2\">\r\n     <g id=\"line2d_2\">\r\n      <g>\r\n       <use style=\"stroke:#000000;stroke-width:0.8;\" x=\"83.5075\" xlink:href=\"#m76872cdde3\" y=\"226.713504\"/>\r\n      </g>\r\n     </g>\r\n     <g id=\"text_2\">\r\n      <!-- 2 -->\r\n      <defs>\r\n       <path d=\"M 19.1875 8.296875 \r\nL 53.609375 8.296875 \r\nL 53.609375 0 \r\nL 7.328125 0 \r\nL 7.328125 8.296875 \r\nQ 12.9375 14.109375 22.625 23.890625 \r\nQ 32.328125 33.6875 34.8125 36.53125 \r\nQ 39.546875 41.84375 41.421875 45.53125 \r\nQ 43.3125 49.21875 43.3125 52.78125 \r\nQ 43.3125 58.59375 39.234375 62.25 \r\nQ 35.15625 65.921875 28.609375 65.921875 \r\nQ 23.96875 65.921875 18.8125 64.3125 \r\nQ 13.671875 62.703125 7.8125 59.421875 \r\nL 7.8125 69.390625 \r\nQ 13.765625 71.78125 18.9375 73 \r\nQ 24.125 74.21875 28.421875 74.21875 \r\nQ 39.75 74.21875 46.484375 68.546875 \r\nQ 53.21875 62.890625 53.21875 53.421875 \r\nQ 53.21875 48.921875 51.53125 44.890625 \r\nQ 49.859375 40.875 45.40625 35.40625 \r\nQ 44.1875 33.984375 37.640625 27.21875 \r\nQ 31.109375 20.453125 19.1875 8.296875 \r\nz\r\n\" id=\"DejaVuSans-50\"/>\r\n      </defs>\r\n      <g transform=\"translate(86.266875 240.076004)rotate(-90)scale(0.1 -0.1)\">\r\n       <use xlink:href=\"#DejaVuSans-50\"/>\r\n      </g>\r\n     </g>\r\n    </g>\r\n    <g id=\"xtick_3\">\r\n     <g id=\"line2d_3\">\r\n      <g>\r\n       <use style=\"stroke:#000000;stroke-width:0.8;\" x=\"116.9875\" xlink:href=\"#m76872cdde3\" y=\"226.713504\"/>\r\n      </g>\r\n     </g>\r\n     <g id=\"text_3\">\r\n      <!-- 3 -->\r\n      <defs>\r\n       <path d=\"M 40.578125 39.3125 \r\nQ 47.65625 37.796875 51.625 33 \r\nQ 55.609375 28.21875 55.609375 21.1875 \r\nQ 55.609375 10.40625 48.1875 4.484375 \r\nQ 40.765625 -1.421875 27.09375 -1.421875 \r\nQ 22.515625 -1.421875 17.65625 -0.515625 \r\nQ 12.796875 0.390625 7.625 2.203125 \r\nL 7.625 11.71875 \r\nQ 11.71875 9.328125 16.59375 8.109375 \r\nQ 21.484375 6.890625 26.8125 6.890625 \r\nQ 36.078125 6.890625 40.9375 10.546875 \r\nQ 45.796875 14.203125 45.796875 21.1875 \r\nQ 45.796875 27.640625 41.28125 31.265625 \r\nQ 36.765625 34.90625 28.71875 34.90625 \r\nL 20.21875 34.90625 \r\nL 20.21875 43.015625 \r\nL 29.109375 43.015625 \r\nQ 36.375 43.015625 40.234375 45.921875 \r\nQ 44.09375 48.828125 44.09375 54.296875 \r\nQ 44.09375 59.90625 40.109375 62.90625 \r\nQ 36.140625 65.921875 28.71875 65.921875 \r\nQ 24.65625 65.921875 20.015625 65.03125 \r\nQ 15.375 64.15625 9.8125 62.3125 \r\nL 9.8125 71.09375 \r\nQ 15.4375 72.65625 20.34375 73.4375 \r\nQ 25.25 74.21875 29.59375 74.21875 \r\nQ 40.828125 74.21875 47.359375 69.109375 \r\nQ 53.90625 64.015625 53.90625 55.328125 \r\nQ 53.90625 49.265625 50.4375 45.09375 \r\nQ 46.96875 40.921875 40.578125 39.3125 \r\nz\r\n\" id=\"DejaVuSans-51\"/>\r\n      </defs>\r\n      <g transform=\"translate(119.746875 240.076004)rotate(-90)scale(0.1 -0.1)\">\r\n       <use xlink:href=\"#DejaVuSans-51\"/>\r\n      </g>\r\n     </g>\r\n    </g>\r\n    <g id=\"xtick_4\">\r\n     <g id=\"line2d_4\">\r\n      <g>\r\n       <use style=\"stroke:#000000;stroke-width:0.8;\" x=\"150.4675\" xlink:href=\"#m76872cdde3\" y=\"226.713504\"/>\r\n      </g>\r\n     </g>\r\n     <g id=\"text_4\">\r\n      <!-- 4 -->\r\n      <defs>\r\n       <path d=\"M 37.796875 64.3125 \r\nL 12.890625 25.390625 \r\nL 37.796875 25.390625 \r\nz\r\nM 35.203125 72.90625 \r\nL 47.609375 72.90625 \r\nL 47.609375 25.390625 \r\nL 58.015625 25.390625 \r\nL 58.015625 17.1875 \r\nL 47.609375 17.1875 \r\nL 47.609375 0 \r\nL 37.796875 0 \r\nL 37.796875 17.1875 \r\nL 4.890625 17.1875 \r\nL 4.890625 26.703125 \r\nz\r\n\" id=\"DejaVuSans-52\"/>\r\n      </defs>\r\n      <g transform=\"translate(153.226875 240.076004)rotate(-90)scale(0.1 -0.1)\">\r\n       <use xlink:href=\"#DejaVuSans-52\"/>\r\n      </g>\r\n     </g>\r\n    </g>\r\n    <g id=\"xtick_5\">\r\n     <g id=\"line2d_5\">\r\n      <g>\r\n       <use style=\"stroke:#000000;stroke-width:0.8;\" x=\"183.9475\" xlink:href=\"#m76872cdde3\" y=\"226.713504\"/>\r\n      </g>\r\n     </g>\r\n     <g id=\"text_5\">\r\n      <!-- 5 -->\r\n      <defs>\r\n       <path d=\"M 10.796875 72.90625 \r\nL 49.515625 72.90625 \r\nL 49.515625 64.59375 \r\nL 19.828125 64.59375 \r\nL 19.828125 46.734375 \r\nQ 21.96875 47.46875 24.109375 47.828125 \r\nQ 26.265625 48.1875 28.421875 48.1875 \r\nQ 40.625 48.1875 47.75 41.5 \r\nQ 54.890625 34.8125 54.890625 23.390625 \r\nQ 54.890625 11.625 47.5625 5.09375 \r\nQ 40.234375 -1.421875 26.90625 -1.421875 \r\nQ 22.3125 -1.421875 17.546875 -0.640625 \r\nQ 12.796875 0.140625 7.71875 1.703125 \r\nL 7.71875 11.625 \r\nQ 12.109375 9.234375 16.796875 8.0625 \r\nQ 21.484375 6.890625 26.703125 6.890625 \r\nQ 35.15625 6.890625 40.078125 11.328125 \r\nQ 45.015625 15.765625 45.015625 23.390625 \r\nQ 45.015625 31 40.078125 35.4375 \r\nQ 35.15625 39.890625 26.703125 39.890625 \r\nQ 22.75 39.890625 18.8125 39.015625 \r\nQ 14.890625 38.140625 10.796875 36.28125 \r\nz\r\n\" id=\"DejaVuSans-53\"/>\r\n      </defs>\r\n      <g transform=\"translate(186.706875 240.076004)rotate(-90)scale(0.1 -0.1)\">\r\n       <use xlink:href=\"#DejaVuSans-53\"/>\r\n      </g>\r\n     </g>\r\n    </g>\r\n    <g id=\"xtick_6\">\r\n     <g id=\"line2d_6\">\r\n      <g>\r\n       <use style=\"stroke:#000000;stroke-width:0.8;\" x=\"217.4275\" xlink:href=\"#m76872cdde3\" y=\"226.713504\"/>\r\n      </g>\r\n     </g>\r\n     <g id=\"text_6\">\r\n      <!-- 6 -->\r\n      <defs>\r\n       <path d=\"M 33.015625 40.375 \r\nQ 26.375 40.375 22.484375 35.828125 \r\nQ 18.609375 31.296875 18.609375 23.390625 \r\nQ 18.609375 15.53125 22.484375 10.953125 \r\nQ 26.375 6.390625 33.015625 6.390625 \r\nQ 39.65625 6.390625 43.53125 10.953125 \r\nQ 47.40625 15.53125 47.40625 23.390625 \r\nQ 47.40625 31.296875 43.53125 35.828125 \r\nQ 39.65625 40.375 33.015625 40.375 \r\nz\r\nM 52.59375 71.296875 \r\nL 52.59375 62.3125 \r\nQ 48.875 64.0625 45.09375 64.984375 \r\nQ 41.3125 65.921875 37.59375 65.921875 \r\nQ 27.828125 65.921875 22.671875 59.328125 \r\nQ 17.53125 52.734375 16.796875 39.40625 \r\nQ 19.671875 43.65625 24.015625 45.921875 \r\nQ 28.375 48.1875 33.59375 48.1875 \r\nQ 44.578125 48.1875 50.953125 41.515625 \r\nQ 57.328125 34.859375 57.328125 23.390625 \r\nQ 57.328125 12.15625 50.6875 5.359375 \r\nQ 44.046875 -1.421875 33.015625 -1.421875 \r\nQ 20.359375 -1.421875 13.671875 8.265625 \r\nQ 6.984375 17.96875 6.984375 36.375 \r\nQ 6.984375 53.65625 15.1875 63.9375 \r\nQ 23.390625 74.21875 37.203125 74.21875 \r\nQ 40.921875 74.21875 44.703125 73.484375 \r\nQ 48.484375 72.75 52.59375 71.296875 \r\nz\r\n\" id=\"DejaVuSans-54\"/>\r\n      </defs>\r\n      <g transform=\"translate(220.186875 240.076004)rotate(-90)scale(0.1 -0.1)\">\r\n       <use xlink:href=\"#DejaVuSans-54\"/>\r\n      </g>\r\n     </g>\r\n    </g>\r\n    <g id=\"xtick_7\">\r\n     <g id=\"line2d_7\">\r\n      <g>\r\n       <use style=\"stroke:#000000;stroke-width:0.8;\" x=\"250.9075\" xlink:href=\"#m76872cdde3\" y=\"226.713504\"/>\r\n      </g>\r\n     </g>\r\n     <g id=\"text_7\">\r\n      <!-- 7 -->\r\n      <defs>\r\n       <path d=\"M 8.203125 72.90625 \r\nL 55.078125 72.90625 \r\nL 55.078125 68.703125 \r\nL 28.609375 0 \r\nL 18.3125 0 \r\nL 43.21875 64.59375 \r\nL 8.203125 64.59375 \r\nz\r\n\" id=\"DejaVuSans-55\"/>\r\n      </defs>\r\n      <g transform=\"translate(253.666875 240.076004)rotate(-90)scale(0.1 -0.1)\">\r\n       <use xlink:href=\"#DejaVuSans-55\"/>\r\n      </g>\r\n     </g>\r\n    </g>\r\n    <g id=\"xtick_8\">\r\n     <g id=\"line2d_8\">\r\n      <g>\r\n       <use style=\"stroke:#000000;stroke-width:0.8;\" x=\"284.3875\" xlink:href=\"#m76872cdde3\" y=\"226.713504\"/>\r\n      </g>\r\n     </g>\r\n     <g id=\"text_8\">\r\n      <!-- 8 -->\r\n      <defs>\r\n       <path d=\"M 31.78125 34.625 \r\nQ 24.75 34.625 20.71875 30.859375 \r\nQ 16.703125 27.09375 16.703125 20.515625 \r\nQ 16.703125 13.921875 20.71875 10.15625 \r\nQ 24.75 6.390625 31.78125 6.390625 \r\nQ 38.8125 6.390625 42.859375 10.171875 \r\nQ 46.921875 13.96875 46.921875 20.515625 \r\nQ 46.921875 27.09375 42.890625 30.859375 \r\nQ 38.875 34.625 31.78125 34.625 \r\nz\r\nM 21.921875 38.8125 \r\nQ 15.578125 40.375 12.03125 44.71875 \r\nQ 8.5 49.078125 8.5 55.328125 \r\nQ 8.5 64.0625 14.71875 69.140625 \r\nQ 20.953125 74.21875 31.78125 74.21875 \r\nQ 42.671875 74.21875 48.875 69.140625 \r\nQ 55.078125 64.0625 55.078125 55.328125 \r\nQ 55.078125 49.078125 51.53125 44.71875 \r\nQ 48 40.375 41.703125 38.8125 \r\nQ 48.828125 37.15625 52.796875 32.3125 \r\nQ 56.78125 27.484375 56.78125 20.515625 \r\nQ 56.78125 9.90625 50.3125 4.234375 \r\nQ 43.84375 -1.421875 31.78125 -1.421875 \r\nQ 19.734375 -1.421875 13.25 4.234375 \r\nQ 6.78125 9.90625 6.78125 20.515625 \r\nQ 6.78125 27.484375 10.78125 32.3125 \r\nQ 14.796875 37.15625 21.921875 38.8125 \r\nz\r\nM 18.3125 54.390625 \r\nQ 18.3125 48.734375 21.84375 45.5625 \r\nQ 25.390625 42.390625 31.78125 42.390625 \r\nQ 38.140625 42.390625 41.71875 45.5625 \r\nQ 45.3125 48.734375 45.3125 54.390625 \r\nQ 45.3125 60.0625 41.71875 63.234375 \r\nQ 38.140625 66.40625 31.78125 66.40625 \r\nQ 25.390625 66.40625 21.84375 63.234375 \r\nQ 18.3125 60.0625 18.3125 54.390625 \r\nz\r\n\" id=\"DejaVuSans-56\"/>\r\n      </defs>\r\n      <g transform=\"translate(287.146875 240.076004)rotate(-90)scale(0.1 -0.1)\">\r\n       <use xlink:href=\"#DejaVuSans-56\"/>\r\n      </g>\r\n     </g>\r\n    </g>\r\n    <g id=\"xtick_9\">\r\n     <g id=\"line2d_9\">\r\n      <g>\r\n       <use style=\"stroke:#000000;stroke-width:0.8;\" x=\"317.8675\" xlink:href=\"#m76872cdde3\" y=\"226.713504\"/>\r\n      </g>\r\n     </g>\r\n     <g id=\"text_9\">\r\n      <!-- 9 -->\r\n      <defs>\r\n       <path d=\"M 10.984375 1.515625 \r\nL 10.984375 10.5 \r\nQ 14.703125 8.734375 18.5 7.8125 \r\nQ 22.3125 6.890625 25.984375 6.890625 \r\nQ 35.75 6.890625 40.890625 13.453125 \r\nQ 46.046875 20.015625 46.78125 33.40625 \r\nQ 43.953125 29.203125 39.59375 26.953125 \r\nQ 35.25 24.703125 29.984375 24.703125 \r\nQ 19.046875 24.703125 12.671875 31.3125 \r\nQ 6.296875 37.9375 6.296875 49.421875 \r\nQ 6.296875 60.640625 12.9375 67.421875 \r\nQ 19.578125 74.21875 30.609375 74.21875 \r\nQ 43.265625 74.21875 49.921875 64.515625 \r\nQ 56.59375 54.828125 56.59375 36.375 \r\nQ 56.59375 19.140625 48.40625 8.859375 \r\nQ 40.234375 -1.421875 26.421875 -1.421875 \r\nQ 22.703125 -1.421875 18.890625 -0.6875 \r\nQ 15.09375 0.046875 10.984375 1.515625 \r\nz\r\nM 30.609375 32.421875 \r\nQ 37.25 32.421875 41.125 36.953125 \r\nQ 45.015625 41.5 45.015625 49.421875 \r\nQ 45.015625 57.28125 41.125 61.84375 \r\nQ 37.25 66.40625 30.609375 66.40625 \r\nQ 23.96875 66.40625 20.09375 61.84375 \r\nQ 16.21875 57.28125 16.21875 49.421875 \r\nQ 16.21875 41.5 20.09375 36.953125 \r\nQ 23.96875 32.421875 30.609375 32.421875 \r\nz\r\n\" id=\"DejaVuSans-57\"/>\r\n      </defs>\r\n      <g transform=\"translate(320.626875 240.076004)rotate(-90)scale(0.1 -0.1)\">\r\n       <use xlink:href=\"#DejaVuSans-57\"/>\r\n      </g>\r\n     </g>\r\n    </g>\r\n    <g id=\"xtick_10\">\r\n     <g id=\"line2d_10\">\r\n      <g>\r\n       <use style=\"stroke:#000000;stroke-width:0.8;\" x=\"351.3475\" xlink:href=\"#m76872cdde3\" y=\"226.713504\"/>\r\n      </g>\r\n     </g>\r\n     <g id=\"text_10\">\r\n      <!-- 10 -->\r\n      <defs>\r\n       <path d=\"M 31.78125 66.40625 \r\nQ 24.171875 66.40625 20.328125 58.90625 \r\nQ 16.5 51.421875 16.5 36.375 \r\nQ 16.5 21.390625 20.328125 13.890625 \r\nQ 24.171875 6.390625 31.78125 6.390625 \r\nQ 39.453125 6.390625 43.28125 13.890625 \r\nQ 47.125 21.390625 47.125 36.375 \r\nQ 47.125 51.421875 43.28125 58.90625 \r\nQ 39.453125 66.40625 31.78125 66.40625 \r\nz\r\nM 31.78125 74.21875 \r\nQ 44.046875 74.21875 50.515625 64.515625 \r\nQ 56.984375 54.828125 56.984375 36.375 \r\nQ 56.984375 17.96875 50.515625 8.265625 \r\nQ 44.046875 -1.421875 31.78125 -1.421875 \r\nQ 19.53125 -1.421875 13.0625 8.265625 \r\nQ 6.59375 17.96875 6.59375 36.375 \r\nQ 6.59375 54.828125 13.0625 64.515625 \r\nQ 19.53125 74.21875 31.78125 74.21875 \r\nz\r\n\" id=\"DejaVuSans-48\"/>\r\n      </defs>\r\n      <g transform=\"translate(354.106875 246.438504)rotate(-90)scale(0.1 -0.1)\">\r\n       <use xlink:href=\"#DejaVuSans-49\"/>\r\n       <use x=\"63.623047\" xlink:href=\"#DejaVuSans-48\"/>\r\n      </g>\r\n     </g>\r\n    </g>\r\n   </g>\r\n   <g id=\"matplotlib.axis_2\">\r\n    <g id=\"ytick_1\">\r\n     <g id=\"line2d_11\">\r\n      <defs>\r\n       <path d=\"M 0 0 \r\nL -3.5 0 \r\n\" id=\"ma9885c5b1c\" style=\"stroke:#000000;stroke-width:0.8;\"/>\r\n      </defs>\r\n      <g>\r\n       <use style=\"stroke:#000000;stroke-width:0.8;\" x=\"33.2875\" xlink:href=\"#ma9885c5b1c\" y=\"226.713504\"/>\r\n      </g>\r\n     </g>\r\n     <g id=\"text_11\">\r\n      <!-- 0 -->\r\n      <g transform=\"translate(19.925 230.512723)scale(0.1 -0.1)\">\r\n       <use xlink:href=\"#DejaVuSans-48\"/>\r\n      </g>\r\n     </g>\r\n    </g>\r\n    <g id=\"ytick_2\">\r\n     <g id=\"line2d_12\">\r\n      <g>\r\n       <use style=\"stroke:#000000;stroke-width:0.8;\" x=\"33.2875\" xlink:href=\"#ma9885c5b1c\" y=\"183.570647\"/>\r\n      </g>\r\n     </g>\r\n     <g id=\"text_12\">\r\n      <!-- 20 -->\r\n      <g transform=\"translate(13.5625 187.369866)scale(0.1 -0.1)\">\r\n       <use xlink:href=\"#DejaVuSans-50\"/>\r\n       <use x=\"63.623047\" xlink:href=\"#DejaVuSans-48\"/>\r\n      </g>\r\n     </g>\r\n    </g>\r\n    <g id=\"ytick_3\">\r\n     <g id=\"line2d_13\">\r\n      <g>\r\n       <use style=\"stroke:#000000;stroke-width:0.8;\" x=\"33.2875\" xlink:href=\"#ma9885c5b1c\" y=\"140.42779\"/>\r\n      </g>\r\n     </g>\r\n     <g id=\"text_13\">\r\n      <!-- 40 -->\r\n      <g transform=\"translate(13.5625 144.227009)scale(0.1 -0.1)\">\r\n       <use xlink:href=\"#DejaVuSans-52\"/>\r\n       <use x=\"63.623047\" xlink:href=\"#DejaVuSans-48\"/>\r\n      </g>\r\n     </g>\r\n    </g>\r\n    <g id=\"ytick_4\">\r\n     <g id=\"line2d_14\">\r\n      <g>\r\n       <use style=\"stroke:#000000;stroke-width:0.8;\" x=\"33.2875\" xlink:href=\"#ma9885c5b1c\" y=\"97.284933\"/>\r\n      </g>\r\n     </g>\r\n     <g id=\"text_14\">\r\n      <!-- 60 -->\r\n      <g transform=\"translate(13.5625 101.084152)scale(0.1 -0.1)\">\r\n       <use xlink:href=\"#DejaVuSans-54\"/>\r\n       <use x=\"63.623047\" xlink:href=\"#DejaVuSans-48\"/>\r\n      </g>\r\n     </g>\r\n    </g>\r\n    <g id=\"ytick_5\">\r\n     <g id=\"line2d_15\">\r\n      <g>\r\n       <use style=\"stroke:#000000;stroke-width:0.8;\" x=\"33.2875\" xlink:href=\"#ma9885c5b1c\" y=\"54.142076\"/>\r\n      </g>\r\n     </g>\r\n     <g id=\"text_15\">\r\n      <!-- 80 -->\r\n      <g transform=\"translate(13.5625 57.941295)scale(0.1 -0.1)\">\r\n       <use xlink:href=\"#DejaVuSans-56\"/>\r\n       <use x=\"63.623047\" xlink:href=\"#DejaVuSans-48\"/>\r\n      </g>\r\n     </g>\r\n    </g>\r\n    <g id=\"ytick_6\">\r\n     <g id=\"line2d_16\">\r\n      <g>\r\n       <use style=\"stroke:#000000;stroke-width:0.8;\" x=\"33.2875\" xlink:href=\"#ma9885c5b1c\" y=\"10.999219\"/>\r\n      </g>\r\n     </g>\r\n     <g id=\"text_16\">\r\n      <!-- 100 -->\r\n      <g transform=\"translate(7.2 14.798437)scale(0.1 -0.1)\">\r\n       <use xlink:href=\"#DejaVuSans-49\"/>\r\n       <use x=\"63.623047\" xlink:href=\"#DejaVuSans-48\"/>\r\n       <use x=\"127.246094\" xlink:href=\"#DejaVuSans-48\"/>\r\n      </g>\r\n     </g>\r\n    </g>\r\n   </g>\r\n   <g id=\"patch_53\">\r\n    <path d=\"M 33.2875 226.713504 \r\nL 33.2875 9.273504 \r\n\" style=\"fill:none;stroke:#000000;stroke-linecap:square;stroke-linejoin:miter;stroke-width:0.8;\"/>\r\n   </g>\r\n   <g id=\"patch_54\">\r\n    <path d=\"M 368.0875 226.713504 \r\nL 368.0875 9.273504 \r\n\" style=\"fill:none;stroke:#000000;stroke-linecap:square;stroke-linejoin:miter;stroke-width:0.8;\"/>\r\n   </g>\r\n   <g id=\"patch_55\">\r\n    <path d=\"M 33.2875 226.713504 \r\nL 368.0875 226.713504 \r\n\" style=\"fill:none;stroke:#000000;stroke-linecap:square;stroke-linejoin:miter;stroke-width:0.8;\"/>\r\n   </g>\r\n   <g id=\"patch_56\">\r\n    <path d=\"M 33.2875 9.273504 \r\nL 368.0875 9.273504 \r\n\" style=\"fill:none;stroke:#000000;stroke-linecap:square;stroke-linejoin:miter;stroke-width:0.8;\"/>\r\n   </g>\r\n   <g id=\"legend_1\">\r\n    <g id=\"patch_57\">\r\n     <path d=\"M 321.3875 90.664129 \r\nL 361.0875 90.664129 \r\nQ 363.0875 90.664129 363.0875 88.664129 \r\nL 363.0875 16.273504 \r\nQ 363.0875 14.273504 361.0875 14.273504 \r\nL 321.3875 14.273504 \r\nQ 319.3875 14.273504 319.3875 16.273504 \r\nL 319.3875 88.664129 \r\nQ 319.3875 90.664129 321.3875 90.664129 \r\nz\r\n\" style=\"fill:#ffffff;opacity:0.8;stroke:#cccccc;stroke-linejoin:miter;\"/>\r\n    </g>\r\n    <g id=\"patch_58\">\r\n     <path d=\"M 323.3875 25.871942 \r\nL 343.3875 25.871942 \r\nL 343.3875 18.871942 \r\nL 323.3875 18.871942 \r\nz\r\n\" style=\"fill:#1f77b4;\"/>\r\n    </g>\r\n    <g id=\"text_17\">\r\n     <!-- A -->\r\n     <defs>\r\n      <path d=\"M 34.1875 63.1875 \r\nL 20.796875 26.90625 \r\nL 47.609375 26.90625 \r\nz\r\nM 28.609375 72.90625 \r\nL 39.796875 72.90625 \r\nL 67.578125 0 \r\nL 57.328125 0 \r\nL 50.6875 18.703125 \r\nL 17.828125 18.703125 \r\nL 11.1875 0 \r\nL 0.78125 0 \r\nz\r\n\" id=\"DejaVuSans-65\"/>\r\n     </defs>\r\n     <g transform=\"translate(351.3875 25.871942)scale(0.1 -0.1)\">\r\n      <use xlink:href=\"#DejaVuSans-65\"/>\r\n     </g>\r\n    </g>\r\n    <g id=\"patch_59\">\r\n     <path d=\"M 323.3875 40.550067 \r\nL 343.3875 40.550067 \r\nL 343.3875 33.550067 \r\nL 323.3875 33.550067 \r\nz\r\n\" style=\"fill:#ff7f0e;\"/>\r\n    </g>\r\n    <g id=\"text_18\">\r\n     <!-- B -->\r\n     <defs>\r\n      <path d=\"M 19.671875 34.8125 \r\nL 19.671875 8.109375 \r\nL 35.5 8.109375 \r\nQ 43.453125 8.109375 47.28125 11.40625 \r\nQ 51.125 14.703125 51.125 21.484375 \r\nQ 51.125 28.328125 47.28125 31.5625 \r\nQ 43.453125 34.8125 35.5 34.8125 \r\nz\r\nM 19.671875 64.796875 \r\nL 19.671875 42.828125 \r\nL 34.28125 42.828125 \r\nQ 41.5 42.828125 45.03125 45.53125 \r\nQ 48.578125 48.25 48.578125 53.8125 \r\nQ 48.578125 59.328125 45.03125 62.0625 \r\nQ 41.5 64.796875 34.28125 64.796875 \r\nz\r\nM 9.8125 72.90625 \r\nL 35.015625 72.90625 \r\nQ 46.296875 72.90625 52.390625 68.21875 \r\nQ 58.5 63.53125 58.5 54.890625 \r\nQ 58.5 48.1875 55.375 44.234375 \r\nQ 52.25 40.28125 46.1875 39.3125 \r\nQ 53.46875 37.75 57.5 32.78125 \r\nQ 61.53125 27.828125 61.53125 20.40625 \r\nQ 61.53125 10.640625 54.890625 5.3125 \r\nQ 48.25 0 35.984375 0 \r\nL 9.8125 0 \r\nz\r\n\" id=\"DejaVuSans-66\"/>\r\n     </defs>\r\n     <g transform=\"translate(351.3875 40.550067)scale(0.1 -0.1)\">\r\n      <use xlink:href=\"#DejaVuSans-66\"/>\r\n     </g>\r\n    </g>\r\n    <g id=\"patch_60\">\r\n     <path d=\"M 323.3875 55.228192 \r\nL 343.3875 55.228192 \r\nL 343.3875 48.228192 \r\nL 323.3875 48.228192 \r\nz\r\n\" style=\"fill:#2ca02c;\"/>\r\n    </g>\r\n    <g id=\"text_19\">\r\n     <!-- C -->\r\n     <defs>\r\n      <path d=\"M 64.40625 67.28125 \r\nL 64.40625 56.890625 \r\nQ 59.421875 61.53125 53.78125 63.8125 \r\nQ 48.140625 66.109375 41.796875 66.109375 \r\nQ 29.296875 66.109375 22.65625 58.46875 \r\nQ 16.015625 50.828125 16.015625 36.375 \r\nQ 16.015625 21.96875 22.65625 14.328125 \r\nQ 29.296875 6.6875 41.796875 6.6875 \r\nQ 48.140625 6.6875 53.78125 8.984375 \r\nQ 59.421875 11.28125 64.40625 15.921875 \r\nL 64.40625 5.609375 \r\nQ 59.234375 2.09375 53.4375 0.328125 \r\nQ 47.65625 -1.421875 41.21875 -1.421875 \r\nQ 24.65625 -1.421875 15.125 8.703125 \r\nQ 5.609375 18.84375 5.609375 36.375 \r\nQ 5.609375 53.953125 15.125 64.078125 \r\nQ 24.65625 74.21875 41.21875 74.21875 \r\nQ 47.75 74.21875 53.53125 72.484375 \r\nQ 59.328125 70.75 64.40625 67.28125 \r\nz\r\n\" id=\"DejaVuSans-67\"/>\r\n     </defs>\r\n     <g transform=\"translate(351.3875 55.228192)scale(0.1 -0.1)\">\r\n      <use xlink:href=\"#DejaVuSans-67\"/>\r\n     </g>\r\n    </g>\r\n    <g id=\"patch_61\">\r\n     <path d=\"M 323.3875 69.906317 \r\nL 343.3875 69.906317 \r\nL 343.3875 62.906317 \r\nL 323.3875 62.906317 \r\nz\r\n\" style=\"fill:#d62728;\"/>\r\n    </g>\r\n    <g id=\"text_20\">\r\n     <!-- D -->\r\n     <defs>\r\n      <path d=\"M 19.671875 64.796875 \r\nL 19.671875 8.109375 \r\nL 31.59375 8.109375 \r\nQ 46.6875 8.109375 53.6875 14.9375 \r\nQ 60.6875 21.78125 60.6875 36.53125 \r\nQ 60.6875 51.171875 53.6875 57.984375 \r\nQ 46.6875 64.796875 31.59375 64.796875 \r\nz\r\nM 9.8125 72.90625 \r\nL 30.078125 72.90625 \r\nQ 51.265625 72.90625 61.171875 64.09375 \r\nQ 71.09375 55.28125 71.09375 36.53125 \r\nQ 71.09375 17.671875 61.125 8.828125 \r\nQ 51.171875 0 30.078125 0 \r\nL 9.8125 0 \r\nz\r\n\" id=\"DejaVuSans-68\"/>\r\n     </defs>\r\n     <g transform=\"translate(351.3875 69.906317)scale(0.1 -0.1)\">\r\n      <use xlink:href=\"#DejaVuSans-68\"/>\r\n     </g>\r\n    </g>\r\n    <g id=\"patch_62\">\r\n     <path d=\"M 323.3875 84.584442 \r\nL 343.3875 84.584442 \r\nL 343.3875 77.584442 \r\nL 323.3875 77.584442 \r\nz\r\n\" style=\"fill:#9467bd;\"/>\r\n    </g>\r\n    <g id=\"text_21\">\r\n     <!-- E -->\r\n     <defs>\r\n      <path d=\"M 9.8125 72.90625 \r\nL 55.90625 72.90625 \r\nL 55.90625 64.59375 \r\nL 19.671875 64.59375 \r\nL 19.671875 43.015625 \r\nL 54.390625 43.015625 \r\nL 54.390625 34.71875 \r\nL 19.671875 34.71875 \r\nL 19.671875 8.296875 \r\nL 56.78125 8.296875 \r\nL 56.78125 0 \r\nL 9.8125 0 \r\nz\r\n\" id=\"DejaVuSans-69\"/>\r\n     </defs>\r\n     <g transform=\"translate(351.3875 84.584442)scale(0.1 -0.1)\">\r\n      <use xlink:href=\"#DejaVuSans-69\"/>\r\n     </g>\r\n    </g>\r\n   </g>\r\n  </g>\r\n </g>\r\n <defs>\r\n  <clipPath id=\"p8b6a24004a\">\r\n   <rect height=\"217.44\" width=\"334.8\" x=\"33.2875\" y=\"9.273504\"/>\r\n  </clipPath>\r\n </defs>\r\n</svg>\r\n",
      "image/png": "[encoded data removed]"
     },
     "metadata": {
      "needs_background": "light"
     }
    }
   ],
   "source": [
    "df.plot.bar()"
   ]
  },
  {
   "cell_type": "code",
   "execution_count": 9,
   "metadata": {},
   "outputs": [
    {
     "output_type": "execute_result",
     "data": {
      "text/plain": "1     37\n2      5\n3     76\n4     20\n5     29\n6     87\n7      9\n8     57\n9      8\n10    30\nName: A, dtype: int32"
     },
     "metadata": {},
     "execution_count": 9
    }
   ],
   "source": [
    "# Selecionar uma coluna\n",
    "df[\"A\"]"
   ]
  },
  {
   "cell_type": "code",
   "execution_count": 10,
   "metadata": {},
   "outputs": [
    {
     "output_type": "execute_result",
     "data": {
      "text/plain": "1     12\n2     79\n3     71\n4     18\n5     14\n6     94\n7      7\n8      1\n9     88\n10    71\nName: B, dtype: int32"
     },
     "metadata": {},
     "execution_count": 10
    }
   ],
   "source": [
    "df[\"B\"]"
   ]
  },
  {
   "cell_type": "code",
   "execution_count": 11,
   "metadata": {},
   "outputs": [
    {
     "output_type": "execute_result",
     "data": {
      "text/plain": "pandas.core.series.Series"
     },
     "metadata": {},
     "execution_count": 11
    }
   ],
   "source": [
    "type(df[\"B\"])"
   ]
  },
  {
   "cell_type": "code",
   "execution_count": 12,
   "metadata": {},
   "outputs": [
    {
     "output_type": "execute_result",
     "data": {
      "text/plain": "     C   D   E\n1   72   9  75\n2   64  16   1\n3    6  25  50\n4   84  11  28\n5   50  68  87\n6   96  86  13\n7   63  61  22\n8    0  60  81\n9   13  47  72\n10   3  70  21",
      "text/html": "<div>\n<style scoped>\n    .dataframe tbody tr th:only-of-type {\n        vertical-align: middle;\n    }\n\n    .dataframe tbody tr th {\n        vertical-align: top;\n    }\n\n    .dataframe thead th {\n        text-align: right;\n    }\n</style>\n<table border=\"1\" class=\"dataframe\">\n  <thead>\n    <tr style=\"text-align: right;\">\n      <th></th>\n      <th>C</th>\n      <th>D</th>\n      <th>E</th>\n    </tr>\n  </thead>\n  <tbody>\n    <tr>\n      <td>1</td>\n      <td>72</td>\n      <td>9</td>\n      <td>75</td>\n    </tr>\n    <tr>\n      <td>2</td>\n      <td>64</td>\n      <td>16</td>\n      <td>1</td>\n    </tr>\n    <tr>\n      <td>3</td>\n      <td>6</td>\n      <td>25</td>\n      <td>50</td>\n    </tr>\n    <tr>\n      <td>4</td>\n      <td>84</td>\n      <td>11</td>\n      <td>28</td>\n    </tr>\n    <tr>\n      <td>5</td>\n      <td>50</td>\n      <td>68</td>\n      <td>87</td>\n    </tr>\n    <tr>\n      <td>6</td>\n      <td>96</td>\n      <td>86</td>\n      <td>13</td>\n    </tr>\n    <tr>\n      <td>7</td>\n      <td>63</td>\n      <td>61</td>\n      <td>22</td>\n    </tr>\n    <tr>\n      <td>8</td>\n      <td>0</td>\n      <td>60</td>\n      <td>81</td>\n    </tr>\n    <tr>\n      <td>9</td>\n      <td>13</td>\n      <td>47</td>\n      <td>72</td>\n    </tr>\n    <tr>\n      <td>10</td>\n      <td>3</td>\n      <td>70</td>\n      <td>21</td>\n    </tr>\n  </tbody>\n</table>\n</div>"
     },
     "metadata": {},
     "execution_count": 12
    }
   ],
   "source": [
    "# Selecionando múltiplas colunas\n",
    "df[[\"C\", \"D\", \"E\"]]"
   ]
  },
  {
   "cell_type": "code",
   "execution_count": 13,
   "metadata": {},
   "outputs": [
    {
     "output_type": "execute_result",
     "data": {
      "text/plain": "1     12\n2     79\n3     71\n4     18\n5     14\n6     94\n7      7\n8      1\n9     88\n10    71\nName: B, dtype: int32"
     },
     "metadata": {},
     "execution_count": 13
    }
   ],
   "source": [
    "# Notação alternativa para seleção de colunas através do ponto (.)\n",
    "df.B"
   ]
  },
  {
   "cell_type": "code",
   "execution_count": 14,
   "metadata": {},
   "outputs": [
    {
     "output_type": "execute_result",
     "data": {
      "text/plain": "     A   B   C   D   E  Total\n1   37  12  72   9  75    205\n2    5  79  64  16   1    165\n3   76  71   6  25  50    228\n4   20  18  84  11  28    161\n5   29  14  50  68  87    248\n6   87  94  96  86  13    376\n7    9   7  63  61  22    162\n8   57   1   0  60  81    199\n9    8  88  13  47  72    228\n10  30  71   3  70  21    195",
      "text/html": "<div>\n<style scoped>\n    .dataframe tbody tr th:only-of-type {\n        vertical-align: middle;\n    }\n\n    .dataframe tbody tr th {\n        vertical-align: top;\n    }\n\n    .dataframe thead th {\n        text-align: right;\n    }\n</style>\n<table border=\"1\" class=\"dataframe\">\n  <thead>\n    <tr style=\"text-align: right;\">\n      <th></th>\n      <th>A</th>\n      <th>B</th>\n      <th>C</th>\n      <th>D</th>\n      <th>E</th>\n      <th>Total</th>\n    </tr>\n  </thead>\n  <tbody>\n    <tr>\n      <td>1</td>\n      <td>37</td>\n      <td>12</td>\n      <td>72</td>\n      <td>9</td>\n      <td>75</td>\n      <td>205</td>\n    </tr>\n    <tr>\n      <td>2</td>\n      <td>5</td>\n      <td>79</td>\n      <td>64</td>\n      <td>16</td>\n      <td>1</td>\n      <td>165</td>\n    </tr>\n    <tr>\n      <td>3</td>\n      <td>76</td>\n      <td>71</td>\n      <td>6</td>\n      <td>25</td>\n      <td>50</td>\n      <td>228</td>\n    </tr>\n    <tr>\n      <td>4</td>\n      <td>20</td>\n      <td>18</td>\n      <td>84</td>\n      <td>11</td>\n      <td>28</td>\n      <td>161</td>\n    </tr>\n    <tr>\n      <td>5</td>\n      <td>29</td>\n      <td>14</td>\n      <td>50</td>\n      <td>68</td>\n      <td>87</td>\n      <td>248</td>\n    </tr>\n    <tr>\n      <td>6</td>\n      <td>87</td>\n      <td>94</td>\n      <td>96</td>\n      <td>86</td>\n      <td>13</td>\n      <td>376</td>\n    </tr>\n    <tr>\n      <td>7</td>\n      <td>9</td>\n      <td>7</td>\n      <td>63</td>\n      <td>61</td>\n      <td>22</td>\n      <td>162</td>\n    </tr>\n    <tr>\n      <td>8</td>\n      <td>57</td>\n      <td>1</td>\n      <td>0</td>\n      <td>60</td>\n      <td>81</td>\n      <td>199</td>\n    </tr>\n    <tr>\n      <td>9</td>\n      <td>8</td>\n      <td>88</td>\n      <td>13</td>\n      <td>47</td>\n      <td>72</td>\n      <td>228</td>\n    </tr>\n    <tr>\n      <td>10</td>\n      <td>30</td>\n      <td>71</td>\n      <td>3</td>\n      <td>70</td>\n      <td>21</td>\n      <td>195</td>\n    </tr>\n  </tbody>\n</table>\n</div>"
     },
     "metadata": {},
     "execution_count": 14
    }
   ],
   "source": [
    "# Inclusão de colunas\n",
    "df[\"Total\"] = df.A + df.B + df.C + df.D + df.E\n",
    "df"
   ]
  },
  {
   "cell_type": "code",
   "execution_count": 16,
   "metadata": {},
   "outputs": [
    {
     "output_type": "stream",
     "name": "stdout",
     "text": "A         358\nB         455\nC         451\nD         453\nE         450\nTotal    2167\ndtype: int64\n"
    },
    {
     "output_type": "execute_result",
     "data": {
      "text/plain": "pandas.core.series.Series"
     },
     "metadata": {},
     "execution_count": 16
    }
   ],
   "source": [
    "# Somatório de cada coluna\n",
    "print(df.sum())\n",
    "type(df.sum())"
   ]
  },
  {
   "cell_type": "code",
   "execution_count": 17,
   "metadata": {},
   "outputs": [
    {
     "output_type": "execute_result",
     "data": {
      "text/plain": "A         35.8\nB         45.5\nC         45.1\nD         45.3\nE         45.0\nTotal    216.7\ndtype: float64"
     },
     "metadata": {},
     "execution_count": 17
    }
   ],
   "source": [
    "# Média aritmética de cada coluna\n",
    "df.mean()"
   ]
  },
  {
   "cell_type": "code",
   "execution_count": 18,
   "metadata": {},
   "outputs": [
    {
     "output_type": "execute_result",
     "data": {
      "text/plain": "         A    B    C    D    E  Total\nTotal  358  455  451  453  450   2167",
      "text/html": "<div>\n<style scoped>\n    .dataframe tbody tr th:only-of-type {\n        vertical-align: middle;\n    }\n\n    .dataframe tbody tr th {\n        vertical-align: top;\n    }\n\n    .dataframe thead th {\n        text-align: right;\n    }\n</style>\n<table border=\"1\" class=\"dataframe\">\n  <thead>\n    <tr style=\"text-align: right;\">\n      <th></th>\n      <th>A</th>\n      <th>B</th>\n      <th>C</th>\n      <th>D</th>\n      <th>E</th>\n      <th>Total</th>\n    </tr>\n  </thead>\n  <tbody>\n    <tr>\n      <td>Total</td>\n      <td>358</td>\n      <td>455</td>\n      <td>451</td>\n      <td>453</td>\n      <td>450</td>\n      <td>2167</td>\n    </tr>\n  </tbody>\n</table>\n</div>"
     },
     "metadata": {},
     "execution_count": 18
    }
   ],
   "source": [
    "# Adicionando um nova linha com o somatório\n",
    "tot_coluna = pd.DataFrame(np.array(df.sum()).reshape(1,6), index=['Total'], columns=df.columns)\n",
    "tot_coluna"
   ]
  },
  {
   "cell_type": "code",
   "execution_count": 19,
   "metadata": {},
   "outputs": [
    {
     "output_type": "execute_result",
     "data": {
      "text/plain": "         A    B    C    D    E  Total\n1       37   12   72    9   75    205\n2        5   79   64   16    1    165\n3       76   71    6   25   50    228\n4       20   18   84   11   28    161\n5       29   14   50   68   87    248\n6       87   94   96   86   13    376\n7        9    7   63   61   22    162\n8       57    1    0   60   81    199\n9        8   88   13   47   72    228\n10      30   71    3   70   21    195\nTotal  358  455  451  453  450   2167",
      "text/html": "<div>\n<style scoped>\n    .dataframe tbody tr th:only-of-type {\n        vertical-align: middle;\n    }\n\n    .dataframe tbody tr th {\n        vertical-align: top;\n    }\n\n    .dataframe thead th {\n        text-align: right;\n    }\n</style>\n<table border=\"1\" class=\"dataframe\">\n  <thead>\n    <tr style=\"text-align: right;\">\n      <th></th>\n      <th>A</th>\n      <th>B</th>\n      <th>C</th>\n      <th>D</th>\n      <th>E</th>\n      <th>Total</th>\n    </tr>\n  </thead>\n  <tbody>\n    <tr>\n      <td>1</td>\n      <td>37</td>\n      <td>12</td>\n      <td>72</td>\n      <td>9</td>\n      <td>75</td>\n      <td>205</td>\n    </tr>\n    <tr>\n      <td>2</td>\n      <td>5</td>\n      <td>79</td>\n      <td>64</td>\n      <td>16</td>\n      <td>1</td>\n      <td>165</td>\n    </tr>\n    <tr>\n      <td>3</td>\n      <td>76</td>\n      <td>71</td>\n      <td>6</td>\n      <td>25</td>\n      <td>50</td>\n      <td>228</td>\n    </tr>\n    <tr>\n      <td>4</td>\n      <td>20</td>\n      <td>18</td>\n      <td>84</td>\n      <td>11</td>\n      <td>28</td>\n      <td>161</td>\n    </tr>\n    <tr>\n      <td>5</td>\n      <td>29</td>\n      <td>14</td>\n      <td>50</td>\n      <td>68</td>\n      <td>87</td>\n      <td>248</td>\n    </tr>\n    <tr>\n      <td>6</td>\n      <td>87</td>\n      <td>94</td>\n      <td>96</td>\n      <td>86</td>\n      <td>13</td>\n      <td>376</td>\n    </tr>\n    <tr>\n      <td>7</td>\n      <td>9</td>\n      <td>7</td>\n      <td>63</td>\n      <td>61</td>\n      <td>22</td>\n      <td>162</td>\n    </tr>\n    <tr>\n      <td>8</td>\n      <td>57</td>\n      <td>1</td>\n      <td>0</td>\n      <td>60</td>\n      <td>81</td>\n      <td>199</td>\n    </tr>\n    <tr>\n      <td>9</td>\n      <td>8</td>\n      <td>88</td>\n      <td>13</td>\n      <td>47</td>\n      <td>72</td>\n      <td>228</td>\n    </tr>\n    <tr>\n      <td>10</td>\n      <td>30</td>\n      <td>71</td>\n      <td>3</td>\n      <td>70</td>\n      <td>21</td>\n      <td>195</td>\n    </tr>\n    <tr>\n      <td>Total</td>\n      <td>358</td>\n      <td>455</td>\n      <td>451</td>\n      <td>453</td>\n      <td>450</td>\n      <td>2167</td>\n    </tr>\n  </tbody>\n</table>\n</div>"
     },
     "metadata": {},
     "execution_count": 19
    }
   ],
   "source": [
    "# Concatenando o DataFrame tot_coluna com o DataFrame df\n",
    "df2 = df.append(tot_coluna)\n",
    "df2"
   ]
  },
  {
   "cell_type": "code",
   "execution_count": 20,
   "metadata": {},
   "outputs": [
    {
     "output_type": "execute_result",
     "data": {
      "text/plain": "        A      B      C      D      E   Total\n0    37.0   12.0   72.0    9.0   75.0   205.0\n1     5.0   79.0   64.0   16.0    1.0   165.0\n2    76.0   71.0    6.0   25.0   50.0   228.0\n3    20.0   18.0   84.0   11.0   28.0   161.0\n4    29.0   14.0   50.0   68.0   87.0   248.0\n5    87.0   94.0   96.0   86.0   13.0   376.0\n6     9.0    7.0   63.0   61.0   22.0   162.0\n7    57.0    1.0    0.0   60.0   81.0   199.0\n8     8.0   88.0   13.0   47.0   72.0   228.0\n9    30.0   71.0    3.0   70.0   21.0   195.0\n10  358.0  455.0  451.0  453.0  450.0  2167.0\n11   35.8   45.5   45.1   45.3   45.0   216.7",
      "text/html": "<div>\n<style scoped>\n    .dataframe tbody tr th:only-of-type {\n        vertical-align: middle;\n    }\n\n    .dataframe tbody tr th {\n        vertical-align: top;\n    }\n\n    .dataframe thead th {\n        text-align: right;\n    }\n</style>\n<table border=\"1\" class=\"dataframe\">\n  <thead>\n    <tr style=\"text-align: right;\">\n      <th></th>\n      <th>A</th>\n      <th>B</th>\n      <th>C</th>\n      <th>D</th>\n      <th>E</th>\n      <th>Total</th>\n    </tr>\n  </thead>\n  <tbody>\n    <tr>\n      <td>0</td>\n      <td>37.0</td>\n      <td>12.0</td>\n      <td>72.0</td>\n      <td>9.0</td>\n      <td>75.0</td>\n      <td>205.0</td>\n    </tr>\n    <tr>\n      <td>1</td>\n      <td>5.0</td>\n      <td>79.0</td>\n      <td>64.0</td>\n      <td>16.0</td>\n      <td>1.0</td>\n      <td>165.0</td>\n    </tr>\n    <tr>\n      <td>2</td>\n      <td>76.0</td>\n      <td>71.0</td>\n      <td>6.0</td>\n      <td>25.0</td>\n      <td>50.0</td>\n      <td>228.0</td>\n    </tr>\n    <tr>\n      <td>3</td>\n      <td>20.0</td>\n      <td>18.0</td>\n      <td>84.0</td>\n      <td>11.0</td>\n      <td>28.0</td>\n      <td>161.0</td>\n    </tr>\n    <tr>\n      <td>4</td>\n      <td>29.0</td>\n      <td>14.0</td>\n      <td>50.0</td>\n      <td>68.0</td>\n      <td>87.0</td>\n      <td>248.0</td>\n    </tr>\n    <tr>\n      <td>5</td>\n      <td>87.0</td>\n      <td>94.0</td>\n      <td>96.0</td>\n      <td>86.0</td>\n      <td>13.0</td>\n      <td>376.0</td>\n    </tr>\n    <tr>\n      <td>6</td>\n      <td>9.0</td>\n      <td>7.0</td>\n      <td>63.0</td>\n      <td>61.0</td>\n      <td>22.0</td>\n      <td>162.0</td>\n    </tr>\n    <tr>\n      <td>7</td>\n      <td>57.0</td>\n      <td>1.0</td>\n      <td>0.0</td>\n      <td>60.0</td>\n      <td>81.0</td>\n      <td>199.0</td>\n    </tr>\n    <tr>\n      <td>8</td>\n      <td>8.0</td>\n      <td>88.0</td>\n      <td>13.0</td>\n      <td>47.0</td>\n      <td>72.0</td>\n      <td>228.0</td>\n    </tr>\n    <tr>\n      <td>9</td>\n      <td>30.0</td>\n      <td>71.0</td>\n      <td>3.0</td>\n      <td>70.0</td>\n      <td>21.0</td>\n      <td>195.0</td>\n    </tr>\n    <tr>\n      <td>10</td>\n      <td>358.0</td>\n      <td>455.0</td>\n      <td>451.0</td>\n      <td>453.0</td>\n      <td>450.0</td>\n      <td>2167.0</td>\n    </tr>\n    <tr>\n      <td>11</td>\n      <td>35.8</td>\n      <td>45.5</td>\n      <td>45.1</td>\n      <td>45.3</td>\n      <td>45.0</td>\n      <td>216.7</td>\n    </tr>\n  </tbody>\n</table>\n</div>"
     },
     "metadata": {},
     "execution_count": 20
    }
   ],
   "source": [
    "# Outra forma de inserir uma nova linha seria ignorar os rótulos (índices) das linhas\n",
    "df3 = df2.append(df.mean(), ignore_index = True)\n",
    "df3"
   ]
  },
  {
   "cell_type": "code",
   "execution_count": 21,
   "metadata": {},
   "outputs": [
    {
     "output_type": "execute_result",
     "data": {
      "text/plain": "     A   B   C   D   E\n1   37  12  72   9  75\n2    5  79  64  16   1\n3   76  71   6  25  50\n4   20  18  84  11  28\n5   29  14  50  68  87\n6   87  94  96  86  13\n7    9   7  63  61  22\n8   57   1   0  60  81\n9    8  88  13  47  72\n10  30  71   3  70  21",
      "text/html": "<div>\n<style scoped>\n    .dataframe tbody tr th:only-of-type {\n        vertical-align: middle;\n    }\n\n    .dataframe tbody tr th {\n        vertical-align: top;\n    }\n\n    .dataframe thead th {\n        text-align: right;\n    }\n</style>\n<table border=\"1\" class=\"dataframe\">\n  <thead>\n    <tr style=\"text-align: right;\">\n      <th></th>\n      <th>A</th>\n      <th>B</th>\n      <th>C</th>\n      <th>D</th>\n      <th>E</th>\n    </tr>\n  </thead>\n  <tbody>\n    <tr>\n      <td>1</td>\n      <td>37</td>\n      <td>12</td>\n      <td>72</td>\n      <td>9</td>\n      <td>75</td>\n    </tr>\n    <tr>\n      <td>2</td>\n      <td>5</td>\n      <td>79</td>\n      <td>64</td>\n      <td>16</td>\n      <td>1</td>\n    </tr>\n    <tr>\n      <td>3</td>\n      <td>76</td>\n      <td>71</td>\n      <td>6</td>\n      <td>25</td>\n      <td>50</td>\n    </tr>\n    <tr>\n      <td>4</td>\n      <td>20</td>\n      <td>18</td>\n      <td>84</td>\n      <td>11</td>\n      <td>28</td>\n    </tr>\n    <tr>\n      <td>5</td>\n      <td>29</td>\n      <td>14</td>\n      <td>50</td>\n      <td>68</td>\n      <td>87</td>\n    </tr>\n    <tr>\n      <td>6</td>\n      <td>87</td>\n      <td>94</td>\n      <td>96</td>\n      <td>86</td>\n      <td>13</td>\n    </tr>\n    <tr>\n      <td>7</td>\n      <td>9</td>\n      <td>7</td>\n      <td>63</td>\n      <td>61</td>\n      <td>22</td>\n    </tr>\n    <tr>\n      <td>8</td>\n      <td>57</td>\n      <td>1</td>\n      <td>0</td>\n      <td>60</td>\n      <td>81</td>\n    </tr>\n    <tr>\n      <td>9</td>\n      <td>8</td>\n      <td>88</td>\n      <td>13</td>\n      <td>47</td>\n      <td>72</td>\n    </tr>\n    <tr>\n      <td>10</td>\n      <td>30</td>\n      <td>71</td>\n      <td>3</td>\n      <td>70</td>\n      <td>21</td>\n    </tr>\n  </tbody>\n</table>\n</div>"
     },
     "metadata": {},
     "execution_count": 21
    }
   ],
   "source": [
    "# Exclusão de colunas usando o drop\n",
    "df4 = df.drop(\"Total\", axis=1) # axis = 1, excluir a coluna\n",
    "df4"
   ]
  },
  {
   "cell_type": "code",
   "execution_count": 22,
   "metadata": {},
   "outputs": [
    {
     "output_type": "execute_result",
     "data": {
      "text/plain": "     A   B   C   D   E  Total\n1   37  12  72   9  75    205\n2    5  79  64  16   1    165\n3   76  71   6  25  50    228\n4   20  18  84  11  28    161\n5   29  14  50  68  87    248\n6   87  94  96  86  13    376\n7    9   7  63  61  22    162\n8   57   1   0  60  81    199\n9    8  88  13  47  72    228\n10  30  71   3  70  21    195",
      "text/html": "<div>\n<style scoped>\n    .dataframe tbody tr th:only-of-type {\n        vertical-align: middle;\n    }\n\n    .dataframe tbody tr th {\n        vertical-align: top;\n    }\n\n    .dataframe thead th {\n        text-align: right;\n    }\n</style>\n<table border=\"1\" class=\"dataframe\">\n  <thead>\n    <tr style=\"text-align: right;\">\n      <th></th>\n      <th>A</th>\n      <th>B</th>\n      <th>C</th>\n      <th>D</th>\n      <th>E</th>\n      <th>Total</th>\n    </tr>\n  </thead>\n  <tbody>\n    <tr>\n      <td>1</td>\n      <td>37</td>\n      <td>12</td>\n      <td>72</td>\n      <td>9</td>\n      <td>75</td>\n      <td>205</td>\n    </tr>\n    <tr>\n      <td>2</td>\n      <td>5</td>\n      <td>79</td>\n      <td>64</td>\n      <td>16</td>\n      <td>1</td>\n      <td>165</td>\n    </tr>\n    <tr>\n      <td>3</td>\n      <td>76</td>\n      <td>71</td>\n      <td>6</td>\n      <td>25</td>\n      <td>50</td>\n      <td>228</td>\n    </tr>\n    <tr>\n      <td>4</td>\n      <td>20</td>\n      <td>18</td>\n      <td>84</td>\n      <td>11</td>\n      <td>28</td>\n      <td>161</td>\n    </tr>\n    <tr>\n      <td>5</td>\n      <td>29</td>\n      <td>14</td>\n      <td>50</td>\n      <td>68</td>\n      <td>87</td>\n      <td>248</td>\n    </tr>\n    <tr>\n      <td>6</td>\n      <td>87</td>\n      <td>94</td>\n      <td>96</td>\n      <td>86</td>\n      <td>13</td>\n      <td>376</td>\n    </tr>\n    <tr>\n      <td>7</td>\n      <td>9</td>\n      <td>7</td>\n      <td>63</td>\n      <td>61</td>\n      <td>22</td>\n      <td>162</td>\n    </tr>\n    <tr>\n      <td>8</td>\n      <td>57</td>\n      <td>1</td>\n      <td>0</td>\n      <td>60</td>\n      <td>81</td>\n      <td>199</td>\n    </tr>\n    <tr>\n      <td>9</td>\n      <td>8</td>\n      <td>88</td>\n      <td>13</td>\n      <td>47</td>\n      <td>72</td>\n      <td>228</td>\n    </tr>\n    <tr>\n      <td>10</td>\n      <td>30</td>\n      <td>71</td>\n      <td>3</td>\n      <td>70</td>\n      <td>21</td>\n      <td>195</td>\n    </tr>\n  </tbody>\n</table>\n</div>"
     },
     "metadata": {},
     "execution_count": 22
    }
   ],
   "source": [
    "# df mantém a coluna \"Total\"\n",
    "df"
   ]
  },
  {
   "cell_type": "code",
   "execution_count": 23,
   "metadata": {},
   "outputs": [
    {
     "output_type": "execute_result",
     "data": {
      "text/plain": "     A   B   C   D   E\n1   37  12  72   9  75\n2    5  79  64  16   1\n3   76  71   6  25  50\n4   20  18  84  11  28\n5   29  14  50  68  87\n6   87  94  96  86  13\n7    9   7  63  61  22\n8   57   1   0  60  81\n9    8  88  13  47  72\n10  30  71   3  70  21",
      "text/html": "<div>\n<style scoped>\n    .dataframe tbody tr th:only-of-type {\n        vertical-align: middle;\n    }\n\n    .dataframe tbody tr th {\n        vertical-align: top;\n    }\n\n    .dataframe thead th {\n        text-align: right;\n    }\n</style>\n<table border=\"1\" class=\"dataframe\">\n  <thead>\n    <tr style=\"text-align: right;\">\n      <th></th>\n      <th>A</th>\n      <th>B</th>\n      <th>C</th>\n      <th>D</th>\n      <th>E</th>\n    </tr>\n  </thead>\n  <tbody>\n    <tr>\n      <td>1</td>\n      <td>37</td>\n      <td>12</td>\n      <td>72</td>\n      <td>9</td>\n      <td>75</td>\n    </tr>\n    <tr>\n      <td>2</td>\n      <td>5</td>\n      <td>79</td>\n      <td>64</td>\n      <td>16</td>\n      <td>1</td>\n    </tr>\n    <tr>\n      <td>3</td>\n      <td>76</td>\n      <td>71</td>\n      <td>6</td>\n      <td>25</td>\n      <td>50</td>\n    </tr>\n    <tr>\n      <td>4</td>\n      <td>20</td>\n      <td>18</td>\n      <td>84</td>\n      <td>11</td>\n      <td>28</td>\n    </tr>\n    <tr>\n      <td>5</td>\n      <td>29</td>\n      <td>14</td>\n      <td>50</td>\n      <td>68</td>\n      <td>87</td>\n    </tr>\n    <tr>\n      <td>6</td>\n      <td>87</td>\n      <td>94</td>\n      <td>96</td>\n      <td>86</td>\n      <td>13</td>\n    </tr>\n    <tr>\n      <td>7</td>\n      <td>9</td>\n      <td>7</td>\n      <td>63</td>\n      <td>61</td>\n      <td>22</td>\n    </tr>\n    <tr>\n      <td>8</td>\n      <td>57</td>\n      <td>1</td>\n      <td>0</td>\n      <td>60</td>\n      <td>81</td>\n    </tr>\n    <tr>\n      <td>9</td>\n      <td>8</td>\n      <td>88</td>\n      <td>13</td>\n      <td>47</td>\n      <td>72</td>\n    </tr>\n    <tr>\n      <td>10</td>\n      <td>30</td>\n      <td>71</td>\n      <td>3</td>\n      <td>70</td>\n      <td>21</td>\n    </tr>\n  </tbody>\n</table>\n</div>"
     },
     "metadata": {},
     "execution_count": 23
    }
   ],
   "source": [
    "# Para excluir a coluna \"Total\" de df, é necessário usar o parâmetro inplace\n",
    "df.drop(\"Total\", axis = 1, inplace=True) # ou df = df.drop(\"Total\", axis=1)\n",
    "df"
   ]
  },
  {
   "cell_type": "code",
   "execution_count": 24,
   "metadata": {},
   "outputs": [
    {
     "output_type": "execute_result",
     "data": {
      "text/plain": "         A    B    C    D    E  Total\n1       37   12   72    9   75    205\n2        5   79   64   16    1    165\n3       76   71    6   25   50    228\n4       20   18   84   11   28    161\n5       29   14   50   68   87    248\n6       87   94   96   86   13    376\n7        9    7   63   61   22    162\n8       57    1    0   60   81    199\n9        8   88   13   47   72    228\nTotal  358  455  451  453  450   2167",
      "text/html": "<div>\n<style scoped>\n    .dataframe tbody tr th:only-of-type {\n        vertical-align: middle;\n    }\n\n    .dataframe tbody tr th {\n        vertical-align: top;\n    }\n\n    .dataframe thead th {\n        text-align: right;\n    }\n</style>\n<table border=\"1\" class=\"dataframe\">\n  <thead>\n    <tr style=\"text-align: right;\">\n      <th></th>\n      <th>A</th>\n      <th>B</th>\n      <th>C</th>\n      <th>D</th>\n      <th>E</th>\n      <th>Total</th>\n    </tr>\n  </thead>\n  <tbody>\n    <tr>\n      <td>1</td>\n      <td>37</td>\n      <td>12</td>\n      <td>72</td>\n      <td>9</td>\n      <td>75</td>\n      <td>205</td>\n    </tr>\n    <tr>\n      <td>2</td>\n      <td>5</td>\n      <td>79</td>\n      <td>64</td>\n      <td>16</td>\n      <td>1</td>\n      <td>165</td>\n    </tr>\n    <tr>\n      <td>3</td>\n      <td>76</td>\n      <td>71</td>\n      <td>6</td>\n      <td>25</td>\n      <td>50</td>\n      <td>228</td>\n    </tr>\n    <tr>\n      <td>4</td>\n      <td>20</td>\n      <td>18</td>\n      <td>84</td>\n      <td>11</td>\n      <td>28</td>\n      <td>161</td>\n    </tr>\n    <tr>\n      <td>5</td>\n      <td>29</td>\n      <td>14</td>\n      <td>50</td>\n      <td>68</td>\n      <td>87</td>\n      <td>248</td>\n    </tr>\n    <tr>\n      <td>6</td>\n      <td>87</td>\n      <td>94</td>\n      <td>96</td>\n      <td>86</td>\n      <td>13</td>\n      <td>376</td>\n    </tr>\n    <tr>\n      <td>7</td>\n      <td>9</td>\n      <td>7</td>\n      <td>63</td>\n      <td>61</td>\n      <td>22</td>\n      <td>162</td>\n    </tr>\n    <tr>\n      <td>8</td>\n      <td>57</td>\n      <td>1</td>\n      <td>0</td>\n      <td>60</td>\n      <td>81</td>\n      <td>199</td>\n    </tr>\n    <tr>\n      <td>9</td>\n      <td>8</td>\n      <td>88</td>\n      <td>13</td>\n      <td>47</td>\n      <td>72</td>\n      <td>228</td>\n    </tr>\n    <tr>\n      <td>Total</td>\n      <td>358</td>\n      <td>455</td>\n      <td>451</td>\n      <td>453</td>\n      <td>450</td>\n      <td>2167</td>\n    </tr>\n  </tbody>\n</table>\n</div>"
     },
     "metadata": {},
     "execution_count": 24
    }
   ],
   "source": [
    "# Exclusão de uma linha específica\n",
    "df2.drop(10, inplace=True) # axis por padrão é 0 (eixo das linhas)\n",
    "df2"
   ]
  },
  {
   "cell_type": "code",
   "execution_count": 25,
   "metadata": {},
   "outputs": [
    {
     "output_type": "execute_result",
     "data": {
      "text/plain": "         A    B    C    D    E  Total\n1       37   12   72    9   75    205\n2        5   79   64   16    1    165\n4       20   18   84   11   28    161\n5       29   14   50   68   87    248\n6       87   94   96   86   13    376\n9        8   88   13   47   72    228\nTotal  358  455  451  453  450   2167",
      "text/html": "<div>\n<style scoped>\n    .dataframe tbody tr th:only-of-type {\n        vertical-align: middle;\n    }\n\n    .dataframe tbody tr th {\n        vertical-align: top;\n    }\n\n    .dataframe thead th {\n        text-align: right;\n    }\n</style>\n<table border=\"1\" class=\"dataframe\">\n  <thead>\n    <tr style=\"text-align: right;\">\n      <th></th>\n      <th>A</th>\n      <th>B</th>\n      <th>C</th>\n      <th>D</th>\n      <th>E</th>\n      <th>Total</th>\n    </tr>\n  </thead>\n  <tbody>\n    <tr>\n      <td>1</td>\n      <td>37</td>\n      <td>12</td>\n      <td>72</td>\n      <td>9</td>\n      <td>75</td>\n      <td>205</td>\n    </tr>\n    <tr>\n      <td>2</td>\n      <td>5</td>\n      <td>79</td>\n      <td>64</td>\n      <td>16</td>\n      <td>1</td>\n      <td>165</td>\n    </tr>\n    <tr>\n      <td>4</td>\n      <td>20</td>\n      <td>18</td>\n      <td>84</td>\n      <td>11</td>\n      <td>28</td>\n      <td>161</td>\n    </tr>\n    <tr>\n      <td>5</td>\n      <td>29</td>\n      <td>14</td>\n      <td>50</td>\n      <td>68</td>\n      <td>87</td>\n      <td>248</td>\n    </tr>\n    <tr>\n      <td>6</td>\n      <td>87</td>\n      <td>94</td>\n      <td>96</td>\n      <td>86</td>\n      <td>13</td>\n      <td>376</td>\n    </tr>\n    <tr>\n      <td>9</td>\n      <td>8</td>\n      <td>88</td>\n      <td>13</td>\n      <td>47</td>\n      <td>72</td>\n      <td>228</td>\n    </tr>\n    <tr>\n      <td>Total</td>\n      <td>358</td>\n      <td>455</td>\n      <td>451</td>\n      <td>453</td>\n      <td>450</td>\n      <td>2167</td>\n    </tr>\n  </tbody>\n</table>\n</div>"
     },
     "metadata": {},
     "execution_count": 25
    }
   ],
   "source": [
    "# Exclusão de múltiplas linhas\n",
    "df2.drop([3, 7, 8], inplace=True)\n",
    "df2"
   ]
  },
  {
   "cell_type": "code",
   "execution_count": 26,
   "metadata": {},
   "outputs": [
    {
     "output_type": "execute_result",
     "data": {
      "text/plain": "    A   B   C   D   E\n1  37  12  72   9  75\n5  29  14  50  68  87\n6  87  94  96  86  13",
      "text/html": "<div>\n<style scoped>\n    .dataframe tbody tr th:only-of-type {\n        vertical-align: middle;\n    }\n\n    .dataframe tbody tr th {\n        vertical-align: top;\n    }\n\n    .dataframe thead th {\n        text-align: right;\n    }\n</style>\n<table border=\"1\" class=\"dataframe\">\n  <thead>\n    <tr style=\"text-align: right;\">\n      <th></th>\n      <th>A</th>\n      <th>B</th>\n      <th>C</th>\n      <th>D</th>\n      <th>E</th>\n    </tr>\n  </thead>\n  <tbody>\n    <tr>\n      <td>1</td>\n      <td>37</td>\n      <td>12</td>\n      <td>72</td>\n      <td>9</td>\n      <td>75</td>\n    </tr>\n    <tr>\n      <td>5</td>\n      <td>29</td>\n      <td>14</td>\n      <td>50</td>\n      <td>68</td>\n      <td>87</td>\n    </tr>\n    <tr>\n      <td>6</td>\n      <td>87</td>\n      <td>94</td>\n      <td>96</td>\n      <td>86</td>\n      <td>13</td>\n    </tr>\n  </tbody>\n</table>\n</div>"
     },
     "metadata": {},
     "execution_count": 26
    }
   ],
   "source": [
    "# Seleção de linhas\n",
    "# Pelo rótulo da linha\n",
    "df.loc[[1, 5, 6]]"
   ]
  },
  {
   "cell_type": "code",
   "execution_count": 27,
   "metadata": {},
   "outputs": [
    {
     "output_type": "execute_result",
     "data": {
      "text/plain": "    D   E\n1   9  75\n5  68  87\n6  86  13",
      "text/html": "<div>\n<style scoped>\n    .dataframe tbody tr th:only-of-type {\n        vertical-align: middle;\n    }\n\n    .dataframe tbody tr th {\n        vertical-align: top;\n    }\n\n    .dataframe thead th {\n        text-align: right;\n    }\n</style>\n<table border=\"1\" class=\"dataframe\">\n  <thead>\n    <tr style=\"text-align: right;\">\n      <th></th>\n      <th>D</th>\n      <th>E</th>\n    </tr>\n  </thead>\n  <tbody>\n    <tr>\n      <td>1</td>\n      <td>9</td>\n      <td>75</td>\n    </tr>\n    <tr>\n      <td>5</td>\n      <td>68</td>\n      <td>87</td>\n    </tr>\n    <tr>\n      <td>6</td>\n      <td>86</td>\n      <td>13</td>\n    </tr>\n  </tbody>\n</table>\n</div>"
     },
     "metadata": {},
     "execution_count": 27
    }
   ],
   "source": [
    "# Seleção de linhas e colunas através dos rótulos\n",
    "df.loc[[1, 5, 6], [\"D\",\"E\"]]"
   ]
  },
  {
   "cell_type": "code",
   "execution_count": 28,
   "metadata": {},
   "outputs": [
    {
     "output_type": "execute_result",
     "data": {
      "text/plain": "    A   B   C   D   E\n1  37  12  72   9  75\n5  29  14  50  68  87\n6  87  94  96  86  13",
      "text/html": "<div>\n<style scoped>\n    .dataframe tbody tr th:only-of-type {\n        vertical-align: middle;\n    }\n\n    .dataframe tbody tr th {\n        vertical-align: top;\n    }\n\n    .dataframe thead th {\n        text-align: right;\n    }\n</style>\n<table border=\"1\" class=\"dataframe\">\n  <thead>\n    <tr style=\"text-align: right;\">\n      <th></th>\n      <th>A</th>\n      <th>B</th>\n      <th>C</th>\n      <th>D</th>\n      <th>E</th>\n    </tr>\n  </thead>\n  <tbody>\n    <tr>\n      <td>1</td>\n      <td>37</td>\n      <td>12</td>\n      <td>72</td>\n      <td>9</td>\n      <td>75</td>\n    </tr>\n    <tr>\n      <td>5</td>\n      <td>29</td>\n      <td>14</td>\n      <td>50</td>\n      <td>68</td>\n      <td>87</td>\n    </tr>\n    <tr>\n      <td>6</td>\n      <td>87</td>\n      <td>94</td>\n      <td>96</td>\n      <td>86</td>\n      <td>13</td>\n    </tr>\n  </tbody>\n</table>\n</div>"
     },
     "metadata": {},
     "execution_count": 28
    }
   ],
   "source": [
    "# Seleção de linhas\n",
    "# Pelo índice da linha\n",
    "df.iloc[[0, 4, 5]]"
   ]
  },
  {
   "cell_type": "code",
   "execution_count": 29,
   "metadata": {},
   "outputs": [
    {
     "output_type": "execute_result",
     "data": {
      "text/plain": "    D   E\n1   9  75\n5  68  87\n6  86  13",
      "text/html": "<div>\n<style scoped>\n    .dataframe tbody tr th:only-of-type {\n        vertical-align: middle;\n    }\n\n    .dataframe tbody tr th {\n        vertical-align: top;\n    }\n\n    .dataframe thead th {\n        text-align: right;\n    }\n</style>\n<table border=\"1\" class=\"dataframe\">\n  <thead>\n    <tr style=\"text-align: right;\">\n      <th></th>\n      <th>D</th>\n      <th>E</th>\n    </tr>\n  </thead>\n  <tbody>\n    <tr>\n      <td>1</td>\n      <td>9</td>\n      <td>75</td>\n    </tr>\n    <tr>\n      <td>5</td>\n      <td>68</td>\n      <td>87</td>\n    </tr>\n    <tr>\n      <td>6</td>\n      <td>86</td>\n      <td>13</td>\n    </tr>\n  </tbody>\n</table>\n</div>"
     },
     "metadata": {},
     "execution_count": 29
    }
   ],
   "source": [
    "df.iloc[[0, 4, 5], [3,4]] # equivalente a df.loc[[1, 5, 6], [\"D\",\"E\"]]"
   ]
  },
  {
   "cell_type": "code",
   "execution_count": 30,
   "metadata": {},
   "outputs": [
    {
     "output_type": "execute_result",
     "data": {
      "text/plain": "     B   C   D\n10  71   3  70\n9   88  13  47\n8    1   0  60",
      "text/html": "<div>\n<style scoped>\n    .dataframe tbody tr th:only-of-type {\n        vertical-align: middle;\n    }\n\n    .dataframe tbody tr th {\n        vertical-align: top;\n    }\n\n    .dataframe thead th {\n        text-align: right;\n    }\n</style>\n<table border=\"1\" class=\"dataframe\">\n  <thead>\n    <tr style=\"text-align: right;\">\n      <th></th>\n      <th>B</th>\n      <th>C</th>\n      <th>D</th>\n    </tr>\n  </thead>\n  <tbody>\n    <tr>\n      <td>10</td>\n      <td>71</td>\n      <td>3</td>\n      <td>70</td>\n    </tr>\n    <tr>\n      <td>9</td>\n      <td>88</td>\n      <td>13</td>\n      <td>47</td>\n    </tr>\n    <tr>\n      <td>8</td>\n      <td>1</td>\n      <td>0</td>\n      <td>60</td>\n    </tr>\n  </tbody>\n</table>\n</div>"
     },
     "metadata": {},
     "execution_count": 30
    }
   ],
   "source": [
    "df.iloc[9:6:-1, 1:4] # usando notação do numpy - Linhas 9 a 7 (invertida), colunas 1 a 3"
   ]
  },
  {
   "cell_type": "markdown",
   "metadata": {},
   "source": [
    "### Exercitando"
   ]
  },
  {
   "cell_type": "code",
   "execution_count": 67,
   "metadata": {},
   "outputs": [
    {
     "output_type": "execute_result",
     "data": {
      "text/plain": "     A   B   C   D   E   F\n1    1   2   3   4   5   6\n2    7   8   9  10  11  12\n3   13  14  15  16  17  18\n4   19  20  21  22  23  24\n5   25  26  27  28  29  30\n6   31  32  33  34  35  36\n7   37  38  39  40  41  42\n8   43  44  45  46  47  48\n9   49  50  51  52  53  54\n10  55  56  57  58  59  60\n11  61  62  63  64  65  66\n12  67  68  69  70  71  72",
      "text/html": "<div>\n<style scoped>\n    .dataframe tbody tr th:only-of-type {\n        vertical-align: middle;\n    }\n\n    .dataframe tbody tr th {\n        vertical-align: top;\n    }\n\n    .dataframe thead th {\n        text-align: right;\n    }\n</style>\n<table border=\"1\" class=\"dataframe\">\n  <thead>\n    <tr style=\"text-align: right;\">\n      <th></th>\n      <th>A</th>\n      <th>B</th>\n      <th>C</th>\n      <th>D</th>\n      <th>E</th>\n      <th>F</th>\n    </tr>\n  </thead>\n  <tbody>\n    <tr>\n      <td>1</td>\n      <td>1</td>\n      <td>2</td>\n      <td>3</td>\n      <td>4</td>\n      <td>5</td>\n      <td>6</td>\n    </tr>\n    <tr>\n      <td>2</td>\n      <td>7</td>\n      <td>8</td>\n      <td>9</td>\n      <td>10</td>\n      <td>11</td>\n      <td>12</td>\n    </tr>\n    <tr>\n      <td>3</td>\n      <td>13</td>\n      <td>14</td>\n      <td>15</td>\n      <td>16</td>\n      <td>17</td>\n      <td>18</td>\n    </tr>\n    <tr>\n      <td>4</td>\n      <td>19</td>\n      <td>20</td>\n      <td>21</td>\n      <td>22</td>\n      <td>23</td>\n      <td>24</td>\n    </tr>\n    <tr>\n      <td>5</td>\n      <td>25</td>\n      <td>26</td>\n      <td>27</td>\n      <td>28</td>\n      <td>29</td>\n      <td>30</td>\n    </tr>\n    <tr>\n      <td>6</td>\n      <td>31</td>\n      <td>32</td>\n      <td>33</td>\n      <td>34</td>\n      <td>35</td>\n      <td>36</td>\n    </tr>\n    <tr>\n      <td>7</td>\n      <td>37</td>\n      <td>38</td>\n      <td>39</td>\n      <td>40</td>\n      <td>41</td>\n      <td>42</td>\n    </tr>\n    <tr>\n      <td>8</td>\n      <td>43</td>\n      <td>44</td>\n      <td>45</td>\n      <td>46</td>\n      <td>47</td>\n      <td>48</td>\n    </tr>\n    <tr>\n      <td>9</td>\n      <td>49</td>\n      <td>50</td>\n      <td>51</td>\n      <td>52</td>\n      <td>53</td>\n      <td>54</td>\n    </tr>\n    <tr>\n      <td>10</td>\n      <td>55</td>\n      <td>56</td>\n      <td>57</td>\n      <td>58</td>\n      <td>59</td>\n      <td>60</td>\n    </tr>\n    <tr>\n      <td>11</td>\n      <td>61</td>\n      <td>62</td>\n      <td>63</td>\n      <td>64</td>\n      <td>65</td>\n      <td>66</td>\n    </tr>\n    <tr>\n      <td>12</td>\n      <td>67</td>\n      <td>68</td>\n      <td>69</td>\n      <td>70</td>\n      <td>71</td>\n      <td>72</td>\n    </tr>\n  </tbody>\n</table>\n</div>"
     },
     "metadata": {},
     "execution_count": 67
    }
   ],
   "source": [
    "# Crie o DataFrame dfex com 12 linhas e 6 colunas conforme a saída abaixo\n",
    "dados = np.arange(1,73)\n",
    "dados.shape = (12,6)\n",
    "df_exercicio = pd.DataFrame(data=dados, index=[1,2,3,4,5,6,7,8,9,10,11,12], columns=['A', 'B', 'C', 'D', 'E', 'F'])\n",
    "df_exercicio"
   ]
  },
  {
   "cell_type": "code",
   "execution_count": 68,
   "metadata": {},
   "outputs": [
    {
     "output_type": "execute_result",
     "data": {
      "text/plain": "     A   B   C   D   E   F  SubTotal1\n1    1   2   3   4   5   6          9\n2    7   8   9  10  11  12         27\n3   13  14  15  16  17  18         45\n4   19  20  21  22  23  24         63\n5   25  26  27  28  29  30         81\n6   31  32  33  34  35  36         99\n7   37  38  39  40  41  42        117\n8   43  44  45  46  47  48        135\n9   49  50  51  52  53  54        153\n10  55  56  57  58  59  60        171\n11  61  62  63  64  65  66        189\n12  67  68  69  70  71  72        207",
      "text/html": "<div>\n<style scoped>\n    .dataframe tbody tr th:only-of-type {\n        vertical-align: middle;\n    }\n\n    .dataframe tbody tr th {\n        vertical-align: top;\n    }\n\n    .dataframe thead th {\n        text-align: right;\n    }\n</style>\n<table border=\"1\" class=\"dataframe\">\n  <thead>\n    <tr style=\"text-align: right;\">\n      <th></th>\n      <th>A</th>\n      <th>B</th>\n      <th>C</th>\n      <th>D</th>\n      <th>E</th>\n      <th>F</th>\n      <th>SubTotal1</th>\n    </tr>\n  </thead>\n  <tbody>\n    <tr>\n      <td>1</td>\n      <td>1</td>\n      <td>2</td>\n      <td>3</td>\n      <td>4</td>\n      <td>5</td>\n      <td>6</td>\n      <td>9</td>\n    </tr>\n    <tr>\n      <td>2</td>\n      <td>7</td>\n      <td>8</td>\n      <td>9</td>\n      <td>10</td>\n      <td>11</td>\n      <td>12</td>\n      <td>27</td>\n    </tr>\n    <tr>\n      <td>3</td>\n      <td>13</td>\n      <td>14</td>\n      <td>15</td>\n      <td>16</td>\n      <td>17</td>\n      <td>18</td>\n      <td>45</td>\n    </tr>\n    <tr>\n      <td>4</td>\n      <td>19</td>\n      <td>20</td>\n      <td>21</td>\n      <td>22</td>\n      <td>23</td>\n      <td>24</td>\n      <td>63</td>\n    </tr>\n    <tr>\n      <td>5</td>\n      <td>25</td>\n      <td>26</td>\n      <td>27</td>\n      <td>28</td>\n      <td>29</td>\n      <td>30</td>\n      <td>81</td>\n    </tr>\n    <tr>\n      <td>6</td>\n      <td>31</td>\n      <td>32</td>\n      <td>33</td>\n      <td>34</td>\n      <td>35</td>\n      <td>36</td>\n      <td>99</td>\n    </tr>\n    <tr>\n      <td>7</td>\n      <td>37</td>\n      <td>38</td>\n      <td>39</td>\n      <td>40</td>\n      <td>41</td>\n      <td>42</td>\n      <td>117</td>\n    </tr>\n    <tr>\n      <td>8</td>\n      <td>43</td>\n      <td>44</td>\n      <td>45</td>\n      <td>46</td>\n      <td>47</td>\n      <td>48</td>\n      <td>135</td>\n    </tr>\n    <tr>\n      <td>9</td>\n      <td>49</td>\n      <td>50</td>\n      <td>51</td>\n      <td>52</td>\n      <td>53</td>\n      <td>54</td>\n      <td>153</td>\n    </tr>\n    <tr>\n      <td>10</td>\n      <td>55</td>\n      <td>56</td>\n      <td>57</td>\n      <td>58</td>\n      <td>59</td>\n      <td>60</td>\n      <td>171</td>\n    </tr>\n    <tr>\n      <td>11</td>\n      <td>61</td>\n      <td>62</td>\n      <td>63</td>\n      <td>64</td>\n      <td>65</td>\n      <td>66</td>\n      <td>189</td>\n    </tr>\n    <tr>\n      <td>12</td>\n      <td>67</td>\n      <td>68</td>\n      <td>69</td>\n      <td>70</td>\n      <td>71</td>\n      <td>72</td>\n      <td>207</td>\n    </tr>\n  </tbody>\n</table>\n</div>"
     },
     "metadata": {},
     "execution_count": 68
    }
   ],
   "source": [
    "# Crie a coluna SubTotal1 que será a soma das colunas A, C e E\n",
    "df_exercicio[\"SubTotal1\"] = df_exercicio.A + df_exercicio.C + df_exercicio.E\n",
    "df_exercicio"
   ]
  },
  {
   "cell_type": "code",
   "execution_count": 69,
   "metadata": {},
   "outputs": [
    {
     "output_type": "execute_result",
     "data": {
      "text/plain": "     A   B   C   D   E   F  SubTotal1  SubTotal2\n1    1   2   3   4   5   6          9         12\n2    7   8   9  10  11  12         27         30\n3   13  14  15  16  17  18         45         48\n4   19  20  21  22  23  24         63         66\n5   25  26  27  28  29  30         81         84\n6   31  32  33  34  35  36         99        102\n7   37  38  39  40  41  42        117        120\n8   43  44  45  46  47  48        135        138\n9   49  50  51  52  53  54        153        156\n10  55  56  57  58  59  60        171        174\n11  61  62  63  64  65  66        189        192\n12  67  68  69  70  71  72        207        210",
      "text/html": "<div>\n<style scoped>\n    .dataframe tbody tr th:only-of-type {\n        vertical-align: middle;\n    }\n\n    .dataframe tbody tr th {\n        vertical-align: top;\n    }\n\n    .dataframe thead th {\n        text-align: right;\n    }\n</style>\n<table border=\"1\" class=\"dataframe\">\n  <thead>\n    <tr style=\"text-align: right;\">\n      <th></th>\n      <th>A</th>\n      <th>B</th>\n      <th>C</th>\n      <th>D</th>\n      <th>E</th>\n      <th>F</th>\n      <th>SubTotal1</th>\n      <th>SubTotal2</th>\n    </tr>\n  </thead>\n  <tbody>\n    <tr>\n      <td>1</td>\n      <td>1</td>\n      <td>2</td>\n      <td>3</td>\n      <td>4</td>\n      <td>5</td>\n      <td>6</td>\n      <td>9</td>\n      <td>12</td>\n    </tr>\n    <tr>\n      <td>2</td>\n      <td>7</td>\n      <td>8</td>\n      <td>9</td>\n      <td>10</td>\n      <td>11</td>\n      <td>12</td>\n      <td>27</td>\n      <td>30</td>\n    </tr>\n    <tr>\n      <td>3</td>\n      <td>13</td>\n      <td>14</td>\n      <td>15</td>\n      <td>16</td>\n      <td>17</td>\n      <td>18</td>\n      <td>45</td>\n      <td>48</td>\n    </tr>\n    <tr>\n      <td>4</td>\n      <td>19</td>\n      <td>20</td>\n      <td>21</td>\n      <td>22</td>\n      <td>23</td>\n      <td>24</td>\n      <td>63</td>\n      <td>66</td>\n    </tr>\n    <tr>\n      <td>5</td>\n      <td>25</td>\n      <td>26</td>\n      <td>27</td>\n      <td>28</td>\n      <td>29</td>\n      <td>30</td>\n      <td>81</td>\n      <td>84</td>\n    </tr>\n    <tr>\n      <td>6</td>\n      <td>31</td>\n      <td>32</td>\n      <td>33</td>\n      <td>34</td>\n      <td>35</td>\n      <td>36</td>\n      <td>99</td>\n      <td>102</td>\n    </tr>\n    <tr>\n      <td>7</td>\n      <td>37</td>\n      <td>38</td>\n      <td>39</td>\n      <td>40</td>\n      <td>41</td>\n      <td>42</td>\n      <td>117</td>\n      <td>120</td>\n    </tr>\n    <tr>\n      <td>8</td>\n      <td>43</td>\n      <td>44</td>\n      <td>45</td>\n      <td>46</td>\n      <td>47</td>\n      <td>48</td>\n      <td>135</td>\n      <td>138</td>\n    </tr>\n    <tr>\n      <td>9</td>\n      <td>49</td>\n      <td>50</td>\n      <td>51</td>\n      <td>52</td>\n      <td>53</td>\n      <td>54</td>\n      <td>153</td>\n      <td>156</td>\n    </tr>\n    <tr>\n      <td>10</td>\n      <td>55</td>\n      <td>56</td>\n      <td>57</td>\n      <td>58</td>\n      <td>59</td>\n      <td>60</td>\n      <td>171</td>\n      <td>174</td>\n    </tr>\n    <tr>\n      <td>11</td>\n      <td>61</td>\n      <td>62</td>\n      <td>63</td>\n      <td>64</td>\n      <td>65</td>\n      <td>66</td>\n      <td>189</td>\n      <td>192</td>\n    </tr>\n    <tr>\n      <td>12</td>\n      <td>67</td>\n      <td>68</td>\n      <td>69</td>\n      <td>70</td>\n      <td>71</td>\n      <td>72</td>\n      <td>207</td>\n      <td>210</td>\n    </tr>\n  </tbody>\n</table>\n</div>"
     },
     "metadata": {},
     "execution_count": 69
    }
   ],
   "source": [
    "# Crie a coluna SubTotal2 que será a soma das colunas B, D e F\n",
    "df_exercicio[\"SubTotal2\"] = df_exercicio.B + df_exercicio.D + df_exercicio.F\n",
    "df_exercicio"
   ]
  },
  {
   "cell_type": "code",
   "execution_count": 70,
   "metadata": {},
   "outputs": [
    {
     "output_type": "execute_result",
     "data": {
      "text/plain": "     A   B   C   D   E   F  SubTotal1  SubTotal2  Total\n1    1   2   3   4   5   6          9         12     21\n2    7   8   9  10  11  12         27         30     57\n3   13  14  15  16  17  18         45         48     93\n4   19  20  21  22  23  24         63         66    129\n5   25  26  27  28  29  30         81         84    165\n6   31  32  33  34  35  36         99        102    201\n7   37  38  39  40  41  42        117        120    237\n8   43  44  45  46  47  48        135        138    273\n9   49  50  51  52  53  54        153        156    309\n10  55  56  57  58  59  60        171        174    345\n11  61  62  63  64  65  66        189        192    381\n12  67  68  69  70  71  72        207        210    417",
      "text/html": "<div>\n<style scoped>\n    .dataframe tbody tr th:only-of-type {\n        vertical-align: middle;\n    }\n\n    .dataframe tbody tr th {\n        vertical-align: top;\n    }\n\n    .dataframe thead th {\n        text-align: right;\n    }\n</style>\n<table border=\"1\" class=\"dataframe\">\n  <thead>\n    <tr style=\"text-align: right;\">\n      <th></th>\n      <th>A</th>\n      <th>B</th>\n      <th>C</th>\n      <th>D</th>\n      <th>E</th>\n      <th>F</th>\n      <th>SubTotal1</th>\n      <th>SubTotal2</th>\n      <th>Total</th>\n    </tr>\n  </thead>\n  <tbody>\n    <tr>\n      <td>1</td>\n      <td>1</td>\n      <td>2</td>\n      <td>3</td>\n      <td>4</td>\n      <td>5</td>\n      <td>6</td>\n      <td>9</td>\n      <td>12</td>\n      <td>21</td>\n    </tr>\n    <tr>\n      <td>2</td>\n      <td>7</td>\n      <td>8</td>\n      <td>9</td>\n      <td>10</td>\n      <td>11</td>\n      <td>12</td>\n      <td>27</td>\n      <td>30</td>\n      <td>57</td>\n    </tr>\n    <tr>\n      <td>3</td>\n      <td>13</td>\n      <td>14</td>\n      <td>15</td>\n      <td>16</td>\n      <td>17</td>\n      <td>18</td>\n      <td>45</td>\n      <td>48</td>\n      <td>93</td>\n    </tr>\n    <tr>\n      <td>4</td>\n      <td>19</td>\n      <td>20</td>\n      <td>21</td>\n      <td>22</td>\n      <td>23</td>\n      <td>24</td>\n      <td>63</td>\n      <td>66</td>\n      <td>129</td>\n    </tr>\n    <tr>\n      <td>5</td>\n      <td>25</td>\n      <td>26</td>\n      <td>27</td>\n      <td>28</td>\n      <td>29</td>\n      <td>30</td>\n      <td>81</td>\n      <td>84</td>\n      <td>165</td>\n    </tr>\n    <tr>\n      <td>6</td>\n      <td>31</td>\n      <td>32</td>\n      <td>33</td>\n      <td>34</td>\n      <td>35</td>\n      <td>36</td>\n      <td>99</td>\n      <td>102</td>\n      <td>201</td>\n    </tr>\n    <tr>\n      <td>7</td>\n      <td>37</td>\n      <td>38</td>\n      <td>39</td>\n      <td>40</td>\n      <td>41</td>\n      <td>42</td>\n      <td>117</td>\n      <td>120</td>\n      <td>237</td>\n    </tr>\n    <tr>\n      <td>8</td>\n      <td>43</td>\n      <td>44</td>\n      <td>45</td>\n      <td>46</td>\n      <td>47</td>\n      <td>48</td>\n      <td>135</td>\n      <td>138</td>\n      <td>273</td>\n    </tr>\n    <tr>\n      <td>9</td>\n      <td>49</td>\n      <td>50</td>\n      <td>51</td>\n      <td>52</td>\n      <td>53</td>\n      <td>54</td>\n      <td>153</td>\n      <td>156</td>\n      <td>309</td>\n    </tr>\n    <tr>\n      <td>10</td>\n      <td>55</td>\n      <td>56</td>\n      <td>57</td>\n      <td>58</td>\n      <td>59</td>\n      <td>60</td>\n      <td>171</td>\n      <td>174</td>\n      <td>345</td>\n    </tr>\n    <tr>\n      <td>11</td>\n      <td>61</td>\n      <td>62</td>\n      <td>63</td>\n      <td>64</td>\n      <td>65</td>\n      <td>66</td>\n      <td>189</td>\n      <td>192</td>\n      <td>381</td>\n    </tr>\n    <tr>\n      <td>12</td>\n      <td>67</td>\n      <td>68</td>\n      <td>69</td>\n      <td>70</td>\n      <td>71</td>\n      <td>72</td>\n      <td>207</td>\n      <td>210</td>\n      <td>417</td>\n    </tr>\n  </tbody>\n</table>\n</div>"
     },
     "metadata": {},
     "execution_count": 70
    }
   ],
   "source": [
    "# Crie a coluna Total que será a soma das colunas A, B, C, D, E e F (ou Subtotal1 + Subtotal2)\n",
    "df_exercicio['Total'] = df_exercicio.SubTotal1 + df_exercicio.SubTotal2\n",
    "df_exercicio"
   ]
  },
  {
   "cell_type": "code",
   "execution_count": 71,
   "metadata": {},
   "outputs": [
    {
     "output_type": "execute_result",
     "data": {
      "text/plain": "    SubTotal1  SubTotal2\n1           9         12\n2          27         30\n3          45         48\n4          63         66\n5          81         84\n6          99        102\n7         117        120\n8         135        138\n9         153        156\n10        171        174\n11        189        192\n12        207        210",
      "text/html": "<div>\n<style scoped>\n    .dataframe tbody tr th:only-of-type {\n        vertical-align: middle;\n    }\n\n    .dataframe tbody tr th {\n        vertical-align: top;\n    }\n\n    .dataframe thead th {\n        text-align: right;\n    }\n</style>\n<table border=\"1\" class=\"dataframe\">\n  <thead>\n    <tr style=\"text-align: right;\">\n      <th></th>\n      <th>SubTotal1</th>\n      <th>SubTotal2</th>\n    </tr>\n  </thead>\n  <tbody>\n    <tr>\n      <td>1</td>\n      <td>9</td>\n      <td>12</td>\n    </tr>\n    <tr>\n      <td>2</td>\n      <td>27</td>\n      <td>30</td>\n    </tr>\n    <tr>\n      <td>3</td>\n      <td>45</td>\n      <td>48</td>\n    </tr>\n    <tr>\n      <td>4</td>\n      <td>63</td>\n      <td>66</td>\n    </tr>\n    <tr>\n      <td>5</td>\n      <td>81</td>\n      <td>84</td>\n    </tr>\n    <tr>\n      <td>6</td>\n      <td>99</td>\n      <td>102</td>\n    </tr>\n    <tr>\n      <td>7</td>\n      <td>117</td>\n      <td>120</td>\n    </tr>\n    <tr>\n      <td>8</td>\n      <td>135</td>\n      <td>138</td>\n    </tr>\n    <tr>\n      <td>9</td>\n      <td>153</td>\n      <td>156</td>\n    </tr>\n    <tr>\n      <td>10</td>\n      <td>171</td>\n      <td>174</td>\n    </tr>\n    <tr>\n      <td>11</td>\n      <td>189</td>\n      <td>192</td>\n    </tr>\n    <tr>\n      <td>12</td>\n      <td>207</td>\n      <td>210</td>\n    </tr>\n  </tbody>\n</table>\n</div>"
     },
     "metadata": {},
     "execution_count": 71
    }
   ],
   "source": [
    "# Crie um novo DataFrame dfex2 contendo apenas as colunas Subtotal1 e Subtotal2\n",
    "dfex2 = df_exercicio[['SubTotal1', 'SubTotal2']]\n",
    "dfex2\n",
    ""
   ]
  },
  {
   "cell_type": "code",
   "execution_count": 72,
   "metadata": {},
   "outputs": [
    {
     "output_type": "execute_result",
     "data": {
      "text/plain": "     A   B   C   D   E   F  Total\n1    1   2   3   4   5   6     21\n2    7   8   9  10  11  12     57\n3   13  14  15  16  17  18     93\n4   19  20  21  22  23  24    129\n5   25  26  27  28  29  30    165\n6   31  32  33  34  35  36    201\n7   37  38  39  40  41  42    237\n8   43  44  45  46  47  48    273\n9   49  50  51  52  53  54    309\n10  55  56  57  58  59  60    345\n11  61  62  63  64  65  66    381\n12  67  68  69  70  71  72    417",
      "text/html": "<div>\n<style scoped>\n    .dataframe tbody tr th:only-of-type {\n        vertical-align: middle;\n    }\n\n    .dataframe tbody tr th {\n        vertical-align: top;\n    }\n\n    .dataframe thead th {\n        text-align: right;\n    }\n</style>\n<table border=\"1\" class=\"dataframe\">\n  <thead>\n    <tr style=\"text-align: right;\">\n      <th></th>\n      <th>A</th>\n      <th>B</th>\n      <th>C</th>\n      <th>D</th>\n      <th>E</th>\n      <th>F</th>\n      <th>Total</th>\n    </tr>\n  </thead>\n  <tbody>\n    <tr>\n      <td>1</td>\n      <td>1</td>\n      <td>2</td>\n      <td>3</td>\n      <td>4</td>\n      <td>5</td>\n      <td>6</td>\n      <td>21</td>\n    </tr>\n    <tr>\n      <td>2</td>\n      <td>7</td>\n      <td>8</td>\n      <td>9</td>\n      <td>10</td>\n      <td>11</td>\n      <td>12</td>\n      <td>57</td>\n    </tr>\n    <tr>\n      <td>3</td>\n      <td>13</td>\n      <td>14</td>\n      <td>15</td>\n      <td>16</td>\n      <td>17</td>\n      <td>18</td>\n      <td>93</td>\n    </tr>\n    <tr>\n      <td>4</td>\n      <td>19</td>\n      <td>20</td>\n      <td>21</td>\n      <td>22</td>\n      <td>23</td>\n      <td>24</td>\n      <td>129</td>\n    </tr>\n    <tr>\n      <td>5</td>\n      <td>25</td>\n      <td>26</td>\n      <td>27</td>\n      <td>28</td>\n      <td>29</td>\n      <td>30</td>\n      <td>165</td>\n    </tr>\n    <tr>\n      <td>6</td>\n      <td>31</td>\n      <td>32</td>\n      <td>33</td>\n      <td>34</td>\n      <td>35</td>\n      <td>36</td>\n      <td>201</td>\n    </tr>\n    <tr>\n      <td>7</td>\n      <td>37</td>\n      <td>38</td>\n      <td>39</td>\n      <td>40</td>\n      <td>41</td>\n      <td>42</td>\n      <td>237</td>\n    </tr>\n    <tr>\n      <td>8</td>\n      <td>43</td>\n      <td>44</td>\n      <td>45</td>\n      <td>46</td>\n      <td>47</td>\n      <td>48</td>\n      <td>273</td>\n    </tr>\n    <tr>\n      <td>9</td>\n      <td>49</td>\n      <td>50</td>\n      <td>51</td>\n      <td>52</td>\n      <td>53</td>\n      <td>54</td>\n      <td>309</td>\n    </tr>\n    <tr>\n      <td>10</td>\n      <td>55</td>\n      <td>56</td>\n      <td>57</td>\n      <td>58</td>\n      <td>59</td>\n      <td>60</td>\n      <td>345</td>\n    </tr>\n    <tr>\n      <td>11</td>\n      <td>61</td>\n      <td>62</td>\n      <td>63</td>\n      <td>64</td>\n      <td>65</td>\n      <td>66</td>\n      <td>381</td>\n    </tr>\n    <tr>\n      <td>12</td>\n      <td>67</td>\n      <td>68</td>\n      <td>69</td>\n      <td>70</td>\n      <td>71</td>\n      <td>72</td>\n      <td>417</td>\n    </tr>\n  </tbody>\n</table>\n</div>"
     },
     "metadata": {},
     "execution_count": 72
    }
   ],
   "source": [
    "# Exclua as colunas Subtotal1 e Subtotal2 do DataFrame dfex\n",
    "df_exercicio.drop(['SubTotal1', 'SubTotal2'], axis=1, inplace=True)\n",
    "df_exercicio"
   ]
  },
  {
   "cell_type": "code",
   "execution_count": 100,
   "metadata": {},
   "outputs": [
    {
     "output_type": "execute_result",
     "data": {
      "text/plain": "     A   B   C   D\n9   49  50  51  52\n10  55  56  57  58\n11  61  62  63  64\n12  67  68  69  70",
      "text/html": "<div>\n<style scoped>\n    .dataframe tbody tr th:only-of-type {\n        vertical-align: middle;\n    }\n\n    .dataframe tbody tr th {\n        vertical-align: top;\n    }\n\n    .dataframe thead th {\n        text-align: right;\n    }\n</style>\n<table border=\"1\" class=\"dataframe\">\n  <thead>\n    <tr style=\"text-align: right;\">\n      <th></th>\n      <th>A</th>\n      <th>B</th>\n      <th>C</th>\n      <th>D</th>\n    </tr>\n  </thead>\n  <tbody>\n    <tr>\n      <td>9</td>\n      <td>49</td>\n      <td>50</td>\n      <td>51</td>\n      <td>52</td>\n    </tr>\n    <tr>\n      <td>10</td>\n      <td>55</td>\n      <td>56</td>\n      <td>57</td>\n      <td>58</td>\n    </tr>\n    <tr>\n      <td>11</td>\n      <td>61</td>\n      <td>62</td>\n      <td>63</td>\n      <td>64</td>\n    </tr>\n    <tr>\n      <td>12</td>\n      <td>67</td>\n      <td>68</td>\n      <td>69</td>\n      <td>70</td>\n    </tr>\n  </tbody>\n</table>\n</div>"
     },
     "metadata": {},
     "execution_count": 100
    }
   ],
   "source": [
    "# Crie o DataFrame dfex3 contendo as 4 últimas linhas e as 3 primeiras colunas de dfex\n",
    "\n",
    "#df_exercicio.loc[[9,10,11,12],['A', 'B', 'C']]\n",
    "# ou\n",
    "df_exercicio.iloc[8:,0:4]"
   ]
  },
  {
   "cell_type": "code",
   "execution_count": 119,
   "metadata": {},
   "outputs": [
    {
     "output_type": "execute_result",
     "data": {
      "text/plain": "         A    B    C    D    E    F  Total\n1        1    2    3    4    5    6     21\n2        7    8    9   10   11   12     57\n3       13   14   15   16   17   18     93\n4       19   20   21   22   23   24    129\n5       25   26   27   28   29   30    165\n6       31   32   33   34   35   36    201\n7       37   38   39   40   41   42    237\n8       43   44   45   46   47   48    273\n9       49   50   51   52   53   54    309\n10      55   56   57   58   59   60    345\n11      61   62   63   64   65   66    381\n12      67   68   69   70   71   72    417\nTotal  408  420  432  444  456  468   2628",
      "text/html": "<div>\n<style scoped>\n    .dataframe tbody tr th:only-of-type {\n        vertical-align: middle;\n    }\n\n    .dataframe tbody tr th {\n        vertical-align: top;\n    }\n\n    .dataframe thead th {\n        text-align: right;\n    }\n</style>\n<table border=\"1\" class=\"dataframe\">\n  <thead>\n    <tr style=\"text-align: right;\">\n      <th></th>\n      <th>A</th>\n      <th>B</th>\n      <th>C</th>\n      <th>D</th>\n      <th>E</th>\n      <th>F</th>\n      <th>Total</th>\n    </tr>\n  </thead>\n  <tbody>\n    <tr>\n      <td>1</td>\n      <td>1</td>\n      <td>2</td>\n      <td>3</td>\n      <td>4</td>\n      <td>5</td>\n      <td>6</td>\n      <td>21</td>\n    </tr>\n    <tr>\n      <td>2</td>\n      <td>7</td>\n      <td>8</td>\n      <td>9</td>\n      <td>10</td>\n      <td>11</td>\n      <td>12</td>\n      <td>57</td>\n    </tr>\n    <tr>\n      <td>3</td>\n      <td>13</td>\n      <td>14</td>\n      <td>15</td>\n      <td>16</td>\n      <td>17</td>\n      <td>18</td>\n      <td>93</td>\n    </tr>\n    <tr>\n      <td>4</td>\n      <td>19</td>\n      <td>20</td>\n      <td>21</td>\n      <td>22</td>\n      <td>23</td>\n      <td>24</td>\n      <td>129</td>\n    </tr>\n    <tr>\n      <td>5</td>\n      <td>25</td>\n      <td>26</td>\n      <td>27</td>\n      <td>28</td>\n      <td>29</td>\n      <td>30</td>\n      <td>165</td>\n    </tr>\n    <tr>\n      <td>6</td>\n      <td>31</td>\n      <td>32</td>\n      <td>33</td>\n      <td>34</td>\n      <td>35</td>\n      <td>36</td>\n      <td>201</td>\n    </tr>\n    <tr>\n      <td>7</td>\n      <td>37</td>\n      <td>38</td>\n      <td>39</td>\n      <td>40</td>\n      <td>41</td>\n      <td>42</td>\n      <td>237</td>\n    </tr>\n    <tr>\n      <td>8</td>\n      <td>43</td>\n      <td>44</td>\n      <td>45</td>\n      <td>46</td>\n      <td>47</td>\n      <td>48</td>\n      <td>273</td>\n    </tr>\n    <tr>\n      <td>9</td>\n      <td>49</td>\n      <td>50</td>\n      <td>51</td>\n      <td>52</td>\n      <td>53</td>\n      <td>54</td>\n      <td>309</td>\n    </tr>\n    <tr>\n      <td>10</td>\n      <td>55</td>\n      <td>56</td>\n      <td>57</td>\n      <td>58</td>\n      <td>59</td>\n      <td>60</td>\n      <td>345</td>\n    </tr>\n    <tr>\n      <td>11</td>\n      <td>61</td>\n      <td>62</td>\n      <td>63</td>\n      <td>64</td>\n      <td>65</td>\n      <td>66</td>\n      <td>381</td>\n    </tr>\n    <tr>\n      <td>12</td>\n      <td>67</td>\n      <td>68</td>\n      <td>69</td>\n      <td>70</td>\n      <td>71</td>\n      <td>72</td>\n      <td>417</td>\n    </tr>\n    <tr>\n      <td>Total</td>\n      <td>408</td>\n      <td>420</td>\n      <td>432</td>\n      <td>444</td>\n      <td>456</td>\n      <td>468</td>\n      <td>2628</td>\n    </tr>\n  </tbody>\n</table>\n</div>"
     },
     "metadata": {},
     "execution_count": 119
    }
   ],
   "source": [
    "# Insira em dfex as linhas com a soma de cada coluna\n",
    "df_sum = df_exercicio.sum()\n",
    "row_total = pd.DataFrame(data=np.array(df_sum).reshape(1,7), index=['Total'], columns=df_exercicio.columns)\n",
    "df_exercicio = df_exercicio.append(row_total)\n",
    "df_exercicio"
   ]
  },
  {
   "cell_type": "code",
   "execution_count": null,
   "metadata": {},
   "outputs": [],
   "source": []
  }
 ],
 "metadata": {
  "kernelspec": {
   "display_name": "Python 3",
   "language": "python",
   "name": "python3"
  },
  "language_info": {
   "codemirror_mode": {
    "name": "ipython",
    "version": 3
   },
   "file_extension": ".py",
   "mimetype": "text/x-python",
   "name": "python",
   "nbconvert_exporter": "python",
   "pygments_lexer": "ipython3",
   "version": "3.7.4-final"
  }
 },
 "nbformat": 4,
 "nbformat_minor": 2
}