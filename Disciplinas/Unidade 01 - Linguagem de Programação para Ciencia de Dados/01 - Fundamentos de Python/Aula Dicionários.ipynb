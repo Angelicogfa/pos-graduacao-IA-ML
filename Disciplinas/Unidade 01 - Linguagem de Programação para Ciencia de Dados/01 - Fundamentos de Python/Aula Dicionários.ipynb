{
 "cells": [
  {
   "cell_type": "markdown",
   "metadata": {},
   "source": [
    "# Dicionários\n",
    "\n",
    "* Um dicionário é uma coleção de elementos que possuem uma *chave* e um *valor*\n",
    "* Ao invés de um índice, usamos a *chave* para recuperar um *valor*\n",
    "\n",
    "O que veremos nessa aula:\n",
    "\n",
    "1. Como criar dicionários\n",
    "2. Acessando um valor em um dicionário através de uma chave\n",
    "3. Modificando valores em um dicionário\n",
    "4. Principais métodos de um objeto dicionário"
   ]
  },
  {
   "cell_type": "markdown",
   "metadata": {},
   "source": [
    "### 1. Como criar dicionários"
   ]
  },
  {
   "cell_type": "code",
   "execution_count": 1,
   "metadata": {
    "collapsed": true
   },
   "outputs": [],
   "source": [
    "# Criando dicionários vazios\n",
    "dic_vazio1 = {}\n",
    "dic_vazio2 = dict()"
   ]
  },
  {
   "cell_type": "code",
   "execution_count": 2,
   "metadata": {},
   "outputs": [
    {
     "output_type": "execute_result",
     "data": {
      "text/plain": "dict"
     },
     "metadata": {},
     "execution_count": 2
    }
   ],
   "source": [
    "# Visualizando o tipo de dic_vazio1\n",
    "type(dic_vazio1)"
   ]
  },
  {
   "cell_type": "code",
   "execution_count": 3,
   "metadata": {},
   "outputs": [
    {
     "output_type": "execute_result",
     "data": {
      "text/plain": "True"
     },
     "metadata": {},
     "execution_count": 3
    }
   ],
   "source": [
    "# Verificando se dic_vazio2 é uma instância de dict\n",
    "isinstance(dic_vazio2, dict)"
   ]
  },
  {
   "cell_type": "code",
   "execution_count": 4,
   "metadata": {},
   "outputs": [
    {
     "output_type": "execute_result",
     "data": {
      "text/plain": "{'MG': 'Minas Gerais',\n 'PR': 'Paraná',\n 'BA': 'Bahia',\n 'RN': 'Rio Grande do Norte',\n 'AM': 'Amzonas'}"
     },
     "metadata": {},
     "execution_count": 4
    }
   ],
   "source": [
    "# Criando dicionários com pares chave/valor\n",
    "\n",
    "# Dicionário de estados: chave é a sigla do estado e valor é o nome completo\n",
    "dic_estados = { \"MG\":\"Minas Gerais\", \"PR\": \"Paraná\", \"BA\": \"Bahia\", \"RN\": \"Rio Grande do Norte\", \"AM\": \"Amzonas\"}\n",
    "# Obs: o nome do estado Amazonas foi digitado errado de forma intencional\n",
    "dic_estados"
   ]
  },
  {
   "cell_type": "markdown",
   "metadata": {},
   "source": [
    "#### OBS: Perceba que as chaves são adicionadas em ordem crescente"
   ]
  },
  {
   "cell_type": "code",
   "execution_count": 5,
   "metadata": {},
   "outputs": [
    {
     "output_type": "execute_result",
     "data": {
      "text/plain": "{1215: 'Lápis',\n 3221: 'Caneta',\n 2329: 'Borracha',\n 1092: 'Caderno',\n 7633: 'Cola'}"
     },
     "metadata": {},
     "execution_count": 5
    }
   ],
   "source": [
    "# Dicionário de produtos: chave é o código e valor é a descrição do produto\n",
    "dic_produtos = {1215:\"Lápis\", 3221:\"Caneta\", 2329:\"Borracha\", 1092:\"Caderno\", 7633:\"Cola\"}\n",
    "dic_produtos"
   ]
  },
  {
   "cell_type": "code",
   "execution_count": 6,
   "metadata": {},
   "outputs": [
    {
     "output_type": "execute_result",
     "data": {
      "text/plain": "{'João': [30, 12, 21], 'Maria': [20, 30, 29], 'José': [20, 23, 19]}"
     },
     "metadata": {},
     "execution_count": 6
    }
   ],
   "source": [
    "# Dicionário de alunos: chave é o nome e valor é uma lista com 3 notas do aluno\n",
    "dic_notas_alunos = {\"João\":[30, 12, 21], \"Maria\": [20, 30, 29], \"José\": [20, 23, 19]}\n",
    "dic_notas_alunos"
   ]
  },
  {
   "cell_type": "code",
   "execution_count": 8,
   "metadata": {},
   "outputs": [
    {
     "output_type": "execute_result",
     "data": {
      "text/plain": "{'João': {'nota1': 30, 'nota2': 12, 'nota3': 21},\n 'Maria': {'nota1': 20, 'nota2': 30, 'nota3': 29},\n 'José': {'nota1': 20, 'nota2': 23, 'nota3': 19}}"
     },
     "metadata": {},
     "execution_count": 8
    }
   ],
   "source": [
    "# Dicionário de alunos 2: chave é o nome e valor é um outro dicionário contendo as 3 notas do aluno\n",
    "dic_notas_alunos2 = {\"João\": {\"nota1\": 30, \"nota2\": 12, \"nota3\": 21}, \n",
    "                     \"Maria\": {\"nota1\": 20, \"nota2\": 30, \"nota3\": 29}, \n",
    "                     \"José\": {\"nota1\": 20, \"nota2\": 23, \"nota3\": 19}, \n",
    "                    }\n",
    "dic_notas_alunos2"
   ]
  },
  {
   "cell_type": "markdown",
   "metadata": {},
   "source": [
    "### 2. Acessando um valor em um dicionário através de uma chave"
   ]
  },
  {
   "cell_type": "code",
   "execution_count": 9,
   "metadata": {},
   "outputs": [
    {
     "output_type": "execute_result",
     "data": {
      "text/plain": "'Paraná'"
     },
     "metadata": {},
     "execution_count": 9
    }
   ],
   "source": [
    "# Acessando o valor associado à chave \"PR\"\n",
    "dic_estados[\"PR\"]"
   ]
  },
  {
   "cell_type": "code",
   "execution_count": 10,
   "metadata": {},
   "outputs": [
    {
     "output_type": "stream",
     "name": "stdout",
     "text": "Eu nasci em Minas Gerais.\n"
    }
   ],
   "source": [
    "# Acessando o valor associado à chave \"MG\" dentro de um comando print\n",
    "print(\"Eu nasci em \"+dic_estados[\"MG\"]+\".\")"
   ]
  },
  {
   "cell_type": "code",
   "execution_count": 11,
   "metadata": {},
   "outputs": [
    {
     "output_type": "error",
     "ename": "KeyError",
     "evalue": "'XYZ'",
     "traceback": [
      "\u001b[1;31m---------------------------------------------------------------------------\u001b[0m",
      "\u001b[1;31mKeyError\u001b[0m                                  Traceback (most recent call last)",
      "\u001b[1;32m<ipython-input-11-ab322d84b7c4>\u001b[0m in \u001b[0;36m<module>\u001b[1;34m\u001b[0m\n\u001b[0;32m      1\u001b[0m \u001b[1;31m# Se a chave não existir, é retornado um erro\u001b[0m\u001b[1;33m\u001b[0m\u001b[1;33m\u001b[0m\u001b[1;33m\u001b[0m\u001b[0m\n\u001b[1;32m----> 2\u001b[1;33m \u001b[0mdic_estados\u001b[0m\u001b[1;33m[\u001b[0m\u001b[1;34m\"XYZ\"\u001b[0m\u001b[1;33m]\u001b[0m\u001b[1;33m\u001b[0m\u001b[1;33m\u001b[0m\u001b[0m\n\u001b[0m",
      "\u001b[1;31mKeyError\u001b[0m: 'XYZ'"
     ]
    }
   ],
   "source": [
    "# Se a chave não existir, é retornado um erro\n",
    "dic_estados[\"XYZ\"]"
   ]
  },
  {
   "cell_type": "code",
   "execution_count": 12,
   "metadata": {},
   "outputs": [
    {
     "output_type": "execute_result",
     "data": {
      "text/plain": "'Borracha'"
     },
     "metadata": {},
     "execution_count": 12
    }
   ],
   "source": [
    "# Acessando o valor associado à chave 2329\n",
    "dic_produtos[2329]"
   ]
  },
  {
   "cell_type": "code",
   "execution_count": 13,
   "metadata": {},
   "outputs": [
    {
     "output_type": "stream",
     "name": "stdout",
     "text": "As notas de Maria foram: [20, 30, 29].\n"
    }
   ],
   "source": [
    "# Acessando o valor associado à chave \"Maria\" no dicionário dic_notas_aluno\n",
    "nome_aluno = \"Maria\"\n",
    "print(\"As notas de \"+nome_aluno+\" foram: \"+str(dic_notas_alunos[nome_aluno])+\".\")"
   ]
  },
  {
   "cell_type": "code",
   "execution_count": 14,
   "metadata": {},
   "outputs": [
    {
     "output_type": "stream",
     "name": "stdout",
     "text": "Maria tirou 20 pontos na 1a prova.\n"
    }
   ],
   "source": [
    "print(nome_aluno+\" tirou \"+str(dic_notas_alunos[nome_aluno][0])+\" pontos na 1a prova.\")"
   ]
  },
  {
   "cell_type": "code",
   "execution_count": 15,
   "metadata": {},
   "outputs": [
    {
     "output_type": "execute_result",
     "data": {
      "text/plain": "30"
     },
     "metadata": {},
     "execution_count": 15
    }
   ],
   "source": [
    "# Acessando a nota da primeira prova do João no dicionário dic_notas_alunos2\n",
    "dic_notas_alunos2[\"João\"][\"nota1\"]"
   ]
  },
  {
   "cell_type": "markdown",
   "metadata": {},
   "source": [
    "### 3. Modificando valores em um dicionário"
   ]
  },
  {
   "cell_type": "code",
   "execution_count": 16,
   "metadata": {},
   "outputs": [
    {
     "output_type": "execute_result",
     "data": {
      "text/plain": "{'MG': 'Minas Gerais',\n 'PR': 'Paraná',\n 'BA': 'Bahia',\n 'RN': 'Rio Grande do Norte',\n 'AM': 'Amzonas'}"
     },
     "metadata": {},
     "execution_count": 16
    }
   ],
   "source": [
    "# Visualizando o dicionário dic_estados\n",
    "dic_estados"
   ]
  },
  {
   "cell_type": "code",
   "execution_count": 17,
   "metadata": {},
   "outputs": [
    {
     "output_type": "execute_result",
     "data": {
      "text/plain": "{'MG': 'Minas Gerais',\n 'PR': 'Paraná',\n 'BA': 'Bahia',\n 'RN': 'Rio Grande do Norte',\n 'AM': 'Amazonas'}"
     },
     "metadata": {},
     "execution_count": 17
    }
   ],
   "source": [
    "# Corrigindo o nome do estado Amazonas\n",
    "dic_estados[\"AM\"] = \"Amazonas\"\n",
    "dic_estados"
   ]
  },
  {
   "cell_type": "code",
   "execution_count": 18,
   "metadata": {},
   "outputs": [
    {
     "output_type": "execute_result",
     "data": {
      "text/plain": "{'João': [30, 12, 21], 'Maria': [20, 30, 29], 'José': [20, 23, 19]}"
     },
     "metadata": {},
     "execution_count": 18
    }
   ],
   "source": [
    "# Visualizando o dicionário dic_notas_alunos\n",
    "dic_notas_alunos"
   ]
  },
  {
   "cell_type": "code",
   "execution_count": 19,
   "metadata": {},
   "outputs": [
    {
     "output_type": "execute_result",
     "data": {
      "text/plain": "{'João': [30, 22, 21], 'Maria': [20, 30, 29], 'José': [20, 23, 19]}"
     },
     "metadata": {},
     "execution_count": 19
    }
   ],
   "source": [
    "# Alterando a segunda nota de João para 22\n",
    "dic_notas_alunos[\"João\"][1] = 22\n",
    "dic_notas_alunos"
   ]
  },
  {
   "cell_type": "code",
   "execution_count": 20,
   "metadata": {},
   "outputs": [
    {
     "output_type": "execute_result",
     "data": {
      "text/plain": "{'João': [30, 22, 21], 'Maria': [25, 20, 22], 'José': [20, 23, 19]}"
     },
     "metadata": {},
     "execution_count": 20
    }
   ],
   "source": [
    "# Alterando todas as notas de Maria. \n",
    "# Essa alteração não será feita nota a nota, mas atribuindo uma nova lista com as notas corretas\n",
    "dic_notas_alunos[\"Maria\"] = [25, 20, 22]\n",
    "dic_notas_alunos"
   ]
  },
  {
   "cell_type": "code",
   "execution_count": 21,
   "metadata": {},
   "outputs": [
    {
     "output_type": "execute_result",
     "data": {
      "text/plain": "{'João': {'nota1': 30, 'nota2': 12, 'nota3': 21},\n 'Maria': {'nota1': 20, 'nota2': 30, 'nota3': 29},\n 'José': {'nota1': 20, 'nota2': 23, 'nota3': 19}}"
     },
     "metadata": {},
     "execution_count": 21
    }
   ],
   "source": [
    "# Visualizando o dicionário dic_notas_alunos2\n",
    "dic_notas_alunos2"
   ]
  },
  {
   "cell_type": "code",
   "execution_count": 22,
   "metadata": {},
   "outputs": [
    {
     "output_type": "execute_result",
     "data": {
      "text/plain": "{'João': {'nota1': 30, 'nota2': 12, 'nota3': 21},\n 'Maria': {'nota1': 20, 'nota2': 30, 'nota3': 29},\n 'José': {'nota1': 20, 'nota2': 23, 'nota3': 25}}"
     },
     "metadata": {},
     "execution_count": 22
    }
   ],
   "source": [
    "# Alterando a terceira nota do José para 25\n",
    "dic_notas_alunos2[\"José\"][\"nota3\"] = 25\n",
    "dic_notas_alunos2"
   ]
  },
  {
   "cell_type": "markdown",
   "metadata": {},
   "source": [
    "### 4. Principais métodos de um objeto dicionário\n",
    "\n",
    "Método | Descrição | Exemplo\n",
    ":----- | :-------- | :------\n",
    "clear  | Apaga todos os elementos de um dicionário | `dic.clear()`\n",
    "copy | Retorna uma cópia dos elementos de um dicionário | `dic_copia = dic.copy()`\n",
    "fromkeys | Retorna um dicionário a partir de uma sequência de chaves | `exemplo = dic.fromkeys({\"k1\", \"k4\", \"k5\"})`\n",
    "get | Retorna o valor associado a uma chave | `dic.get(\"k1\")`\n",
    " |  | `dic.get(\"k1\", 0)`\n",
    "items | Retorna uma visão dos pares chave/valor de um dicionário | `dic.items()`\n",
    "keys | Retorna uma visão das chaves de um dicionário | `dic.keys()`\n",
    "pop | Remove e retorna o elemento associado à chave passada por parâmetro (provoca erro se a chave não existir) | `dic.pop(2)`\n",
    "popitem | Remove e retorna o último elemento adicionado ao dicionário | `dic.popitem()`\n",
    "setdefault | Retorna o valor associado a uma chave (se a chave existir). Caso não exista, insere a chave com o valor (opcional) no dicionário | `dic.setdefault(2, \"dois\")`\n",
    "update | Adiciona ao dicionário os pares de chave/valor de outro dicionário passado por parâmetro | `dic.update(dic2)`\n",
    "values | Retorna uma visão dos valores de um dicionário | `dic.values`"
   ]
  },
  {
   "cell_type": "code",
   "execution_count": 23,
   "metadata": {},
   "outputs": [
    {
     "output_type": "execute_result",
     "data": {
      "text/plain": "{1: 'um', 2: 'dois', 3: 'três', 4: 'quatro'}"
     },
     "metadata": {},
     "execution_count": 23
    }
   ],
   "source": [
    "# Criando um dicionário exemplo\n",
    "dic_exemplo = {1:\"um\", 2:\"dois\", 3:\"três\", 4:\"quatro\"}\n",
    "dic_exemplo"
   ]
  },
  {
   "cell_type": "markdown",
   "metadata": {},
   "source": [
    "#### 4.1 - clear()"
   ]
  },
  {
   "cell_type": "code",
   "execution_count": 24,
   "metadata": {},
   "outputs": [
    {
     "output_type": "execute_result",
     "data": {
      "text/plain": "{}"
     },
     "metadata": {},
     "execution_count": 24
    }
   ],
   "source": [
    "# Removendo os elementos de dic_exemplo\n",
    "dic_exemplo.clear()\n",
    "dic_exemplo"
   ]
  },
  {
   "cell_type": "markdown",
   "metadata": {},
   "source": [
    "#### 4.2 - copy()"
   ]
  },
  {
   "cell_type": "code",
   "execution_count": 25,
   "metadata": {},
   "outputs": [
    {
     "output_type": "execute_result",
     "data": {
      "text/plain": "{1: 'um', 2: 'dois', 3: 'três', 4: 'quatro'}"
     },
     "metadata": {},
     "execution_count": 25
    }
   ],
   "source": [
    "# Redefinido dic_exemplo\n",
    "dic_exemplo = {1:\"um\", 2:\"dois\", 3:\"três\", 4:\"quatro\"}\n",
    "dic_exemplo"
   ]
  },
  {
   "cell_type": "code",
   "execution_count": 26,
   "metadata": {},
   "outputs": [
    {
     "output_type": "execute_result",
     "data": {
      "text/plain": "{1: 'um', 2: 'dois', 3: 'três', 4: 'quatro'}"
     },
     "metadata": {},
     "execution_count": 26
    }
   ],
   "source": [
    "# Criando uma cópia de dic_exemplo usando o método copy()\n",
    "dic_exemplo2 = dic_exemplo.copy()\n",
    "dic_exemplo2"
   ]
  },
  {
   "cell_type": "markdown",
   "metadata": {},
   "source": [
    "Obs: Isso já foi discutido na aula sobre listas. Se simplesmente atribuirmos dic_exemplo a dic_exemplo2 (**`dic_exemplo2 = dic_exemplo`**), não estaremos copiando seus elementos, mas criando uma referência (ou um apelido)."
   ]
  },
  {
   "cell_type": "markdown",
   "metadata": {},
   "source": [
    "#### 4.3 - fromkeys()"
   ]
  },
  {
   "cell_type": "code",
   "execution_count": 27,
   "metadata": {},
   "outputs": [
    {
     "output_type": "execute_result",
     "data": {
      "text/plain": "{2: None, 4: None, 6: None, 8: None, 10: None}"
     },
     "metadata": {},
     "execution_count": 27
    }
   ],
   "source": [
    "# Criando um novo dicionário a partir da seleção das chaves que desejamos\n",
    "dic_num_pares = dict.fromkeys([2, 4, 6, 8, 10])\n",
    "dic_num_pares"
   ]
  },
  {
   "cell_type": "code",
   "execution_count": 28,
   "metadata": {},
   "outputs": [
    {
     "output_type": "execute_result",
     "data": {
      "text/plain": "{2: 'par', 4: 'par', 6: 'par', 8: 'par', 10: 'par'}"
     },
     "metadata": {},
     "execution_count": 28
    }
   ],
   "source": [
    "# Se desejarmos atribuir um valor default, basta informar após a lista com as chaves\n",
    "dic_num_pares = dict.fromkeys([2, 4, 6, 8, 10], \"par\")\n",
    "dic_num_pares"
   ]
  },
  {
   "cell_type": "markdown",
   "metadata": {},
   "source": [
    "#### 4.4 - get()"
   ]
  },
  {
   "cell_type": "code",
   "execution_count": 29,
   "metadata": {},
   "outputs": [
    {
     "output_type": "execute_result",
     "data": {
      "text/plain": "'dois'"
     },
     "metadata": {},
     "execution_count": 29
    }
   ],
   "source": [
    "# O método get retorna o valor associado a uma chave\n",
    "# Visualizando o valor associado à chave 2\n",
    "dic_exemplo.get(2)"
   ]
  },
  {
   "cell_type": "markdown",
   "metadata": {},
   "source": [
    "#### 4.5 - items()"
   ]
  },
  {
   "cell_type": "code",
   "execution_count": 30,
   "metadata": {},
   "outputs": [
    {
     "output_type": "execute_result",
     "data": {
      "text/plain": "dict_items([(1, 'um'), (2, 'dois'), (3, 'três'), (4, 'quatro')])"
     },
     "metadata": {},
     "execution_count": 30
    }
   ],
   "source": [
    "# Visualizando os pares chave/valor do dicionário \n",
    "dic_exemplo.items()"
   ]
  },
  {
   "cell_type": "markdown",
   "metadata": {},
   "source": [
    "#### 4.6 - keys()"
   ]
  },
  {
   "cell_type": "code",
   "execution_count": 31,
   "metadata": {},
   "outputs": [
    {
     "output_type": "execute_result",
     "data": {
      "text/plain": "dict_keys([1, 2, 3, 4])"
     },
     "metadata": {},
     "execution_count": 31
    }
   ],
   "source": [
    "# Visualizando as chaves de um dicionário\n",
    "dic_exemplo.keys()"
   ]
  },
  {
   "cell_type": "markdown",
   "metadata": {},
   "source": [
    "#### 4.7 - pop()"
   ]
  },
  {
   "cell_type": "code",
   "execution_count": 32,
   "metadata": {},
   "outputs": [
    {
     "output_type": "execute_result",
     "data": {
      "text/plain": "{2: 'dois', 3: 'três', 4: 'quatro'}"
     },
     "metadata": {},
     "execution_count": 32
    }
   ],
   "source": [
    "# Removendo o par chave/valor associado à chave 1\n",
    "dic_exemplo.pop(1)\n",
    "dic_exemplo"
   ]
  },
  {
   "cell_type": "code",
   "execution_count": 33,
   "metadata": {},
   "outputs": [
    {
     "output_type": "execute_result",
     "data": {
      "text/plain": "{2: 'dois', 3: 'três'}"
     },
     "metadata": {},
     "execution_count": 33
    }
   ],
   "source": [
    "# Podemos remover e armazenar o valor removido em uma variável\n",
    "valor = dic_exemplo.pop(4)\n",
    "dic_exemplo"
   ]
  },
  {
   "cell_type": "code",
   "execution_count": 34,
   "metadata": {},
   "outputs": [
    {
     "output_type": "execute_result",
     "data": {
      "text/plain": "'quatro'"
     },
     "metadata": {},
     "execution_count": 34
    }
   ],
   "source": [
    "# Visualizando o conteúdo armazenado na variável valor\n",
    "valor"
   ]
  },
  {
   "cell_type": "markdown",
   "metadata": {},
   "source": [
    "#### 4.8 - popitem()"
   ]
  },
  {
   "cell_type": "code",
   "execution_count": 35,
   "metadata": {
    "collapsed": true
   },
   "outputs": [],
   "source": [
    "# Removendo o último par chave/valor adicionado ao dicionário\n",
    "removido = dic_num_pares.popitem()"
   ]
  },
  {
   "cell_type": "code",
   "execution_count": 36,
   "metadata": {},
   "outputs": [
    {
     "output_type": "execute_result",
     "data": {
      "text/plain": "(10, 'par')"
     },
     "metadata": {},
     "execution_count": 36
    }
   ],
   "source": [
    "# Visualizando o valor removido\n",
    "removido"
   ]
  },
  {
   "cell_type": "code",
   "execution_count": 37,
   "metadata": {},
   "outputs": [
    {
     "output_type": "execute_result",
     "data": {
      "text/plain": "{2: 'par', 4: 'par', 6: 'par', 8: 'par'}"
     },
     "metadata": {},
     "execution_count": 37
    }
   ],
   "source": [
    "# Visualizando o dicionário após a remoção do último par chave/valor\n",
    "dic_num_pares"
   ]
  },
  {
   "cell_type": "markdown",
   "metadata": {},
   "source": [
    "#### 4.9 - setdefault()"
   ]
  },
  {
   "cell_type": "code",
   "execution_count": 38,
   "metadata": {},
   "outputs": [
    {
     "output_type": "execute_result",
     "data": {
      "text/plain": "'Minas Gerais'"
     },
     "metadata": {},
     "execution_count": 38
    }
   ],
   "source": [
    "# Verificando o valor associado à chave \"MG\"\n",
    "dic_estados.setdefault(\"MG\")"
   ]
  },
  {
   "cell_type": "code",
   "execution_count": 39,
   "metadata": {
    "collapsed": true
   },
   "outputs": [],
   "source": [
    "# Verificando o valor associado à chave \"ES\". \n",
    "# Como essa chave não existe, ela é adicionada pelo método setdefault ao dicionário com o valor None\n",
    "dic_estados.setdefault(\"ES\")"
   ]
  },
  {
   "cell_type": "code",
   "execution_count": 40,
   "metadata": {},
   "outputs": [
    {
     "output_type": "execute_result",
     "data": {
      "text/plain": "{'MG': 'Minas Gerais',\n 'PR': 'Paraná',\n 'BA': 'Bahia',\n 'RN': 'Rio Grande do Norte',\n 'AM': 'Amazonas',\n 'ES': None}"
     },
     "metadata": {},
     "execution_count": 40
    }
   ],
   "source": [
    "# Visualizando o conteúdo de dic_estados\n",
    "dic_estados"
   ]
  },
  {
   "cell_type": "code",
   "execution_count": 41,
   "metadata": {},
   "outputs": [
    {
     "output_type": "execute_result",
     "data": {
      "text/plain": "'Santa Catarina'"
     },
     "metadata": {},
     "execution_count": 41
    }
   ],
   "source": [
    "# Verificando o valor associado à chave \"ES\". \n",
    "# Como essa chave não existe, ela é adicionada pelo método setdefault ao dicionário. \n",
    "# Nesse caso foi passado que o valor \"Santa Catarina\"\n",
    "dic_estados.setdefault(\"SC\", \"Santa Catarina\")"
   ]
  },
  {
   "cell_type": "code",
   "execution_count": 42,
   "metadata": {},
   "outputs": [
    {
     "output_type": "execute_result",
     "data": {
      "text/plain": "{'MG': 'Minas Gerais',\n 'PR': 'Paraná',\n 'BA': 'Bahia',\n 'RN': 'Rio Grande do Norte',\n 'AM': 'Amazonas',\n 'ES': None,\n 'SC': 'Santa Catarina'}"
     },
     "metadata": {},
     "execution_count": 42
    }
   ],
   "source": [
    "# Visualizando o conteúdo de dic_estados\n",
    "dic_estados"
   ]
  },
  {
   "cell_type": "markdown",
   "metadata": {},
   "source": [
    "#### 4.10 - update()"
   ]
  },
  {
   "cell_type": "code",
   "execution_count": 43,
   "metadata": {},
   "outputs": [
    {
     "output_type": "execute_result",
     "data": {
      "text/plain": "{'MS': 'Mato Grosso do Sul', 'TO': 'Tocantins', 'GO': 'Goiás'}"
     },
     "metadata": {},
     "execution_count": 43
    }
   ],
   "source": [
    "# Definindo o dicionário dic_estados_centro_oeste com alguns dos estados da região Centro Oeste\n",
    "dic_estados_centro_oeste = {\"MS\": \"Mato Grosso do Sul\", \"TO\": \"Tocantins\", \"GO\": \"Goiás\"}\n",
    "dic_estados_centro_oeste"
   ]
  },
  {
   "cell_type": "code",
   "execution_count": 44,
   "metadata": {},
   "outputs": [
    {
     "output_type": "execute_result",
     "data": {
      "text/plain": "{'MG': 'Minas Gerais',\n 'PR': 'Paraná',\n 'BA': 'Bahia',\n 'RN': 'Rio Grande do Norte',\n 'AM': 'Amazonas',\n 'ES': None,\n 'SC': 'Santa Catarina',\n 'MS': 'Mato Grosso do Sul',\n 'TO': 'Tocantins',\n 'GO': 'Goiás'}"
     },
     "metadata": {},
     "execution_count": 44
    }
   ],
   "source": [
    "# Adicionando os estados do Centro Oeste ao dicionário dic_estados\n",
    "dic_estados.update(dic_estados_centro_oeste)\n",
    "dic_estados"
   ]
  },
  {
   "cell_type": "markdown",
   "metadata": {},
   "source": [
    "#### 4.11 - values()"
   ]
  },
  {
   "cell_type": "code",
   "execution_count": 45,
   "metadata": {},
   "outputs": [
    {
     "output_type": "execute_result",
     "data": {
      "text/plain": "dict_values(['Minas Gerais', 'Paraná', 'Bahia', 'Rio Grande do Norte', 'Amazonas', None, 'Santa Catarina', 'Mato Grosso do Sul', 'Tocantins', 'Goiás'])"
     },
     "metadata": {},
     "execution_count": 45
    }
   ],
   "source": [
    "# Visualizando os valores de um dicionário\n",
    "dic_estados.values()"
   ]
  },
  {
   "cell_type": "markdown",
   "metadata": {},
   "source": [
    "#### Como remover o estado de Tocantins do dicionário Centro Oeste?"
   ]
  },
  {
   "cell_type": "code",
   "execution_count": 46,
   "metadata": {},
   "outputs": [
    {
     "output_type": "execute_result",
     "data": {
      "text/plain": "'Tocantins'"
     },
     "metadata": {},
     "execution_count": 46
    }
   ],
   "source": [
    "# Numa primeira versão desse Notebook, o exemplo do pop() seria a remoção do estado de Tocantins, \n",
    "# que não faz parte da região Centro-Oeste, mas da região Norte. Para removermos Tocantins do dicionário,\n",
    "# usamos então o método pop(), passando por parâmetro a sigla do estado \"TO\"\n",
    "dic_estados_centro_oeste.pop(\"TO\")"
   ]
  },
  {
   "cell_type": "code",
   "execution_count": 47,
   "metadata": {},
   "outputs": [
    {
     "output_type": "execute_result",
     "data": {
      "text/plain": "{'MS': 'Mato Grosso do Sul', 'GO': 'Goiás'}"
     },
     "metadata": {},
     "execution_count": 47
    }
   ],
   "source": [
    "dic_estados_centro_oeste"
   ]
  },
  {
   "cell_type": "code",
   "execution_count": null,
   "metadata": {},
   "outputs": [],
   "source": []
  }
 ],
 "metadata": {
  "kernelspec": {
   "display_name": "Python 3",
   "language": "python",
   "name": "python3"
  },
  "language_info": {
   "codemirror_mode": {
    "name": "ipython",
    "version": 3
   },
   "file_extension": ".py",
   "mimetype": "text/x-python",
   "name": "python",
   "nbconvert_exporter": "python",
   "pygments_lexer": "ipython3",
   "version": "3.7.4-final"
  }
 },
 "nbformat": 4,
 "nbformat_minor": 2
}