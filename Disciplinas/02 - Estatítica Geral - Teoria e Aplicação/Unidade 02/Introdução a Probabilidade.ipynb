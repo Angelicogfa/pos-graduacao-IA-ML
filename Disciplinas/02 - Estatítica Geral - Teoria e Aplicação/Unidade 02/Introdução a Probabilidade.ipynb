{
 "cells": [
  {
   "cell_type": "markdown",
   "metadata": {},
   "source": [
    "# Introdução à Probabilidade\n",
    "\n",
    "## Conceitos Básicos\n",
    "\n",
    "O conceito de probabilidade é fundamental para o estudo de situações onde os resultados são variáveis, isto é, situações em que os resultados possíveis são conhecidos, mas não se pode saber a *priori* qual deles ocorrerá.\n",
    "\n",
    "### Experimento Aleatório\n",
    "\n",
    "São aqueles experimentos cujos resultados podem não ser os mesmos, ainda que sejam repetidos sob condições essencialmente idênticas. Além disso, não se conhece um particular valor do experimento *a priori*, porém podem-se descrever todos os possíveis resultados, as possibilidades.\n",
    "\n",
    "Quando o experimento for repetido um grande número de vezes surgirá uma regularidade.\n",
    "\n",
    "Exemplos:\n",
    "\n",
    "$E_1$: Lançamento de um dado e observar a face superior.\n",
    "\n",
    "$E_2$: Lançamento de uma moeda quatro vezes e observar o número de caras.\n",
    "\n",
    "$E_3$: Acompanhar os 30 alunos matriculados na disciplina e observar o número de aprovados.\n",
    "\n",
    "$E_4$: Ligar uma lâmpada nova e observar o seu tempo de duração (em minutos).\n",
    "\n",
    "### Espaço amostral - $\\Omega$ (Omega)\n",
    "\n",
    "Chama-se espaço amostral o conjunto de todos os possíveis resultados de um experimento aleatório ou, em outras palavras, é o conjunto universo relativo aos resultados de um experimento.\n",
    "\n",
    "A cada experimento aleatório, sempre estará associado um conjuto de resultados possíveis ou espaço amostral.\n",
    "\n",
    "\n"
   ]
  },
  {
   "cell_type": "code",
   "execution_count": null,
   "metadata": {},
   "outputs": [],
   "source": []
  }
 ],
 "metadata": {
  "language_info": {
   "codemirror_mode": {
    "name": "ipython",
    "version": 3
   },
   "file_extension": ".py",
   "mimetype": "text/x-python",
   "name": "python",
   "nbconvert_exporter": "python",
   "pygments_lexer": "ipython3",
   "version": 3
  },
  "orig_nbformat": 2
 },
 "nbformat": 4,
 "nbformat_minor": 2
}