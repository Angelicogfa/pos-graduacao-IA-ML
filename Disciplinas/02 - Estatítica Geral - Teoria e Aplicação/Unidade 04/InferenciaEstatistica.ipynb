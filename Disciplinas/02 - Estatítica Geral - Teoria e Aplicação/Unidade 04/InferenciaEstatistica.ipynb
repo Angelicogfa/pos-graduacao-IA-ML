{
 "cells": [
  {
   "cell_type": "markdown",
   "metadata": {},
   "source": [
    "# Introdução à testes de hipóteses\n",
    "\n",
    "Um teste de hipóteses é um procedimento em que utilizamos resultados experimentais provenientes de uma amostragem para verificar se, uma afirmação sobre uma população, mais especificamente sobre um parâmetro dessa população, é contrariada ou não.\n",
    "\n",
    "Vamos enteder alguns conceitos básicos sobre os testes de hipóteses que serão utilizados ao longo da unidade.\n",
    "\n",
    "## Hipótese nula\n",
    "\n",
    "Hipótese nula, denotada por $H_0$, é uma hipótese estatística que contém uma afirmativa de igualdade e deve escrever como =, $\\geqslant$ ou $\\leqslant$.\n",
    "\n",
    "**Para uma média**, temos as três formas possíveis para a hipótese nula:\n",
    "\n",
    "* Onde $\\mu_0$ é algum valor que você deseja testar\n",
    "\n",
    "    $H_0$: $\\mu = \\mu_0$\n",
    "\n",
    "    $H_0$: $\\mu \\geqslant \\mu_0$\n",
    "\n",
    "    $H_0$: $\\mu \\leqslant \\mu_0$\n",
    "\n",
    "**Para uma proporção**, temos as três formas possíveis para a hipótese nula. \n",
    "\n",
    "*  Onde, $p_0$ é algum valor que você deseja testar.\n",
    "\n",
    "    $H_0: p = p_0$\n",
    "\n",
    "    $H_0: p \\geqslant p_0$\n",
    "\n",
    "    $H_0: p \\leqslant p_0$\n",
    "\n",
    "### Tipos de erros \n",
    "\n",
    "Decisão      |  $H_0$ é verdadeira           | $H_0$ é falso\n",
    ":------------|:------------------------------|:-----------------------\n",
    "**Aceita $H_0$** | Decisão correta (1 - $\\alpha$)| Erro do tipo II $\\beta$\n",
    "**Rejeita $H_0$**| Erro do tipo I $\\alpha$       | Decisão correta (1-$\\beta$)\n",
    "\n",
    "### Nível de significância\n",
    "\n",
    "O **nível de significância $\\alpha$** de um teste é a probabilidade de uma hipótese nula ser rejeitada, quando verdadeira.\n",
    "\n",
    "### Estatística de teste\n",
    "\n",
    "A **estatística de teste** é uma estatística amostral, ou um valor baseado nos dados amostrais. Utiliza-se uma estatística de teste para tomar uma decisão sobre rejeição ou não da hipótese nula;\n",
    "\n",
    "*O valor $p$ quantifica o erro cometido ao rejeitar a hipótese nula*. Um valor $p$ muito pequeno sugere que os resultados amostrais são muito prováveis sob a hipótese nula, ou seja, constitui evidência contra a hipótese nula.\n",
    "\n",
    "O critério de decisão baseado no valor $p$ é feito da seguinte maneira:\n",
    "\n",
    "* **Rejeitar** a hipótese nula ($H_0$) se o valor $p$ é no máximo igual ao nível de significância ($\\alpha$).\n",
    "\n",
    "* **Não rejeitar** a hipótese nula ($H_0$) se o valor $p$ é maior do que o nível de significância ($\\alpha$).\n"
   ]
  },
  {
   "cell_type": "code",
   "execution_count": null,
   "metadata": {},
   "outputs": [],
   "source": []
  }
 ],
 "metadata": {
  "language_info": {
   "codemirror_mode": {
    "name": "ipython",
    "version": 3
   },
   "file_extension": ".py",
   "mimetype": "text/x-python",
   "name": "python",
   "nbconvert_exporter": "python",
   "pygments_lexer": "ipython3",
   "version": 3
  },
  "orig_nbformat": 2
 },
 "nbformat": 4,
 "nbformat_minor": 2
}