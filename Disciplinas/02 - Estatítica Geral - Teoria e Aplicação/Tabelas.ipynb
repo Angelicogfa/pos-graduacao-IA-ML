{
 "cells": [
  {
   "cell_type": "markdown",
   "metadata": {},
   "source": [
    "# Tabelas\n",
    "\n",
    "Um dos primeiros passos para analisar um arquivo de dados, especialmente quando o número de observações for grande, é a distribuição de frequência de cada variável.\n",
    "\n",
    "* Uma distribuição de frequência é uma tabela que mostra categorias, valores ou intervalos de valores de acordo com as ocorrências.\n",
    "\n",
    "## Distribuição de frequência\n",
    "\n",
    "Tabela 1 - Distribuição de frequência do provedor usado pelo visitante do site\n",
    "\n",
    "Provedor  |  Frequência |  Porcentagem  \n",
    "--------- | ----------- | ------------\n",
    "     A    |       10    |     25,0      \n",
    "     B    |       17    |     42,5      \n",
    "     C    |       7     |     17,5    \n",
    "     D    |       6     |     15,0                    \n",
    "     Total|       40    |     100,0      \n"
   ]
  },
  {
   "cell_type": "code",
   "execution_count": null,
   "metadata": {},
   "outputs": [],
   "source": []
  },
  {
   "cell_type": "code",
   "execution_count": null,
   "metadata": {},
   "outputs": [],
   "source": []
  }
 ],
 "metadata": {
  "language_info": {
   "codemirror_mode": {
    "name": "ipython",
    "version": 3
   },
   "file_extension": ".py",
   "mimetype": "text/x-python",
   "name": "python",
   "nbconvert_exporter": "python",
   "pygments_lexer": "ipython3",
   "version": 3
  },
  "orig_nbformat": 2
 },
 "nbformat": 4,
 "nbformat_minor": 2
}