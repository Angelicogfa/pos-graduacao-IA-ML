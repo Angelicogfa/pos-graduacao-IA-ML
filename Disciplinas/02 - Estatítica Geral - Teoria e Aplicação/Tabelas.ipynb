{
 "cells": [
  {
   "cell_type": "code",
   "execution_count": 49,
   "metadata": {},
   "outputs": [],
   "source": [
    "import pandas as pd\n",
    "import numpy as np"
   ]
  },
  {
   "cell_type": "markdown",
   "metadata": {},
   "source": [
    "# Tabelas\n",
    "\n",
    "Um dos primeiros passos para analisar um arquivo de dados, especialmente quando o número de observações for grande, é a distribuição de frequência de cada variável.\n",
    "\n",
    "* Uma distribuição de frequência é uma tabela que mostra categorias, valores ou intervalos de valores de acordo com as ocorrências.\n",
    "\n",
    "## Distribuição de frequência\n",
    "\n",
    "Tabela 1 - Distribuição de frequência do provedor usado pelo visitante do site\n",
    "\n",
    "Provedor  |  Frequência |  Porcentagem  (Frequência Relativa)\n",
    "--------- | ----------- | ------------\n",
    "     A    |       10    |     25,0      \n",
    "     B    |       17    |     42,5      \n",
    "     C    |       7     |     17,5    \n",
    "     D    |       6     |     15,0                    \n",
    "     Total|       40    |     100,0  \n"
   ]
  },
  {
   "cell_type": "code",
   "execution_count": null,
   "metadata": {},
   "outputs": [],
   "source": [
    "tab1 = pd.DataFrame([[\"A\", 10, 25.0], [\"B\", 17, 42.5], [\"C\", 7, 17.5], [\"D\", 6, 15.0], [\"Total\", 40, 100.00]], columns=[\"Provedor\", \"Frequência\", \"Porcentagem\"])\n",
    "\n",
    "tab1"
   ]
  },
  {
   "cell_type": "markdown",
   "metadata": {},
   "source": [
    "\n",
    "## Distribuição de frequência acumulada\n",
    "\n",
    "Tabela 2 - Distribuição de frequência do número de defeitos encontrados em escalas no final da linha de produção\n",
    "Aplicado normalmente em variaveis categorias, podendo ser aplicado tambem à variaveis do tipo numerica ordinal.\n",
    "\n",
    "Nº Defeitos Encontrados  | Frequência | Porcentagem | Frêquencia Acumulada | Porcentagem Acumulada \n",
    ":------------------------|:----------:|:-----------:|:--------------------:|:---------------------:\n",
    "0                        |    13      |      27,1   |         13           |         27,1\n",
    "1                        |    15      |      31,3   |         28           |         58,4\n",
    "2                        |    10      |      20,8   |         38           |         79,2\n",
    "3                        |    7       |      14,6   |         45           |         93,8\n",
    "4                        |    2       |      4,2    |         47           |         98\n",
    "7                        |    1       |      2,1    |         48           |         100\n",
    "**Total**                |    48      |      100,0  |                      |\n"
   ]
  },
  {
   "cell_type": "code",
   "execution_count": 16,
   "metadata": {},
   "outputs": [
    {
     "output_type": "execute_result",
     "data": {
      "text/plain": "  Nº Defeitos  Frequência  Porcentagem Frequencia Acumulada  \\\n0           0          13         27.1                   13   \n1           1          15         31.3                   28   \n2           2          10         20.8                   38   \n3           3           7         14.6                   45   \n4           4           2          4.2                   47   \n5           7           1          2.1                   48   \n6       Total          48        100.0                        \n\n  Porcentagem Acumulada  \n0                  27.1  \n1                  58.4  \n2                  79.2  \n3                  93.8  \n4                    98  \n5                   100  \n6                        ",
      "text/html": "<div>\n<style scoped>\n    .dataframe tbody tr th:only-of-type {\n        vertical-align: middle;\n    }\n\n    .dataframe tbody tr th {\n        vertical-align: top;\n    }\n\n    .dataframe thead th {\n        text-align: right;\n    }\n</style>\n<table border=\"1\" class=\"dataframe\">\n  <thead>\n    <tr style=\"text-align: right;\">\n      <th></th>\n      <th>Nº Defeitos</th>\n      <th>Frequência</th>\n      <th>Porcentagem</th>\n      <th>Frequencia Acumulada</th>\n      <th>Porcentagem Acumulada</th>\n    </tr>\n  </thead>\n  <tbody>\n    <tr>\n      <td>0</td>\n      <td>0</td>\n      <td>13</td>\n      <td>27.1</td>\n      <td>13</td>\n      <td>27.1</td>\n    </tr>\n    <tr>\n      <td>1</td>\n      <td>1</td>\n      <td>15</td>\n      <td>31.3</td>\n      <td>28</td>\n      <td>58.4</td>\n    </tr>\n    <tr>\n      <td>2</td>\n      <td>2</td>\n      <td>10</td>\n      <td>20.8</td>\n      <td>38</td>\n      <td>79.2</td>\n    </tr>\n    <tr>\n      <td>3</td>\n      <td>3</td>\n      <td>7</td>\n      <td>14.6</td>\n      <td>45</td>\n      <td>93.8</td>\n    </tr>\n    <tr>\n      <td>4</td>\n      <td>4</td>\n      <td>2</td>\n      <td>4.2</td>\n      <td>47</td>\n      <td>98</td>\n    </tr>\n    <tr>\n      <td>5</td>\n      <td>7</td>\n      <td>1</td>\n      <td>2.1</td>\n      <td>48</td>\n      <td>100</td>\n    </tr>\n    <tr>\n      <td>6</td>\n      <td>Total</td>\n      <td>48</td>\n      <td>100.0</td>\n      <td></td>\n      <td></td>\n    </tr>\n  </tbody>\n</table>\n</div>"
     },
     "metadata": {},
     "execution_count": 16
    }
   ],
   "source": [
    "tab2 = pd.DataFrame([[0, 13, 27.1, 13, 27.1], [1, 15, 31.3, 28, 58.4], [2, 10, 20.8, 38, 79.2], [3, 7, 14.6, 45, 93.8], [4, 2, 4.2, 47, 98], [7, 1, 2.1, 48, 100], [\"Total\", 48, 100.0, \"\", \"\"]], columns=[\"Nº Defeitos\", \"Frequência\", \"Porcentagem\", \"Frequencia Acumulada\", \"Porcentagem Acumulada\"])\n",
    "tab2"
   ]
  },
  {
   "cell_type": "markdown",
   "metadata": {},
   "source": [
    "## Distribuição de frequência por intervalo\n",
    "Exemplo 1: Os dados, a seguir, representam o tempo (em segundos) que operadores gastam para montar um equipamento na linha de produção de uma empresa:\n",
    "\n",
    "```python\n",
    "itens = [4.7, 4.9, 5.1, 5.4, 5.7, 6.0, 6.3, 6.8, 7.3, 8.9,\n",
    "         4.8, 4.9, 5.2, 5.5, 5.7, 6.2, 6.4, 6.9, 8.2, 9.1,\n",
    "         4.8, 5.0, 5.3, 5.6, 5.7, 6.2, 6.5, 7.0, 8.2, 9.9, \n",
    "         4.9, 5.0, 5.4, 5.6, 5.9, 6.2, 6.7, 7.1, 8.3, 14.1,\n",
    "         4.9, 5.0, 5.4, 5.7, 6.0, 6.3, 6.8, 7.3, 8.4, 15.2]\n",
    "```\n",
    "\n",
    "A Regra de Sturges é uma das regras mais utilizadas na Estatística para consutrução de uma tabela de frequência por intervalos. Isso porque a fórmula de Sturges nos fornece uma quantidade adqueda de classes para os mais variados tamanhos de amostras.\n",
    "\n",
    "A regra de Sturges envolve os seguintes passos:\n",
    "\n",
    "* Cálculo da amplitude: $\\mathrm{A = max - min}$\n",
    "* Cálculo do número de intervalos ou classes da tabela: $\\mathrm{k=1+3,22.log \\ n}$\n",
    "* Cálculo da amplitude dos intervalos: $\\mathrm{A_k = \\frac{A}{K}}$\n",
    "\n",
    "$\\mathrm{A = 15,2 - 4,7 = 10,5}$\n",
    "\n",
    "$\\mathrm{K = 1 + 3,322 . log \\ 50 => 1 + 3,322 . 1,699 = 6,644}$ \n",
    "\n",
    "$\\mathrm{A_k = 10,5 / 6 = 1,75}$\n",
    "\n",
    "Nesse caso vamos escolher 6 classes, cada classe deverá ter uma amplitude de 1,8 segundos, seguimos o mesmo número de casas decimais dos dados da amostra.\n",
    "\n",
    "Tempo      |  Frequência  | Porcentagem | Fre. Acumulada | Porc. Acumulada\n",
    ":---------:|:------------:|:-----------:|:--------------:|:---------------:\n",
    "4,7 a 6,5  |      32      |      64,0   |     32         |   64,0\n",
    "6,5 a 8,3  |      11      |      22,0   |     43         |   86,0\n",
    "8,3 a 10,1 |      5       |      10,0   |     48         |   96,0         \n",
    "10,1 a 11,9|      0       |       0,0   |     48         |   96,0\n",
    "11,9 a 13,7|      0       |       0,0   |     48         |   96,0\n",
    "13,7 a 15,5|      2       |       4,0   |     50         |  100,0\n",
    "-----------|--------------|-------------|----------------|------------------\n",
    "Total      |     50       |      100,0  |      -         |       -  "
   ]
  },
  {
   "cell_type": "code",
   "execution_count": 134,
   "metadata": {},
   "outputs": [
    {
     "output_type": "stream",
     "name": "stdout",
     "text": "frenquencias capturadas:  [4.7|--6.5, 4.7|--6.5, 4.7|--6.5, 4.7|--6.5, 4.7|--6.5, ..., 8.3|--10.1, 8.3|--10.1, 8.3|--10.1, 13.7|--15.5, 13.7|--15.5]\nLength: 50\nCategories (6, object): [4.7|--6.5 < 6.5|--8.3 < 8.3|--10.1 < 10.1|--11.9 < 11.9|--13.7 < 13.7|--15.5]\n\n"
    },
    {
     "output_type": "execute_result",
     "data": {
      "text/plain": "         Tempo  Frequência  Percentual  Frequência Acumulada  \\\n0    4.7|--6.5          32        64.0                    32   \n1    6.5|--8.3          11        22.0                    43   \n2   8.3|--10.1           5        10.0                    48   \n3  10.1|--11.9           0         0.0                    48   \n4  11.9|--13.7           0         0.0                    48   \n5  13.7|--15.5           2         4.0                    50   \n\n   Percentual Acumulado  \n0                  64.0  \n1                  86.0  \n2                  96.0  \n3                  96.0  \n4                  96.0  \n5                 100.0  ",
      "text/html": "<div>\n<style scoped>\n    .dataframe tbody tr th:only-of-type {\n        vertical-align: middle;\n    }\n\n    .dataframe tbody tr th {\n        vertical-align: top;\n    }\n\n    .dataframe thead th {\n        text-align: right;\n    }\n</style>\n<table border=\"1\" class=\"dataframe\">\n  <thead>\n    <tr style=\"text-align: right;\">\n      <th></th>\n      <th>Tempo</th>\n      <th>Frequência</th>\n      <th>Percentual</th>\n      <th>Frequência Acumulada</th>\n      <th>Percentual Acumulado</th>\n    </tr>\n  </thead>\n  <tbody>\n    <tr>\n      <td>0</td>\n      <td>4.7|--6.5</td>\n      <td>32</td>\n      <td>64.0</td>\n      <td>32</td>\n      <td>64.0</td>\n    </tr>\n    <tr>\n      <td>1</td>\n      <td>6.5|--8.3</td>\n      <td>11</td>\n      <td>22.0</td>\n      <td>43</td>\n      <td>86.0</td>\n    </tr>\n    <tr>\n      <td>2</td>\n      <td>8.3|--10.1</td>\n      <td>5</td>\n      <td>10.0</td>\n      <td>48</td>\n      <td>96.0</td>\n    </tr>\n    <tr>\n      <td>3</td>\n      <td>10.1|--11.9</td>\n      <td>0</td>\n      <td>0.0</td>\n      <td>48</td>\n      <td>96.0</td>\n    </tr>\n    <tr>\n      <td>4</td>\n      <td>11.9|--13.7</td>\n      <td>0</td>\n      <td>0.0</td>\n      <td>48</td>\n      <td>96.0</td>\n    </tr>\n    <tr>\n      <td>5</td>\n      <td>13.7|--15.5</td>\n      <td>2</td>\n      <td>4.0</td>\n      <td>50</td>\n      <td>100.0</td>\n    </tr>\n  </tbody>\n</table>\n</div>"
     },
     "metadata": {},
     "execution_count": 134
    }
   ],
   "source": [
    "# gerando os valores da tabela\n",
    "itens = np.array([4.7, 4.9, 5.1, 5.4, 5.7, 6.0, 6.3, 6.8, 7.3, 8.9,\n",
    "         4.8, 4.9, 5.2, 5.5, 5.7, 6.2, 6.4, 6.9, 8.2, 9.1,\n",
    "         4.8, 5.0, 5.3, 5.6, 5.7, 6.2, 6.5, 7.0, 8.2, 9.9, \n",
    "         4.9, 5.0, 5.4, 5.6, 5.9, 6.2, 6.7, 7.1, 8.3, 14.1,\n",
    "         4.9, 5.0, 5.4, 5.7, 6.0, 6.3, 6.8, 7.3, 8.4, 15.2])\n",
    "# ordenando os itens\n",
    "itens.sort()\n",
    "\n",
    "# Obtendo as variaveis para calculo da distribuição\n",
    "menor = np.round(itens.min(), 1)\n",
    "maior = np.round(itens.max(), 1)\n",
    "\n",
    "# Calculando os indices para montagem da tabela\n",
    "n = len(itens)\n",
    "a = maior - menor\n",
    "k = (1 + 3.322 * np.log10(n)) // 1\n",
    "ak = np.round(a / k, 1)\n",
    "\n",
    "# Definindo as frequencias\n",
    "frequencias = np.array([])\n",
    "\n",
    "valor = menor\n",
    "while valor < itens.max():\n",
    "    nvalor = np.round(valor + ak, 1)\n",
    "    frequencias = np.append(frequencias, f'{valor}|--{nvalor}')\n",
    "    valor = nvalor\n",
    "\n",
    "# Pesquisando os registros com base nas frequencias definidas\n",
    "freq_abs = pd.cut(itens, len(frequencias), labels=frequencias)\n",
    "\n",
    "# Montando o dataframe\n",
    "df = pd.DataFrame(freq_abs.value_counts(), columns=[\"Frequência\"])\n",
    "df.reset_index(inplace=True)\n",
    "df.rename(columns={\"index\": \"Tempo\"}, inplace=True)\n",
    "df[\"Percentual\"] = df[\"Frequência\"] / n * 100\n",
    "df[\"Frequência Acumulada\"] = df[\"Frequência\"].cumsum()\n",
    "df[\"Percentual Acumulado\"] = df[\"Percentual\"].cumsum()\n",
    "df\n",
    "\n",
    "\n",
    "\n",
    "\n"
   ]
  },
  {
   "cell_type": "code",
   "execution_count": null,
   "metadata": {},
   "outputs": [],
   "source": []
  }
 ],
 "metadata": {
  "language_info": {
   "codemirror_mode": {
    "name": "ipython",
    "version": 3
   },
   "file_extension": ".py",
   "mimetype": "text/x-python",
   "name": "python",
   "nbconvert_exporter": "python",
   "pygments_lexer": "ipython3",
   "version": "3.7.4-final"
  },
  "orig_nbformat": 2,
  "kernelspec": {
   "name": "python37464bitbaseconda450caa3755604202b64d884a4c73ba4c",
   "display_name": "Python 3.7.4 64-bit ('base': conda)"
  }
 },
 "nbformat": 4,
 "nbformat_minor": 2
}