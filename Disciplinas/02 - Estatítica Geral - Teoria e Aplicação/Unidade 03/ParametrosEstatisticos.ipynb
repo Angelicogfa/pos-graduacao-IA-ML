{
 "cells": [
  {
   "cell_type": "markdown",
   "metadata": {},
   "source": [
    "## Inferência Estatística\n",
    "\n",
    "A estimação é o processo que consiste em utilizar dados amostrais para estimar os valores de parâmetros populacionais desconhecidos. Essencialmente, qualquer caracteristica de uma população pode ser estimada a partir de uma amostra aleatória.\n",
    "\n",
    "Entre os estimadores mais comumns estão a média amostral $\\overline{x}$, o desvio padrão amostral $\\mathrm{s}$ e a proporção amostral $\\hat{p}$ como estimadores da média populacional $\\mu$, do desvio padrão populacional $\\sigma$ e da proporção populacional $\\mathrm{p}$, respectivamente.\n",
    "\n",
    "### Estimativa pontual\n",
    "\n",
    "É um valor obtido através de uma amostra e que poderá ser utilizado como possível parâmetro para a estimativa.\n",
    "\n",
    "Parâmetro populacional  | Estimador\n",
    ":-----------------------|:-----------\n",
    "$\\mu$ (Média)           | $\\overline{x} = \\frac{\\sum^n_{x=1} X_i}{n}$\n",
    "$\\sigma$ (Desvio padrão)| $s = \\sqrt{ \\frac{\\sum^n_{x=1}(x_i - \\overline{x})^2}{n-1} }$\n",
    "$\\mathrm{p}$ (Proporção) | $\\hat{p} = \\frac{x}{n} = \\frac{nº \\ de \\ itens \\ na \\ amostra \\ que \\ representam \\ a \\ caracteristica \\ de \\ interesse}{tamanho \\ da \\ amostra}$\n",
    "\n",
    "### Estimativa intervalar\n",
    "\n",
    "A **estimativa é intervalar** quando, a partir da estatística amostral, construímos um intervalo de valores possíveis no qual se admite, sob certa probabilidade, esteja contido o parâmetro populacional.\n",
    "\n",
    "Quadro resumo:\n",
    "\n",
    "Parâmetro  |   Estimativa Pontual                      | Estimativa Intervalar                 | Margem de Erro                                        | Quando usar\n",
    "-----------|:------------------------------------------|:--------------------------------------|:------------------------------------------------------|:----------------------------------------------\n",
    "$\\mu$      |$\\overline{x} = \\frac{\\sum^n_{x=1} X_i}{n}$| $\\overline{x}\\underline{+} \\mathrm{E}$|$E = z\\frac{a}{2}. \\frac{\\sigma}{\\sqrt{n}}$            |Desvio padrão populacional $\\sigma$ é conhecido\n",
    "$\\mu$      |$\\overline{x} = \\frac{\\sum^n_{x=1} X_i}{n}$| $\\overline{x}\\underline{+} \\mathrm{E}$|$E = t\\frac{a}{2}. \\frac{S}{\\sqrt{n}}$                 |Desvio padrão populacional $\\sigma$ não é conhecido\n",
    "p          |$\\hat{p} = \\frac{x}{n}$                    | $\\hat{p} \\underline{+} \\mathrm{E}$    |$E = z\\frac{a}{2}. \\sqrt{\\frac{\\hat{p}(1-\\hat{p})}{n}}$| $n.\\hat{p} \\geqslant 5$ e $n.(1-\\hat{p})  \\geqslant 5$ "
   ]
  },
  {
   "cell_type": "code",
   "execution_count": null,
   "metadata": {},
   "outputs": [],
   "source": []
  },
  {
   "cell_type": "code",
   "execution_count": null,
   "metadata": {},
   "outputs": [],
   "source": []
  }
 ],
 "metadata": {
  "language_info": {
   "codemirror_mode": {
    "name": "ipython",
    "version": 3
   },
   "file_extension": ".py",
   "mimetype": "text/x-python",
   "name": "python",
   "nbconvert_exporter": "python",
   "pygments_lexer": "ipython3",
   "version": 3
  },
  "orig_nbformat": 2
 },
 "nbformat": 4,
 "nbformat_minor": 2
}