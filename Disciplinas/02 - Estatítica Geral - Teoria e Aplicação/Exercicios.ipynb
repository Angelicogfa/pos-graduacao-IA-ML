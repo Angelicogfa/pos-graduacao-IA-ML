{
 "cells": [
  {
   "cell_type": "code",
   "execution_count": 106,
   "metadata": {},
   "outputs": [],
   "source": [
    "import numpy as np\n",
    "import scipy.stats as st"
   ]
  },
  {
   "cell_type": "markdown",
   "metadata": {},
   "source": [
    "1 - Em certo banco de dados, o tempo para a realização das buscas é aproximadamente normal com média de 53 segundos e desvio padrão de 14 segundos. Depois de realizadas algumas modificações no sistema, observou-se que, em 30 consultas, o tempo médio caiu para 45 segundos. Ha evidencias de melhora ? Admita que as 30 observações possam ser consideradas uma amostra aleatória e que não houve alteração na variância. O valor p encontrado é igual a 0,00087. Utilizando um nível de significancia de 1%.\n",
    "\n",
    "$x$ = 53\n",
    "\n",
    "$\\mu$ = 45\n",
    "\n",
    "$\\sigma$ = 14\n",
    "\n",
    "n = 30\n",
    "\n",
    "a = 1% ou 0.01\n",
    "\n",
    "$H_0$ = as medias são iguais $\\mu$ = $x$\n",
    "\n",
    "$H_a$ = as medias são diferentes $\\mu$ != $x$"
   ]
  },
  {
   "cell_type": "code",
   "execution_count": 109,
   "metadata": {
    "tags": []
   },
   "outputs": [
    {
     "output_type": "stream",
     "name": "stdout",
     "text": "3.1298431857438063\n0.5039893563146316\n"
    }
   ],
   "source": [
    "x = 53\n",
    "u = 45\n",
    "s = 14\n",
    "n = 30\n",
    "a = 0.01\n",
    "\n",
    "def z_test(x, u, std, n):\n",
    "    return (x - u ) / std * np.sqrt(n)\n",
    "\n",
    "z = z_test(x, u, s, n)\n",
    "print(z)\n",
    "\n",
    "p = st.norm.cdf(a)\n",
    "print(p)\n",
    "\n"
   ]
  },
  {
   "cell_type": "code",
   "execution_count": 104,
   "metadata": {
    "tags": []
   },
   "outputs": [
    {
     "output_type": "stream",
     "name": "stdout",
     "text": "1.6980878243884776\n"
    }
   ],
   "source": [
    "def z2p(z):\n",
    "    \"\"\"From z-score return p-value.\"\"\"\n",
    "    return 0.5 * (1 + scsp.erf(z / np.sqrt(2)))\n",
    "\n",
    "d1 = np.random.normal(53, 14, 30)\n",
    "d2 = np.random.normal(45, 14, 30)\n",
    "\n",
    "(s, pvalue) = st.ttest_ind(d1, d2)\n",
    "\n",
    "# print(st.norm.cdf(pvalue))\n",
    "print(s)"
   ]
  },
  {
   "cell_type": "code",
   "execution_count": null,
   "metadata": {},
   "outputs": [],
   "source": []
  }
 ],
 "metadata": {
  "language_info": {
   "codemirror_mode": {
    "name": "ipython",
    "version": 3
   },
   "file_extension": ".py",
   "mimetype": "text/x-python",
   "name": "python",
   "nbconvert_exporter": "python",
   "pygments_lexer": "ipython3",
   "version": "3.7.4-final"
  },
  "orig_nbformat": 2,
  "kernelspec": {
   "name": "python37464bitbaseconda450caa3755604202b64d884a4c73ba4c",
   "display_name": "Python 3.7.4 64-bit ('base': conda)"
  }
 },
 "nbformat": 4,
 "nbformat_minor": 2
}