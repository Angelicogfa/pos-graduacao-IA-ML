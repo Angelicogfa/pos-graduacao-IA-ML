{
 "metadata": {
  "language_info": {
   "codemirror_mode": {
    "name": "ipython",
    "version": 3
   },
   "file_extension": ".py",
   "mimetype": "text/x-python",
   "name": "python",
   "nbconvert_exporter": "python",
   "pygments_lexer": "ipython3",
   "version": "3.7.6-final"
  },
  "orig_nbformat": 2,
  "kernelspec": {
   "name": "python_defaultSpec_1597931956589",
   "display_name": "Python 3.7.6 64-bit ('base': conda)"
  }
 },
 "nbformat": 4,
 "nbformat_minor": 2,
 "cells": [
  {
   "cell_type": "markdown",
   "metadata": {},
   "source": [
    "# Regressão multipla\n",
    "\n",
    "Exemplo de análise com regressão multipla usando os dados do Airbnb\n",
    "\n",
    "## Objeto\n",
    "\n",
    "Modelar a taxa mensal de avaliações (ocupação.)\n",
    "\n"
   ]
  },
  {
   "cell_type": "code",
   "execution_count": 5,
   "metadata": {},
   "outputs": [],
   "source": [
    "import pandas as pd\n",
    "import numpy as np\n",
    "import matplotlib.pyplot as plt\n",
    "\n",
    "df = pd.read_excel('Dados/DadosAirbnbIA.xls', sheet_name=0)"
   ]
  },
  {
   "cell_type": "code",
   "execution_count": 6,
   "metadata": {},
   "outputs": [
    {
     "output_type": "execute_result",
     "data": {
      "text/plain": "   ID  ID da hospedagem                         Nome da hospedagem  \\\n0   1              2539         Clean & quiet apt home by the park   \n1   2              2595                      Skylit Midtown Castle   \n2   6              5099  Large Cozy 1 BR Apartment In Midtown East   \n3  23              8025                   CBG Helps Haiti Room#2.5   \n4  24              8110                      CBG Helps Haiti Rm #2   \n\n   ID do Hospede Nome do Hospede Grupo de vizinhança   latitude  longitude  \\\n0           2787            John            Brooklyn  4064749.0   -7397237   \n1           2845        Jennifer           Manhattan  4075362.0   -7398377   \n2           7322           Chris           Manhattan  4074767.0     -73975   \n3          22486           Lisel            Brooklyn  4067989.0   -7397798   \n4          22486           Lisel            Brooklyn  4068001.0   -7397865   \n\n  Tipo de hospedagem  Preço  locação mínima  Número de avaliações  \\\n0   Quarto Privativo    125               1                     9   \n1    Ap/Casa inteira     79               1                    45   \n2    Ap/Casa inteira     60               3                    74   \n3   Quarto Privativo     80               1                    39   \n4   Quarto Privativo     60               2                    71   \n\n   Taxa mesal de ocupação  Número máximo de hóspedes  Disponibilidade anual  \n0                    0.21                          6                    365  \n1                    0.38                          2                    355  \n2                    0.59                          1                    129  \n3                    0.37                          6                    364  \n4                    0.61                          6                    304  ",
      "text/html": "<div>\n<style scoped>\n    .dataframe tbody tr th:only-of-type {\n        vertical-align: middle;\n    }\n\n    .dataframe tbody tr th {\n        vertical-align: top;\n    }\n\n    .dataframe thead th {\n        text-align: right;\n    }\n</style>\n<table border=\"1\" class=\"dataframe\">\n  <thead>\n    <tr style=\"text-align: right;\">\n      <th></th>\n      <th>ID</th>\n      <th>ID da hospedagem</th>\n      <th>Nome da hospedagem</th>\n      <th>ID do Hospede</th>\n      <th>Nome do Hospede</th>\n      <th>Grupo de vizinhança</th>\n      <th>latitude</th>\n      <th>longitude</th>\n      <th>Tipo de hospedagem</th>\n      <th>Preço</th>\n      <th>locação mínima</th>\n      <th>Número de avaliações</th>\n      <th>Taxa mesal de ocupação</th>\n      <th>Número máximo de hóspedes</th>\n      <th>Disponibilidade anual</th>\n    </tr>\n  </thead>\n  <tbody>\n    <tr>\n      <th>0</th>\n      <td>1</td>\n      <td>2539</td>\n      <td>Clean &amp; quiet apt home by the park</td>\n      <td>2787</td>\n      <td>John</td>\n      <td>Brooklyn</td>\n      <td>4064749.0</td>\n      <td>-7397237</td>\n      <td>Quarto Privativo</td>\n      <td>125</td>\n      <td>1</td>\n      <td>9</td>\n      <td>0.21</td>\n      <td>6</td>\n      <td>365</td>\n    </tr>\n    <tr>\n      <th>1</th>\n      <td>2</td>\n      <td>2595</td>\n      <td>Skylit Midtown Castle</td>\n      <td>2845</td>\n      <td>Jennifer</td>\n      <td>Manhattan</td>\n      <td>4075362.0</td>\n      <td>-7398377</td>\n      <td>Ap/Casa inteira</td>\n      <td>79</td>\n      <td>1</td>\n      <td>45</td>\n      <td>0.38</td>\n      <td>2</td>\n      <td>355</td>\n    </tr>\n    <tr>\n      <th>2</th>\n      <td>6</td>\n      <td>5099</td>\n      <td>Large Cozy 1 BR Apartment In Midtown East</td>\n      <td>7322</td>\n      <td>Chris</td>\n      <td>Manhattan</td>\n      <td>4074767.0</td>\n      <td>-73975</td>\n      <td>Ap/Casa inteira</td>\n      <td>60</td>\n      <td>3</td>\n      <td>74</td>\n      <td>0.59</td>\n      <td>1</td>\n      <td>129</td>\n    </tr>\n    <tr>\n      <th>3</th>\n      <td>23</td>\n      <td>8025</td>\n      <td>CBG Helps Haiti Room#2.5</td>\n      <td>22486</td>\n      <td>Lisel</td>\n      <td>Brooklyn</td>\n      <td>4067989.0</td>\n      <td>-7397798</td>\n      <td>Quarto Privativo</td>\n      <td>80</td>\n      <td>1</td>\n      <td>39</td>\n      <td>0.37</td>\n      <td>6</td>\n      <td>364</td>\n    </tr>\n    <tr>\n      <th>4</th>\n      <td>24</td>\n      <td>8110</td>\n      <td>CBG Helps Haiti Rm #2</td>\n      <td>22486</td>\n      <td>Lisel</td>\n      <td>Brooklyn</td>\n      <td>4068001.0</td>\n      <td>-7397865</td>\n      <td>Quarto Privativo</td>\n      <td>60</td>\n      <td>2</td>\n      <td>71</td>\n      <td>0.61</td>\n      <td>6</td>\n      <td>304</td>\n    </tr>\n  </tbody>\n</table>\n</div>"
     },
     "metadata": {},
     "execution_count": 6
    }
   ],
   "source": [
    "df.head()"
   ]
  },
  {
   "cell_type": "code",
   "execution_count": 7,
   "metadata": {
    "tags": []
   },
   "outputs": [
    {
     "output_type": "stream",
     "name": "stdout",
     "text": "<class 'pandas.core.frame.DataFrame'>\nRangeIndex: 211 entries, 0 to 210\nData columns (total 15 columns):\n #   Column                     Non-Null Count  Dtype  \n---  ------                     --------------  -----  \n 0   ID                         211 non-null    int64  \n 1   ID da hospedagem           211 non-null    int64  \n 2   Nome da hospedagem         211 non-null    object \n 3   ID do Hospede              211 non-null    int64  \n 4   Nome do Hospede            211 non-null    object \n 5   Grupo de vizinhança        211 non-null    object \n 6   latitude                   209 non-null    float64\n 7   longitude                  211 non-null    int64  \n 8   Tipo de hospedagem         211 non-null    object \n 9   Preço                      211 non-null    int64  \n 10  locação mínima             211 non-null    int64  \n 11  Número de avaliações       211 non-null    int64  \n 12  Taxa mesal de ocupação     211 non-null    float64\n 13  Número máximo de hóspedes  211 non-null    int64  \n 14  Disponibilidade anual      211 non-null    int64  \ndtypes: float64(2), int64(9), object(4)\nmemory usage: 24.9+ KB\n"
    }
   ],
   "source": [
    "df.info()"
   ]
  },
  {
   "cell_type": "code",
   "execution_count": 8,
   "metadata": {},
   "outputs": [
    {
     "output_type": "execute_result",
     "data": {
      "text/plain": "               ID  ID da hospedagem  ID do Hospede      latitude  \\\ncount  211.000000        211.000000   2.110000e+02  2.090000e+02   \nmean   300.440758      93579.838863   4.499419e+05  3.681804e+06   \nstd    174.646200      68721.006998   6.456684e+05  1.143813e+06   \nmin      1.000000       2539.000000   2.787000e+03  4.072900e+04   \n25%    136.500000      31728.500000   9.094850e+04  4.068111e+06   \n50%    306.000000      71010.000000   3.066050e+05  4.071813e+06   \n75%    453.500000     159782.000000   6.601125e+05  4.074503e+06   \nmax    593.000000     224006.000000   6.197784e+06  4.085879e+06   \n\n          longitude       Preço  locação mínima  Número de avaliações  \\\ncount  2.110000e+02  211.000000      211.000000            211.000000   \nmean  -6.570193e+06   91.672986        9.303318             36.853081   \nstd    2.211115e+06   24.954476       12.487820             24.373917   \nmin   -7.400821e+06   50.000000        1.000000              1.000000   \n25%   -7.398198e+06   70.000000        2.000000             17.500000   \n50%   -7.396128e+06   89.000000        4.000000             33.000000   \n75%   -7.394719e+06  110.000000        9.500000             54.000000   \nmax   -7.396600e+04  149.000000       90.000000             97.000000   \n\n       Taxa mesal de ocupação  Número máximo de hóspedes  \\\ncount              211.000000                 211.000000   \nmean                 0.381137                   2.037915   \nstd                  0.228768                   3.356370   \nmin                  0.010000                   1.000000   \n25%                  0.200000                   1.000000   \n50%                  0.360000                   1.000000   \n75%                  0.560000                   2.000000   \nmax                  0.890000                  28.000000   \n\n       Disponibilidade anual  \ncount             211.000000  \nmean              204.635071  \nstd               108.078431  \nmin                10.000000  \n25%               102.000000  \n50%               223.000000  \n75%               286.500000  \nmax               365.000000  ",
      "text/html": "<div>\n<style scoped>\n    .dataframe tbody tr th:only-of-type {\n        vertical-align: middle;\n    }\n\n    .dataframe tbody tr th {\n        vertical-align: top;\n    }\n\n    .dataframe thead th {\n        text-align: right;\n    }\n</style>\n<table border=\"1\" class=\"dataframe\">\n  <thead>\n    <tr style=\"text-align: right;\">\n      <th></th>\n      <th>ID</th>\n      <th>ID da hospedagem</th>\n      <th>ID do Hospede</th>\n      <th>latitude</th>\n      <th>longitude</th>\n      <th>Preço</th>\n      <th>locação mínima</th>\n      <th>Número de avaliações</th>\n      <th>Taxa mesal de ocupação</th>\n      <th>Número máximo de hóspedes</th>\n      <th>Disponibilidade anual</th>\n    </tr>\n  </thead>\n  <tbody>\n    <tr>\n      <th>count</th>\n      <td>211.000000</td>\n      <td>211.000000</td>\n      <td>2.110000e+02</td>\n      <td>2.090000e+02</td>\n      <td>2.110000e+02</td>\n      <td>211.000000</td>\n      <td>211.000000</td>\n      <td>211.000000</td>\n      <td>211.000000</td>\n      <td>211.000000</td>\n      <td>211.000000</td>\n    </tr>\n    <tr>\n      <th>mean</th>\n      <td>300.440758</td>\n      <td>93579.838863</td>\n      <td>4.499419e+05</td>\n      <td>3.681804e+06</td>\n      <td>-6.570193e+06</td>\n      <td>91.672986</td>\n      <td>9.303318</td>\n      <td>36.853081</td>\n      <td>0.381137</td>\n      <td>2.037915</td>\n      <td>204.635071</td>\n    </tr>\n    <tr>\n      <th>std</th>\n      <td>174.646200</td>\n      <td>68721.006998</td>\n      <td>6.456684e+05</td>\n      <td>1.143813e+06</td>\n      <td>2.211115e+06</td>\n      <td>24.954476</td>\n      <td>12.487820</td>\n      <td>24.373917</td>\n      <td>0.228768</td>\n      <td>3.356370</td>\n      <td>108.078431</td>\n    </tr>\n    <tr>\n      <th>min</th>\n      <td>1.000000</td>\n      <td>2539.000000</td>\n      <td>2.787000e+03</td>\n      <td>4.072900e+04</td>\n      <td>-7.400821e+06</td>\n      <td>50.000000</td>\n      <td>1.000000</td>\n      <td>1.000000</td>\n      <td>0.010000</td>\n      <td>1.000000</td>\n      <td>10.000000</td>\n    </tr>\n    <tr>\n      <th>25%</th>\n      <td>136.500000</td>\n      <td>31728.500000</td>\n      <td>9.094850e+04</td>\n      <td>4.068111e+06</td>\n      <td>-7.398198e+06</td>\n      <td>70.000000</td>\n      <td>2.000000</td>\n      <td>17.500000</td>\n      <td>0.200000</td>\n      <td>1.000000</td>\n      <td>102.000000</td>\n    </tr>\n    <tr>\n      <th>50%</th>\n      <td>306.000000</td>\n      <td>71010.000000</td>\n      <td>3.066050e+05</td>\n      <td>4.071813e+06</td>\n      <td>-7.396128e+06</td>\n      <td>89.000000</td>\n      <td>4.000000</td>\n      <td>33.000000</td>\n      <td>0.360000</td>\n      <td>1.000000</td>\n      <td>223.000000</td>\n    </tr>\n    <tr>\n      <th>75%</th>\n      <td>453.500000</td>\n      <td>159782.000000</td>\n      <td>6.601125e+05</td>\n      <td>4.074503e+06</td>\n      <td>-7.394719e+06</td>\n      <td>110.000000</td>\n      <td>9.500000</td>\n      <td>54.000000</td>\n      <td>0.560000</td>\n      <td>2.000000</td>\n      <td>286.500000</td>\n    </tr>\n    <tr>\n      <th>max</th>\n      <td>593.000000</td>\n      <td>224006.000000</td>\n      <td>6.197784e+06</td>\n      <td>4.085879e+06</td>\n      <td>-7.396600e+04</td>\n      <td>149.000000</td>\n      <td>90.000000</td>\n      <td>97.000000</td>\n      <td>0.890000</td>\n      <td>28.000000</td>\n      <td>365.000000</td>\n    </tr>\n  </tbody>\n</table>\n</div>"
     },
     "metadata": {},
     "execution_count": 8
    }
   ],
   "source": [
    "df.describe()"
   ]
  },
  {
   "cell_type": "code",
   "execution_count": 14,
   "metadata": {},
   "outputs": [],
   "source": [
    "df.drop(axis=0, columns=['ID', 'Nome da hospedagem', 'ID da hospedagem', 'ID do Hospede', 'Nome do Hospede'], inplace=True)"
   ]
  },
  {
   "cell_type": "code",
   "execution_count": 15,
   "metadata": {},
   "outputs": [
    {
     "output_type": "execute_result",
     "data": {
      "text/plain": "  Grupo de vizinhança   latitude  longitude Tipo de hospedagem  Preço  \\\n0            Brooklyn  4064749.0   -7397237   Quarto Privativo    125   \n1           Manhattan  4075362.0   -7398377    Ap/Casa inteira     79   \n2           Manhattan  4074767.0     -73975    Ap/Casa inteira     60   \n3            Brooklyn  4067989.0   -7397798   Quarto Privativo     80   \n4            Brooklyn  4068001.0   -7397865   Quarto Privativo     60   \n\n   locação mínima  Número de avaliações  Taxa mesal de ocupação  \\\n0               1                     9                    0.21   \n1               1                    45                    0.38   \n2               3                    74                    0.59   \n3               1                    39                    0.37   \n4               2                    71                    0.61   \n\n   Número máximo de hóspedes  Disponibilidade anual  \n0                          6                    365  \n1                          2                    355  \n2                          1                    129  \n3                          6                    364  \n4                          6                    304  ",
      "text/html": "<div>\n<style scoped>\n    .dataframe tbody tr th:only-of-type {\n        vertical-align: middle;\n    }\n\n    .dataframe tbody tr th {\n        vertical-align: top;\n    }\n\n    .dataframe thead th {\n        text-align: right;\n    }\n</style>\n<table border=\"1\" class=\"dataframe\">\n  <thead>\n    <tr style=\"text-align: right;\">\n      <th></th>\n      <th>Grupo de vizinhança</th>\n      <th>latitude</th>\n      <th>longitude</th>\n      <th>Tipo de hospedagem</th>\n      <th>Preço</th>\n      <th>locação mínima</th>\n      <th>Número de avaliações</th>\n      <th>Taxa mesal de ocupação</th>\n      <th>Número máximo de hóspedes</th>\n      <th>Disponibilidade anual</th>\n    </tr>\n  </thead>\n  <tbody>\n    <tr>\n      <th>0</th>\n      <td>Brooklyn</td>\n      <td>4064749.0</td>\n      <td>-7397237</td>\n      <td>Quarto Privativo</td>\n      <td>125</td>\n      <td>1</td>\n      <td>9</td>\n      <td>0.21</td>\n      <td>6</td>\n      <td>365</td>\n    </tr>\n    <tr>\n      <th>1</th>\n      <td>Manhattan</td>\n      <td>4075362.0</td>\n      <td>-7398377</td>\n      <td>Ap/Casa inteira</td>\n      <td>79</td>\n      <td>1</td>\n      <td>45</td>\n      <td>0.38</td>\n      <td>2</td>\n      <td>355</td>\n    </tr>\n    <tr>\n      <th>2</th>\n      <td>Manhattan</td>\n      <td>4074767.0</td>\n      <td>-73975</td>\n      <td>Ap/Casa inteira</td>\n      <td>60</td>\n      <td>3</td>\n      <td>74</td>\n      <td>0.59</td>\n      <td>1</td>\n      <td>129</td>\n    </tr>\n    <tr>\n      <th>3</th>\n      <td>Brooklyn</td>\n      <td>4067989.0</td>\n      <td>-7397798</td>\n      <td>Quarto Privativo</td>\n      <td>80</td>\n      <td>1</td>\n      <td>39</td>\n      <td>0.37</td>\n      <td>6</td>\n      <td>364</td>\n    </tr>\n    <tr>\n      <th>4</th>\n      <td>Brooklyn</td>\n      <td>4068001.0</td>\n      <td>-7397865</td>\n      <td>Quarto Privativo</td>\n      <td>60</td>\n      <td>2</td>\n      <td>71</td>\n      <td>0.61</td>\n      <td>6</td>\n      <td>304</td>\n    </tr>\n  </tbody>\n</table>\n</div>"
     },
     "metadata": {},
     "execution_count": 15
    }
   ],
   "source": [
    "df.head()"
   ]
  },
  {
   "cell_type": "code",
   "execution_count": 16,
   "metadata": {
    "tags": []
   },
   "outputs": [
    {
     "output_type": "stream",
     "name": "stdout",
     "text": "Object `pd.ols` not found.\n"
    }
   ],
   "source": [
    "pd.ols?"
   ]
  },
  {
   "cell_type": "code",
   "execution_count": null,
   "metadata": {},
   "outputs": [],
   "source": []
  }
 ]
}