{
 "metadata": {
  "language_info": {
   "codemirror_mode": {
    "name": "ipython",
    "version": 3
   },
   "file_extension": ".py",
   "mimetype": "text/x-python",
   "name": "python",
   "nbconvert_exporter": "python",
   "pygments_lexer": "ipython3",
   "version": 3
  },
  "orig_nbformat": 2
 },
 "nbformat": 4,
 "nbformat_minor": 2,
 "cells": [
  {
   "source": [
    "# Pre-processamento de dados\n",
    "\n",
    "* Os dados precisam ser pré-processados, codificados e transformados de forma que possam servir de entrada para os algoritmos de mineração de dados, da etapa seguinte.\n",
    "\n",
    "* Normalmente se faz necessário a transformação ou mudanças de escalas do dados garantindo que se preservem as caracteristicas originais.\n",
    "\n",
    "* A melhor forma de transformar os dados é verificar quais requisitos a soluções precisa atender e quais são os requisitos que a técnica de mineração de dados impoe.\n"
   ],
   "cell_type": "markdown",
   "metadata": {}
  },
  {
   "source": [
    "## Técnica de Discretização\n",
    "\n",
    "* Muitos algoritmos como o C4.5, Apriori, Naive Bayes utilizam dados categóricos ou nominais ao invés de ddos contínuos. A Discretização é uma importante e comum tarefa em Data Mining.\n",
    "\n",
    "* Muitos problemas do mundo real, contendo dados numéricos continuos precisam de métodos de discretização que os convertam para dados categóricos.\n",
    "\n",
    "* O processo de discretização transforma dados quantitativos em dados qualitativos. Por exemplo, transforma atributos numéricos em atributos discretos ou nominais com um número finito de intervalos.\n",
    "\n",
    "### Vantagens\n",
    "\n",
    "* Algoritmos capazes de lidar com dados contínuos, podem ser menos eficientes para compreensibilidade dos resultados.\n",
    "\n",
    "* A discretização também pode ser entendida como uma técnica para redução de dados.\n",
    "\n",
    "### Desvantagens\n",
    "\n",
    "* Perda de informação\n",
    "\n",
    "* Reduzir esta perda é o principal objetivo dos métodos de discretização.\n"
   ],
   "cell_type": "markdown",
   "metadata": {}
  },
  {
   "source": [
    "### Abordagens de discretização\n",
    "\n",
    "> Não supervisionada\n",
    "\n",
    "* A discretização é realizada sem levar em conta a informação dos grupos a que pertencem as instâncias de treinamento.\n",
    "\n",
    "> Não supervisionada\n",
    "\n",
    "* A discretização é realizada levando em conta os grupos a que pertencem as instâncias no conjunto de treinamento.\n"
   ],
   "cell_type": "markdown",
   "metadata": {}
  },
  {
   "source": [
    "## Não supervisiona: Mapeamento em intervalos\n",
    "\n",
    "* Intervalos com tamanhos pré-definidos (univariada).\n",
    "\n",
    "0 a 1 -> 0; 2 a 5 -> 1; 6 a 99 -> 2;\n",
    "\n",
    "* Intervalo de igual tamanho.\n",
    "\n",
    "2 intervalos / 5 valores: 0 a 4 -> 0; 5 e 9 -> 1.\n",
    "\n",
    "* Intervalo com o mesmo número de elementos\n",
    "\n",
    "(1,2,3,6,7,8,9,13,15,16)\n",
    "\n",
    "(1,2,3,6,7) -> 1; (8,9,13,15,16) -> 2.\n",
    "\n",
    "* Número pré-determinado de intervalos uniformes (equal-interval binning).\n",
    "\n",
    "No exemplo (idade):\n",
    "\n",
    "(64,65,68,69,70,71,72,75,75,80,81,83,85).\n",
    "\n",
    "Considerando Bins (caixas) com largura 6.\n",
    "\n",
    "60 <- 66,64,65\n",
    "66 <- 72,68,69,70,71,72\n",
    "72 <- 78,75,75\n",
    "78 <- 84,80,81,83\n",
    "84 <- 90,85\n",
    "\n",
    "> Atenção\n",
    "\n",
    "Como qualquer método não supervisionado arrisca destruir distinções uteis devido a divisões muito grandes ou fronteiras inadequadas.\n",
    "\n",
    "Distribuição de amostras muito irregular, com algumas bins com muitas amostras e outras com poucas amostras.\n",
    "\n",
    "* Número uniforme de amostras por intervalo (equal-frequency binning)\n",
    "\n",
    "Também chamado de equalização do histograma. Cada bin tem o mesmo número aproximado de amostras.\n",
    "\n",
    "No exemplo (idade):\n",
    "\n",
    "(64,65,68,69,70,71,72,72,75,75,80,81,83,85).\n",
    "\n",
    "64,65,68,69|70,71,72,72|75,75,80|81,83,85.\n",
    "\n",
    "14 Amostras, 4 Bins.\n",
    "\n",
    "Intervalor|Valor|\n",
    ":---------|:----|\n",
    "X <= 69.5|64,65,68,69\n",
    "69.5 < x < 73,5|70,71,72,72\n",
    "73.5 < x < 80.5|75,75,80\n",
    "X >= 80.5|81,83,85\n"
   ],
   "cell_type": "markdown",
   "metadata": {}
  },
  {
   "source": [],
   "cell_type": "markdown",
   "metadata": {}
  }
 ]
}