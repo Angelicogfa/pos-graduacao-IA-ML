{
 "metadata": {
  "language_info": {
   "codemirror_mode": {
    "name": "ipython",
    "version": 3
   },
   "file_extension": ".py",
   "mimetype": "text/x-python",
   "name": "python",
   "nbconvert_exporter": "python",
   "pygments_lexer": "ipython3",
   "version": 3
  },
  "orig_nbformat": 2
 },
 "nbformat": 4,
 "nbformat_minor": 2,
 "cells": [
  {
   "cell_type": "markdown",
   "metadata": {},
   "source": [
    "# Praticas\n",
    "\n",
    "a) Condições ambientais que podem levar a uma pessoa ter um AVC.\n",
    "\n",
    "b) Perfil de clientes com tendencia a abandonar um sistema de Marketplace.\n",
    "\n",
    "\n",
    "* Será documentado cada atributo, seu tipo, faixa de valor e sua relevância (Fato ou Julgamento) esperada em relação ao domínio do problema.\n",
    "\n",
    "* Chegar ao nível de atributos prováveis que possam caracterizar a base de dados a ser trabalhada.\n",
    "\n",
    "* Para cada atributo informe o Tipo, Faixa e Relevancia."
   ]
  },
  {
   "cell_type": "markdown",
   "metadata": {},
   "source": [
    "## Pratica I\n",
    "\n",
    "Condições ambientais que podem levar a uma pessoa ter um AVC.\n",
    "\n",
    "\n",
    "Atributos                                   |    Tipo    |  Faixa de Valor       |  Relevancia  |\n",
    "--------------------------------------------|:-----------|:---------------------:|:------------:|\n",
    "Sexo                                        | Texto      | H / M                 |  Atributo    |\n",
    "Idade                                       | Inteiro    | 0 ~                   |  Atributo    |\n",
    "Altura                                      | Decimal    | 0 ~                   |  Atributo    |\n",
    "Peso                                        | Decimal    | 0 ~                   |  Atributo    |\n",
    "Fuma                                        | Booleano   | S / N                 |  Atributo    |\n",
    "Consome Alcool                              | Booleano   | S / N                 |  Atributo    |\n",
    "Usa drogras                                 | Booleano   | S / N                 |  Atributo    |\n",
    "Pratica Ativ. Fisica                        | Booleano   | S / N                 |  Atributo    |\n",
    "Litros Agua/Dia                             | Decimal    | 0 ~                   |  Atributo    |\n",
    "Casos na Familia                            | Booleano   | S / N                 |  Atributo    |\n",
    "Nivel de colesterol ruim                    | Decimal    | 0 ~                   |  Atributo    |\n",
    "Nivel de glicose                            | Decimal    | 0 ~                   |  Atributo    |\n",
    "Pressão sanguinea Min                       | Inteiro    | 0 ~                   |  Atributo    |\n",
    "Pressão sanguinea Max                       | Inteiro    | 0 ~                   |  Atributo    |\n",
    "Temperatura                                 | Decimal    | 0 ~                   |  Atributo    |\n",
    "Nível de coagulação do sangue               | Decimal    | 0 ~                   |  Atributo    |\n",
    "Fraqueza                                    | Booleano   | S / N                 |  Fato        |\n",
    "Formigamento /dormencia                     | Booleano   | S / N                 |  Fato        |\n",
    "Confusão Mental                             | Booleano   | S / N                 |  Fato        |\n",
    "Dores de cabeça/inchaqueca                  | Booleano   | S / N                 |  Fato        |\n",
    "Alteração na Fala/Compreensão               | Booleano   | S / N                 |  Fato        |\n",
    "Alteração no equilibrio, tontura ou andar   | Booleano   | S / N                 |  Fato        |\n",
    "Pancada na cabeça ou pescoço                | Booleano   | S / N                 |  Fato        |\n",
    "Doenças cardiacas                           | Booleano   | S / N                 |  Fato        |\n",
    "Diabetes                                    | Booleano   | S / N                 |  Fato        |\n",
    "Pressão Alta                                | Booleano   | S / N                 |  Fato        |\n",
    "Frequencia Fast Food (semana)               | Texto      | 0; 1 - 2; 3 - 5; 6 - 7|  Julgamento  |\n",
    "Frequencia Atividades Fisica (semana)       | Texto      | 0; 1 - 2; 3 - 5; 6 - 7|  Julgamento  |\n",
    "Vive no interior ou capital ?               | Texto      | Interior / Capital    |  Julgamento  |\n",
    "Trabalho exige esforço fisico ou mental ?   | Texto      | Fisico / Mental       |  Julgamento  |\n",
    "Quantidade de passos dado por dia em média  | Decimal    | 0 ~                   |  Julgamento  |   \n",
    "**Teve AVC**                                | Boolean    | S / N                 |  Alvo        |\n",
    "\n"
   ]
  },
  {
   "cell_type": "markdown",
   "metadata": {},
   "source": [
    "## Pratica II\n",
    " \n",
    " Perfil de clientes com tendencia a abandonar um sistema de Marktplace."
   ]
  },
  {
   "cell_type": "markdown",
   "metadata": {},
   "source": []
  },
  {
   "cell_type": "markdown",
   "metadata": {},
   "source": []
  },
  {
   "cell_type": "markdown",
   "metadata": {},
   "source": []
  }
 ]
}