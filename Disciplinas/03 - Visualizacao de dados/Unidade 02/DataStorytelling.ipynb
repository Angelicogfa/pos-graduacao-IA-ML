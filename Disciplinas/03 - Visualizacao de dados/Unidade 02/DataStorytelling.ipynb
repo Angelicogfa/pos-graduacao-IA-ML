{
 "cells": [
  {
   "cell_type": "markdown",
   "metadata": {},
   "source": [
    "# Data Storytelling\n",
    "\n",
    "\n",
    "## O que é\n",
    "\n",
    "* *Há uma história em seus dados. Mas suas ferramentas não sabem que história é essa.*\n",
    "\n",
    "* As histórias de dados exploram e explicam como e por que os dados mudam ao longo do tempo, geralmente por meio de uma série de visualizações vinculadas.\n",
    "\n",
    "* Embora a visualização seja quase sempre um elemento-chave nas histórias de dados, ela é apenas uma parte de uma estrategia de tres partes:\n",
    "\n",
    "    * **Data Storytelling = visualização + narrativa + contexto.**\n",
    "\n",
    "* \"Uma história de dados começa como qualquer outra história, com um começo e um meio. No entanto, o fim nunca deve ser um evento fixo, mas sim um conjunto de opções ou perguntas para direcionar uma ação do público\". (KNAFLIC, 2018)\n",
    "\n",
    "## Como contar uma história com dados ?\n",
    "\n",
    "* É importante que os números sejam vistos como personagens ou que tenham um significado por trás de alguma estatística.\n",
    "\n",
    "* No entanto, quando os transformamos em uma história, ao invés de apenas apresenta-los, chegamos a conclusões como: \"agora os brasileiros estão vivendo mais tempo\" e até mesmo \"atualmente, as famílias estão tendo menos filhos\".\n",
    "\n",
    "## Dicas importantes\n",
    "\n",
    "* Conte a história certa para a sua audiência.\n",
    "\n",
    "* Encontre a narrativa por de trás dos números.\n",
    "\n",
    "* Contextualize todos os dados para torná-los relevantes.\n",
    "\n",
    "* Agregar para depois detalhar.\n",
    "\n",
    "* Aplique a melhor visualização (tipo de gráficoss, planilha, mapa, nuvem de palavras e etc.) para ajudar na comunicação.\n",
    "\n",
    "\n",
    "\n"
   ]
  },
  {
   "cell_type": "code",
   "execution_count": null,
   "metadata": {},
   "outputs": [],
   "source": []
  }
 ],
 "metadata": {
  "language_info": {
   "codemirror_mode": {
    "name": "ipython",
    "version": 3
   },
   "file_extension": ".py",
   "mimetype": "text/x-python",
   "name": "python",
   "nbconvert_exporter": "python",
   "pygments_lexer": "ipython3",
   "version": 3
  },
  "orig_nbformat": 2
 },
 "nbformat": 4,
 "nbformat_minor": 2
}